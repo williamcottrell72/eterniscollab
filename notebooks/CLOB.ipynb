{
 "cells": [
  {
   "cell_type": "code",
   "execution_count": 1,
   "id": "de09b5cf-6758-444a-870d-698e7d646c43",
   "metadata": {},
   "outputs": [],
   "source": [
    "import pandas as pd\n",
    "import numpy as np\n",
    "import os\n",
    "import xarray as xr\n",
    "from importlib import reload\n",
    "\n",
    "from sklearn.model_selection import train_test_split\n",
    "from sklearn import linear_model\n",
    "\n",
    "import plotly.express as px\n",
    "import sys\n",
    "\n",
    "import sys\n",
    "sys.path.append('..')\n",
    "\n",
    "# from src import polygon_data, feeds\n",
    "# from lib import metrics, paths, calcs, ys, utils, posttrade\n",
    "\n",
    "import make_market\n",
    "\n",
    "import matplotlib.pyplot as plt\n",
    "%matplotlib inline"
   ]
  },
  {
   "cell_type": "code",
   "execution_count": 2,
   "id": "1500a266-5bbf-4f5a-953e-397f9f219887",
   "metadata": {},
   "outputs": [],
   "source": [
    "Q = 10\n",
    "x0 = 9\n",
    "b = 2\n",
    "\n",
    "\n",
    "def cost(q_yes, q_no, b=1):\n",
    "    return b * np.log(np.exp(q_yes / b)+ np.exp(q_no / b))\n",
    "    \n",
    "def qyes_from_pq(p, Q, b=1):\n",
    "    x = np.sqrt((p/(1-p) * np.exp(Q/b)))\n",
    "    return (np.log(x) * b).item()\n",
    "    \n",
    "def qno_from_pq(p,Q,b=1):\n",
    "    return Q - qyes_from_pq(p,Q,b=b)\n",
    "\n",
    "def prob(q_yes, q_no, b=1):\n",
    "    return np.exp(q_yes/b) / (np.exp(q_no/b) + np.exp(q_yes/b))\n"
   ]
  },
  {
   "cell_type": "code",
   "execution_count": 3,
   "id": "d410e23f-c643-47ff-a9ea-a064f44fb714",
   "metadata": {},
   "outputs": [],
   "source": [
    "\n",
    "\n",
    "q_no_init = 3\n",
    "q_yes_init = 7\n",
    "\n",
    "q_yes = np.linspace(0,10, 1000)\n",
    "q_no = np.linspace(0, 10, 1000)\n",
    "\n",
    "initial_cost = make_market.cost(q_yes=q_yes_init, q_no=q_no_init)\n",
    "dcost_yes = make_market.cost(q_yes=q_yes, q_no=q_no_init) - initial_cost\n",
    "dcost_no = make_market.cost(q_yes=q_yes_init, q_no=q_no) - initial_cost\n"
   ]
  },
  {
   "cell_type": "code",
   "execution_count": 113,
   "id": "8b9b5052-9bfb-4017-9f73-52de7846d6db",
   "metadata": {},
   "outputs": [
    {
     "data": {
      "text/plain": [
       "(37686.38226551, -17686.38226551, -17686.382265510012)"
      ]
     },
     "execution_count": 113,
     "metadata": {},
     "output_type": "execute_result"
    }
   ],
   "source": [
    "Q = 20000\n",
    "p = .635\n",
    "B = 100000\n",
    "\n",
    "dq_yes = np.linspace(0, 3*B, 1000)\n",
    "dq_no = np.linspace(0, 3*B, 1000)\n",
    "\n",
    "q_yes_init = make_market.qyes_from_pq(p,Q,b=B)\n",
    "q_no_init = make_market.qno_from_pq(p,Q,b=B)\n",
    "q_no_init2 = make_market.qyes_from_pq(1-p,Q,b=B)\n",
    "q_yes_init, q_no_init, q_no_init2"
   ]
  },
  {
   "cell_type": "code",
   "execution_count": 114,
   "id": "f5ea0da3-f20b-4fd8-83de-3458432a9edf",
   "metadata": {},
   "outputs": [
    {
     "data": {
      "text/plain": [
       "<module 'make_market' from '/Users/mrthekid/git/eterniscollab/notebooks/../make_market.py'>"
      ]
     },
     "execution_count": 114,
     "metadata": {},
     "output_type": "execute_result"
    }
   ],
   "source": [
    "reload(make_market)\n",
    "# make_market.create_order_price_schedule(p, 2"
   ]
  },
  {
   "cell_type": "code",
   "execution_count": 115,
   "id": "daef2f04-0c04-48ac-9b2a-71d6b491dfb3",
   "metadata": {},
   "outputs": [],
   "source": [
    "reload(make_market)\n",
    "yes_schedule, no_schedule = make_market.create_order_price_schedule(p=p, half_spread_bps=5, max_order_bps =5000, num_orders=5)\n",
    "# yes_schedule = [.71,  .75, .77,.8, .85,.9]\n",
    "cum_yes_order_cost = make_market.yes_order_schedule(p, Q, yes_schedule,b=B)['cost_cumulative'].values\n",
    "\n",
    "# no_schedule = [.69, .65, .6, .5, .3]\n",
    "cum_no_order_cost = make_market.no_order_schedule(p, Q, no_schedule, b=B)['cost_cumulative'].values\n",
    "\n",
    "lo_prices = np.concatenate([no_schedule[::-1], yes_schedule])\n",
    "lo_cumsum = np.concatenate([cum_no_order_cost[::-1], cum_yes_order_cost])"
   ]
  },
  {
   "cell_type": "code",
   "execution_count": 116,
   "id": "43ba44f7-bc89-4480-8f5d-27950c0b90d5",
   "metadata": {},
   "outputs": [
    {
     "data": {
      "text/plain": [
       "array([5.00000e+01, 1.25375e+04, 2.50250e+04, 3.75125e+04, 5.00000e+04])"
      ]
     },
     "execution_count": 116,
     "metadata": {},
     "output_type": "execute_result"
    }
   ],
   "source": [
    "cum_no_order_cost"
   ]
  },
  {
   "cell_type": "code",
   "execution_count": 108,
   "id": "50faa38c-7e8e-422f-86f8-db29f761dd58",
   "metadata": {},
   "outputs": [
    {
     "data": {
      "text/plain": [
       "[0.6996500874854185,\n",
       " 0.6175162198022538,\n",
       " 0.5450242750477934,\n",
       " 0.4810423611002429,\n",
       " 0.42457146179884336]"
      ]
     },
     "execution_count": 108,
     "metadata": {},
     "output_type": "execute_result"
    }
   ],
   "source": [
    "no_schedule"
   ]
  },
  {
   "cell_type": "code",
   "execution_count": 117,
   "id": "d199bada-1486-451d-bc91-6df06afe3a1e",
   "metadata": {},
   "outputs": [
    {
     "data": {
      "image/png": "[encoded data removed]",
      "text/plain": [
       "<Figure size 640x480 with 1 Axes>"
      ]
     },
     "metadata": {},
     "output_type": "display_data"
    }
   ],
   "source": [
    "q_yes = dq_yes + q_yes_init\n",
    "q_no = (dq_no + q_no_init)[::-1]\n",
    "\n",
    "prob_yes = make_market.prob(q_yes=q_yes, q_no=q_no_init,b=B)\n",
    "prob_no = make_market.prob(q_yes=q_yes_init, q_no=q_no,b=B)\n",
    "\n",
    "initial_cost = cost(q_yes=q_yes_init, q_no=q_no_init, b=B)\n",
    "\n",
    "\n",
    "dcost_yes = make_market.dcost_yes(dq_yes, p, Q, b=B)\n",
    "dcost_no = make_market.dcost_no(dq_no[::-1], p, Q, b=B)\n",
    "\n",
    "\n",
    "prob_arr = np.concatenate([prob_no, prob_yes])\n",
    "cost_arr = np.concatenate([dcost_no, dcost_yes])\n",
    "\n",
    "plt.plot(prob_arr, cost_arr)\n",
    "plt.plot(lo_prices, lo_cumsum)\n",
    "plt.xlabel(\"Probability\")\n",
    "plt.ylabel(\"LOB\")\n",
    "plt.show()"
   ]
  }
 ],
 "metadata": {
  "kernelspec": {
   "display_name": "ML Env",
   "language": "python",
   "name": "ml-env"
  },
  "language_info": {
   "codemirror_mode": {
    "name": "ipython",
    "version": 3
   },
   "file_extension": ".py",
   "mimetype": "text/x-python",
   "name": "python",
   "nbconvert_exporter": "python",
   "pygments_lexer": "ipython3",
   "version": "3.12.11"
  }
 },
 "nbformat": 4,
 "nbformat_minor": 5
}
