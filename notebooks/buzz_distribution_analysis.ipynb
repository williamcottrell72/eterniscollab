{
 "cells": [
  {
   "cell_type": "markdown",
   "metadata": {},
   "source": [
    "# Buzz Distribution Analysis\n",
    "\n",
    "This notebook analyzes the distribution of interest and divisiveness scores from different LLM providers (OpenAI vs Claude) at different temperature settings.\n",
    "\n",
    "We'll explore:\n",
    "1. How temperature affects the variability of interest and divisiveness scores\n",
    "2. Differences between OpenAI and Claude's assessments\n",
    "3. Visual comparison of score distributions"
   ]
  },
  {
   "cell_type": "code",
   "execution_count": 3,
   "metadata": {},
   "outputs": [],
   "source": [
    "import sys\n",
    "sys.path.append('..')\n",
    "import os\n",
    "import numpy as np\n",
    "import pandas as pd\n",
    "import plotly.graph_objects as go\n",
    "from plotly.subplots import make_subplots\n",
    "import plotly.express as px\n",
    "from buzz import query_interest_openrouter, query_divisiveness_openrouter\n",
    "\n",
    "# Ensure OpenRouter API key is set\n",
    "assert os.environ.get('OPENROUTER_API_KEY'), \"OPENROUTER_API_KEY not set\""
   ]
  },
  {
   "cell_type": "markdown",
   "metadata": {},
   "source": [
    "## Configuration"
   ]
  },
  {
   "cell_type": "code",
   "execution_count": 4,
   "metadata": {},
   "outputs": [],
   "source": [
    "# Topic to analyze\n",
    "TOPIC = \"Should Donald Trump win the nobel peace price?\"\n",
    "\n",
    "# Number of samples to collect for each configuration\n",
    "N_SAMPLES = 20\n",
    "\n",
    "# Temperature settings to compare\n",
    "LOW_TEMP = 0.3\n",
    "HIGH_TEMP = 0.9\n",
    "\n",
    "# API key from environment\n",
    "OPENROUTER_KEY = os.environ.get('OPENROUTER_API_KEY')"
   ]
  },
  {
   "cell_type": "markdown",
   "metadata": {},
   "source": [
    "## Data Collection Functions"
   ]
  },
  {
   "cell_type": "code",
   "execution_count": 5,
   "metadata": {},
   "outputs": [],
   "source": [
    "def collect_interest_samples(topic, model, api_key, temperature, n_samples):\n",
    "    \"\"\"Collect interest score samples from OpenRouter.\"\"\"\n",
    "    scores = []\n",
    "    \n",
    "    for i in range(n_samples):\n",
    "        try:\n",
    "            score = query_interest_openrouter(topic, model, api_key, temperature=temperature)\n",
    "            scores.append(score)\n",
    "            print(f\"  Sample {i+1}/{n_samples}: {score:.3f}\")\n",
    "        except Exception as e:\n",
    "            print(f\"  Error on sample {i+1}: {str(e)}\")\n",
    "    \n",
    "    return scores\n",
    "\n",
    "def collect_divisiveness_samples(topic, model, api_key, temperature, n_samples):\n",
    "    \"\"\"Collect divisiveness score samples from OpenRouter.\"\"\"\n",
    "    scores = []\n",
    "    \n",
    "    for i in range(n_samples):\n",
    "        try:\n",
    "            score = query_divisiveness_openrouter(topic, model, api_key, temperature=temperature)\n",
    "            scores.append(score)\n",
    "            print(f\"  Sample {i+1}/{n_samples}: {score:.3f}\")\n",
    "        except Exception as e:\n",
    "            print(f\"  Error on sample {i+1}: {str(e)}\")\n",
    "    \n",
    "    return scores"
   ]
  },
  {
   "cell_type": "code",
   "execution_count": null,
   "metadata": {},
   "outputs": [],
   "source": []
  },
  {
   "cell_type": "markdown",
   "metadata": {},
   "source": [
    "## Collect Interest Scores\n",
    "\n",
    "We'll collect interest scores from both providers at low and high temperatures."
   ]
  },
  {
   "cell_type": "code",
   "execution_count": 6,
   "metadata": {},
   "outputs": [
    {
     "name": "stdout",
     "output_type": "stream",
     "text": [
      "Collecting INTEREST scores for topic: Should Donald Trump win the nobel peace price?\n",
      "\n",
      "OpenAI - Low Temperature (0.3):\n",
      "  Sample 1/20: 0.450\n",
      "  Sample 2/20: 0.450\n",
      "  Sample 3/20: 0.450\n",
      "  Sample 4/20: 0.550\n",
      "  Sample 5/20: 0.450\n",
      "  Sample 6/20: 0.550\n",
      "  Sample 7/20: 0.550\n",
      "  Sample 8/20: 0.450\n",
      "  Sample 9/20: 0.450\n",
      "  Sample 10/20: 0.550\n",
      "  Sample 11/20: 0.450\n",
      "  Sample 12/20: 0.550\n",
      "  Sample 13/20: 0.450\n",
      "  Sample 14/20: 0.450\n",
      "  Sample 15/20: 0.450\n",
      "  Sample 16/20: 0.450\n",
      "  Sample 17/20: 0.450\n",
      "  Sample 18/20: 0.450\n",
      "  Sample 19/20: 0.550\n",
      "  Sample 20/20: 0.450\n",
      "\n",
      "OpenAI - High Temperature (0.9):\n",
      "  Sample 1/20: 0.350\n",
      "  Sample 2/20: 0.450\n",
      "  Sample 3/20: 0.550\n",
      "  Sample 4/20: 0.450\n",
      "  Sample 5/20: 0.350\n",
      "  Sample 6/20: 0.450\n",
      "  Sample 7/20: 0.550\n",
      "  Sample 8/20: 0.450\n",
      "  Sample 9/20: 0.550\n",
      "  Sample 10/20: 0.450\n",
      "  Sample 11/20: 0.350\n",
      "  Sample 12/20: 0.350\n",
      "  Sample 13/20: 0.550\n",
      "  Sample 14/20: 0.550\n",
      "  Sample 15/20: 0.450\n",
      "  Sample 16/20: 0.550\n",
      "  Sample 17/20: 0.540\n",
      "  Sample 18/20: 0.550\n",
      "  Sample 19/20: 0.350\n",
      "  Sample 20/20: 0.550\n",
      "\n",
      "Claude - Low Temperature (0.3):\n",
      "  Sample 1/20: 0.150\n",
      "  Sample 2/20: 0.150\n",
      "  Sample 3/20: 0.150\n",
      "  Sample 4/20: 0.150\n",
      "  Sample 5/20: 0.150\n",
      "  Sample 6/20: 0.150\n",
      "  Sample 7/20: 0.150\n",
      "  Sample 8/20: 0.150\n",
      "  Sample 9/20: 0.150\n",
      "  Sample 10/20: 0.150\n",
      "  Sample 11/20: 0.150\n",
      "  Sample 12/20: 0.150\n",
      "  Sample 13/20: 0.150\n",
      "  Sample 14/20: 0.150\n",
      "  Sample 15/20: 0.150\n",
      "  Sample 16/20: 0.150\n",
      "  Sample 17/20: 0.150\n",
      "  Sample 18/20: 0.150\n",
      "  Sample 19/20: 0.150\n",
      "  Sample 20/20: 0.150\n",
      "\n",
      "Claude - High Temperature (0.9):\n",
      "  Sample 1/20: 0.150\n",
      "  Sample 2/20: 0.150\n",
      "  Sample 3/20: 0.150\n",
      "  Sample 4/20: 0.150\n",
      "  Sample 5/20: 0.150\n",
      "  Sample 6/20: 0.150\n",
      "  Sample 7/20: 0.150\n",
      "  Sample 8/20: 0.150\n",
      "  Sample 9/20: 0.150\n",
      "  Sample 10/20: 0.150\n",
      "  Sample 11/20: 0.150\n",
      "  Sample 12/20: 0.150\n",
      "  Sample 13/20: 0.150\n",
      "  Sample 14/20: 0.150\n",
      "  Sample 15/20: 0.150\n",
      "  Sample 16/20: 0.150\n",
      "  Sample 17/20: 0.150\n",
      "  Sample 18/20: 0.150\n",
      "  Sample 19/20: 0.150\n",
      "  Sample 20/20: 0.150\n"
     ]
    }
   ],
   "source": [
    "print(f\"Collecting INTEREST scores for topic: {TOPIC}\\n\")\n",
    "\n",
    "print(\"OpenAI - Low Temperature (0.3):\")\n",
    "interest_openai_low = collect_interest_samples(TOPIC, \"openai/gpt-4o-mini\", OPENROUTER_KEY, LOW_TEMP, N_SAMPLES)\n",
    "\n",
    "print(\"\\nOpenAI - High Temperature (0.9):\")\n",
    "interest_openai_high = collect_interest_samples(TOPIC, \"openai/gpt-4o-mini\", OPENROUTER_KEY, HIGH_TEMP, N_SAMPLES)\n",
    "\n",
    "print(\"\\nClaude - Low Temperature (0.3):\")\n",
    "interest_claude_low = collect_interest_samples(TOPIC, \"anthropic/claude-sonnet-4\", OPENROUTER_KEY, LOW_TEMP, N_SAMPLES)\n",
    "\n",
    "print(\"\\nClaude - High Temperature (0.9):\")\n",
    "interest_claude_high = collect_interest_samples(TOPIC, \"anthropic/claude-sonnet-4\", OPENROUTER_KEY, HIGH_TEMP, N_SAMPLES)"
   ]
  },
  {
   "cell_type": "markdown",
   "metadata": {},
   "source": [
    "## Collect Divisiveness Scores\n",
    "\n",
    "Now we'll collect divisiveness scores from both providers at low and high temperatures."
   ]
  },
  {
   "cell_type": "code",
   "execution_count": 7,
   "metadata": {},
   "outputs": [
    {
     "name": "stdout",
     "output_type": "stream",
     "text": [
      "\n",
      "\n",
      "Collecting DIVISIVENESS scores for topic: Should Donald Trump win the nobel peace price?\n",
      "\n",
      "OpenAI - Low Temperature (0.3):\n",
      "  Sample 1/20: 0.820\n",
      "  Sample 2/20: 0.850\n",
      "  Sample 3/20: 0.820\n",
      "  Sample 4/20: 0.850\n",
      "  Sample 5/20: 0.780\n",
      "  Sample 6/20: 0.780\n",
      "  Sample 7/20: 0.850\n",
      "  Sample 8/20: 0.820\n",
      "  Sample 9/20: 0.850\n",
      "  Sample 10/20: 0.820\n",
      "  Sample 11/20: 0.780\n",
      "  Sample 12/20: 0.820\n",
      "  Sample 13/20: 0.820\n",
      "  Sample 14/20: 0.850\n",
      "  Sample 15/20: 0.850\n",
      "  Sample 16/20: 0.850\n",
      "  Sample 17/20: 0.780\n",
      "  Sample 18/20: 0.780\n",
      "  Sample 19/20: 0.820\n",
      "  Sample 20/20: 0.780\n",
      "\n",
      "OpenAI - High Temperature (0.9):\n",
      "  Sample 1/20: 0.780\n",
      "  Sample 2/20: 0.820\n",
      "  Sample 3/20: 0.780\n",
      "  Sample 4/20: 0.780\n",
      "  Sample 5/20: 0.760\n",
      "  Sample 6/20: 0.850\n",
      "  Sample 7/20: 0.750\n",
      "  Sample 8/20: 0.850\n",
      "  Sample 9/20: 0.850\n",
      "  Sample 10/20: 0.780\n",
      "  Sample 11/20: 0.850\n",
      "  Sample 12/20: 0.850\n",
      "  Sample 13/20: 0.820\n",
      "  Sample 14/20: 0.750\n",
      "  Sample 15/20: 0.820\n",
      "  Sample 16/20: 0.780\n",
      "  Sample 17/20: 0.820\n",
      "  Sample 18/20: 0.850\n",
      "  Sample 19/20: 0.830\n",
      "  Sample 20/20: 0.850\n",
      "\n",
      "Claude - Low Temperature (0.3):\n",
      "  Sample 1/20: 0.850\n",
      "  Sample 2/20: 0.850\n",
      "  Sample 3/20: 0.850\n",
      "  Sample 4/20: 0.850\n",
      "  Sample 5/20: 0.850\n",
      "  Sample 6/20: 0.850\n",
      "  Sample 7/20: 0.850\n",
      "  Sample 8/20: 0.850\n",
      "  Sample 9/20: 0.850\n",
      "  Sample 10/20: 0.850\n",
      "  Sample 11/20: 0.850\n",
      "  Sample 12/20: 0.850\n",
      "  Sample 13/20: 0.850\n",
      "  Sample 14/20: 0.850\n",
      "  Sample 15/20: 0.850\n",
      "  Sample 16/20: 0.850\n",
      "  Sample 17/20: 0.850\n",
      "  Sample 18/20: 0.850\n",
      "  Sample 19/20: 0.850\n",
      "  Sample 20/20: 0.850\n",
      "\n",
      "Claude - High Temperature (0.9):\n",
      "  Sample 1/20: 0.850\n",
      "  Sample 2/20: 0.850\n",
      "  Sample 3/20: 0.850\n",
      "  Sample 4/20: 0.850\n",
      "  Sample 5/20: 0.850\n",
      "  Sample 6/20: 0.850\n",
      "  Sample 7/20: 0.850\n",
      "  Sample 8/20: 0.850\n",
      "  Sample 9/20: 0.850\n",
      "  Sample 10/20: 0.850\n",
      "  Sample 11/20: 0.850\n",
      "  Sample 12/20: 0.850\n",
      "  Sample 13/20: 0.850\n",
      "  Sample 14/20: 0.850\n",
      "  Sample 15/20: 0.850\n",
      "  Sample 16/20: 0.850\n",
      "  Sample 17/20: 0.850\n",
      "  Sample 18/20: 0.850\n",
      "  Sample 19/20: 0.850\n",
      "  Sample 20/20: 0.850\n"
     ]
    }
   ],
   "source": [
    "print(f\"\\n\\nCollecting DIVISIVENESS scores for topic: {TOPIC}\\n\")\n",
    "\n",
    "print(\"OpenAI - Low Temperature (0.3):\")\n",
    "div_openai_low = collect_divisiveness_samples(TOPIC, \"openai/gpt-4o-mini\", OPENROUTER_KEY, LOW_TEMP, N_SAMPLES)\n",
    "\n",
    "print(\"\\nOpenAI - High Temperature (0.9):\")\n",
    "div_openai_high = collect_divisiveness_samples(TOPIC, \"openai/gpt-4o-mini\", OPENROUTER_KEY, HIGH_TEMP, N_SAMPLES)\n",
    "\n",
    "print(\"\\nClaude - Low Temperature (0.3):\")\n",
    "div_claude_low = collect_divisiveness_samples(TOPIC, \"anthropic/claude-sonnet-4\", OPENROUTER_KEY, LOW_TEMP, N_SAMPLES)\n",
    "\n",
    "print(\"\\nClaude - High Temperature (0.9):\")\n",
    "div_claude_high = collect_divisiveness_samples(TOPIC, \"anthropic/claude-sonnet-4\", OPENROUTER_KEY, HIGH_TEMP, N_SAMPLES)"
   ]
  },
  {
   "cell_type": "markdown",
   "metadata": {},
   "source": [
    "## Summary Statistics"
   ]
  },
  {
   "cell_type": "code",
   "execution_count": 8,
   "metadata": {},
   "outputs": [
    {
     "name": "stdout",
     "output_type": "stream",
     "text": [
      "\n",
      "=== INTEREST SCORE STATISTICS ===\n",
      "       OpenAI Low Temp  OpenAI High Temp  Claude Low Temp  Claude High Temp\n",
      "count        20.000000         20.000000     2.000000e+01      2.000000e+01\n",
      "mean          0.480000          0.469500     1.500000e-01      1.500000e-01\n",
      "std           0.047016          0.082874     2.847662e-17      2.847662e-17\n",
      "min           0.450000          0.350000     1.500000e-01      1.500000e-01\n",
      "25%           0.450000          0.425000     1.500000e-01      1.500000e-01\n",
      "50%           0.450000          0.450000     1.500000e-01      1.500000e-01\n",
      "75%           0.550000          0.550000     1.500000e-01      1.500000e-01\n",
      "max           0.550000          0.550000     1.500000e-01      1.500000e-01\n",
      "\n",
      "=== DIVISIVENESS SCORE STATISTICS ===\n",
      "       OpenAI Low Temp  OpenAI High Temp  Claude Low Temp  Claude High Temp\n",
      "count        20.000000          20.00000     2.000000e+01      2.000000e+01\n",
      "mean          0.818500           0.81100     8.500000e-01      8.500000e-01\n",
      "std           0.028887           0.03712     1.139065e-16      1.139065e-16\n",
      "min           0.780000           0.75000     8.500000e-01      8.500000e-01\n",
      "25%           0.780000           0.78000     8.500000e-01      8.500000e-01\n",
      "50%           0.820000           0.82000     8.500000e-01      8.500000e-01\n",
      "75%           0.850000           0.85000     8.500000e-01      8.500000e-01\n",
      "max           0.850000           0.85000     8.500000e-01      8.500000e-01\n"
     ]
    }
   ],
   "source": [
    "# Create DataFrame for interest scores\n",
    "interest_data = {\n",
    "    'OpenAI Low Temp': interest_openai_low,\n",
    "    'OpenAI High Temp': interest_openai_high,\n",
    "    'Claude Low Temp': interest_claude_low,\n",
    "    'Claude High Temp': interest_claude_high\n",
    "}\n",
    "\n",
    "interest_df = pd.DataFrame(dict([(k, pd.Series(v)) for k, v in interest_data.items()]))\n",
    "\n",
    "print(\"\\n=== INTEREST SCORE STATISTICS ===\")\n",
    "print(interest_df.describe())\n",
    "\n",
    "# Create DataFrame for divisiveness scores\n",
    "div_data = {\n",
    "    'OpenAI Low Temp': div_openai_low,\n",
    "    'OpenAI High Temp': div_openai_high,\n",
    "    'Claude Low Temp': div_claude_low,\n",
    "    'Claude High Temp': div_claude_high\n",
    "}\n",
    "\n",
    "div_df = pd.DataFrame(dict([(k, pd.Series(v)) for k, v in div_data.items()]))\n",
    "\n",
    "print(\"\\n=== DIVISIVENESS SCORE STATISTICS ===\")\n",
    "print(div_df.describe())"
   ]
  },
  {
   "cell_type": "markdown",
   "metadata": {},
   "source": [
    "## Visualization: Interest Score Distributions"
   ]
  },
  {
   "cell_type": "code",
   "execution_count": 9,
   "metadata": {},
   "outputs": [
    {
     "data": {
      "application/vnd.plotly.v1+json": {
       "config": {
        "plotlyServerURL": "https://plot.ly"
       },
       "data": [
        {
         "marker": {
          "color": "lightblue"
         },
         "name": "OpenAI Low",
         "nbinsx": 15,
         "type": "histogram",
         "x": [
          0.45,
          0.45,
          0.45,
          0.55,
          0.45,
          0.55,
          0.55,
          0.45,
          0.45,
          0.55,
          0.45,
          0.55,
          0.45,
          0.45,
          0.45,
          0.45,
          0.45,
          0.45,
          0.55,
          0.45
         ],
         "xaxis": "x",
         "yaxis": "y"
        },
        {
         "marker": {
          "color": "darkblue"
         },
         "name": "OpenAI High",
         "nbinsx": 15,
         "type": "histogram",
         "x": [
          0.35,
          0.45,
          0.55,
          0.45,
          0.35,
          0.45,
          0.55,
          0.45,
          0.55,
          0.45,
          0.35,
          0.35,
          0.55,
          0.55,
          0.45,
          0.55,
          0.54,
          0.55,
          0.35,
          0.55
         ],
         "xaxis": "x2",
         "yaxis": "y2"
        },
        {
         "marker": {
          "color": "lightgreen"
         },
         "name": "Claude Low",
         "nbinsx": 15,
         "type": "histogram",
         "x": [
          0.15,
          0.15,
          0.15,
          0.15,
          0.15,
          0.15,
          0.15,
          0.15,
          0.15,
          0.15,
          0.15,
          0.15,
          0.15,
          0.15,
          0.15,
          0.15,
          0.15,
          0.15,
          0.15,
          0.15
         ],
         "xaxis": "x3",
         "yaxis": "y3"
        },
        {
         "marker": {
          "color": "darkgreen"
         },
         "name": "Claude High",
         "nbinsx": 15,
         "type": "histogram",
         "x": [
          0.15,
          0.15,
          0.15,
          0.15,
          0.15,
          0.15,
          0.15,
          0.15,
          0.15,
          0.15,
          0.15,
          0.15,
          0.15,
          0.15,
          0.15,
          0.15,
          0.15,
          0.15,
          0.15,
          0.15
         ],
         "xaxis": "x4",
         "yaxis": "y4"
        }
       ],
       "layout": {
        "annotations": [
         {
          "font": {
           "size": 16
          },
          "showarrow": false,
          "text": "OpenAI - Low Temp (0.3)",
          "x": 0.22,
          "xanchor": "center",
          "xref": "paper",
          "y": 1,
          "yanchor": "bottom",
          "yref": "paper"
         },
         {
          "font": {
           "size": 16
          },
          "showarrow": false,
          "text": "OpenAI - High Temp (0.9)",
          "x": 0.78,
          "xanchor": "center",
          "xref": "paper",
          "y": 1,
          "yanchor": "bottom",
          "yref": "paper"
         },
         {
          "font": {
           "size": 16
          },
          "showarrow": false,
          "text": "Claude - Low Temp (0.3)",
          "x": 0.22,
          "xanchor": "center",
          "xref": "paper",
          "y": 0.425,
          "yanchor": "bottom",
          "yref": "paper"
         },
         {
          "font": {
           "size": 16
          },
          "showarrow": false,
          "text": "Claude - High Temp (0.9)",
          "x": 0.78,
          "xanchor": "center",
          "xref": "paper",
          "y": 0.425,
          "yanchor": "bottom",
          "yref": "paper"
         }
        ],
        "font": {
         "size": 14
        },
        "height": 1000,
        "showlegend": false,
        "template": {
         "data": {
          "bar": [
           {
            "error_x": {
             "color": "#2a3f5f"
            },
            "error_y": {
             "color": "#2a3f5f"
            },
            "marker": {
             "line": {
              "color": "#E5ECF6",
              "width": 0.5
             },
             "pattern": {
              "fillmode": "overlay",
              "size": 10,
              "solidity": 0.2
             }
            },
            "type": "bar"
           }
          ],
          "barpolar": [
           {
            "marker": {
             "line": {
              "color": "#E5ECF6",
              "width": 0.5
             },
             "pattern": {
              "fillmode": "overlay",
              "size": 10,
              "solidity": 0.2
             }
            },
            "type": "barpolar"
           }
          ],
          "carpet": [
           {
            "aaxis": {
             "endlinecolor": "#2a3f5f",
             "gridcolor": "white",
             "linecolor": "white",
             "minorgridcolor": "white",
             "startlinecolor": "#2a3f5f"
            },
            "baxis": {
             "endlinecolor": "#2a3f5f",
             "gridcolor": "white",
             "linecolor": "white",
             "minorgridcolor": "white",
             "startlinecolor": "#2a3f5f"
            },
            "type": "carpet"
           }
          ],
          "choropleth": [
           {
            "colorbar": {
             "outlinewidth": 0,
             "ticks": ""
            },
            "type": "choropleth"
           }
          ],
          "contour": [
           {
            "colorbar": {
             "outlinewidth": 0,
             "ticks": ""
            },
            "colorscale": [
             [
              0,
              "#0d0887"
             ],
             [
              0.1111111111111111,
              "#46039f"
             ],
             [
              0.2222222222222222,
              "#7201a8"
             ],
             [
              0.3333333333333333,
              "#9c179e"
             ],
             [
              0.4444444444444444,
              "#bd3786"
             ],
             [
              0.5555555555555556,
              "#d8576b"
             ],
             [
              0.6666666666666666,
              "#ed7953"
             ],
             [
              0.7777777777777778,
              "#fb9f3a"
             ],
             [
              0.8888888888888888,
              "#fdca26"
             ],
             [
              1,
              "#f0f921"
             ]
            ],
            "type": "contour"
           }
          ],
          "contourcarpet": [
           {
            "colorbar": {
             "outlinewidth": 0,
             "ticks": ""
            },
            "type": "contourcarpet"
           }
          ],
          "heatmap": [
           {
            "colorbar": {
             "outlinewidth": 0,
             "ticks": ""
            },
            "colorscale": [
             [
              0,
              "#0d0887"
             ],
             [
              0.1111111111111111,
              "#46039f"
             ],
             [
              0.2222222222222222,
              "#7201a8"
             ],
             [
              0.3333333333333333,
              "#9c179e"
             ],
             [
              0.4444444444444444,
              "#bd3786"
             ],
             [
              0.5555555555555556,
              "#d8576b"
             ],
             [
              0.6666666666666666,
              "#ed7953"
             ],
             [
              0.7777777777777778,
              "#fb9f3a"
             ],
             [
              0.8888888888888888,
              "#fdca26"
             ],
             [
              1,
              "#f0f921"
             ]
            ],
            "type": "heatmap"
           }
          ],
          "histogram": [
           {
            "marker": {
             "pattern": {
              "fillmode": "overlay",
              "size": 10,
              "solidity": 0.2
             }
            },
            "type": "histogram"
           }
          ],
          "histogram2d": [
           {
            "colorbar": {
             "outlinewidth": 0,
             "ticks": ""
            },
            "colorscale": [
             [
              0,
              "#0d0887"
             ],
             [
              0.1111111111111111,
              "#46039f"
             ],
             [
              0.2222222222222222,
              "#7201a8"
             ],
             [
              0.3333333333333333,
              "#9c179e"
             ],
             [
              0.4444444444444444,
              "#bd3786"
             ],
             [
              0.5555555555555556,
              "#d8576b"
             ],
             [
              0.6666666666666666,
              "#ed7953"
             ],
             [
              0.7777777777777778,
              "#fb9f3a"
             ],
             [
              0.8888888888888888,
              "#fdca26"
             ],
             [
              1,
              "#f0f921"
             ]
            ],
            "type": "histogram2d"
           }
          ],
          "histogram2dcontour": [
           {
            "colorbar": {
             "outlinewidth": 0,
             "ticks": ""
            },
            "colorscale": [
             [
              0,
              "#0d0887"
             ],
             [
              0.1111111111111111,
              "#46039f"
             ],
             [
              0.2222222222222222,
              "#7201a8"
             ],
             [
              0.3333333333333333,
              "#9c179e"
             ],
             [
              0.4444444444444444,
              "#bd3786"
             ],
             [
              0.5555555555555556,
              "#d8576b"
             ],
             [
              0.6666666666666666,
              "#ed7953"
             ],
             [
              0.7777777777777778,
              "#fb9f3a"
             ],
             [
              0.8888888888888888,
              "#fdca26"
             ],
             [
              1,
              "#f0f921"
             ]
            ],
            "type": "histogram2dcontour"
           }
          ],
          "mesh3d": [
           {
            "colorbar": {
             "outlinewidth": 0,
             "ticks": ""
            },
            "type": "mesh3d"
           }
          ],
          "parcoords": [
           {
            "line": {
             "colorbar": {
              "outlinewidth": 0,
              "ticks": ""
             }
            },
            "type": "parcoords"
           }
          ],
          "pie": [
           {
            "automargin": true,
            "type": "pie"
           }
          ],
          "scatter": [
           {
            "fillpattern": {
             "fillmode": "overlay",
             "size": 10,
             "solidity": 0.2
            },
            "type": "scatter"
           }
          ],
          "scatter3d": [
           {
            "line": {
             "colorbar": {
              "outlinewidth": 0,
              "ticks": ""
             }
            },
            "marker": {
             "colorbar": {
              "outlinewidth": 0,
              "ticks": ""
             }
            },
            "type": "scatter3d"
           }
          ],
          "scattercarpet": [
           {
            "marker": {
             "colorbar": {
              "outlinewidth": 0,
              "ticks": ""
             }
            },
            "type": "scattercarpet"
           }
          ],
          "scattergeo": [
           {
            "marker": {
             "colorbar": {
              "outlinewidth": 0,
              "ticks": ""
             }
            },
            "type": "scattergeo"
           }
          ],
          "scattergl": [
           {
            "marker": {
             "colorbar": {
              "outlinewidth": 0,
              "ticks": ""
             }
            },
            "type": "scattergl"
           }
          ],
          "scattermap": [
           {
            "marker": {
             "colorbar": {
              "outlinewidth": 0,
              "ticks": ""
             }
            },
            "type": "scattermap"
           }
          ],
          "scattermapbox": [
           {
            "marker": {
             "colorbar": {
              "outlinewidth": 0,
              "ticks": ""
             }
            },
            "type": "scattermapbox"
           }
          ],
          "scatterpolar": [
           {
            "marker": {
             "colorbar": {
              "outlinewidth": 0,
              "ticks": ""
             }
            },
            "type": "scatterpolar"
           }
          ],
          "scatterpolargl": [
           {
            "marker": {
             "colorbar": {
              "outlinewidth": 0,
              "ticks": ""
             }
            },
            "type": "scatterpolargl"
           }
          ],
          "scatterternary": [
           {
            "marker": {
             "colorbar": {
              "outlinewidth": 0,
              "ticks": ""
             }
            },
            "type": "scatterternary"
           }
          ],
          "surface": [
           {
            "colorbar": {
             "outlinewidth": 0,
             "ticks": ""
            },
            "colorscale": [
             [
              0,
              "#0d0887"
             ],
             [
              0.1111111111111111,
              "#46039f"
             ],
             [
              0.2222222222222222,
              "#7201a8"
             ],
             [
              0.3333333333333333,
              "#9c179e"
             ],
             [
              0.4444444444444444,
              "#bd3786"
             ],
             [
              0.5555555555555556,
              "#d8576b"
             ],
             [
              0.6666666666666666,
              "#ed7953"
             ],
             [
              0.7777777777777778,
              "#fb9f3a"
             ],
             [
              0.8888888888888888,
              "#fdca26"
             ],
             [
              1,
              "#f0f921"
             ]
            ],
            "type": "surface"
           }
          ],
          "table": [
           {
            "cells": {
             "fill": {
              "color": "#EBF0F8"
             },
             "line": {
              "color": "white"
             }
            },
            "header": {
             "fill": {
              "color": "#C8D4E3"
             },
             "line": {
              "color": "white"
             }
            },
            "type": "table"
           }
          ]
         },
         "layout": {
          "annotationdefaults": {
           "arrowcolor": "#2a3f5f",
           "arrowhead": 0,
           "arrowwidth": 1
          },
          "autotypenumbers": "strict",
          "coloraxis": {
           "colorbar": {
            "outlinewidth": 0,
            "ticks": ""
           }
          },
          "colorscale": {
           "diverging": [
            [
             0,
             "#8e0152"
            ],
            [
             0.1,
             "#c51b7d"
            ],
            [
             0.2,
             "#de77ae"
            ],
            [
             0.3,
             "#f1b6da"
            ],
            [
             0.4,
             "#fde0ef"
            ],
            [
             0.5,
             "#f7f7f7"
            ],
            [
             0.6,
             "#e6f5d0"
            ],
            [
             0.7,
             "#b8e186"
            ],
            [
             0.8,
             "#7fbc41"
            ],
            [
             0.9,
             "#4d9221"
            ],
            [
             1,
             "#276419"
            ]
           ],
           "sequential": [
            [
             0,
             "#0d0887"
            ],
            [
             0.1111111111111111,
             "#46039f"
            ],
            [
             0.2222222222222222,
             "#7201a8"
            ],
            [
             0.3333333333333333,
             "#9c179e"
            ],
            [
             0.4444444444444444,
             "#bd3786"
            ],
            [
             0.5555555555555556,
             "#d8576b"
            ],
            [
             0.6666666666666666,
             "#ed7953"
            ],
            [
             0.7777777777777778,
             "#fb9f3a"
            ],
            [
             0.8888888888888888,
             "#fdca26"
            ],
            [
             1,
             "#f0f921"
            ]
           ],
           "sequentialminus": [
            [
             0,
             "#0d0887"
            ],
            [
             0.1111111111111111,
             "#46039f"
            ],
            [
             0.2222222222222222,
             "#7201a8"
            ],
            [
             0.3333333333333333,
             "#9c179e"
            ],
            [
             0.4444444444444444,
             "#bd3786"
            ],
            [
             0.5555555555555556,
             "#d8576b"
            ],
            [
             0.6666666666666666,
             "#ed7953"
            ],
            [
             0.7777777777777778,
             "#fb9f3a"
            ],
            [
             0.8888888888888888,
             "#fdca26"
            ],
            [
             1,
             "#f0f921"
            ]
           ]
          },
          "colorway": [
           "#636efa",
           "#EF553B",
           "#00cc96",
           "#ab63fa",
           "#FFA15A",
           "#19d3f3",
           "#FF6692",
           "#B6E880",
           "#FF97FF",
           "#FECB52"
          ],
          "font": {
           "color": "#2a3f5f"
          },
          "geo": {
           "bgcolor": "white",
           "lakecolor": "white",
           "landcolor": "#E5ECF6",
           "showlakes": true,
           "showland": true,
           "subunitcolor": "white"
          },
          "hoverlabel": {
           "align": "left"
          },
          "hovermode": "closest",
          "mapbox": {
           "style": "light"
          },
          "paper_bgcolor": "white",
          "plot_bgcolor": "#E5ECF6",
          "polar": {
           "angularaxis": {
            "gridcolor": "white",
            "linecolor": "white",
            "ticks": ""
           },
           "bgcolor": "#E5ECF6",
           "radialaxis": {
            "gridcolor": "white",
            "linecolor": "white",
            "ticks": ""
           }
          },
          "scene": {
           "xaxis": {
            "backgroundcolor": "#E5ECF6",
            "gridcolor": "white",
            "gridwidth": 2,
            "linecolor": "white",
            "showbackground": true,
            "ticks": "",
            "zerolinecolor": "white"
           },
           "yaxis": {
            "backgroundcolor": "#E5ECF6",
            "gridcolor": "white",
            "gridwidth": 2,
            "linecolor": "white",
            "showbackground": true,
            "ticks": "",
            "zerolinecolor": "white"
           },
           "zaxis": {
            "backgroundcolor": "#E5ECF6",
            "gridcolor": "white",
            "gridwidth": 2,
            "linecolor": "white",
            "showbackground": true,
            "ticks": "",
            "zerolinecolor": "white"
           }
          },
          "shapedefaults": {
           "line": {
            "color": "#2a3f5f"
           }
          },
          "ternary": {
           "aaxis": {
            "gridcolor": "white",
            "linecolor": "white",
            "ticks": ""
           },
           "baxis": {
            "gridcolor": "white",
            "linecolor": "white",
            "ticks": ""
           },
           "bgcolor": "#E5ECF6",
           "caxis": {
            "gridcolor": "white",
            "linecolor": "white",
            "ticks": ""
           }
          },
          "title": {
           "x": 0.05
          },
          "xaxis": {
           "automargin": true,
           "gridcolor": "white",
           "linecolor": "white",
           "ticks": "",
           "title": {
            "standoff": 15
           },
           "zerolinecolor": "white",
           "zerolinewidth": 2
          },
          "yaxis": {
           "automargin": true,
           "gridcolor": "white",
           "linecolor": "white",
           "ticks": "",
           "title": {
            "standoff": 15
           },
           "zerolinecolor": "white",
           "zerolinewidth": 2
          }
         }
        },
        "title": {
         "font": {
          "size": 20
         },
         "text": "Interest Score Distributions: Should Donald Trump win the nobel peace price?"
        },
        "width": 1400,
        "xaxis": {
         "anchor": "y",
         "domain": [
          0,
          0.44
         ],
         "range": [
          0,
          1
         ],
         "tickfont": {
          "size": 14
         },
         "title": {
          "font": {
           "size": 16
          },
          "text": "Interest Score"
         }
        },
        "xaxis2": {
         "anchor": "y2",
         "domain": [
          0.56,
          1
         ],
         "range": [
          0,
          1
         ],
         "tickfont": {
          "size": 14
         },
         "title": {
          "font": {
           "size": 16
          },
          "text": "Interest Score"
         }
        },
        "xaxis3": {
         "anchor": "y3",
         "domain": [
          0,
          0.44
         ],
         "range": [
          0,
          1
         ],
         "tickfont": {
          "size": 14
         },
         "title": {
          "font": {
           "size": 16
          },
          "text": "Interest Score"
         }
        },
        "xaxis4": {
         "anchor": "y4",
         "domain": [
          0.56,
          1
         ],
         "range": [
          0,
          1
         ],
         "tickfont": {
          "size": 14
         },
         "title": {
          "font": {
           "size": 16
          },
          "text": "Interest Score"
         }
        },
        "yaxis": {
         "anchor": "x",
         "domain": [
          0.575,
          1
         ],
         "tickfont": {
          "size": 14
         },
         "title": {
          "font": {
           "size": 16
          },
          "text": "Frequency"
         }
        },
        "yaxis2": {
         "anchor": "x2",
         "domain": [
          0.575,
          1
         ],
         "tickfont": {
          "size": 14
         },
         "title": {
          "font": {
           "size": 16
          },
          "text": "Frequency"
         }
        },
        "yaxis3": {
         "anchor": "x3",
         "domain": [
          0,
          0.425
         ],
         "tickfont": {
          "size": 14
         },
         "title": {
          "font": {
           "size": 16
          },
          "text": "Frequency"
         }
        },
        "yaxis4": {
         "anchor": "x4",
         "domain": [
          0,
          0.425
         ],
         "tickfont": {
          "size": 14
         },
         "title": {
          "font": {
           "size": 16
          },
          "text": "Frequency"
         }
        }
       }
      }
     },
     "metadata": {},
     "output_type": "display_data"
    }
   ],
   "source": [
    "# Create histograms for interest scores with larger size and better fonts\n",
    "fig = make_subplots(\n",
    "    rows=2, cols=2,\n",
    "    subplot_titles=(\n",
    "        'OpenAI - Low Temp (0.3)',\n",
    "        'OpenAI - High Temp (0.9)',\n",
    "        'Claude - Low Temp (0.3)',\n",
    "        'Claude - High Temp (0.9)'\n",
    "    ),\n",
    "    vertical_spacing=0.15,\n",
    "    horizontal_spacing=0.12\n",
    ")\n",
    "\n",
    "# Add histograms\n",
    "fig.add_trace(\n",
    "    go.Histogram(x=interest_openai_low, name='OpenAI Low', marker_color='lightblue', nbinsx=15),\n",
    "    row=1, col=1\n",
    ")\n",
    "fig.add_trace(\n",
    "    go.Histogram(x=interest_openai_high, name='OpenAI High', marker_color='darkblue', nbinsx=15),\n",
    "    row=1, col=2\n",
    ")\n",
    "fig.add_trace(\n",
    "    go.Histogram(x=interest_claude_low, name='Claude Low', marker_color='lightgreen', nbinsx=15),\n",
    "    row=2, col=1\n",
    ")\n",
    "fig.add_trace(\n",
    "    go.Histogram(x=interest_claude_high, name='Claude High', marker_color='darkgreen', nbinsx=15),\n",
    "    row=2, col=2\n",
    ")\n",
    "\n",
    "# Update layout with larger size and fonts\n",
    "fig.update_xaxes(title_text=\"Interest Score\", range=[0, 1], title_font_size=16, tickfont_size=14)\n",
    "fig.update_yaxes(title_text=\"Frequency\", title_font_size=16, tickfont_size=14)\n",
    "fig.update_layout(\n",
    "    height=1000,  # Increased from 700\n",
    "    width=1400,   # Added width\n",
    "    title_text=f\"Interest Score Distributions: {TOPIC}\",\n",
    "    title_font_size=20,\n",
    "    showlegend=False,\n",
    "    font=dict(size=14)\n",
    ")\n",
    "\n",
    "# Update subplot titles font size\n",
    "for annotation in fig['layout']['annotations']:\n",
    "    annotation['font'] = dict(size=16)\n",
    "\n",
    "fig.show()"
   ]
  },
  {
   "cell_type": "markdown",
   "metadata": {},
   "source": [
    "## Visualization: Divisiveness Score Distributions"
   ]
  },
  {
   "cell_type": "code",
   "execution_count": 10,
   "metadata": {},
   "outputs": [
    {
     "data": {
      "application/vnd.plotly.v1+json": {
       "config": {
        "plotlyServerURL": "https://plot.ly"
       },
       "data": [
        {
         "marker": {
          "color": "lightcoral"
         },
         "name": "OpenAI Low",
         "nbinsx": 15,
         "type": "histogram",
         "x": [
          0.82,
          0.85,
          0.82,
          0.85,
          0.78,
          0.78,
          0.85,
          0.82,
          0.85,
          0.82,
          0.78,
          0.82,
          0.82,
          0.85,
          0.85,
          0.85,
          0.78,
          0.78,
          0.82,
          0.78
         ],
         "xaxis": "x",
         "yaxis": "y"
        },
        {
         "marker": {
          "color": "darkred"
         },
         "name": "OpenAI High",
         "nbinsx": 15,
         "type": "histogram",
         "x": [
          0.78,
          0.82,
          0.78,
          0.78,
          0.76,
          0.85,
          0.75,
          0.85,
          0.85,
          0.78,
          0.85,
          0.85,
          0.82,
          0.75,
          0.82,
          0.78,
          0.82,
          0.85,
          0.83,
          0.85
         ],
         "xaxis": "x2",
         "yaxis": "y2"
        },
        {
         "marker": {
          "color": "lightyellow"
         },
         "name": "Claude Low",
         "nbinsx": 15,
         "type": "histogram",
         "x": [
          0.85,
          0.85,
          0.85,
          0.85,
          0.85,
          0.85,
          0.85,
          0.85,
          0.85,
          0.85,
          0.85,
          0.85,
          0.85,
          0.85,
          0.85,
          0.85,
          0.85,
          0.85,
          0.85,
          0.85
         ],
         "xaxis": "x3",
         "yaxis": "y3"
        },
        {
         "marker": {
          "color": "orange"
         },
         "name": "Claude High",
         "nbinsx": 15,
         "type": "histogram",
         "x": [
          0.85,
          0.85,
          0.85,
          0.85,
          0.85,
          0.85,
          0.85,
          0.85,
          0.85,
          0.85,
          0.85,
          0.85,
          0.85,
          0.85,
          0.85,
          0.85,
          0.85,
          0.85,
          0.85,
          0.85
         ],
         "xaxis": "x4",
         "yaxis": "y4"
        }
       ],
       "layout": {
        "annotations": [
         {
          "font": {
           "size": 16
          },
          "showarrow": false,
          "text": "OpenAI - Low Temp (0.3)",
          "x": 0.22,
          "xanchor": "center",
          "xref": "paper",
          "y": 1,
          "yanchor": "bottom",
          "yref": "paper"
         },
         {
          "font": {
           "size": 16
          },
          "showarrow": false,
          "text": "OpenAI - High Temp (0.9)",
          "x": 0.78,
          "xanchor": "center",
          "xref": "paper",
          "y": 1,
          "yanchor": "bottom",
          "yref": "paper"
         },
         {
          "font": {
           "size": 16
          },
          "showarrow": false,
          "text": "Claude - Low Temp (0.3)",
          "x": 0.22,
          "xanchor": "center",
          "xref": "paper",
          "y": 0.425,
          "yanchor": "bottom",
          "yref": "paper"
         },
         {
          "font": {
           "size": 16
          },
          "showarrow": false,
          "text": "Claude - High Temp (0.9)",
          "x": 0.78,
          "xanchor": "center",
          "xref": "paper",
          "y": 0.425,
          "yanchor": "bottom",
          "yref": "paper"
         }
        ],
        "font": {
         "size": 14
        },
        "height": 1000,
        "showlegend": false,
        "template": {
         "data": {
          "bar": [
           {
            "error_x": {
             "color": "#2a3f5f"
            },
            "error_y": {
             "color": "#2a3f5f"
            },
            "marker": {
             "line": {
              "color": "#E5ECF6",
              "width": 0.5
             },
             "pattern": {
              "fillmode": "overlay",
              "size": 10,
              "solidity": 0.2
             }
            },
            "type": "bar"
           }
          ],
          "barpolar": [
           {
            "marker": {
             "line": {
              "color": "#E5ECF6",
              "width": 0.5
             },
             "pattern": {
              "fillmode": "overlay",
              "size": 10,
              "solidity": 0.2
             }
            },
            "type": "barpolar"
           }
          ],
          "carpet": [
           {
            "aaxis": {
             "endlinecolor": "#2a3f5f",
             "gridcolor": "white",
             "linecolor": "white",
             "minorgridcolor": "white",
             "startlinecolor": "#2a3f5f"
            },
            "baxis": {
             "endlinecolor": "#2a3f5f",
             "gridcolor": "white",
             "linecolor": "white",
             "minorgridcolor": "white",
             "startlinecolor": "#2a3f5f"
            },
            "type": "carpet"
           }
          ],
          "choropleth": [
           {
            "colorbar": {
             "outlinewidth": 0,
             "ticks": ""
            },
            "type": "choropleth"
           }
          ],
          "contour": [
           {
            "colorbar": {
             "outlinewidth": 0,
             "ticks": ""
            },
            "colorscale": [
             [
              0,
              "#0d0887"
             ],
             [
              0.1111111111111111,
              "#46039f"
             ],
             [
              0.2222222222222222,
              "#7201a8"
             ],
             [
              0.3333333333333333,
              "#9c179e"
             ],
             [
              0.4444444444444444,
              "#bd3786"
             ],
             [
              0.5555555555555556,
              "#d8576b"
             ],
             [
              0.6666666666666666,
              "#ed7953"
             ],
             [
              0.7777777777777778,
              "#fb9f3a"
             ],
             [
              0.8888888888888888,
              "#fdca26"
             ],
             [
              1,
              "#f0f921"
             ]
            ],
            "type": "contour"
           }
          ],
          "contourcarpet": [
           {
            "colorbar": {
             "outlinewidth": 0,
             "ticks": ""
            },
            "type": "contourcarpet"
           }
          ],
          "heatmap": [
           {
            "colorbar": {
             "outlinewidth": 0,
             "ticks": ""
            },
            "colorscale": [
             [
              0,
              "#0d0887"
             ],
             [
              0.1111111111111111,
              "#46039f"
             ],
             [
              0.2222222222222222,
              "#7201a8"
             ],
             [
              0.3333333333333333,
              "#9c179e"
             ],
             [
              0.4444444444444444,
              "#bd3786"
             ],
             [
              0.5555555555555556,
              "#d8576b"
             ],
             [
              0.6666666666666666,
              "#ed7953"
             ],
             [
              0.7777777777777778,
              "#fb9f3a"
             ],
             [
              0.8888888888888888,
              "#fdca26"
             ],
             [
              1,
              "#f0f921"
             ]
            ],
            "type": "heatmap"
           }
          ],
          "histogram": [
           {
            "marker": {
             "pattern": {
              "fillmode": "overlay",
              "size": 10,
              "solidity": 0.2
             }
            },
            "type": "histogram"
           }
          ],
          "histogram2d": [
           {
            "colorbar": {
             "outlinewidth": 0,
             "ticks": ""
            },
            "colorscale": [
             [
              0,
              "#0d0887"
             ],
             [
              0.1111111111111111,
              "#46039f"
             ],
             [
              0.2222222222222222,
              "#7201a8"
             ],
             [
              0.3333333333333333,
              "#9c179e"
             ],
             [
              0.4444444444444444,
              "#bd3786"
             ],
             [
              0.5555555555555556,
              "#d8576b"
             ],
             [
              0.6666666666666666,
              "#ed7953"
             ],
             [
              0.7777777777777778,
              "#fb9f3a"
             ],
             [
              0.8888888888888888,
              "#fdca26"
             ],
             [
              1,
              "#f0f921"
             ]
            ],
            "type": "histogram2d"
           }
          ],
          "histogram2dcontour": [
           {
            "colorbar": {
             "outlinewidth": 0,
             "ticks": ""
            },
            "colorscale": [
             [
              0,
              "#0d0887"
             ],
             [
              0.1111111111111111,
              "#46039f"
             ],
             [
              0.2222222222222222,
              "#7201a8"
             ],
             [
              0.3333333333333333,
              "#9c179e"
             ],
             [
              0.4444444444444444,
              "#bd3786"
             ],
             [
              0.5555555555555556,
              "#d8576b"
             ],
             [
              0.6666666666666666,
              "#ed7953"
             ],
             [
              0.7777777777777778,
              "#fb9f3a"
             ],
             [
              0.8888888888888888,
              "#fdca26"
             ],
             [
              1,
              "#f0f921"
             ]
            ],
            "type": "histogram2dcontour"
           }
          ],
          "mesh3d": [
           {
            "colorbar": {
             "outlinewidth": 0,
             "ticks": ""
            },
            "type": "mesh3d"
           }
          ],
          "parcoords": [
           {
            "line": {
             "colorbar": {
              "outlinewidth": 0,
              "ticks": ""
             }
            },
            "type": "parcoords"
           }
          ],
          "pie": [
           {
            "automargin": true,
            "type": "pie"
           }
          ],
          "scatter": [
           {
            "fillpattern": {
             "fillmode": "overlay",
             "size": 10,
             "solidity": 0.2
            },
            "type": "scatter"
           }
          ],
          "scatter3d": [
           {
            "line": {
             "colorbar": {
              "outlinewidth": 0,
              "ticks": ""
             }
            },
            "marker": {
             "colorbar": {
              "outlinewidth": 0,
              "ticks": ""
             }
            },
            "type": "scatter3d"
           }
          ],
          "scattercarpet": [
           {
            "marker": {
             "colorbar": {
              "outlinewidth": 0,
              "ticks": ""
             }
            },
            "type": "scattercarpet"
           }
          ],
          "scattergeo": [
           {
            "marker": {
             "colorbar": {
              "outlinewidth": 0,
              "ticks": ""
             }
            },
            "type": "scattergeo"
           }
          ],
          "scattergl": [
           {
            "marker": {
             "colorbar": {
              "outlinewidth": 0,
              "ticks": ""
             }
            },
            "type": "scattergl"
           }
          ],
          "scattermap": [
           {
            "marker": {
             "colorbar": {
              "outlinewidth": 0,
              "ticks": ""
             }
            },
            "type": "scattermap"
           }
          ],
          "scattermapbox": [
           {
            "marker": {
             "colorbar": {
              "outlinewidth": 0,
              "ticks": ""
             }
            },
            "type": "scattermapbox"
           }
          ],
          "scatterpolar": [
           {
            "marker": {
             "colorbar": {
              "outlinewidth": 0,
              "ticks": ""
             }
            },
            "type": "scatterpolar"
           }
          ],
          "scatterpolargl": [
           {
            "marker": {
             "colorbar": {
              "outlinewidth": 0,
              "ticks": ""
             }
            },
            "type": "scatterpolargl"
           }
          ],
          "scatterternary": [
           {
            "marker": {
             "colorbar": {
              "outlinewidth": 0,
              "ticks": ""
             }
            },
            "type": "scatterternary"
           }
          ],
          "surface": [
           {
            "colorbar": {
             "outlinewidth": 0,
             "ticks": ""
            },
            "colorscale": [
             [
              0,
              "#0d0887"
             ],
             [
              0.1111111111111111,
              "#46039f"
             ],
             [
              0.2222222222222222,
              "#7201a8"
             ],
             [
              0.3333333333333333,
              "#9c179e"
             ],
             [
              0.4444444444444444,
              "#bd3786"
             ],
             [
              0.5555555555555556,
              "#d8576b"
             ],
             [
              0.6666666666666666,
              "#ed7953"
             ],
             [
              0.7777777777777778,
              "#fb9f3a"
             ],
             [
              0.8888888888888888,
              "#fdca26"
             ],
             [
              1,
              "#f0f921"
             ]
            ],
            "type": "surface"
           }
          ],
          "table": [
           {
            "cells": {
             "fill": {
              "color": "#EBF0F8"
             },
             "line": {
              "color": "white"
             }
            },
            "header": {
             "fill": {
              "color": "#C8D4E3"
             },
             "line": {
              "color": "white"
             }
            },
            "type": "table"
           }
          ]
         },
         "layout": {
          "annotationdefaults": {
           "arrowcolor": "#2a3f5f",
           "arrowhead": 0,
           "arrowwidth": 1
          },
          "autotypenumbers": "strict",
          "coloraxis": {
           "colorbar": {
            "outlinewidth": 0,
            "ticks": ""
           }
          },
          "colorscale": {
           "diverging": [
            [
             0,
             "#8e0152"
            ],
            [
             0.1,
             "#c51b7d"
            ],
            [
             0.2,
             "#de77ae"
            ],
            [
             0.3,
             "#f1b6da"
            ],
            [
             0.4,
             "#fde0ef"
            ],
            [
             0.5,
             "#f7f7f7"
            ],
            [
             0.6,
             "#e6f5d0"
            ],
            [
             0.7,
             "#b8e186"
            ],
            [
             0.8,
             "#7fbc41"
            ],
            [
             0.9,
             "#4d9221"
            ],
            [
             1,
             "#276419"
            ]
           ],
           "sequential": [
            [
             0,
             "#0d0887"
            ],
            [
             0.1111111111111111,
             "#46039f"
            ],
            [
             0.2222222222222222,
             "#7201a8"
            ],
            [
             0.3333333333333333,
             "#9c179e"
            ],
            [
             0.4444444444444444,
             "#bd3786"
            ],
            [
             0.5555555555555556,
             "#d8576b"
            ],
            [
             0.6666666666666666,
             "#ed7953"
            ],
            [
             0.7777777777777778,
             "#fb9f3a"
            ],
            [
             0.8888888888888888,
             "#fdca26"
            ],
            [
             1,
             "#f0f921"
            ]
           ],
           "sequentialminus": [
            [
             0,
             "#0d0887"
            ],
            [
             0.1111111111111111,
             "#46039f"
            ],
            [
             0.2222222222222222,
             "#7201a8"
            ],
            [
             0.3333333333333333,
             "#9c179e"
            ],
            [
             0.4444444444444444,
             "#bd3786"
            ],
            [
             0.5555555555555556,
             "#d8576b"
            ],
            [
             0.6666666666666666,
             "#ed7953"
            ],
            [
             0.7777777777777778,
             "#fb9f3a"
            ],
            [
             0.8888888888888888,
             "#fdca26"
            ],
            [
             1,
             "#f0f921"
            ]
           ]
          },
          "colorway": [
           "#636efa",
           "#EF553B",
           "#00cc96",
           "#ab63fa",
           "#FFA15A",
           "#19d3f3",
           "#FF6692",
           "#B6E880",
           "#FF97FF",
           "#FECB52"
          ],
          "font": {
           "color": "#2a3f5f"
          },
          "geo": {
           "bgcolor": "white",
           "lakecolor": "white",
           "landcolor": "#E5ECF6",
           "showlakes": true,
           "showland": true,
           "subunitcolor": "white"
          },
          "hoverlabel": {
           "align": "left"
          },
          "hovermode": "closest",
          "mapbox": {
           "style": "light"
          },
          "paper_bgcolor": "white",
          "plot_bgcolor": "#E5ECF6",
          "polar": {
           "angularaxis": {
            "gridcolor": "white",
            "linecolor": "white",
            "ticks": ""
           },
           "bgcolor": "#E5ECF6",
           "radialaxis": {
            "gridcolor": "white",
            "linecolor": "white",
            "ticks": ""
           }
          },
          "scene": {
           "xaxis": {
            "backgroundcolor": "#E5ECF6",
            "gridcolor": "white",
            "gridwidth": 2,
            "linecolor": "white",
            "showbackground": true,
            "ticks": "",
            "zerolinecolor": "white"
           },
           "yaxis": {
            "backgroundcolor": "#E5ECF6",
            "gridcolor": "white",
            "gridwidth": 2,
            "linecolor": "white",
            "showbackground": true,
            "ticks": "",
            "zerolinecolor": "white"
           },
           "zaxis": {
            "backgroundcolor": "#E5ECF6",
            "gridcolor": "white",
            "gridwidth": 2,
            "linecolor": "white",
            "showbackground": true,
            "ticks": "",
            "zerolinecolor": "white"
           }
          },
          "shapedefaults": {
           "line": {
            "color": "#2a3f5f"
           }
          },
          "ternary": {
           "aaxis": {
            "gridcolor": "white",
            "linecolor": "white",
            "ticks": ""
           },
           "baxis": {
            "gridcolor": "white",
            "linecolor": "white",
            "ticks": ""
           },
           "bgcolor": "#E5ECF6",
           "caxis": {
            "gridcolor": "white",
            "linecolor": "white",
            "ticks": ""
           }
          },
          "title": {
           "x": 0.05
          },
          "xaxis": {
           "automargin": true,
           "gridcolor": "white",
           "linecolor": "white",
           "ticks": "",
           "title": {
            "standoff": 15
           },
           "zerolinecolor": "white",
           "zerolinewidth": 2
          },
          "yaxis": {
           "automargin": true,
           "gridcolor": "white",
           "linecolor": "white",
           "ticks": "",
           "title": {
            "standoff": 15
           },
           "zerolinecolor": "white",
           "zerolinewidth": 2
          }
         }
        },
        "title": {
         "font": {
          "size": 20
         },
         "text": "Divisiveness Score Distributions: Should Donald Trump win the nobel peace price?"
        },
        "width": 1400,
        "xaxis": {
         "anchor": "y",
         "domain": [
          0,
          0.44
         ],
         "range": [
          0,
          1
         ],
         "tickfont": {
          "size": 14
         },
         "title": {
          "font": {
           "size": 16
          },
          "text": "Divisiveness Score"
         }
        },
        "xaxis2": {
         "anchor": "y2",
         "domain": [
          0.56,
          1
         ],
         "range": [
          0,
          1
         ],
         "tickfont": {
          "size": 14
         },
         "title": {
          "font": {
           "size": 16
          },
          "text": "Divisiveness Score"
         }
        },
        "xaxis3": {
         "anchor": "y3",
         "domain": [
          0,
          0.44
         ],
         "range": [
          0,
          1
         ],
         "tickfont": {
          "size": 14
         },
         "title": {
          "font": {
           "size": 16
          },
          "text": "Divisiveness Score"
         }
        },
        "xaxis4": {
         "anchor": "y4",
         "domain": [
          0.56,
          1
         ],
         "range": [
          0,
          1
         ],
         "tickfont": {
          "size": 14
         },
         "title": {
          "font": {
           "size": 16
          },
          "text": "Divisiveness Score"
         }
        },
        "yaxis": {
         "anchor": "x",
         "domain": [
          0.575,
          1
         ],
         "tickfont": {
          "size": 14
         },
         "title": {
          "font": {
           "size": 16
          },
          "text": "Frequency"
         }
        },
        "yaxis2": {
         "anchor": "x2",
         "domain": [
          0.575,
          1
         ],
         "tickfont": {
          "size": 14
         },
         "title": {
          "font": {
           "size": 16
          },
          "text": "Frequency"
         }
        },
        "yaxis3": {
         "anchor": "x3",
         "domain": [
          0,
          0.425
         ],
         "tickfont": {
          "size": 14
         },
         "title": {
          "font": {
           "size": 16
          },
          "text": "Frequency"
         }
        },
        "yaxis4": {
         "anchor": "x4",
         "domain": [
          0,
          0.425
         ],
         "tickfont": {
          "size": 14
         },
         "title": {
          "font": {
           "size": 16
          },
          "text": "Frequency"
         }
        }
       }
      }
     },
     "metadata": {},
     "output_type": "display_data"
    }
   ],
   "source": [
    "# Create histograms for divisiveness scores with larger size and better fonts\n",
    "fig = make_subplots(\n",
    "    rows=2, cols=2,\n",
    "    subplot_titles=(\n",
    "        'OpenAI - Low Temp (0.3)',\n",
    "        'OpenAI - High Temp (0.9)',\n",
    "        'Claude - Low Temp (0.3)',\n",
    "        'Claude - High Temp (0.9)'\n",
    "    ),\n",
    "    vertical_spacing=0.15,\n",
    "    horizontal_spacing=0.12\n",
    ")\n",
    "\n",
    "# Add histograms\n",
    "fig.add_trace(\n",
    "    go.Histogram(x=div_openai_low, name='OpenAI Low', marker_color='lightcoral', nbinsx=15),\n",
    "    row=1, col=1\n",
    ")\n",
    "fig.add_trace(\n",
    "    go.Histogram(x=div_openai_high, name='OpenAI High', marker_color='darkred', nbinsx=15),\n",
    "    row=1, col=2\n",
    ")\n",
    "fig.add_trace(\n",
    "    go.Histogram(x=div_claude_low, name='Claude Low', marker_color='lightyellow', nbinsx=15),\n",
    "    row=2, col=1\n",
    ")\n",
    "fig.add_trace(\n",
    "    go.Histogram(x=div_claude_high, name='Claude High', marker_color='orange', nbinsx=15),\n",
    "    row=2, col=2\n",
    ")\n",
    "\n",
    "# Update layout with larger size and fonts\n",
    "fig.update_xaxes(title_text=\"Divisiveness Score\", range=[0, 1], title_font_size=16, tickfont_size=14)\n",
    "fig.update_yaxes(title_text=\"Frequency\", title_font_size=16, tickfont_size=14)\n",
    "fig.update_layout(\n",
    "    height=1000,  # Increased from 700\n",
    "    width=1400,   # Added width\n",
    "    title_text=f\"Divisiveness Score Distributions: {TOPIC}\",\n",
    "    title_font_size=20,\n",
    "    showlegend=False,\n",
    "    font=dict(size=14)\n",
    ")\n",
    "\n",
    "# Update subplot titles font size\n",
    "for annotation in fig['layout']['annotations']:\n",
    "    annotation['font'] = dict(size=16)\n",
    "\n",
    "fig.show()"
   ]
  },
  {
   "cell_type": "markdown",
   "metadata": {},
   "source": [
    "## Box Plot Comparison: Interest Scores"
   ]
  },
  {
   "cell_type": "code",
   "execution_count": 11,
   "metadata": {},
   "outputs": [
    {
     "data": {
      "application/vnd.plotly.v1+json": {
       "config": {
        "plotlyServerURL": "https://plot.ly"
       },
       "data": [
        {
         "alignmentgroup": "True",
         "boxpoints": "all",
         "hovertemplate": "Provider=OpenAI<br>Temperature=%{x}<br>Interest Score (0-1)=%{y}<extra></extra>",
         "legendgroup": "OpenAI",
         "marker": {
          "color": "#636efa"
         },
         "name": "OpenAI",
         "notched": false,
         "offsetgroup": "OpenAI",
         "orientation": "v",
         "showlegend": true,
         "type": "box",
         "x": [
          "Low (0.3)",
          "Low (0.3)",
          "Low (0.3)",
          "Low (0.3)",
          "Low (0.3)",
          "Low (0.3)",
          "Low (0.3)",
          "Low (0.3)",
          "Low (0.3)",
          "Low (0.3)",
          "Low (0.3)",
          "Low (0.3)",
          "Low (0.3)",
          "Low (0.3)",
          "Low (0.3)",
          "Low (0.3)",
          "Low (0.3)",
          "Low (0.3)",
          "Low (0.3)",
          "Low (0.3)",
          "High (0.9)",
          "High (0.9)",
          "High (0.9)",
          "High (0.9)",
          "High (0.9)",
          "High (0.9)",
          "High (0.9)",
          "High (0.9)",
          "High (0.9)",
          "High (0.9)",
          "High (0.9)",
          "High (0.9)",
          "High (0.9)",
          "High (0.9)",
          "High (0.9)",
          "High (0.9)",
          "High (0.9)",
          "High (0.9)",
          "High (0.9)",
          "High (0.9)"
         ],
         "x0": " ",
         "xaxis": "x",
         "y": {
          "bdata": "zczMzMzM3D/NzMzMzMzcP83MzMzMzNw/mpmZmZmZ4T/NzMzMzMzcP5qZmZmZmeE/mpmZmZmZ4T/NzMzMzMzcP83MzMzMzNw/mpmZmZmZ4T/NzMzMzMzcP5qZmZmZmeE/zczMzMzM3D/NzMzMzMzcP83MzMzMzNw/zczMzMzM3D/NzMzMzMzcP83MzMzMzNw/mpmZmZmZ4T/NzMzMzMzcP2ZmZmZmZtY/zczMzMzM3D+amZmZmZnhP83MzMzMzNw/ZmZmZmZm1j/NzMzMzMzcP5qZmZmZmeE/zczMzMzM3D+amZmZmZnhP83MzMzMzNw/ZmZmZmZm1j9mZmZmZmbWP5qZmZmZmeE/mpmZmZmZ4T/NzMzMzMzcP5qZmZmZmeE/SOF6FK5H4T+amZmZmZnhP2ZmZmZmZtY/mpmZmZmZ4T8=",
          "dtype": "f8"
         },
         "y0": " ",
         "yaxis": "y"
        },
        {
         "alignmentgroup": "True",
         "boxpoints": "all",
         "hovertemplate": "Provider=Claude<br>Temperature=%{x}<br>Interest Score (0-1)=%{y}<extra></extra>",
         "legendgroup": "Claude",
         "marker": {
          "color": "#EF553B"
         },
         "name": "Claude",
         "notched": false,
         "offsetgroup": "Claude",
         "orientation": "v",
         "showlegend": true,
         "type": "box",
         "x": [
          "Low (0.3)",
          "Low (0.3)",
          "Low (0.3)",
          "Low (0.3)",
          "Low (0.3)",
          "Low (0.3)",
          "Low (0.3)",
          "Low (0.3)",
          "Low (0.3)",
          "Low (0.3)",
          "Low (0.3)",
          "Low (0.3)",
          "Low (0.3)",
          "Low (0.3)",
          "Low (0.3)",
          "Low (0.3)",
          "Low (0.3)",
          "Low (0.3)",
          "Low (0.3)",
          "Low (0.3)",
          "High (0.9)",
          "High (0.9)",
          "High (0.9)",
          "High (0.9)",
          "High (0.9)",
          "High (0.9)",
          "High (0.9)",
          "High (0.9)",
          "High (0.9)",
          "High (0.9)",
          "High (0.9)",
          "High (0.9)",
          "High (0.9)",
          "High (0.9)",
          "High (0.9)",
          "High (0.9)",
          "High (0.9)",
          "High (0.9)",
          "High (0.9)",
          "High (0.9)"
         ],
         "x0": " ",
         "xaxis": "x",
         "y": {
          "bdata": "MzMzMzMzwz8zMzMzMzPDPzMzMzMzM8M/MzMzMzMzwz8zMzMzMzPDPzMzMzMzM8M/MzMzMzMzwz8zMzMzMzPDPzMzMzMzM8M/MzMzMzMzwz8zMzMzMzPDPzMzMzMzM8M/MzMzMzMzwz8zMzMzMzPDPzMzMzMzM8M/MzMzMzMzwz8zMzMzMzPDPzMzMzMzM8M/MzMzMzMzwz8zMzMzMzPDPzMzMzMzM8M/MzMzMzMzwz8zMzMzMzPDPzMzMzMzM8M/MzMzMzMzwz8zMzMzMzPDPzMzMzMzM8M/MzMzMzMzwz8zMzMzMzPDPzMzMzMzM8M/MzMzMzMzwz8zMzMzMzPDPzMzMzMzM8M/MzMzMzMzwz8zMzMzMzPDPzMzMzMzM8M/MzMzMzMzwz8zMzMzMzPDPzMzMzMzM8M/MzMzMzMzwz8=",
          "dtype": "f8"
         },
         "y0": " ",
         "yaxis": "y"
        }
       ],
       "layout": {
        "boxmode": "group",
        "font": {
         "size": 14
        },
        "height": 700,
        "legend": {
         "font": {
          "size": 14
         },
         "title": {
          "text": "Provider"
         },
         "tracegroupgap": 0
        },
        "template": {
         "data": {
          "bar": [
           {
            "error_x": {
             "color": "#2a3f5f"
            },
            "error_y": {
             "color": "#2a3f5f"
            },
            "marker": {
             "line": {
              "color": "#E5ECF6",
              "width": 0.5
             },
             "pattern": {
              "fillmode": "overlay",
              "size": 10,
              "solidity": 0.2
             }
            },
            "type": "bar"
           }
          ],
          "barpolar": [
           {
            "marker": {
             "line": {
              "color": "#E5ECF6",
              "width": 0.5
             },
             "pattern": {
              "fillmode": "overlay",
              "size": 10,
              "solidity": 0.2
             }
            },
            "type": "barpolar"
           }
          ],
          "carpet": [
           {
            "aaxis": {
             "endlinecolor": "#2a3f5f",
             "gridcolor": "white",
             "linecolor": "white",
             "minorgridcolor": "white",
             "startlinecolor": "#2a3f5f"
            },
            "baxis": {
             "endlinecolor": "#2a3f5f",
             "gridcolor": "white",
             "linecolor": "white",
             "minorgridcolor": "white",
             "startlinecolor": "#2a3f5f"
            },
            "type": "carpet"
           }
          ],
          "choropleth": [
           {
            "colorbar": {
             "outlinewidth": 0,
             "ticks": ""
            },
            "type": "choropleth"
           }
          ],
          "contour": [
           {
            "colorbar": {
             "outlinewidth": 0,
             "ticks": ""
            },
            "colorscale": [
             [
              0,
              "#0d0887"
             ],
             [
              0.1111111111111111,
              "#46039f"
             ],
             [
              0.2222222222222222,
              "#7201a8"
             ],
             [
              0.3333333333333333,
              "#9c179e"
             ],
             [
              0.4444444444444444,
              "#bd3786"
             ],
             [
              0.5555555555555556,
              "#d8576b"
             ],
             [
              0.6666666666666666,
              "#ed7953"
             ],
             [
              0.7777777777777778,
              "#fb9f3a"
             ],
             [
              0.8888888888888888,
              "#fdca26"
             ],
             [
              1,
              "#f0f921"
             ]
            ],
            "type": "contour"
           }
          ],
          "contourcarpet": [
           {
            "colorbar": {
             "outlinewidth": 0,
             "ticks": ""
            },
            "type": "contourcarpet"
           }
          ],
          "heatmap": [
           {
            "colorbar": {
             "outlinewidth": 0,
             "ticks": ""
            },
            "colorscale": [
             [
              0,
              "#0d0887"
             ],
             [
              0.1111111111111111,
              "#46039f"
             ],
             [
              0.2222222222222222,
              "#7201a8"
             ],
             [
              0.3333333333333333,
              "#9c179e"
             ],
             [
              0.4444444444444444,
              "#bd3786"
             ],
             [
              0.5555555555555556,
              "#d8576b"
             ],
             [
              0.6666666666666666,
              "#ed7953"
             ],
             [
              0.7777777777777778,
              "#fb9f3a"
             ],
             [
              0.8888888888888888,
              "#fdca26"
             ],
             [
              1,
              "#f0f921"
             ]
            ],
            "type": "heatmap"
           }
          ],
          "histogram": [
           {
            "marker": {
             "pattern": {
              "fillmode": "overlay",
              "size": 10,
              "solidity": 0.2
             }
            },
            "type": "histogram"
           }
          ],
          "histogram2d": [
           {
            "colorbar": {
             "outlinewidth": 0,
             "ticks": ""
            },
            "colorscale": [
             [
              0,
              "#0d0887"
             ],
             [
              0.1111111111111111,
              "#46039f"
             ],
             [
              0.2222222222222222,
              "#7201a8"
             ],
             [
              0.3333333333333333,
              "#9c179e"
             ],
             [
              0.4444444444444444,
              "#bd3786"
             ],
             [
              0.5555555555555556,
              "#d8576b"
             ],
             [
              0.6666666666666666,
              "#ed7953"
             ],
             [
              0.7777777777777778,
              "#fb9f3a"
             ],
             [
              0.8888888888888888,
              "#fdca26"
             ],
             [
              1,
              "#f0f921"
             ]
            ],
            "type": "histogram2d"
           }
          ],
          "histogram2dcontour": [
           {
            "colorbar": {
             "outlinewidth": 0,
             "ticks": ""
            },
            "colorscale": [
             [
              0,
              "#0d0887"
             ],
             [
              0.1111111111111111,
              "#46039f"
             ],
             [
              0.2222222222222222,
              "#7201a8"
             ],
             [
              0.3333333333333333,
              "#9c179e"
             ],
             [
              0.4444444444444444,
              "#bd3786"
             ],
             [
              0.5555555555555556,
              "#d8576b"
             ],
             [
              0.6666666666666666,
              "#ed7953"
             ],
             [
              0.7777777777777778,
              "#fb9f3a"
             ],
             [
              0.8888888888888888,
              "#fdca26"
             ],
             [
              1,
              "#f0f921"
             ]
            ],
            "type": "histogram2dcontour"
           }
          ],
          "mesh3d": [
           {
            "colorbar": {
             "outlinewidth": 0,
             "ticks": ""
            },
            "type": "mesh3d"
           }
          ],
          "parcoords": [
           {
            "line": {
             "colorbar": {
              "outlinewidth": 0,
              "ticks": ""
             }
            },
            "type": "parcoords"
           }
          ],
          "pie": [
           {
            "automargin": true,
            "type": "pie"
           }
          ],
          "scatter": [
           {
            "fillpattern": {
             "fillmode": "overlay",
             "size": 10,
             "solidity": 0.2
            },
            "type": "scatter"
           }
          ],
          "scatter3d": [
           {
            "line": {
             "colorbar": {
              "outlinewidth": 0,
              "ticks": ""
             }
            },
            "marker": {
             "colorbar": {
              "outlinewidth": 0,
              "ticks": ""
             }
            },
            "type": "scatter3d"
           }
          ],
          "scattercarpet": [
           {
            "marker": {
             "colorbar": {
              "outlinewidth": 0,
              "ticks": ""
             }
            },
            "type": "scattercarpet"
           }
          ],
          "scattergeo": [
           {
            "marker": {
             "colorbar": {
              "outlinewidth": 0,
              "ticks": ""
             }
            },
            "type": "scattergeo"
           }
          ],
          "scattergl": [
           {
            "marker": {
             "colorbar": {
              "outlinewidth": 0,
              "ticks": ""
             }
            },
            "type": "scattergl"
           }
          ],
          "scattermap": [
           {
            "marker": {
             "colorbar": {
              "outlinewidth": 0,
              "ticks": ""
             }
            },
            "type": "scattermap"
           }
          ],
          "scattermapbox": [
           {
            "marker": {
             "colorbar": {
              "outlinewidth": 0,
              "ticks": ""
             }
            },
            "type": "scattermapbox"
           }
          ],
          "scatterpolar": [
           {
            "marker": {
             "colorbar": {
              "outlinewidth": 0,
              "ticks": ""
             }
            },
            "type": "scatterpolar"
           }
          ],
          "scatterpolargl": [
           {
            "marker": {
             "colorbar": {
              "outlinewidth": 0,
              "ticks": ""
             }
            },
            "type": "scatterpolargl"
           }
          ],
          "scatterternary": [
           {
            "marker": {
             "colorbar": {
              "outlinewidth": 0,
              "ticks": ""
             }
            },
            "type": "scatterternary"
           }
          ],
          "surface": [
           {
            "colorbar": {
             "outlinewidth": 0,
             "ticks": ""
            },
            "colorscale": [
             [
              0,
              "#0d0887"
             ],
             [
              0.1111111111111111,
              "#46039f"
             ],
             [
              0.2222222222222222,
              "#7201a8"
             ],
             [
              0.3333333333333333,
              "#9c179e"
             ],
             [
              0.4444444444444444,
              "#bd3786"
             ],
             [
              0.5555555555555556,
              "#d8576b"
             ],
             [
              0.6666666666666666,
              "#ed7953"
             ],
             [
              0.7777777777777778,
              "#fb9f3a"
             ],
             [
              0.8888888888888888,
              "#fdca26"
             ],
             [
              1,
              "#f0f921"
             ]
            ],
            "type": "surface"
           }
          ],
          "table": [
           {
            "cells": {
             "fill": {
              "color": "#EBF0F8"
             },
             "line": {
              "color": "white"
             }
            },
            "header": {
             "fill": {
              "color": "#C8D4E3"
             },
             "line": {
              "color": "white"
             }
            },
            "type": "table"
           }
          ]
         },
         "layout": {
          "annotationdefaults": {
           "arrowcolor": "#2a3f5f",
           "arrowhead": 0,
           "arrowwidth": 1
          },
          "autotypenumbers": "strict",
          "coloraxis": {
           "colorbar": {
            "outlinewidth": 0,
            "ticks": ""
           }
          },
          "colorscale": {
           "diverging": [
            [
             0,
             "#8e0152"
            ],
            [
             0.1,
             "#c51b7d"
            ],
            [
             0.2,
             "#de77ae"
            ],
            [
             0.3,
             "#f1b6da"
            ],
            [
             0.4,
             "#fde0ef"
            ],
            [
             0.5,
             "#f7f7f7"
            ],
            [
             0.6,
             "#e6f5d0"
            ],
            [
             0.7,
             "#b8e186"
            ],
            [
             0.8,
             "#7fbc41"
            ],
            [
             0.9,
             "#4d9221"
            ],
            [
             1,
             "#276419"
            ]
           ],
           "sequential": [
            [
             0,
             "#0d0887"
            ],
            [
             0.1111111111111111,
             "#46039f"
            ],
            [
             0.2222222222222222,
             "#7201a8"
            ],
            [
             0.3333333333333333,
             "#9c179e"
            ],
            [
             0.4444444444444444,
             "#bd3786"
            ],
            [
             0.5555555555555556,
             "#d8576b"
            ],
            [
             0.6666666666666666,
             "#ed7953"
            ],
            [
             0.7777777777777778,
             "#fb9f3a"
            ],
            [
             0.8888888888888888,
             "#fdca26"
            ],
            [
             1,
             "#f0f921"
            ]
           ],
           "sequentialminus": [
            [
             0,
             "#0d0887"
            ],
            [
             0.1111111111111111,
             "#46039f"
            ],
            [
             0.2222222222222222,
             "#7201a8"
            ],
            [
             0.3333333333333333,
             "#9c179e"
            ],
            [
             0.4444444444444444,
             "#bd3786"
            ],
            [
             0.5555555555555556,
             "#d8576b"
            ],
            [
             0.6666666666666666,
             "#ed7953"
            ],
            [
             0.7777777777777778,
             "#fb9f3a"
            ],
            [
             0.8888888888888888,
             "#fdca26"
            ],
            [
             1,
             "#f0f921"
            ]
           ]
          },
          "colorway": [
           "#636efa",
           "#EF553B",
           "#00cc96",
           "#ab63fa",
           "#FFA15A",
           "#19d3f3",
           "#FF6692",
           "#B6E880",
           "#FF97FF",
           "#FECB52"
          ],
          "font": {
           "color": "#2a3f5f"
          },
          "geo": {
           "bgcolor": "white",
           "lakecolor": "white",
           "landcolor": "#E5ECF6",
           "showlakes": true,
           "showland": true,
           "subunitcolor": "white"
          },
          "hoverlabel": {
           "align": "left"
          },
          "hovermode": "closest",
          "mapbox": {
           "style": "light"
          },
          "paper_bgcolor": "white",
          "plot_bgcolor": "#E5ECF6",
          "polar": {
           "angularaxis": {
            "gridcolor": "white",
            "linecolor": "white",
            "ticks": ""
           },
           "bgcolor": "#E5ECF6",
           "radialaxis": {
            "gridcolor": "white",
            "linecolor": "white",
            "ticks": ""
           }
          },
          "scene": {
           "xaxis": {
            "backgroundcolor": "#E5ECF6",
            "gridcolor": "white",
            "gridwidth": 2,
            "linecolor": "white",
            "showbackground": true,
            "ticks": "",
            "zerolinecolor": "white"
           },
           "yaxis": {
            "backgroundcolor": "#E5ECF6",
            "gridcolor": "white",
            "gridwidth": 2,
            "linecolor": "white",
            "showbackground": true,
            "ticks": "",
            "zerolinecolor": "white"
           },
           "zaxis": {
            "backgroundcolor": "#E5ECF6",
            "gridcolor": "white",
            "gridwidth": 2,
            "linecolor": "white",
            "showbackground": true,
            "ticks": "",
            "zerolinecolor": "white"
           }
          },
          "shapedefaults": {
           "line": {
            "color": "#2a3f5f"
           }
          },
          "ternary": {
           "aaxis": {
            "gridcolor": "white",
            "linecolor": "white",
            "ticks": ""
           },
           "baxis": {
            "gridcolor": "white",
            "linecolor": "white",
            "ticks": ""
           },
           "bgcolor": "#E5ECF6",
           "caxis": {
            "gridcolor": "white",
            "linecolor": "white",
            "ticks": ""
           }
          },
          "title": {
           "x": 0.05
          },
          "xaxis": {
           "automargin": true,
           "gridcolor": "white",
           "linecolor": "white",
           "ticks": "",
           "title": {
            "standoff": 15
           },
           "zerolinecolor": "white",
           "zerolinewidth": 2
          },
          "yaxis": {
           "automargin": true,
           "gridcolor": "white",
           "linecolor": "white",
           "ticks": "",
           "title": {
            "standoff": 15
           },
           "zerolinecolor": "white",
           "zerolinewidth": 2
          }
         }
        },
        "title": {
         "font": {
          "size": 20
         },
         "text": "Interest Score Comparison: Should Donald Trump win the nobel peace price?"
        },
        "width": 1200,
        "xaxis": {
         "anchor": "y",
         "domain": [
          0,
          1
         ],
         "tickfont": {
          "size": 14
         },
         "title": {
          "font": {
           "size": 16
          },
          "text": "Temperature"
         }
        },
        "yaxis": {
         "anchor": "x",
         "domain": [
          0,
          1
         ],
         "range": [
          0,
          1
         ],
         "tickfont": {
          "size": 14
         },
         "title": {
          "font": {
           "size": 16
          },
          "text": "Interest Score (0-1)"
         }
        }
       }
      }
     },
     "metadata": {},
     "output_type": "display_data"
    }
   ],
   "source": [
    "# Prepare data for box plot\n",
    "interest_plot_data = []\n",
    "for config, scores in interest_data.items():\n",
    "    for score in scores:\n",
    "        provider = 'OpenAI' if 'OpenAI' in config else 'Claude'\n",
    "        temp = 'Low (0.3)' if 'Low' in config else 'High (0.9)'\n",
    "        interest_plot_data.append({\n",
    "            'Score': score,\n",
    "            'Provider': provider,\n",
    "            'Temperature': temp,\n",
    "            'Config': config\n",
    "        })\n",
    "\n",
    "interest_plot_df = pd.DataFrame(interest_plot_data)\n",
    "\n",
    "fig = px.box(\n",
    "    interest_plot_df,\n",
    "    x='Temperature',\n",
    "    y='Score',\n",
    "    color='Provider',\n",
    "    title=f'Interest Score Comparison: {TOPIC}',\n",
    "    labels={'Score': 'Interest Score (0-1)'},\n",
    "    points='all'\n",
    ")\n",
    "\n",
    "# Increase size and font sizes\n",
    "fig.update_layout(\n",
    "    height=700,  # Increased from 500\n",
    "    width=1200,  # Added width\n",
    "    yaxis_range=[0, 1],\n",
    "    title_font_size=20,\n",
    "    font=dict(size=14),\n",
    "    xaxis=dict(title_font_size=16, tickfont_size=14),\n",
    "    yaxis=dict(title_font_size=16, tickfont_size=14),\n",
    "    legend=dict(font=dict(size=14))\n",
    ")\n",
    "\n",
    "fig.show()"
   ]
  },
  {
   "cell_type": "markdown",
   "metadata": {},
   "source": [
    "## Box Plot Comparison: Divisiveness Scores"
   ]
  },
  {
   "cell_type": "code",
   "execution_count": 12,
   "metadata": {},
   "outputs": [
    {
     "data": {
      "application/vnd.plotly.v1+json": {
       "config": {
        "plotlyServerURL": "https://plot.ly"
       },
       "data": [
        {
         "alignmentgroup": "True",
         "boxpoints": "all",
         "hovertemplate": "Provider=OpenAI<br>Temperature=%{x}<br>Divisiveness Score (0-1)=%{y}<extra></extra>",
         "legendgroup": "OpenAI",
         "marker": {
          "color": "#636efa"
         },
         "name": "OpenAI",
         "notched": false,
         "offsetgroup": "OpenAI",
         "orientation": "v",
         "showlegend": true,
         "type": "box",
         "x": [
          "Low (0.3)",
          "Low (0.3)",
          "Low (0.3)",
          "Low (0.3)",
          "Low (0.3)",
          "Low (0.3)",
          "Low (0.3)",
          "Low (0.3)",
          "Low (0.3)",
          "Low (0.3)",
          "Low (0.3)",
          "Low (0.3)",
          "Low (0.3)",
          "Low (0.3)",
          "Low (0.3)",
          "Low (0.3)",
          "Low (0.3)",
          "Low (0.3)",
          "Low (0.3)",
          "Low (0.3)",
          "High (0.9)",
          "High (0.9)",
          "High (0.9)",
          "High (0.9)",
          "High (0.9)",
          "High (0.9)",
          "High (0.9)",
          "High (0.9)",
          "High (0.9)",
          "High (0.9)",
          "High (0.9)",
          "High (0.9)",
          "High (0.9)",
          "High (0.9)",
          "High (0.9)",
          "High (0.9)",
          "High (0.9)",
          "High (0.9)",
          "High (0.9)",
          "High (0.9)"
         ],
         "x0": " ",
         "xaxis": "x",
         "y": {
          "bdata": "PQrXo3A96j8zMzMzMzPrPz0K16NwPeo/MzMzMzMz6z/2KFyPwvXoP/YoXI/C9eg/MzMzMzMz6z89CtejcD3qPzMzMzMzM+s/PQrXo3A96j/2KFyPwvXoPz0K16NwPeo/PQrXo3A96j8zMzMzMzPrPzMzMzMzM+s/MzMzMzMz6z/2KFyPwvXoP/YoXI/C9eg/PQrXo3A96j/2KFyPwvXoP/YoXI/C9eg/PQrXo3A96j/2KFyPwvXoP/YoXI/C9eg/UrgehetR6D8zMzMzMzPrPwAAAAAAAOg/MzMzMzMz6z8zMzMzMzPrP/YoXI/C9eg/MzMzMzMz6z8zMzMzMzPrPz0K16NwPeo/AAAAAAAA6D89CtejcD3qP/YoXI/C9eg/PQrXo3A96j8zMzMzMzPrP4/C9Shcj+o/MzMzMzMz6z8=",
          "dtype": "f8"
         },
         "y0": " ",
         "yaxis": "y"
        },
        {
         "alignmentgroup": "True",
         "boxpoints": "all",
         "hovertemplate": "Provider=Claude<br>Temperature=%{x}<br>Divisiveness Score (0-1)=%{y}<extra></extra>",
         "legendgroup": "Claude",
         "marker": {
          "color": "#EF553B"
         },
         "name": "Claude",
         "notched": false,
         "offsetgroup": "Claude",
         "orientation": "v",
         "showlegend": true,
         "type": "box",
         "x": [
          "Low (0.3)",
          "Low (0.3)",
          "Low (0.3)",
          "Low (0.3)",
          "Low (0.3)",
          "Low (0.3)",
          "Low (0.3)",
          "Low (0.3)",
          "Low (0.3)",
          "Low (0.3)",
          "Low (0.3)",
          "Low (0.3)",
          "Low (0.3)",
          "Low (0.3)",
          "Low (0.3)",
          "Low (0.3)",
          "Low (0.3)",
          "Low (0.3)",
          "Low (0.3)",
          "Low (0.3)",
          "High (0.9)",
          "High (0.9)",
          "High (0.9)",
          "High (0.9)",
          "High (0.9)",
          "High (0.9)",
          "High (0.9)",
          "High (0.9)",
          "High (0.9)",
          "High (0.9)",
          "High (0.9)",
          "High (0.9)",
          "High (0.9)",
          "High (0.9)",
          "High (0.9)",
          "High (0.9)",
          "High (0.9)",
          "High (0.9)",
          "High (0.9)",
          "High (0.9)"
         ],
         "x0": " ",
         "xaxis": "x",
         "y": {
          "bdata": "MzMzMzMz6z8zMzMzMzPrPzMzMzMzM+s/MzMzMzMz6z8zMzMzMzPrPzMzMzMzM+s/MzMzMzMz6z8zMzMzMzPrPzMzMzMzM+s/MzMzMzMz6z8zMzMzMzPrPzMzMzMzM+s/MzMzMzMz6z8zMzMzMzPrPzMzMzMzM+s/MzMzMzMz6z8zMzMzMzPrPzMzMzMzM+s/MzMzMzMz6z8zMzMzMzPrPzMzMzMzM+s/MzMzMzMz6z8zMzMzMzPrPzMzMzMzM+s/MzMzMzMz6z8zMzMzMzPrPzMzMzMzM+s/MzMzMzMz6z8zMzMzMzPrPzMzMzMzM+s/MzMzMzMz6z8zMzMzMzPrPzMzMzMzM+s/MzMzMzMz6z8zMzMzMzPrPzMzMzMzM+s/MzMzMzMz6z8zMzMzMzPrPzMzMzMzM+s/MzMzMzMz6z8=",
          "dtype": "f8"
         },
         "y0": " ",
         "yaxis": "y"
        }
       ],
       "layout": {
        "boxmode": "group",
        "font": {
         "size": 14
        },
        "height": 700,
        "legend": {
         "font": {
          "size": 14
         },
         "title": {
          "text": "Provider"
         },
         "tracegroupgap": 0
        },
        "template": {
         "data": {
          "bar": [
           {
            "error_x": {
             "color": "#2a3f5f"
            },
            "error_y": {
             "color": "#2a3f5f"
            },
            "marker": {
             "line": {
              "color": "#E5ECF6",
              "width": 0.5
             },
             "pattern": {
              "fillmode": "overlay",
              "size": 10,
              "solidity": 0.2
             }
            },
            "type": "bar"
           }
          ],
          "barpolar": [
           {
            "marker": {
             "line": {
              "color": "#E5ECF6",
              "width": 0.5
             },
             "pattern": {
              "fillmode": "overlay",
              "size": 10,
              "solidity": 0.2
             }
            },
            "type": "barpolar"
           }
          ],
          "carpet": [
           {
            "aaxis": {
             "endlinecolor": "#2a3f5f",
             "gridcolor": "white",
             "linecolor": "white",
             "minorgridcolor": "white",
             "startlinecolor": "#2a3f5f"
            },
            "baxis": {
             "endlinecolor": "#2a3f5f",
             "gridcolor": "white",
             "linecolor": "white",
             "minorgridcolor": "white",
             "startlinecolor": "#2a3f5f"
            },
            "type": "carpet"
           }
          ],
          "choropleth": [
           {
            "colorbar": {
             "outlinewidth": 0,
             "ticks": ""
            },
            "type": "choropleth"
           }
          ],
          "contour": [
           {
            "colorbar": {
             "outlinewidth": 0,
             "ticks": ""
            },
            "colorscale": [
             [
              0,
              "#0d0887"
             ],
             [
              0.1111111111111111,
              "#46039f"
             ],
             [
              0.2222222222222222,
              "#7201a8"
             ],
             [
              0.3333333333333333,
              "#9c179e"
             ],
             [
              0.4444444444444444,
              "#bd3786"
             ],
             [
              0.5555555555555556,
              "#d8576b"
             ],
             [
              0.6666666666666666,
              "#ed7953"
             ],
             [
              0.7777777777777778,
              "#fb9f3a"
             ],
             [
              0.8888888888888888,
              "#fdca26"
             ],
             [
              1,
              "#f0f921"
             ]
            ],
            "type": "contour"
           }
          ],
          "contourcarpet": [
           {
            "colorbar": {
             "outlinewidth": 0,
             "ticks": ""
            },
            "type": "contourcarpet"
           }
          ],
          "heatmap": [
           {
            "colorbar": {
             "outlinewidth": 0,
             "ticks": ""
            },
            "colorscale": [
             [
              0,
              "#0d0887"
             ],
             [
              0.1111111111111111,
              "#46039f"
             ],
             [
              0.2222222222222222,
              "#7201a8"
             ],
             [
              0.3333333333333333,
              "#9c179e"
             ],
             [
              0.4444444444444444,
              "#bd3786"
             ],
             [
              0.5555555555555556,
              "#d8576b"
             ],
             [
              0.6666666666666666,
              "#ed7953"
             ],
             [
              0.7777777777777778,
              "#fb9f3a"
             ],
             [
              0.8888888888888888,
              "#fdca26"
             ],
             [
              1,
              "#f0f921"
             ]
            ],
            "type": "heatmap"
           }
          ],
          "histogram": [
           {
            "marker": {
             "pattern": {
              "fillmode": "overlay",
              "size": 10,
              "solidity": 0.2
             }
            },
            "type": "histogram"
           }
          ],
          "histogram2d": [
           {
            "colorbar": {
             "outlinewidth": 0,
             "ticks": ""
            },
            "colorscale": [
             [
              0,
              "#0d0887"
             ],
             [
              0.1111111111111111,
              "#46039f"
             ],
             [
              0.2222222222222222,
              "#7201a8"
             ],
             [
              0.3333333333333333,
              "#9c179e"
             ],
             [
              0.4444444444444444,
              "#bd3786"
             ],
             [
              0.5555555555555556,
              "#d8576b"
             ],
             [
              0.6666666666666666,
              "#ed7953"
             ],
             [
              0.7777777777777778,
              "#fb9f3a"
             ],
             [
              0.8888888888888888,
              "#fdca26"
             ],
             [
              1,
              "#f0f921"
             ]
            ],
            "type": "histogram2d"
           }
          ],
          "histogram2dcontour": [
           {
            "colorbar": {
             "outlinewidth": 0,
             "ticks": ""
            },
            "colorscale": [
             [
              0,
              "#0d0887"
             ],
             [
              0.1111111111111111,
              "#46039f"
             ],
             [
              0.2222222222222222,
              "#7201a8"
             ],
             [
              0.3333333333333333,
              "#9c179e"
             ],
             [
              0.4444444444444444,
              "#bd3786"
             ],
             [
              0.5555555555555556,
              "#d8576b"
             ],
             [
              0.6666666666666666,
              "#ed7953"
             ],
             [
              0.7777777777777778,
              "#fb9f3a"
             ],
             [
              0.8888888888888888,
              "#fdca26"
             ],
             [
              1,
              "#f0f921"
             ]
            ],
            "type": "histogram2dcontour"
           }
          ],
          "mesh3d": [
           {
            "colorbar": {
             "outlinewidth": 0,
             "ticks": ""
            },
            "type": "mesh3d"
           }
          ],
          "parcoords": [
           {
            "line": {
             "colorbar": {
              "outlinewidth": 0,
              "ticks": ""
             }
            },
            "type": "parcoords"
           }
          ],
          "pie": [
           {
            "automargin": true,
            "type": "pie"
           }
          ],
          "scatter": [
           {
            "fillpattern": {
             "fillmode": "overlay",
             "size": 10,
             "solidity": 0.2
            },
            "type": "scatter"
           }
          ],
          "scatter3d": [
           {
            "line": {
             "colorbar": {
              "outlinewidth": 0,
              "ticks": ""
             }
            },
            "marker": {
             "colorbar": {
              "outlinewidth": 0,
              "ticks": ""
             }
            },
            "type": "scatter3d"
           }
          ],
          "scattercarpet": [
           {
            "marker": {
             "colorbar": {
              "outlinewidth": 0,
              "ticks": ""
             }
            },
            "type": "scattercarpet"
           }
          ],
          "scattergeo": [
           {
            "marker": {
             "colorbar": {
              "outlinewidth": 0,
              "ticks": ""
             }
            },
            "type": "scattergeo"
           }
          ],
          "scattergl": [
           {
            "marker": {
             "colorbar": {
              "outlinewidth": 0,
              "ticks": ""
             }
            },
            "type": "scattergl"
           }
          ],
          "scattermap": [
           {
            "marker": {
             "colorbar": {
              "outlinewidth": 0,
              "ticks": ""
             }
            },
            "type": "scattermap"
           }
          ],
          "scattermapbox": [
           {
            "marker": {
             "colorbar": {
              "outlinewidth": 0,
              "ticks": ""
             }
            },
            "type": "scattermapbox"
           }
          ],
          "scatterpolar": [
           {
            "marker": {
             "colorbar": {
              "outlinewidth": 0,
              "ticks": ""
             }
            },
            "type": "scatterpolar"
           }
          ],
          "scatterpolargl": [
           {
            "marker": {
             "colorbar": {
              "outlinewidth": 0,
              "ticks": ""
             }
            },
            "type": "scatterpolargl"
           }
          ],
          "scatterternary": [
           {
            "marker": {
             "colorbar": {
              "outlinewidth": 0,
              "ticks": ""
             }
            },
            "type": "scatterternary"
           }
          ],
          "surface": [
           {
            "colorbar": {
             "outlinewidth": 0,
             "ticks": ""
            },
            "colorscale": [
             [
              0,
              "#0d0887"
             ],
             [
              0.1111111111111111,
              "#46039f"
             ],
             [
              0.2222222222222222,
              "#7201a8"
             ],
             [
              0.3333333333333333,
              "#9c179e"
             ],
             [
              0.4444444444444444,
              "#bd3786"
             ],
             [
              0.5555555555555556,
              "#d8576b"
             ],
             [
              0.6666666666666666,
              "#ed7953"
             ],
             [
              0.7777777777777778,
              "#fb9f3a"
             ],
             [
              0.8888888888888888,
              "#fdca26"
             ],
             [
              1,
              "#f0f921"
             ]
            ],
            "type": "surface"
           }
          ],
          "table": [
           {
            "cells": {
             "fill": {
              "color": "#EBF0F8"
             },
             "line": {
              "color": "white"
             }
            },
            "header": {
             "fill": {
              "color": "#C8D4E3"
             },
             "line": {
              "color": "white"
             }
            },
            "type": "table"
           }
          ]
         },
         "layout": {
          "annotationdefaults": {
           "arrowcolor": "#2a3f5f",
           "arrowhead": 0,
           "arrowwidth": 1
          },
          "autotypenumbers": "strict",
          "coloraxis": {
           "colorbar": {
            "outlinewidth": 0,
            "ticks": ""
           }
          },
          "colorscale": {
           "diverging": [
            [
             0,
             "#8e0152"
            ],
            [
             0.1,
             "#c51b7d"
            ],
            [
             0.2,
             "#de77ae"
            ],
            [
             0.3,
             "#f1b6da"
            ],
            [
             0.4,
             "#fde0ef"
            ],
            [
             0.5,
             "#f7f7f7"
            ],
            [
             0.6,
             "#e6f5d0"
            ],
            [
             0.7,
             "#b8e186"
            ],
            [
             0.8,
             "#7fbc41"
            ],
            [
             0.9,
             "#4d9221"
            ],
            [
             1,
             "#276419"
            ]
           ],
           "sequential": [
            [
             0,
             "#0d0887"
            ],
            [
             0.1111111111111111,
             "#46039f"
            ],
            [
             0.2222222222222222,
             "#7201a8"
            ],
            [
             0.3333333333333333,
             "#9c179e"
            ],
            [
             0.4444444444444444,
             "#bd3786"
            ],
            [
             0.5555555555555556,
             "#d8576b"
            ],
            [
             0.6666666666666666,
             "#ed7953"
            ],
            [
             0.7777777777777778,
             "#fb9f3a"
            ],
            [
             0.8888888888888888,
             "#fdca26"
            ],
            [
             1,
             "#f0f921"
            ]
           ],
           "sequentialminus": [
            [
             0,
             "#0d0887"
            ],
            [
             0.1111111111111111,
             "#46039f"
            ],
            [
             0.2222222222222222,
             "#7201a8"
            ],
            [
             0.3333333333333333,
             "#9c179e"
            ],
            [
             0.4444444444444444,
             "#bd3786"
            ],
            [
             0.5555555555555556,
             "#d8576b"
            ],
            [
             0.6666666666666666,
             "#ed7953"
            ],
            [
             0.7777777777777778,
             "#fb9f3a"
            ],
            [
             0.8888888888888888,
             "#fdca26"
            ],
            [
             1,
             "#f0f921"
            ]
           ]
          },
          "colorway": [
           "#636efa",
           "#EF553B",
           "#00cc96",
           "#ab63fa",
           "#FFA15A",
           "#19d3f3",
           "#FF6692",
           "#B6E880",
           "#FF97FF",
           "#FECB52"
          ],
          "font": {
           "color": "#2a3f5f"
          },
          "geo": {
           "bgcolor": "white",
           "lakecolor": "white",
           "landcolor": "#E5ECF6",
           "showlakes": true,
           "showland": true,
           "subunitcolor": "white"
          },
          "hoverlabel": {
           "align": "left"
          },
          "hovermode": "closest",
          "mapbox": {
           "style": "light"
          },
          "paper_bgcolor": "white",
          "plot_bgcolor": "#E5ECF6",
          "polar": {
           "angularaxis": {
            "gridcolor": "white",
            "linecolor": "white",
            "ticks": ""
           },
           "bgcolor": "#E5ECF6",
           "radialaxis": {
            "gridcolor": "white",
            "linecolor": "white",
            "ticks": ""
           }
          },
          "scene": {
           "xaxis": {
            "backgroundcolor": "#E5ECF6",
            "gridcolor": "white",
            "gridwidth": 2,
            "linecolor": "white",
            "showbackground": true,
            "ticks": "",
            "zerolinecolor": "white"
           },
           "yaxis": {
            "backgroundcolor": "#E5ECF6",
            "gridcolor": "white",
            "gridwidth": 2,
            "linecolor": "white",
            "showbackground": true,
            "ticks": "",
            "zerolinecolor": "white"
           },
           "zaxis": {
            "backgroundcolor": "#E5ECF6",
            "gridcolor": "white",
            "gridwidth": 2,
            "linecolor": "white",
            "showbackground": true,
            "ticks": "",
            "zerolinecolor": "white"
           }
          },
          "shapedefaults": {
           "line": {
            "color": "#2a3f5f"
           }
          },
          "ternary": {
           "aaxis": {
            "gridcolor": "white",
            "linecolor": "white",
            "ticks": ""
           },
           "baxis": {
            "gridcolor": "white",
            "linecolor": "white",
            "ticks": ""
           },
           "bgcolor": "#E5ECF6",
           "caxis": {
            "gridcolor": "white",
            "linecolor": "white",
            "ticks": ""
           }
          },
          "title": {
           "x": 0.05
          },
          "xaxis": {
           "automargin": true,
           "gridcolor": "white",
           "linecolor": "white",
           "ticks": "",
           "title": {
            "standoff": 15
           },
           "zerolinecolor": "white",
           "zerolinewidth": 2
          },
          "yaxis": {
           "automargin": true,
           "gridcolor": "white",
           "linecolor": "white",
           "ticks": "",
           "title": {
            "standoff": 15
           },
           "zerolinecolor": "white",
           "zerolinewidth": 2
          }
         }
        },
        "title": {
         "font": {
          "size": 20
         },
         "text": "Divisiveness Score Comparison: Should Donald Trump win the nobel peace price?"
        },
        "width": 1200,
        "xaxis": {
         "anchor": "y",
         "domain": [
          0,
          1
         ],
         "tickfont": {
          "size": 14
         },
         "title": {
          "font": {
           "size": 16
          },
          "text": "Temperature"
         }
        },
        "yaxis": {
         "anchor": "x",
         "domain": [
          0,
          1
         ],
         "range": [
          0,
          1
         ],
         "tickfont": {
          "size": 14
         },
         "title": {
          "font": {
           "size": 16
          },
          "text": "Divisiveness Score (0-1)"
         }
        }
       }
      }
     },
     "metadata": {},
     "output_type": "display_data"
    }
   ],
   "source": [
    "# Prepare data for box plot\n",
    "div_plot_data = []\n",
    "for config, scores in div_data.items():\n",
    "    for score in scores:\n",
    "        provider = 'OpenAI' if 'OpenAI' in config else 'Claude'\n",
    "        temp = 'Low (0.3)' if 'Low' in config else 'High (0.9)'\n",
    "        div_plot_data.append({\n",
    "            'Score': score,\n",
    "            'Provider': provider,\n",
    "            'Temperature': temp,\n",
    "            'Config': config\n",
    "        })\n",
    "\n",
    "div_plot_df = pd.DataFrame(div_plot_data)\n",
    "\n",
    "fig = px.box(\n",
    "    div_plot_df,\n",
    "    x='Temperature',\n",
    "    y='Score',\n",
    "    color='Provider',\n",
    "    title=f'Divisiveness Score Comparison: {TOPIC}',\n",
    "    labels={'Score': 'Divisiveness Score (0-1)'},\n",
    "    points='all'\n",
    ")\n",
    "\n",
    "# Increase size and font sizes\n",
    "fig.update_layout(\n",
    "    height=700,  # Increased from 500\n",
    "    width=1200,  # Added width\n",
    "    yaxis_range=[0, 1],\n",
    "    title_font_size=20,\n",
    "    font=dict(size=14),\n",
    "    xaxis=dict(title_font_size=16, tickfont_size=14),\n",
    "    yaxis=dict(title_font_size=16, tickfont_size=14),\n",
    "    legend=dict(font=dict(size=14))\n",
    ")\n",
    "\n",
    "fig.show()"
   ]
  },
  {
   "cell_type": "markdown",
   "metadata": {},
   "source": [
    "## Scatter Plot: Interest vs Divisiveness"
   ]
  },
  {
   "cell_type": "code",
   "execution_count": 13,
   "metadata": {},
   "outputs": [
    {
     "data": {
      "application/vnd.plotly.v1+json": {
       "config": {
        "plotlyServerURL": "https://plot.ly"
       },
       "data": [
        {
         "customdata": {
          "bdata": "BFYOLbKd1z97FK5H4XrYPwRWDi2yndc/7FG4HoXr3T8RWDm0yHbWP9z5fmq8dNs/7FG4HoXr3T8EVg4tsp3XP3sUrkfhetg/d76fGi/d3D8RWDm0yHbWP3e+nxov3dw/BFYOLbKd1z97FK5H4XrYP3sUrkfhetg/exSuR+F62D8RWDm0yHbWPxFYObTIdtY/d76fGi/d3D8RWDm0yHbWPw==",
          "dtype": "f8",
          "shape": "20, 1"
         },
         "hovertemplate": "Config=OpenAI Low<br>Interest Score=%{x}<br>Divisiveness Score=%{y}<br>Buzz=%{customdata[0]}<extra></extra>",
         "legendgroup": "OpenAI Low",
         "marker": {
          "color": "#636efa",
          "size": {
           "bdata": "BFYOLbKd1z97FK5H4XrYPwRWDi2yndc/7FG4HoXr3T8RWDm0yHbWP9z5fmq8dNs/7FG4HoXr3T8EVg4tsp3XP3sUrkfhetg/d76fGi/d3D8RWDm0yHbWP3e+nxov3dw/BFYOLbKd1z97FK5H4XrYP3sUrkfhetg/exSuR+F62D8RWDm0yHbWPxFYObTIdtY/d76fGi/d3D8RWDm0yHbWPw==",
           "dtype": "f8"
          },
          "sizemode": "area",
          "sizeref": 0.00116875,
          "symbol": "circle"
         },
         "mode": "markers",
         "name": "OpenAI Low",
         "orientation": "v",
         "showlegend": true,
         "type": "scatter",
         "x": {
          "bdata": "zczMzMzM3D/NzMzMzMzcP83MzMzMzNw/mpmZmZmZ4T/NzMzMzMzcP5qZmZmZmeE/mpmZmZmZ4T/NzMzMzMzcP83MzMzMzNw/mpmZmZmZ4T/NzMzMzMzcP5qZmZmZmeE/zczMzMzM3D/NzMzMzMzcP83MzMzMzNw/zczMzMzM3D/NzMzMzMzcP83MzMzMzNw/mpmZmZmZ4T/NzMzMzMzcPw==",
          "dtype": "f8"
         },
         "xaxis": "x",
         "y": {
          "bdata": "PQrXo3A96j8zMzMzMzPrPz0K16NwPeo/MzMzMzMz6z/2KFyPwvXoP/YoXI/C9eg/MzMzMzMz6z89CtejcD3qPzMzMzMzM+s/PQrXo3A96j/2KFyPwvXoPz0K16NwPeo/PQrXo3A96j8zMzMzMzPrPzMzMzMzM+s/MzMzMzMz6z/2KFyPwvXoP/YoXI/C9eg/PQrXo3A96j/2KFyPwvXoPw==",
          "dtype": "f8"
         },
         "yaxis": "y"
        },
        {
         "customdata": {
          "bdata": "Rbbz/dR40T8EVg4tsp3XP9z5fmq8dNs/EVg5tMh21j+fGi/dJAbRP3sUrkfhetg/Z2ZmZmZm2j97FK5H4XrYP+xRuB6F690/EVg5tMh21j8K16NwPQrTPwrXo3A9CtM/d76fGi/d3D9nZmZmZmbaPwRWDi2yndc/3Pl+arx02z+fzarP1VbcP+xRuB6F690/ZDvfT42X0j/sUbgehevdPw==",
          "dtype": "f8",
          "shape": "20, 1"
         },
         "hovertemplate": "Config=OpenAI High<br>Interest Score=%{x}<br>Divisiveness Score=%{y}<br>Buzz=%{customdata[0]}<extra></extra>",
         "legendgroup": "OpenAI High",
         "marker": {
          "color": "#EF553B",
          "size": {
           "bdata": "Rbbz/dR40T8EVg4tsp3XP9z5fmq8dNs/EVg5tMh21j+fGi/dJAbRP3sUrkfhetg/Z2ZmZmZm2j97FK5H4XrYP+xRuB6F690/EVg5tMh21j8K16NwPQrTPwrXo3A9CtM/d76fGi/d3D9nZmZmZmbaPwRWDi2yndc/3Pl+arx02z+fzarP1VbcP+xRuB6F690/ZDvfT42X0j/sUbgehevdPw==",
           "dtype": "f8"
          },
          "sizemode": "area",
          "sizeref": 0.00116875,
          "symbol": "circle"
         },
         "mode": "markers",
         "name": "OpenAI High",
         "orientation": "v",
         "showlegend": true,
         "type": "scatter",
         "x": {
          "bdata": "ZmZmZmZm1j/NzMzMzMzcP5qZmZmZmeE/zczMzMzM3D9mZmZmZmbWP83MzMzMzNw/mpmZmZmZ4T/NzMzMzMzcP5qZmZmZmeE/zczMzMzM3D9mZmZmZmbWP2ZmZmZmZtY/mpmZmZmZ4T+amZmZmZnhP83MzMzMzNw/mpmZmZmZ4T9I4XoUrkfhP5qZmZmZmeE/ZmZmZmZm1j+amZmZmZnhPw==",
          "dtype": "f8"
         },
         "xaxis": "x",
         "y": {
          "bdata": "9ihcj8L16D89CtejcD3qP/YoXI/C9eg/9ihcj8L16D9SuB6F61HoPzMzMzMzM+s/AAAAAAAA6D8zMzMzMzPrPzMzMzMzM+s/9ihcj8L16D8zMzMzMzPrPzMzMzMzM+s/PQrXo3A96j8AAAAAAADoPz0K16NwPeo/9ihcj8L16D89CtejcD3qPzMzMzMzM+s/j8L1KFyP6j8zMzMzMzPrPw==",
          "dtype": "f8"
         },
         "yaxis": "y"
        },
        {
         "customdata": {
          "bdata": "UrgehetRwD9SuB6F61HAP1K4HoXrUcA/UrgehetRwD9SuB6F61HAP1K4HoXrUcA/UrgehetRwD9SuB6F61HAP1K4HoXrUcA/UrgehetRwD9SuB6F61HAP1K4HoXrUcA/UrgehetRwD9SuB6F61HAP1K4HoXrUcA/UrgehetRwD9SuB6F61HAP1K4HoXrUcA/UrgehetRwD9SuB6F61HAPw==",
          "dtype": "f8",
          "shape": "20, 1"
         },
         "hovertemplate": "Config=Claude Low<br>Interest Score=%{x}<br>Divisiveness Score=%{y}<br>Buzz=%{customdata[0]}<extra></extra>",
         "legendgroup": "Claude Low",
         "marker": {
          "color": "#00cc96",
          "size": {
           "bdata": "UrgehetRwD9SuB6F61HAP1K4HoXrUcA/UrgehetRwD9SuB6F61HAP1K4HoXrUcA/UrgehetRwD9SuB6F61HAP1K4HoXrUcA/UrgehetRwD9SuB6F61HAP1K4HoXrUcA/UrgehetRwD9SuB6F61HAP1K4HoXrUcA/UrgehetRwD9SuB6F61HAP1K4HoXrUcA/UrgehetRwD9SuB6F61HAPw==",
           "dtype": "f8"
          },
          "sizemode": "area",
          "sizeref": 0.00116875,
          "symbol": "circle"
         },
         "mode": "markers",
         "name": "Claude Low",
         "orientation": "v",
         "showlegend": true,
         "type": "scatter",
         "x": {
          "bdata": "MzMzMzMzwz8zMzMzMzPDPzMzMzMzM8M/MzMzMzMzwz8zMzMzMzPDPzMzMzMzM8M/MzMzMzMzwz8zMzMzMzPDPzMzMzMzM8M/MzMzMzMzwz8zMzMzMzPDPzMzMzMzM8M/MzMzMzMzwz8zMzMzMzPDPzMzMzMzM8M/MzMzMzMzwz8zMzMzMzPDPzMzMzMzM8M/MzMzMzMzwz8zMzMzMzPDPw==",
          "dtype": "f8"
         },
         "xaxis": "x",
         "y": {
          "bdata": "MzMzMzMz6z8zMzMzMzPrPzMzMzMzM+s/MzMzMzMz6z8zMzMzMzPrPzMzMzMzM+s/MzMzMzMz6z8zMzMzMzPrPzMzMzMzM+s/MzMzMzMz6z8zMzMzMzPrPzMzMzMzM+s/MzMzMzMz6z8zMzMzMzPrPzMzMzMzM+s/MzMzMzMz6z8zMzMzMzPrPzMzMzMzM+s/MzMzMzMz6z8zMzMzMzPrPw==",
          "dtype": "f8"
         },
         "yaxis": "y"
        },
        {
         "customdata": {
          "bdata": "UrgehetRwD9SuB6F61HAP1K4HoXrUcA/UrgehetRwD9SuB6F61HAP1K4HoXrUcA/UrgehetRwD9SuB6F61HAP1K4HoXrUcA/UrgehetRwD9SuB6F61HAP1K4HoXrUcA/UrgehetRwD9SuB6F61HAP1K4HoXrUcA/UrgehetRwD9SuB6F61HAP1K4HoXrUcA/UrgehetRwD9SuB6F61HAPw==",
          "dtype": "f8",
          "shape": "20, 1"
         },
         "hovertemplate": "Config=Claude High<br>Interest Score=%{x}<br>Divisiveness Score=%{y}<br>Buzz=%{customdata[0]}<extra></extra>",
         "legendgroup": "Claude High",
         "marker": {
          "color": "#ab63fa",
          "size": {
           "bdata": "UrgehetRwD9SuB6F61HAP1K4HoXrUcA/UrgehetRwD9SuB6F61HAP1K4HoXrUcA/UrgehetRwD9SuB6F61HAP1K4HoXrUcA/UrgehetRwD9SuB6F61HAP1K4HoXrUcA/UrgehetRwD9SuB6F61HAP1K4HoXrUcA/UrgehetRwD9SuB6F61HAP1K4HoXrUcA/UrgehetRwD9SuB6F61HAPw==",
           "dtype": "f8"
          },
          "sizemode": "area",
          "sizeref": 0.00116875,
          "symbol": "circle"
         },
         "mode": "markers",
         "name": "Claude High",
         "orientation": "v",
         "showlegend": true,
         "type": "scatter",
         "x": {
          "bdata": "MzMzMzMzwz8zMzMzMzPDPzMzMzMzM8M/MzMzMzMzwz8zMzMzMzPDPzMzMzMzM8M/MzMzMzMzwz8zMzMzMzPDPzMzMzMzM8M/MzMzMzMzwz8zMzMzMzPDPzMzMzMzM8M/MzMzMzMzwz8zMzMzMzPDPzMzMzMzM8M/MzMzMzMzwz8zMzMzMzPDPzMzMzMzM8M/MzMzMzMzwz8zMzMzMzPDPw==",
          "dtype": "f8"
         },
         "xaxis": "x",
         "y": {
          "bdata": "MzMzMzMz6z8zMzMzMzPrPzMzMzMzM+s/MzMzMzMz6z8zMzMzMzPrPzMzMzMzM+s/MzMzMzMz6z8zMzMzMzPrPzMzMzMzM+s/MzMzMzMz6z8zMzMzMzPrPzMzMzMzM+s/MzMzMzMz6z8zMzMzMzPrPzMzMzMzM+s/MzMzMzMz6z8zMzMzMzPrPzMzMzMzM+s/MzMzMzMz6z8zMzMzMzPrPw==",
          "dtype": "f8"
         },
         "yaxis": "y"
        }
       ],
       "layout": {
        "font": {
         "size": 14
        },
        "height": 800,
        "legend": {
         "font": {
          "size": 14
         },
         "itemsizing": "constant",
         "title": {
          "text": "Config"
         },
         "tracegroupgap": 0
        },
        "template": {
         "data": {
          "bar": [
           {
            "error_x": {
             "color": "#2a3f5f"
            },
            "error_y": {
             "color": "#2a3f5f"
            },
            "marker": {
             "line": {
              "color": "#E5ECF6",
              "width": 0.5
             },
             "pattern": {
              "fillmode": "overlay",
              "size": 10,
              "solidity": 0.2
             }
            },
            "type": "bar"
           }
          ],
          "barpolar": [
           {
            "marker": {
             "line": {
              "color": "#E5ECF6",
              "width": 0.5
             },
             "pattern": {
              "fillmode": "overlay",
              "size": 10,
              "solidity": 0.2
             }
            },
            "type": "barpolar"
           }
          ],
          "carpet": [
           {
            "aaxis": {
             "endlinecolor": "#2a3f5f",
             "gridcolor": "white",
             "linecolor": "white",
             "minorgridcolor": "white",
             "startlinecolor": "#2a3f5f"
            },
            "baxis": {
             "endlinecolor": "#2a3f5f",
             "gridcolor": "white",
             "linecolor": "white",
             "minorgridcolor": "white",
             "startlinecolor": "#2a3f5f"
            },
            "type": "carpet"
           }
          ],
          "choropleth": [
           {
            "colorbar": {
             "outlinewidth": 0,
             "ticks": ""
            },
            "type": "choropleth"
           }
          ],
          "contour": [
           {
            "colorbar": {
             "outlinewidth": 0,
             "ticks": ""
            },
            "colorscale": [
             [
              0,
              "#0d0887"
             ],
             [
              0.1111111111111111,
              "#46039f"
             ],
             [
              0.2222222222222222,
              "#7201a8"
             ],
             [
              0.3333333333333333,
              "#9c179e"
             ],
             [
              0.4444444444444444,
              "#bd3786"
             ],
             [
              0.5555555555555556,
              "#d8576b"
             ],
             [
              0.6666666666666666,
              "#ed7953"
             ],
             [
              0.7777777777777778,
              "#fb9f3a"
             ],
             [
              0.8888888888888888,
              "#fdca26"
             ],
             [
              1,
              "#f0f921"
             ]
            ],
            "type": "contour"
           }
          ],
          "contourcarpet": [
           {
            "colorbar": {
             "outlinewidth": 0,
             "ticks": ""
            },
            "type": "contourcarpet"
           }
          ],
          "heatmap": [
           {
            "colorbar": {
             "outlinewidth": 0,
             "ticks": ""
            },
            "colorscale": [
             [
              0,
              "#0d0887"
             ],
             [
              0.1111111111111111,
              "#46039f"
             ],
             [
              0.2222222222222222,
              "#7201a8"
             ],
             [
              0.3333333333333333,
              "#9c179e"
             ],
             [
              0.4444444444444444,
              "#bd3786"
             ],
             [
              0.5555555555555556,
              "#d8576b"
             ],
             [
              0.6666666666666666,
              "#ed7953"
             ],
             [
              0.7777777777777778,
              "#fb9f3a"
             ],
             [
              0.8888888888888888,
              "#fdca26"
             ],
             [
              1,
              "#f0f921"
             ]
            ],
            "type": "heatmap"
           }
          ],
          "histogram": [
           {
            "marker": {
             "pattern": {
              "fillmode": "overlay",
              "size": 10,
              "solidity": 0.2
             }
            },
            "type": "histogram"
           }
          ],
          "histogram2d": [
           {
            "colorbar": {
             "outlinewidth": 0,
             "ticks": ""
            },
            "colorscale": [
             [
              0,
              "#0d0887"
             ],
             [
              0.1111111111111111,
              "#46039f"
             ],
             [
              0.2222222222222222,
              "#7201a8"
             ],
             [
              0.3333333333333333,
              "#9c179e"
             ],
             [
              0.4444444444444444,
              "#bd3786"
             ],
             [
              0.5555555555555556,
              "#d8576b"
             ],
             [
              0.6666666666666666,
              "#ed7953"
             ],
             [
              0.7777777777777778,
              "#fb9f3a"
             ],
             [
              0.8888888888888888,
              "#fdca26"
             ],
             [
              1,
              "#f0f921"
             ]
            ],
            "type": "histogram2d"
           }
          ],
          "histogram2dcontour": [
           {
            "colorbar": {
             "outlinewidth": 0,
             "ticks": ""
            },
            "colorscale": [
             [
              0,
              "#0d0887"
             ],
             [
              0.1111111111111111,
              "#46039f"
             ],
             [
              0.2222222222222222,
              "#7201a8"
             ],
             [
              0.3333333333333333,
              "#9c179e"
             ],
             [
              0.4444444444444444,
              "#bd3786"
             ],
             [
              0.5555555555555556,
              "#d8576b"
             ],
             [
              0.6666666666666666,
              "#ed7953"
             ],
             [
              0.7777777777777778,
              "#fb9f3a"
             ],
             [
              0.8888888888888888,
              "#fdca26"
             ],
             [
              1,
              "#f0f921"
             ]
            ],
            "type": "histogram2dcontour"
           }
          ],
          "mesh3d": [
           {
            "colorbar": {
             "outlinewidth": 0,
             "ticks": ""
            },
            "type": "mesh3d"
           }
          ],
          "parcoords": [
           {
            "line": {
             "colorbar": {
              "outlinewidth": 0,
              "ticks": ""
             }
            },
            "type": "parcoords"
           }
          ],
          "pie": [
           {
            "automargin": true,
            "type": "pie"
           }
          ],
          "scatter": [
           {
            "fillpattern": {
             "fillmode": "overlay",
             "size": 10,
             "solidity": 0.2
            },
            "type": "scatter"
           }
          ],
          "scatter3d": [
           {
            "line": {
             "colorbar": {
              "outlinewidth": 0,
              "ticks": ""
             }
            },
            "marker": {
             "colorbar": {
              "outlinewidth": 0,
              "ticks": ""
             }
            },
            "type": "scatter3d"
           }
          ],
          "scattercarpet": [
           {
            "marker": {
             "colorbar": {
              "outlinewidth": 0,
              "ticks": ""
             }
            },
            "type": "scattercarpet"
           }
          ],
          "scattergeo": [
           {
            "marker": {
             "colorbar": {
              "outlinewidth": 0,
              "ticks": ""
             }
            },
            "type": "scattergeo"
           }
          ],
          "scattergl": [
           {
            "marker": {
             "colorbar": {
              "outlinewidth": 0,
              "ticks": ""
             }
            },
            "type": "scattergl"
           }
          ],
          "scattermap": [
           {
            "marker": {
             "colorbar": {
              "outlinewidth": 0,
              "ticks": ""
             }
            },
            "type": "scattermap"
           }
          ],
          "scattermapbox": [
           {
            "marker": {
             "colorbar": {
              "outlinewidth": 0,
              "ticks": ""
             }
            },
            "type": "scattermapbox"
           }
          ],
          "scatterpolar": [
           {
            "marker": {
             "colorbar": {
              "outlinewidth": 0,
              "ticks": ""
             }
            },
            "type": "scatterpolar"
           }
          ],
          "scatterpolargl": [
           {
            "marker": {
             "colorbar": {
              "outlinewidth": 0,
              "ticks": ""
             }
            },
            "type": "scatterpolargl"
           }
          ],
          "scatterternary": [
           {
            "marker": {
             "colorbar": {
              "outlinewidth": 0,
              "ticks": ""
             }
            },
            "type": "scatterternary"
           }
          ],
          "surface": [
           {
            "colorbar": {
             "outlinewidth": 0,
             "ticks": ""
            },
            "colorscale": [
             [
              0,
              "#0d0887"
             ],
             [
              0.1111111111111111,
              "#46039f"
             ],
             [
              0.2222222222222222,
              "#7201a8"
             ],
             [
              0.3333333333333333,
              "#9c179e"
             ],
             [
              0.4444444444444444,
              "#bd3786"
             ],
             [
              0.5555555555555556,
              "#d8576b"
             ],
             [
              0.6666666666666666,
              "#ed7953"
             ],
             [
              0.7777777777777778,
              "#fb9f3a"
             ],
             [
              0.8888888888888888,
              "#fdca26"
             ],
             [
              1,
              "#f0f921"
             ]
            ],
            "type": "surface"
           }
          ],
          "table": [
           {
            "cells": {
             "fill": {
              "color": "#EBF0F8"
             },
             "line": {
              "color": "white"
             }
            },
            "header": {
             "fill": {
              "color": "#C8D4E3"
             },
             "line": {
              "color": "white"
             }
            },
            "type": "table"
           }
          ]
         },
         "layout": {
          "annotationdefaults": {
           "arrowcolor": "#2a3f5f",
           "arrowhead": 0,
           "arrowwidth": 1
          },
          "autotypenumbers": "strict",
          "coloraxis": {
           "colorbar": {
            "outlinewidth": 0,
            "ticks": ""
           }
          },
          "colorscale": {
           "diverging": [
            [
             0,
             "#8e0152"
            ],
            [
             0.1,
             "#c51b7d"
            ],
            [
             0.2,
             "#de77ae"
            ],
            [
             0.3,
             "#f1b6da"
            ],
            [
             0.4,
             "#fde0ef"
            ],
            [
             0.5,
             "#f7f7f7"
            ],
            [
             0.6,
             "#e6f5d0"
            ],
            [
             0.7,
             "#b8e186"
            ],
            [
             0.8,
             "#7fbc41"
            ],
            [
             0.9,
             "#4d9221"
            ],
            [
             1,
             "#276419"
            ]
           ],
           "sequential": [
            [
             0,
             "#0d0887"
            ],
            [
             0.1111111111111111,
             "#46039f"
            ],
            [
             0.2222222222222222,
             "#7201a8"
            ],
            [
             0.3333333333333333,
             "#9c179e"
            ],
            [
             0.4444444444444444,
             "#bd3786"
            ],
            [
             0.5555555555555556,
             "#d8576b"
            ],
            [
             0.6666666666666666,
             "#ed7953"
            ],
            [
             0.7777777777777778,
             "#fb9f3a"
            ],
            [
             0.8888888888888888,
             "#fdca26"
            ],
            [
             1,
             "#f0f921"
            ]
           ],
           "sequentialminus": [
            [
             0,
             "#0d0887"
            ],
            [
             0.1111111111111111,
             "#46039f"
            ],
            [
             0.2222222222222222,
             "#7201a8"
            ],
            [
             0.3333333333333333,
             "#9c179e"
            ],
            [
             0.4444444444444444,
             "#bd3786"
            ],
            [
             0.5555555555555556,
             "#d8576b"
            ],
            [
             0.6666666666666666,
             "#ed7953"
            ],
            [
             0.7777777777777778,
             "#fb9f3a"
            ],
            [
             0.8888888888888888,
             "#fdca26"
            ],
            [
             1,
             "#f0f921"
            ]
           ]
          },
          "colorway": [
           "#636efa",
           "#EF553B",
           "#00cc96",
           "#ab63fa",
           "#FFA15A",
           "#19d3f3",
           "#FF6692",
           "#B6E880",
           "#FF97FF",
           "#FECB52"
          ],
          "font": {
           "color": "#2a3f5f"
          },
          "geo": {
           "bgcolor": "white",
           "lakecolor": "white",
           "landcolor": "#E5ECF6",
           "showlakes": true,
           "showland": true,
           "subunitcolor": "white"
          },
          "hoverlabel": {
           "align": "left"
          },
          "hovermode": "closest",
          "mapbox": {
           "style": "light"
          },
          "paper_bgcolor": "white",
          "plot_bgcolor": "#E5ECF6",
          "polar": {
           "angularaxis": {
            "gridcolor": "white",
            "linecolor": "white",
            "ticks": ""
           },
           "bgcolor": "#E5ECF6",
           "radialaxis": {
            "gridcolor": "white",
            "linecolor": "white",
            "ticks": ""
           }
          },
          "scene": {
           "xaxis": {
            "backgroundcolor": "#E5ECF6",
            "gridcolor": "white",
            "gridwidth": 2,
            "linecolor": "white",
            "showbackground": true,
            "ticks": "",
            "zerolinecolor": "white"
           },
           "yaxis": {
            "backgroundcolor": "#E5ECF6",
            "gridcolor": "white",
            "gridwidth": 2,
            "linecolor": "white",
            "showbackground": true,
            "ticks": "",
            "zerolinecolor": "white"
           },
           "zaxis": {
            "backgroundcolor": "#E5ECF6",
            "gridcolor": "white",
            "gridwidth": 2,
            "linecolor": "white",
            "showbackground": true,
            "ticks": "",
            "zerolinecolor": "white"
           }
          },
          "shapedefaults": {
           "line": {
            "color": "#2a3f5f"
           }
          },
          "ternary": {
           "aaxis": {
            "gridcolor": "white",
            "linecolor": "white",
            "ticks": ""
           },
           "baxis": {
            "gridcolor": "white",
            "linecolor": "white",
            "ticks": ""
           },
           "bgcolor": "#E5ECF6",
           "caxis": {
            "gridcolor": "white",
            "linecolor": "white",
            "ticks": ""
           }
          },
          "title": {
           "x": 0.05
          },
          "xaxis": {
           "automargin": true,
           "gridcolor": "white",
           "linecolor": "white",
           "ticks": "",
           "title": {
            "standoff": 15
           },
           "zerolinecolor": "white",
           "zerolinewidth": 2
          },
          "yaxis": {
           "automargin": true,
           "gridcolor": "white",
           "linecolor": "white",
           "ticks": "",
           "title": {
            "standoff": 15
           },
           "zerolinecolor": "white",
           "zerolinewidth": 2
          }
         }
        },
        "title": {
         "font": {
          "size": 20
         },
         "text": "Interest vs Divisiveness: Should Donald Trump win the nobel peace price?"
        },
        "width": 1200,
        "xaxis": {
         "anchor": "y",
         "domain": [
          0,
          1
         ],
         "tickfont": {
          "size": 14
         },
         "title": {
          "font": {
           "size": 16
          },
          "text": "Interest Score"
         }
        },
        "yaxis": {
         "anchor": "x",
         "domain": [
          0,
          1
         ],
         "tickfont": {
          "size": 14
         },
         "title": {
          "font": {
           "size": 16
          },
          "text": "Divisiveness Score"
         }
        }
       }
      },
      "image/png": "[encoded data removed]"
     },
     "metadata": {},
     "output_type": "display_data"
    }
   ],
   "source": [
    "# Create scatter plot comparing interest and divisiveness\n",
    "scatter_data = []\n",
    "\n",
    "configs = [\n",
    "    ('OpenAI Low', interest_openai_low, div_openai_low),\n",
    "    ('OpenAI High', interest_openai_high, div_openai_high),\n",
    "    ('Claude Low', interest_claude_low, div_claude_low),\n",
    "    ('Claude High', interest_claude_high, div_claude_high)\n",
    "]\n",
    "\n",
    "for config_name, interest_scores, div_scores in configs:\n",
    "    for i, d in zip(interest_scores, div_scores):\n",
    "        scatter_data.append({\n",
    "            'Interest': i,\n",
    "            'Divisiveness': d,\n",
    "            'Buzz': i * d,  # Combined buzz score\n",
    "            'Config': config_name\n",
    "        })\n",
    "\n",
    "scatter_df = pd.DataFrame(scatter_data)\n",
    "\n",
    "fig = px.scatter(\n",
    "    scatter_df,\n",
    "    x='Interest',\n",
    "    y='Divisiveness',\n",
    "    color='Config',\n",
    "    size='Buzz',\n",
    "    title=f'Interest vs Divisiveness: {TOPIC}',\n",
    "    labels={'Interest': 'Interest Score', 'Divisiveness': 'Divisiveness Score'},\n",
    "    hover_data=['Buzz']\n",
    ")\n",
    "\n",
    "# Increase size and font sizes\n",
    "fig.update_layout(\n",
    "    height=800,   # Increased from 600\n",
    "    width=1200,   # Added width\n",
    "    title_font_size=20,\n",
    "    font=dict(size=14),\n",
    "    xaxis=dict(title_font_size=16, tickfont_size=14),\n",
    "    yaxis=dict(title_font_size=16, tickfont_size=14),\n",
    "    legend=dict(font=dict(size=14))\n",
    ")\n",
    "\n",
    "fig.show()"
   ]
  },
  {
   "cell_type": "markdown",
   "metadata": {},
   "source": [
    "## Variance Analysis"
   ]
  },
  {
   "cell_type": "code",
   "execution_count": 14,
   "metadata": {},
   "outputs": [
    {
     "name": "stdout",
     "output_type": "stream",
     "text": [
      "\n",
      "=== VARIANCE ANALYSIS ===\n",
      "\n",
      "Interest Scores - Standard Deviation:\n",
      "  OpenAI Low Temp          : 0.0458\n",
      "  OpenAI High Temp         : 0.0808\n",
      "  Claude Low Temp          : 0.0000\n",
      "  Claude High Temp         : 0.0000\n",
      "\n",
      "Divisiveness Scores - Standard Deviation:\n",
      "  OpenAI Low Temp          : 0.0282\n",
      "  OpenAI High Temp         : 0.0362\n",
      "  Claude Low Temp          : 0.0000\n",
      "  Claude High Temp         : 0.0000\n",
      "\n",
      "Variance Ratio (High Temp / Low Temp):\n",
      "  OpenAI Interest:     1.76x\n",
      "  Claude Interest:     1.00x\n",
      "  OpenAI Divisiveness: 1.28x\n",
      "  Claude Divisiveness: infx\n"
     ]
    }
   ],
   "source": [
    "print(\"\\n=== VARIANCE ANALYSIS ===\")\n",
    "print(\"\\nInterest Scores - Standard Deviation:\")\n",
    "for config, scores in interest_data.items():\n",
    "    print(f\"  {config:25s}: {np.std(scores):.4f}\")\n",
    "\n",
    "print(\"\\nDivisiveness Scores - Standard Deviation:\")\n",
    "for config, scores in div_data.items():\n",
    "    print(f\"  {config:25s}: {np.std(scores):.4f}\")\n",
    "\n",
    "print(\"\\nVariance Ratio (High Temp / Low Temp):\")\n",
    "interest_openai_ratio = np.std(interest_openai_high) / np.std(interest_openai_low) if np.std(interest_openai_low) > 0 else float('inf')\n",
    "interest_claude_ratio = np.std(interest_claude_high) / np.std(interest_claude_low) if np.std(interest_claude_low) > 0 else float('inf')\n",
    "div_openai_ratio = np.std(div_openai_high) / np.std(div_openai_low) if np.std(div_openai_low) > 0 else float('inf')\n",
    "div_claude_ratio = np.std(div_claude_high) / np.std(div_claude_low) if np.std(div_claude_low) > 0 else float('inf')\n",
    "\n",
    "print(f\"  OpenAI Interest:     {interest_openai_ratio:.2f}x\")\n",
    "print(f\"  Claude Interest:     {interest_claude_ratio:.2f}x\")\n",
    "print(f\"  OpenAI Divisiveness: {div_openai_ratio:.2f}x\")\n",
    "print(f\"  Claude Divisiveness: {div_claude_ratio:.2f}x\")"
   ]
  },
  {
   "cell_type": "markdown",
   "metadata": {},
   "source": [
    "## Key Findings\n",
    "\n",
    "**Temperature Effects:**\n",
    "- Higher temperature should increase variance in scores\n",
    "- Check if this holds for both interest and divisiveness\n",
    "\n",
    "**Provider Differences:**\n",
    "- Compare mean scores between OpenAI and Claude\n",
    "- Check if providers have different baseline assessments\n",
    "- Examine if one provider is more sensitive to temperature\n",
    "\n",
    "**Interest vs Divisiveness:**\n",
    "- Are these metrics correlated?\n",
    "- Does the scatter plot show any clustering patterns?\n",
    "- How does the combined buzz score (interest × divisiveness) vary?"
   ]
  },
  {
   "cell_type": "markdown",
   "metadata": {},
   "source": [
    "## Try Different Topics\n",
    "\n",
    "Modify the `TOPIC` variable in the configuration cell and re-run all cells to analyze different topics."
   ]
  },
  {
   "cell_type": "code",
   "execution_count": null,
   "metadata": {},
   "outputs": [],
   "source": [
    "# Suggested topics to try:\n",
    "# - \"Climate Change\"\n",
    "# - \"Artificial Intelligence\"\n",
    "# - \"Taylor Swift\"\n",
    "# - \"The Beatles\"\n",
    "# - \"Ukraine War\""
   ]
  }
 ],
 "metadata": {
  "kernelspec": {
   "display_name": "ML Env",
   "language": "python",
   "name": "ml-env"
  },
  "language_info": {
   "codemirror_mode": {
    "name": "ipython",
    "version": 3
   },
   "file_extension": ".py",
   "mimetype": "text/x-python",
   "name": "python",
   "nbconvert_exporter": "python",
   "pygments_lexer": "ipython3",
   "version": "3.12.11"
  }
 },
 "nbformat": 4,
 "nbformat_minor": 4
}
