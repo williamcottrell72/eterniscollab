{
 "cells": [
  {
   "cell_type": "markdown",
   "metadata": {},
   "source": [
    "# Probability Evolution Over Time\n",
    "\n",
    "This notebook analyzes how probability estimates from LLMs evolve over time by varying the knowledge cutoff date. This allows us to:\n",
    "\n",
    "1. **Track forecast accuracy** - See how forecasts improve as more information becomes available\n",
    "2. **Measure calibration** - Compare forecasts to actual outcomes at different time horizons\n",
    "3. **Identify information shocks** - Detect when major news events shifted predictions\n",
    "4. **Visualize uncertainty** - Show how forecast confidence changes over time\n",
    "\n",
    "**Example Use Case:** Analyze how an LLM's forecast for \"Will Trump win the 2024 election?\" evolved from January 2024 to Election Day (November 5, 2024)."
   ]
  },
  {
   "cell_type": "code",
   "execution_count": 1,
   "metadata": {},
   "outputs": [
    {
     "name": "stdout",
     "output_type": "stream",
     "text": [
      "OpenRouter API Key available: True\n"
     ]
    }
   ],
   "source": [
    "import sys\n",
    "sys.path.append('..')\n",
    "import os\n",
    "import numpy as np\n",
    "import plotly.graph_objects as go\n",
    "from plotly.subplots import make_subplots\n",
    "import pandas as pd\n",
    "from datetime import datetime\n",
    "from ipywidgets import interact, IntSlider\n",
    "from probability_estimator import get_probability_distribution_over_time, analyze_probability_evolution\n",
    "import asyncio\n",
    "\n",
    "# Check for OpenRouter API key\n",
    "openrouter_available = os.environ.get(\"OPENROUTER_API_KEY\") is not None\n",
    "\n",
    "print(f\"OpenRouter API Key available: {openrouter_available}\")\n",
    "if not openrouter_available:\n",
    "    print(\"\\nWarning: Set OPENROUTER_API_KEY environment variable to run this notebook.\")"
   ]
  },
  {
   "cell_type": "markdown",
   "metadata": {},
   "source": [
    "## Configuration\n",
    "\n",
    "Set your forecasting question and time range here:"
   ]
  },
  {
   "cell_type": "code",
   "execution_count": 17,
   "metadata": {},
   "outputs": [
    {
     "name": "stdout",
     "output_type": "stream",
     "text": [
      "Question: Will Lee Jae-myung be elected the next president of South Korea?\n",
      "Time range: April 01, 2025 to June 03, 2025\n",
      "Frequency: Every 5 days\n",
      "Samples per time point: 1\n",
      "Model: openai/gpt-5\n",
      "Actual outcome: 100%\n"
     ]
    }
   ],
   "source": [
    "# Forecasting question\n",
    "# FORECAST_QUESTION = \"Will Donald Trump win the 2024 US Presidential election?\"\n",
    "FORECAST_QUESTION = \"Will Lee Jae-myung be elected the next president of South Korea?\"\n",
    "\n",
    "# Time range for analysis\n",
    "START_DATE = datetime(2024, 1, 1)\n",
    "END_DATE = datetime(2024, 11, 5)  # Election day\n",
    "FREQUENCY_DAYS = 30  # Sample every 30 days (monthly)\n",
    "\n",
    "START_DATE = datetime(2025, 4, 1)\n",
    "END_DATE = datetime(2025, 6, 3)  # Election day\n",
    "FREQUENCY_DAYS = 5  # Sample every 30 days (monthly)\n",
    "\n",
    "\n",
    "\n",
    "\n",
    "# Number of samples per time point\n",
    "N_SAMPLES = 1\n",
    "\n",
    "# Model to use\n",
    "MODEL = \"openai/gpt-4o-mini\"\n",
    "MODEL =  \"openai/gpt-5\"\n",
    "\n",
    "# Actual outcome (for comparison)\n",
    "# Set to 1.0 if the event happened, 0.0 if it didn't, or None if unknown\n",
    "ACTUAL_OUTCOME = 1.0  # Trump won the 2024 election\n",
    "\n",
    "print(f\"Question: {FORECAST_QUESTION}\")\n",
    "print(f\"Time range: {START_DATE.strftime('%B %d, %Y')} to {END_DATE.strftime('%B %d, %Y')}\")\n",
    "print(f\"Frequency: Every {FREQUENCY_DAYS} days\")\n",
    "print(f\"Samples per time point: {N_SAMPLES}\")\n",
    "print(f\"Model: {MODEL}\")\n",
    "if ACTUAL_OUTCOME is not None:\n",
    "    print(f\"Actual outcome: {ACTUAL_OUTCOME:.0%}\")"
   ]
  },
  {
   "cell_type": "markdown",
   "metadata": {},
   "source": [
    "## Collect Probability Distributions Over Time\n",
    "\n",
    "This cell queries the LLM with different knowledge cutoff dates to see how the probability estimate evolved.\n",
    "\n",
    "**Note:** This may take several minutes depending on the number of time points and samples."
   ]
  },
  {
   "cell_type": "code",
   "execution_count": 18,
   "metadata": {},
   "outputs": [
    {
     "name": "stdout",
     "output_type": "stream",
     "text": [
      "Collecting probability distributions over time...\n",
      "This will query the API at 5-day intervals from April 2025 to June 2025\n",
      "\n",
      "Querying probability distributions over time:\n",
      "  Start: 2025-04-01\n",
      "  End: 2025-06-03\n",
      "  Frequency: 5 days\n",
      "  Total queries: 14\n",
      "\n",
      "[1/14] Querying with knowledge cutoff: April 01, 2025\n",
      "  Mean probability: 0.350 (±0.000)\n",
      "\n",
      "[2/14] Querying with knowledge cutoff: April 06, 2025\n",
      "  Mean probability: 0.380 (±0.000)\n",
      "\n",
      "[3/14] Querying with knowledge cutoff: April 11, 2025\n",
      "  Mean probability: 0.300 (±0.000)\n",
      "\n",
      "[4/14] Querying with knowledge cutoff: April 16, 2025\n",
      "  Mean probability: 0.300 (±0.000)\n",
      "\n",
      "[5/14] Querying with knowledge cutoff: April 21, 2025\n",
      "  Mean probability: 0.350 (±0.000)\n",
      "\n",
      "[6/14] Querying with knowledge cutoff: April 26, 2025\n",
      "  Mean probability: 0.400 (±0.000)\n",
      "\n",
      "[7/14] Querying with knowledge cutoff: May 01, 2025\n",
      "  Mean probability: 0.400 (±0.000)\n",
      "\n",
      "[8/14] Querying with knowledge cutoff: May 06, 2025\n",
      "  Mean probability: 0.340 (±0.000)\n",
      "\n",
      "[9/14] Querying with knowledge cutoff: May 11, 2025\n",
      "  Mean probability: 0.350 (±0.000)\n",
      "\n",
      "[10/14] Querying with knowledge cutoff: May 16, 2025\n",
      "  Mean probability: 0.430 (±0.000)\n",
      "\n",
      "[11/14] Querying with knowledge cutoff: May 21, 2025\n",
      "  Mean probability: 0.450 (±0.000)\n",
      "\n",
      "[12/14] Querying with knowledge cutoff: May 26, 2025\n",
      "  Mean probability: 0.400 (±0.000)\n",
      "\n",
      "[13/14] Querying with knowledge cutoff: May 31, 2025\n",
      "  Mean probability: 0.440 (±0.000)\n",
      "\n",
      "[14/14] Querying with knowledge cutoff: June 03, 2025\n",
      "  Mean probability: 0.440 (±0.000)\n",
      "\n",
      "Completed 14 queries\n",
      "\n",
      "✓ Collected data for 14 time points\n",
      "Ready for visualization!\n"
     ]
    }
   ],
   "source": [
    "if openrouter_available:\n",
    "    print(\"Collecting probability distributions over time...\")\n",
    "    print(f\"This will query the API at {FREQUENCY_DAYS}-day intervals from {START_DATE.strftime('%B %Y')} to {END_DATE.strftime('%B %Y')}\")\n",
    "    print()\n",
    "    \n",
    "    evolution_results = await get_probability_distribution_over_time(\n",
    "        prompt=FORECAST_QUESTION,\n",
    "        start_date=START_DATE,\n",
    "        end_date=END_DATE,\n",
    "        frequency_days=FREQUENCY_DAYS,\n",
    "        n_samples=N_SAMPLES,\n",
    "        model=MODEL\n",
    "    )\n",
    "    \n",
    "    print(f\"\\n✓ Collected data for {len(evolution_results)} time points\")\n",
    "    print(\"Ready for visualization!\")\n",
    "else:\n",
    "    print(\"Cannot collect data: OpenRouter API key not set.\")\n",
    "    evolution_results = None"
   ]
  },
  {
   "cell_type": "markdown",
   "metadata": {},
   "source": [
    "## Interactive Distribution Explorer\n",
    "\n",
    "Use the slider below to explore how the probability distribution evolved at each time point.\n",
    "\n",
    "**Features:**\n",
    "- **Histogram**: Shows the distribution of probability estimates from 10 samples\n",
    "- **Mean Line** (red dashed): Average probability estimate\n",
    "- **Median Line** (green dotted): Median probability estimate\n",
    "- **Actual Outcome** (gold solid): The true outcome (if known)\n",
    "- **Statistics Box**: Mean, std dev, min, max, and range"
   ]
  },
  {
   "cell_type": "code",
   "execution_count": 19,
   "metadata": {},
   "outputs": [
    {
     "name": "stdout",
     "output_type": "stream",
     "text": [
      "Use the slider below to explore how the probability distribution evolved over time:\n",
      "\n"
     ]
    },
    {
     "data": {
      "application/vnd.jupyter.widget-view+json": {
       "model_id": "73eebef77bcd4bb1b3f79a62cc80f747",
       "version_major": 2,
       "version_minor": 0
      },
      "text/plain": [
       "interactive(children=(IntSlider(value=0, continuous_update=False, description='Date:', layout=Layout(width='80…"
      ]
     },
     "metadata": {},
     "output_type": "display_data"
    },
    {
     "name": "stdout",
     "output_type": "stream",
     "text": [
      "\n",
      "Date range: April 01, 2025 to June 03, 2025\n",
      "Total time points: 14\n"
     ]
    }
   ],
   "source": [
    "if evolution_results:\n",
    "    # Prepare data for visualization\n",
    "    sorted_dates = sorted(evolution_results.keys())\n",
    "    date_objects = [datetime.strptime(d, '%Y-%m-%d') for d in sorted_dates]\n",
    "    \n",
    "    def create_evolution_plot(date_index):\n",
    "        \"\"\"Create histogram for a specific date index with detailed statistics.\"\"\"\n",
    "        date_str = sorted_dates[date_index]\n",
    "        date_obj = date_objects[date_index]\n",
    "        dist = evolution_results[date_str]\n",
    "        \n",
    "        probs = np.array(dist['probabilities'])\n",
    "        mean_val = probs.mean()\n",
    "        std_val = probs.std()\n",
    "        median_val = np.median(probs)\n",
    "        \n",
    "        # Create histogram\n",
    "        fig = go.Figure()\n",
    "        \n",
    "        # Add histogram\n",
    "        fig.add_trace(go.Histogram(\n",
    "            x=probs,\n",
    "            nbinsx=20,\n",
    "            marker_color='steelblue',\n",
    "            marker_line_color='white',\n",
    "            marker_line_width=1.5,\n",
    "            opacity=0.85,\n",
    "            hovertemplate='Probability: %{x:.2%}<br>Count: %{y}<extra></extra>',\n",
    "            name='Distribution'\n",
    "        ))\n",
    "        \n",
    "        # Add mean line\n",
    "        fig.add_vline(\n",
    "            x=mean_val,\n",
    "            line_dash=\"dash\",\n",
    "            line_color=\"red\",\n",
    "            line_width=3,\n",
    "            annotation_text=f\"Mean: {mean_val:.1%}\",\n",
    "            annotation_position=\"top right\",\n",
    "            annotation_font_size=16,\n",
    "            annotation_font_color=\"red\"\n",
    "        )\n",
    "        \n",
    "        # Add median line\n",
    "        fig.add_vline(\n",
    "            x=median_val,\n",
    "            line_dash=\"dot\",\n",
    "            line_color=\"darkgreen\",\n",
    "            line_width=2,\n",
    "            annotation_text=f\"Median: {median_val:.1%}\",\n",
    "            annotation_position=\"bottom right\",\n",
    "            annotation_font_size=16,\n",
    "            annotation_font_color=\"darkgreen\"\n",
    "        )\n",
    "        \n",
    "        # Add actual outcome line if available\n",
    "        if ACTUAL_OUTCOME is not None:\n",
    "            outcome_text = f\"Actual: {ACTUAL_OUTCOME:.0%}\"\n",
    "            if ACTUAL_OUTCOME == 1.0:\n",
    "                outcome_text += \" (Event Occurred)\"\n",
    "            elif ACTUAL_OUTCOME == 0.0:\n",
    "                outcome_text += \" (Event Did Not Occur)\"\n",
    "            \n",
    "            fig.add_vline(\n",
    "                x=ACTUAL_OUTCOME,\n",
    "                line_dash=\"solid\",\n",
    "                line_color=\"gold\",\n",
    "                line_width=3,\n",
    "                annotation_text=outcome_text,\n",
    "                annotation_position=\"top left\",\n",
    "                annotation_font_size=16,\n",
    "                annotation_font_color=\"gold\"\n",
    "            )\n",
    "        \n",
    "        # Calculate forecast error\n",
    "        if ACTUAL_OUTCOME is not None:\n",
    "            forecast_error = abs(mean_val - ACTUAL_OUTCOME)\n",
    "            error_text = f\"Forecast Error: {forecast_error:.1%} | Std Dev: {std_val:.1%}\"\n",
    "        else:\n",
    "            error_text = f\"Std Dev: {std_val:.1%}\"\n",
    "        \n",
    "        # Update layout\n",
    "        fig.update_layout(\n",
    "            title=dict(\n",
    "                text=f\"<b>Probability Distribution</b><br>\" +\n",
    "                     f\"<sub>Knowledge Cutoff: {dist['knowledge_cutoff_date']}</sub><br>\" +\n",
    "                     f\"<sub>{error_text}</sub>\",\n",
    "                font=dict(size=22),\n",
    "                x=0.5,\n",
    "                xanchor='center'\n",
    "            ),\n",
    "            xaxis=dict(\n",
    "                title=\"Probability Estimate\",\n",
    "                title_font_size=18,\n",
    "                tickfont_size=16,\n",
    "                range=[0, 1],\n",
    "                tickformat='.0%'\n",
    "            ),\n",
    "            yaxis=dict(\n",
    "                title=f\"Count (out of {N_SAMPLES} samples)\",\n",
    "                title_font_size=18,\n",
    "                tickfont_size=16\n",
    "            ),\n",
    "            height=800,\n",
    "            width=1400,\n",
    "            showlegend=False,\n",
    "            font=dict(size=16),\n",
    "            plot_bgcolor='rgba(240,240,240,0.5)',\n",
    "            margin=dict(t=120, b=80, l=80, r=80)\n",
    "        )\n",
    "        \n",
    "        # Add statistics annotation\n",
    "        stats_text = (\n",
    "            f\"<b>Statistics (n={N_SAMPLES}):</b><br>\" +\n",
    "            f\"Mean: {mean_val:.1%}<br>\" +\n",
    "            f\"Std Dev: {std_val:.1%}<br>\" +\n",
    "            f\"Min: {probs.min():.1%}<br>\" +\n",
    "            f\"Max: {probs.max():.1%}<br>\" +\n",
    "            f\"Range: {probs.max() - probs.min():.1%}\"\n",
    "        )\n",
    "        \n",
    "        fig.add_annotation(\n",
    "            text=stats_text,\n",
    "            xref=\"paper\", yref=\"paper\",\n",
    "            x=0.02, y=0.98,\n",
    "            xanchor='left', yanchor='top',\n",
    "            showarrow=False,\n",
    "            font=dict(size=14),\n",
    "            bgcolor='rgba(255,255,255,0.9)',\n",
    "            bordercolor='black',\n",
    "            borderwidth=2,\n",
    "            borderpad=10\n",
    "        )\n",
    "        \n",
    "        fig.show()\n",
    "    \n",
    "    # Create interactive slider\n",
    "    date_labels = [f\"{d.strftime('%B %d, %Y')}\" for d in date_objects]\n",
    "    \n",
    "    print(\"Use the slider below to explore how the probability distribution evolved over time:\")\n",
    "    print()\n",
    "    \n",
    "    interact(\n",
    "        create_evolution_plot,\n",
    "        date_index=IntSlider(\n",
    "            min=0,\n",
    "            max=len(sorted_dates)-1,\n",
    "            step=1,\n",
    "            value=0,\n",
    "            description='Date:',\n",
    "            style={'description_width': '60px'},\n",
    "            layout={'width': '800px'},\n",
    "            continuous_update=False\n",
    "        )\n",
    "    )\n",
    "    \n",
    "    print(f\"\\nDate range: {date_objects[0].strftime('%B %d, %Y')} to {date_objects[-1].strftime('%B %d, %Y')}\")\n",
    "    print(f\"Total time points: {len(sorted_dates)}\")\n",
    "else:\n",
    "    print(\"No evolution data to visualize. Run the data collection cell above first.\")"
   ]
  },
  {
   "cell_type": "markdown",
   "metadata": {},
   "source": [
    "## Forecast Evolution Timeline\n",
    "\n",
    "This plot shows how the mean probability estimate evolved over time, with error bars showing ±1 standard deviation at each time point.\n",
    "\n",
    "**Key Features:**\n",
    "- **Blue line**: Mean probability estimate over time\n",
    "- **Error bars**: ±1 standard deviation (showing uncertainty)\n",
    "- **Shaded region**: Confidence band (±1 std dev)\n",
    "- **Gold line**: Actual outcome (if known)\n",
    "- **Summary statistics**: Initial vs final forecast, error improvement"
   ]
  },
  {
   "cell_type": "code",
   "execution_count": 20,
   "metadata": {},
   "outputs": [
    {
     "data": {
      "application/vnd.plotly.v1+json": {
       "config": {
        "plotlyServerURL": "https://plot.ly"
       },
       "data": [
        {
         "error_y": {
          "array": {
           "bdata": "AAAAAAAAAAAAAAAAAAAAAAAAAAAAAAAAAAAAAAAAAAAAAAAAAAAAAAAAAAAAAAAAAAAAAAAAAAAAAAAAAAAAAAAAAAAAAAAAAAAAAAAAAAAAAAAAAAAAAAAAAAAAAAAAAAAAAAAAAAAAAAAAAAAAAA==",
           "dtype": "f8"
          },
          "color": "steelblue",
          "thickness": 2,
          "type": "data",
          "visible": true,
          "width": 8
         },
         "hovertemplate": "<b>%{x|%B %d, %Y}</b><br>Mean: %{y:.1%}<extra></extra>",
         "line": {
          "color": "steelblue",
          "width": 3
         },
         "marker": {
          "color": "steelblue",
          "size": 10,
          "symbol": "circle"
         },
         "mode": "lines+markers",
         "name": "Mean Probability",
         "type": "scatter",
         "x": [
          "2025-04-01T00:00:00.000000000",
          "2025-04-06T00:00:00.000000000",
          "2025-04-11T00:00:00.000000000",
          "2025-04-16T00:00:00.000000000",
          "2025-04-21T00:00:00.000000000",
          "2025-04-26T00:00:00.000000000",
          "2025-05-01T00:00:00.000000000",
          "2025-05-06T00:00:00.000000000",
          "2025-05-11T00:00:00.000000000",
          "2025-05-16T00:00:00.000000000",
          "2025-05-21T00:00:00.000000000",
          "2025-05-26T00:00:00.000000000",
          "2025-05-31T00:00:00.000000000",
          "2025-06-03T00:00:00.000000000"
         ],
         "y": {
          "bdata": "ZmZmZmZm1j9SuB6F61HYPzMzMzMzM9M/MzMzMzMz0z9mZmZmZmbWP5qZmZmZmdk/mpmZmZmZ2T/D9Shcj8LVP2ZmZmZmZtY/hetRuB6F2z/NzMzMzMzcP5qZmZmZmdk/KVyPwvUo3D8pXI/C9SjcPw==",
          "dtype": "f8"
         }
        },
        {
         "hoverinfo": "skip",
         "line": {
          "width": 0
         },
         "mode": "lines",
         "showlegend": false,
         "type": "scatter",
         "x": [
          "2025-04-01T00:00:00.000000000",
          "2025-04-06T00:00:00.000000000",
          "2025-04-11T00:00:00.000000000",
          "2025-04-16T00:00:00.000000000",
          "2025-04-21T00:00:00.000000000",
          "2025-04-26T00:00:00.000000000",
          "2025-05-01T00:00:00.000000000",
          "2025-05-06T00:00:00.000000000",
          "2025-05-11T00:00:00.000000000",
          "2025-05-16T00:00:00.000000000",
          "2025-05-21T00:00:00.000000000",
          "2025-05-26T00:00:00.000000000",
          "2025-05-31T00:00:00.000000000",
          "2025-06-03T00:00:00.000000000"
         ],
         "y": {
          "bdata": "ZmZmZmZm1j9SuB6F61HYPzMzMzMzM9M/MzMzMzMz0z9mZmZmZmbWP5qZmZmZmdk/mpmZmZmZ2T/D9Shcj8LVP2ZmZmZmZtY/hetRuB6F2z/NzMzMzMzcP5qZmZmZmdk/KVyPwvUo3D8pXI/C9SjcPw==",
          "dtype": "f8"
         }
        },
        {
         "fill": "tonexty",
         "fillcolor": "rgba(70, 130, 180, 0.2)",
         "hoverinfo": "skip",
         "line": {
          "width": 0
         },
         "mode": "lines",
         "name": "±1 Std Dev",
         "showlegend": false,
         "type": "scatter",
         "x": [
          "2025-04-01T00:00:00.000000000",
          "2025-04-06T00:00:00.000000000",
          "2025-04-11T00:00:00.000000000",
          "2025-04-16T00:00:00.000000000",
          "2025-04-21T00:00:00.000000000",
          "2025-04-26T00:00:00.000000000",
          "2025-05-01T00:00:00.000000000",
          "2025-05-06T00:00:00.000000000",
          "2025-05-11T00:00:00.000000000",
          "2025-05-16T00:00:00.000000000",
          "2025-05-21T00:00:00.000000000",
          "2025-05-26T00:00:00.000000000",
          "2025-05-31T00:00:00.000000000",
          "2025-06-03T00:00:00.000000000"
         ],
         "y": {
          "bdata": "ZmZmZmZm1j9SuB6F61HYPzMzMzMzM9M/MzMzMzMz0z9mZmZmZmbWP5qZmZmZmdk/mpmZmZmZ2T/D9Shcj8LVP2ZmZmZmZtY/hetRuB6F2z/NzMzMzMzcP5qZmZmZmdk/KVyPwvUo3D8pXI/C9SjcPw==",
          "dtype": "f8"
         }
        }
       ],
       "layout": {
        "annotations": [
         {
          "font": {
           "color": "gold",
           "size": 16
          },
          "showarrow": false,
          "text": "Actual Outcome: 100% (Event Occurred)",
          "x": 0,
          "xanchor": "left",
          "xref": "x domain",
          "y": 1,
          "yanchor": "bottom",
          "yref": "y"
         }
        ],
        "font": {
         "size": 16
        },
        "height": 800,
        "hovermode": "x unified",
        "legend": {
         "bgcolor": "rgba(255,255,255,0.9)",
         "bordercolor": "black",
         "borderwidth": 2,
         "font": {
          "size": 14
         },
         "x": 0.02,
         "xanchor": "left",
         "y": 0.98,
         "yanchor": "top"
        },
        "margin": {
         "b": 80,
         "l": 100,
         "r": 80,
         "t": 120
        },
        "plot_bgcolor": "rgba(240,240,240,0.5)",
        "shapes": [
         {
          "line": {
           "color": "gold",
           "dash": "dash",
           "width": 3
          },
          "type": "line",
          "x0": 0,
          "x1": 1,
          "xref": "x domain",
          "y0": 1,
          "y1": 1,
          "yref": "y"
         }
        ],
        "template": {
         "data": {
          "bar": [
           {
            "error_x": {
             "color": "#2a3f5f"
            },
            "error_y": {
             "color": "#2a3f5f"
            },
            "marker": {
             "line": {
              "color": "#E5ECF6",
              "width": 0.5
             },
             "pattern": {
              "fillmode": "overlay",
              "size": 10,
              "solidity": 0.2
             }
            },
            "type": "bar"
           }
          ],
          "barpolar": [
           {
            "marker": {
             "line": {
              "color": "#E5ECF6",
              "width": 0.5
             },
             "pattern": {
              "fillmode": "overlay",
              "size": 10,
              "solidity": 0.2
             }
            },
            "type": "barpolar"
           }
          ],
          "carpet": [
           {
            "aaxis": {
             "endlinecolor": "#2a3f5f",
             "gridcolor": "white",
             "linecolor": "white",
             "minorgridcolor": "white",
             "startlinecolor": "#2a3f5f"
            },
            "baxis": {
             "endlinecolor": "#2a3f5f",
             "gridcolor": "white",
             "linecolor": "white",
             "minorgridcolor": "white",
             "startlinecolor": "#2a3f5f"
            },
            "type": "carpet"
           }
          ],
          "choropleth": [
           {
            "colorbar": {
             "outlinewidth": 0,
             "ticks": ""
            },
            "type": "choropleth"
           }
          ],
          "contour": [
           {
            "colorbar": {
             "outlinewidth": 0,
             "ticks": ""
            },
            "colorscale": [
             [
              0,
              "#0d0887"
             ],
             [
              0.1111111111111111,
              "#46039f"
             ],
             [
              0.2222222222222222,
              "#7201a8"
             ],
             [
              0.3333333333333333,
              "#9c179e"
             ],
             [
              0.4444444444444444,
              "#bd3786"
             ],
             [
              0.5555555555555556,
              "#d8576b"
             ],
             [
              0.6666666666666666,
              "#ed7953"
             ],
             [
              0.7777777777777778,
              "#fb9f3a"
             ],
             [
              0.8888888888888888,
              "#fdca26"
             ],
             [
              1,
              "#f0f921"
             ]
            ],
            "type": "contour"
           }
          ],
          "contourcarpet": [
           {
            "colorbar": {
             "outlinewidth": 0,
             "ticks": ""
            },
            "type": "contourcarpet"
           }
          ],
          "heatmap": [
           {
            "colorbar": {
             "outlinewidth": 0,
             "ticks": ""
            },
            "colorscale": [
             [
              0,
              "#0d0887"
             ],
             [
              0.1111111111111111,
              "#46039f"
             ],
             [
              0.2222222222222222,
              "#7201a8"
             ],
             [
              0.3333333333333333,
              "#9c179e"
             ],
             [
              0.4444444444444444,
              "#bd3786"
             ],
             [
              0.5555555555555556,
              "#d8576b"
             ],
             [
              0.6666666666666666,
              "#ed7953"
             ],
             [
              0.7777777777777778,
              "#fb9f3a"
             ],
             [
              0.8888888888888888,
              "#fdca26"
             ],
             [
              1,
              "#f0f921"
             ]
            ],
            "type": "heatmap"
           }
          ],
          "histogram": [
           {
            "marker": {
             "pattern": {
              "fillmode": "overlay",
              "size": 10,
              "solidity": 0.2
             }
            },
            "type": "histogram"
           }
          ],
          "histogram2d": [
           {
            "colorbar": {
             "outlinewidth": 0,
             "ticks": ""
            },
            "colorscale": [
             [
              0,
              "#0d0887"
             ],
             [
              0.1111111111111111,
              "#46039f"
             ],
             [
              0.2222222222222222,
              "#7201a8"
             ],
             [
              0.3333333333333333,
              "#9c179e"
             ],
             [
              0.4444444444444444,
              "#bd3786"
             ],
             [
              0.5555555555555556,
              "#d8576b"
             ],
             [
              0.6666666666666666,
              "#ed7953"
             ],
             [
              0.7777777777777778,
              "#fb9f3a"
             ],
             [
              0.8888888888888888,
              "#fdca26"
             ],
             [
              1,
              "#f0f921"
             ]
            ],
            "type": "histogram2d"
           }
          ],
          "histogram2dcontour": [
           {
            "colorbar": {
             "outlinewidth": 0,
             "ticks": ""
            },
            "colorscale": [
             [
              0,
              "#0d0887"
             ],
             [
              0.1111111111111111,
              "#46039f"
             ],
             [
              0.2222222222222222,
              "#7201a8"
             ],
             [
              0.3333333333333333,
              "#9c179e"
             ],
             [
              0.4444444444444444,
              "#bd3786"
             ],
             [
              0.5555555555555556,
              "#d8576b"
             ],
             [
              0.6666666666666666,
              "#ed7953"
             ],
             [
              0.7777777777777778,
              "#fb9f3a"
             ],
             [
              0.8888888888888888,
              "#fdca26"
             ],
             [
              1,
              "#f0f921"
             ]
            ],
            "type": "histogram2dcontour"
           }
          ],
          "mesh3d": [
           {
            "colorbar": {
             "outlinewidth": 0,
             "ticks": ""
            },
            "type": "mesh3d"
           }
          ],
          "parcoords": [
           {
            "line": {
             "colorbar": {
              "outlinewidth": 0,
              "ticks": ""
             }
            },
            "type": "parcoords"
           }
          ],
          "pie": [
           {
            "automargin": true,
            "type": "pie"
           }
          ],
          "scatter": [
           {
            "fillpattern": {
             "fillmode": "overlay",
             "size": 10,
             "solidity": 0.2
            },
            "type": "scatter"
           }
          ],
          "scatter3d": [
           {
            "line": {
             "colorbar": {
              "outlinewidth": 0,
              "ticks": ""
             }
            },
            "marker": {
             "colorbar": {
              "outlinewidth": 0,
              "ticks": ""
             }
            },
            "type": "scatter3d"
           }
          ],
          "scattercarpet": [
           {
            "marker": {
             "colorbar": {
              "outlinewidth": 0,
              "ticks": ""
             }
            },
            "type": "scattercarpet"
           }
          ],
          "scattergeo": [
           {
            "marker": {
             "colorbar": {
              "outlinewidth": 0,
              "ticks": ""
             }
            },
            "type": "scattergeo"
           }
          ],
          "scattergl": [
           {
            "marker": {
             "colorbar": {
              "outlinewidth": 0,
              "ticks": ""
             }
            },
            "type": "scattergl"
           }
          ],
          "scattermap": [
           {
            "marker": {
             "colorbar": {
              "outlinewidth": 0,
              "ticks": ""
             }
            },
            "type": "scattermap"
           }
          ],
          "scattermapbox": [
           {
            "marker": {
             "colorbar": {
              "outlinewidth": 0,
              "ticks": ""
             }
            },
            "type": "scattermapbox"
           }
          ],
          "scatterpolar": [
           {
            "marker": {
             "colorbar": {
              "outlinewidth": 0,
              "ticks": ""
             }
            },
            "type": "scatterpolar"
           }
          ],
          "scatterpolargl": [
           {
            "marker": {
             "colorbar": {
              "outlinewidth": 0,
              "ticks": ""
             }
            },
            "type": "scatterpolargl"
           }
          ],
          "scatterternary": [
           {
            "marker": {
             "colorbar": {
              "outlinewidth": 0,
              "ticks": ""
             }
            },
            "type": "scatterternary"
           }
          ],
          "surface": [
           {
            "colorbar": {
             "outlinewidth": 0,
             "ticks": ""
            },
            "colorscale": [
             [
              0,
              "#0d0887"
             ],
             [
              0.1111111111111111,
              "#46039f"
             ],
             [
              0.2222222222222222,
              "#7201a8"
             ],
             [
              0.3333333333333333,
              "#9c179e"
             ],
             [
              0.4444444444444444,
              "#bd3786"
             ],
             [
              0.5555555555555556,
              "#d8576b"
             ],
             [
              0.6666666666666666,
              "#ed7953"
             ],
             [
              0.7777777777777778,
              "#fb9f3a"
             ],
             [
              0.8888888888888888,
              "#fdca26"
             ],
             [
              1,
              "#f0f921"
             ]
            ],
            "type": "surface"
           }
          ],
          "table": [
           {
            "cells": {
             "fill": {
              "color": "#EBF0F8"
             },
             "line": {
              "color": "white"
             }
            },
            "header": {
             "fill": {
              "color": "#C8D4E3"
             },
             "line": {
              "color": "white"
             }
            },
            "type": "table"
           }
          ]
         },
         "layout": {
          "annotationdefaults": {
           "arrowcolor": "#2a3f5f",
           "arrowhead": 0,
           "arrowwidth": 1
          },
          "autotypenumbers": "strict",
          "coloraxis": {
           "colorbar": {
            "outlinewidth": 0,
            "ticks": ""
           }
          },
          "colorscale": {
           "diverging": [
            [
             0,
             "#8e0152"
            ],
            [
             0.1,
             "#c51b7d"
            ],
            [
             0.2,
             "#de77ae"
            ],
            [
             0.3,
             "#f1b6da"
            ],
            [
             0.4,
             "#fde0ef"
            ],
            [
             0.5,
             "#f7f7f7"
            ],
            [
             0.6,
             "#e6f5d0"
            ],
            [
             0.7,
             "#b8e186"
            ],
            [
             0.8,
             "#7fbc41"
            ],
            [
             0.9,
             "#4d9221"
            ],
            [
             1,
             "#276419"
            ]
           ],
           "sequential": [
            [
             0,
             "#0d0887"
            ],
            [
             0.1111111111111111,
             "#46039f"
            ],
            [
             0.2222222222222222,
             "#7201a8"
            ],
            [
             0.3333333333333333,
             "#9c179e"
            ],
            [
             0.4444444444444444,
             "#bd3786"
            ],
            [
             0.5555555555555556,
             "#d8576b"
            ],
            [
             0.6666666666666666,
             "#ed7953"
            ],
            [
             0.7777777777777778,
             "#fb9f3a"
            ],
            [
             0.8888888888888888,
             "#fdca26"
            ],
            [
             1,
             "#f0f921"
            ]
           ],
           "sequentialminus": [
            [
             0,
             "#0d0887"
            ],
            [
             0.1111111111111111,
             "#46039f"
            ],
            [
             0.2222222222222222,
             "#7201a8"
            ],
            [
             0.3333333333333333,
             "#9c179e"
            ],
            [
             0.4444444444444444,
             "#bd3786"
            ],
            [
             0.5555555555555556,
             "#d8576b"
            ],
            [
             0.6666666666666666,
             "#ed7953"
            ],
            [
             0.7777777777777778,
             "#fb9f3a"
            ],
            [
             0.8888888888888888,
             "#fdca26"
            ],
            [
             1,
             "#f0f921"
            ]
           ]
          },
          "colorway": [
           "#636efa",
           "#EF553B",
           "#00cc96",
           "#ab63fa",
           "#FFA15A",
           "#19d3f3",
           "#FF6692",
           "#B6E880",
           "#FF97FF",
           "#FECB52"
          ],
          "font": {
           "color": "#2a3f5f"
          },
          "geo": {
           "bgcolor": "white",
           "lakecolor": "white",
           "landcolor": "#E5ECF6",
           "showlakes": true,
           "showland": true,
           "subunitcolor": "white"
          },
          "hoverlabel": {
           "align": "left"
          },
          "hovermode": "closest",
          "mapbox": {
           "style": "light"
          },
          "paper_bgcolor": "white",
          "plot_bgcolor": "#E5ECF6",
          "polar": {
           "angularaxis": {
            "gridcolor": "white",
            "linecolor": "white",
            "ticks": ""
           },
           "bgcolor": "#E5ECF6",
           "radialaxis": {
            "gridcolor": "white",
            "linecolor": "white",
            "ticks": ""
           }
          },
          "scene": {
           "xaxis": {
            "backgroundcolor": "#E5ECF6",
            "gridcolor": "white",
            "gridwidth": 2,
            "linecolor": "white",
            "showbackground": true,
            "ticks": "",
            "zerolinecolor": "white"
           },
           "yaxis": {
            "backgroundcolor": "#E5ECF6",
            "gridcolor": "white",
            "gridwidth": 2,
            "linecolor": "white",
            "showbackground": true,
            "ticks": "",
            "zerolinecolor": "white"
           },
           "zaxis": {
            "backgroundcolor": "#E5ECF6",
            "gridcolor": "white",
            "gridwidth": 2,
            "linecolor": "white",
            "showbackground": true,
            "ticks": "",
            "zerolinecolor": "white"
           }
          },
          "shapedefaults": {
           "line": {
            "color": "#2a3f5f"
           }
          },
          "ternary": {
           "aaxis": {
            "gridcolor": "white",
            "linecolor": "white",
            "ticks": ""
           },
           "baxis": {
            "gridcolor": "white",
            "linecolor": "white",
            "ticks": ""
           },
           "bgcolor": "#E5ECF6",
           "caxis": {
            "gridcolor": "white",
            "linecolor": "white",
            "ticks": ""
           }
          },
          "title": {
           "x": 0.05
          },
          "xaxis": {
           "automargin": true,
           "gridcolor": "white",
           "linecolor": "white",
           "ticks": "",
           "title": {
            "standoff": 15
           },
           "zerolinecolor": "white",
           "zerolinewidth": 2
          },
          "yaxis": {
           "automargin": true,
           "gridcolor": "white",
           "linecolor": "white",
           "ticks": "",
           "title": {
            "standoff": 15
           },
           "zerolinecolor": "white",
           "zerolinewidth": 2
          }
         }
        },
        "title": {
         "font": {
          "size": 22
         },
         "text": "<b>Forecast Evolution Over Time</b><br><sub>Will Lee Jae-myung be elected the next president of South Korea?</sub><br><sub>Initial Error: 65.0% → Final Error: 56.0% (Improvement: +9.0%)</sub>",
         "x": 0.5,
         "xanchor": "center"
        },
        "width": 1400,
        "xaxis": {
         "gridcolor": "rgba(200,200,200,0.3)",
         "gridwidth": 1,
         "showgrid": true,
         "tickfont": {
          "size": 16
         },
         "title": {
          "font": {
           "size": 18
          },
          "text": "Knowledge Cutoff Date"
         }
        },
        "yaxis": {
         "gridcolor": "rgba(200,200,200,0.3)",
         "gridwidth": 1,
         "range": [
          0,
          1.1
         ],
         "showgrid": true,
         "tickfont": {
          "size": 16
         },
         "tickformat": ".0%",
         "title": {
          "font": {
           "size": 18
          },
          "text": "Probability Estimate"
         }
        }
       }
      },
      "image/png": "[encoded data removed]"
     },
     "metadata": {},
     "output_type": "display_data"
    }
   ],
   "source": [
    "if evolution_results:\n",
    "    # Analyze the evolution\n",
    "    stats_df = await analyze_probability_evolution(evolution_results)\n",
    "    \n",
    "    # Create figure\n",
    "    fig = go.Figure()\n",
    "    \n",
    "    # Add mean line with error bars\n",
    "    fig.add_trace(go.Scatter(\n",
    "        x=stats_df['date'],\n",
    "        y=stats_df['mean'],\n",
    "        mode='lines+markers',\n",
    "        name='Mean Probability',\n",
    "        line=dict(color='steelblue', width=3),\n",
    "        marker=dict(size=10, color='steelblue', symbol='circle'),\n",
    "        error_y=dict(\n",
    "            type='data',\n",
    "            array=stats_df['std'],\n",
    "            visible=True,\n",
    "            color='steelblue',\n",
    "            thickness=2,\n",
    "            width=8\n",
    "        ),\n",
    "        hovertemplate='<b>%{x|%B %d, %Y}</b><br>Mean: %{y:.1%}<extra></extra>'\n",
    "    ))\n",
    "    \n",
    "    # Add actual outcome line if available\n",
    "    if ACTUAL_OUTCOME is not None:\n",
    "        outcome_text = f\"Actual Outcome: {ACTUAL_OUTCOME:.0%}\"\n",
    "        if ACTUAL_OUTCOME == 1.0:\n",
    "            outcome_text += \" (Event Occurred)\"\n",
    "        elif ACTUAL_OUTCOME == 0.0:\n",
    "            outcome_text += \" (Event Did Not Occur)\"\n",
    "        \n",
    "        fig.add_hline(\n",
    "            y=ACTUAL_OUTCOME,\n",
    "            line_dash=\"dash\",\n",
    "            line_color=\"gold\",\n",
    "            line_width=3,\n",
    "            annotation_text=outcome_text,\n",
    "            annotation_position=\"top left\",\n",
    "            annotation_font_size=16,\n",
    "            annotation_font_color=\"gold\"\n",
    "        )\n",
    "    \n",
    "    # Add shaded confidence band (±1 std dev)\n",
    "    fig.add_trace(go.Scatter(\n",
    "        x=stats_df['date'],\n",
    "        y=stats_df['mean'] + stats_df['std'],\n",
    "        mode='lines',\n",
    "        line=dict(width=0),\n",
    "        showlegend=False,\n",
    "        hoverinfo='skip'\n",
    "    ))\n",
    "    \n",
    "    fig.add_trace(go.Scatter(\n",
    "        x=stats_df['date'],\n",
    "        y=stats_df['mean'] - stats_df['std'],\n",
    "        mode='lines',\n",
    "        line=dict(width=0),\n",
    "        fillcolor='rgba(70, 130, 180, 0.2)',\n",
    "        fill='tonexty',\n",
    "        showlegend=False,\n",
    "        hoverinfo='skip',\n",
    "        name='±1 Std Dev'\n",
    "    ))\n",
    "    \n",
    "    # Calculate initial and final forecast errors\n",
    "    title_text = f\"<b>Forecast Evolution Over Time</b><br><sub>{FORECAST_QUESTION}</sub>\"\n",
    "    \n",
    "    if ACTUAL_OUTCOME is not None:\n",
    "        initial_error = abs(stats_df.iloc[0]['mean'] - ACTUAL_OUTCOME)\n",
    "        final_error = abs(stats_df.iloc[-1]['mean'] - ACTUAL_OUTCOME)\n",
    "        improvement = initial_error - final_error\n",
    "        \n",
    "        title_text += (\n",
    "            f\"<br><sub>Initial Error: {initial_error:.1%} → Final Error: {final_error:.1%} \" +\n",
    "            f\"(Improvement: {improvement:+.1%})</sub>\"\n",
    "        )\n",
    "    \n",
    "    # Update layout\n",
    "    fig.update_layout(\n",
    "        title=dict(\n",
    "            text=title_text,\n",
    "            font=dict(size=22),\n",
    "            x=0.5,\n",
    "            xanchor='center'\n",
    "        ),\n",
    "        xaxis=dict(\n",
    "            title=\"Knowledge Cutoff Date\",\n",
    "            title_font_size=18,\n",
    "            tickfont_size=16,\n",
    "            showgrid=True,\n",
    "            gridwidth=1,\n",
    "            gridcolor='rgba(200,200,200,0.3)'\n",
    "        ),\n",
    "        yaxis=dict(\n",
    "            title=\"Probability Estimate\",\n",
    "            title_font_size=18,\n",
    "            tickfont_size=16,\n",
    "            range=[0, 1.1],\n",
    "            tickformat='.0%',\n",
    "            showgrid=True,\n",
    "            gridwidth=1,\n",
    "            gridcolor='rgba(200,200,200,0.3)'\n",
    "        ),\n",
    "        height=800,\n",
    "        width=1400,\n",
    "        font=dict(size=16),\n",
    "        plot_bgcolor='rgba(240,240,240,0.5)',\n",
    "        margin=dict(t=120, b=80, l=100, r=80),\n",
    "        hovermode='x unified',\n",
    "        legend=dict(\n",
    "            x=0.02,\n",
    "            y=0.98,\n",
    "            xanchor='left',\n",
    "            yanchor='top',\n",
    "            bgcolor='rgba(255,255,255,0.9)',\n",
    "            bordercolor='black',\n",
    "            borderwidth=2,\n",
    "            font=dict(size=14)\n",
    "        )\n",
    "    )\n",
    "    \n",
    "    fig.show()\n",
    "else:\n",
    "    print(\"No evolution data to visualize. Run the data collection cell above first.\")"
   ]
  },
  {
   "cell_type": "markdown",
   "metadata": {},
   "source": [
    "## Summary Statistics\n",
    "\n",
    "Detailed statistics about the forecast evolution:"
   ]
  },
  {
   "cell_type": "code",
   "execution_count": 21,
   "metadata": {},
   "outputs": [
    {
     "name": "stdout",
     "output_type": "stream",
     "text": [
      "================================================================================\n",
      "FORECAST EVOLUTION SUMMARY\n",
      "================================================================================\n",
      "\n",
      "Question: Will Lee Jae-myung be elected the next president of South Korea?\n",
      "Model: openai/gpt-5\n",
      "Samples per time point: 1\n",
      "Time range: April 01, 2025 to June 03, 2025\n",
      "Number of time points: 14\n",
      "\n",
      "Initial forecast (April 01, 2025): 35.0% ± 0.0%\n",
      "Final forecast (June 03, 2025): 44.0% ± 0.0%\n",
      "Actual outcome: 100%\n",
      "\n",
      "Forecast error improvement: +9.0%\n",
      "Final forecast underestimated by 56.0%\n",
      "\n",
      "Best forecast: May 21, 2025 - 45.0% (error: 55.0%)\n",
      "Worst forecast: April 11, 2025 - 30.0% (error: 70.0%)\n",
      "\n",
      "================================================================================\n",
      "\n",
      "Detailed Statistics by Time Point:\n",
      "================================================================================\n",
      "          date  mean  median  std   min   max  q25  q75  n_samples        model knowledge_cutoff_date error\n",
      "April 01, 2025 35.0%    0.35 0.0% 35.0% 35.0% 0.35 0.35          1 openai/gpt-5        April 01, 2025 65.0%\n",
      "April 06, 2025 38.0%    0.38 0.0% 38.0% 38.0% 0.38 0.38          1 openai/gpt-5        April 06, 2025 62.0%\n",
      "April 11, 2025 30.0%    0.30 0.0% 30.0% 30.0% 0.30 0.30          1 openai/gpt-5        April 11, 2025 70.0%\n",
      "April 16, 2025 30.0%    0.30 0.0% 30.0% 30.0% 0.30 0.30          1 openai/gpt-5        April 16, 2025 70.0%\n",
      "April 21, 2025 35.0%    0.35 0.0% 35.0% 35.0% 0.35 0.35          1 openai/gpt-5        April 21, 2025 65.0%\n",
      "April 26, 2025 40.0%    0.40 0.0% 40.0% 40.0% 0.40 0.40          1 openai/gpt-5        April 26, 2025 60.0%\n",
      "  May 01, 2025 40.0%    0.40 0.0% 40.0% 40.0% 0.40 0.40          1 openai/gpt-5          May 01, 2025 60.0%\n",
      "  May 06, 2025 34.0%    0.34 0.0% 34.0% 34.0% 0.34 0.34          1 openai/gpt-5          May 06, 2025 66.0%\n",
      "  May 11, 2025 35.0%    0.35 0.0% 35.0% 35.0% 0.35 0.35          1 openai/gpt-5          May 11, 2025 65.0%\n",
      "  May 16, 2025 43.0%    0.43 0.0% 43.0% 43.0% 0.43 0.43          1 openai/gpt-5          May 16, 2025 57.0%\n",
      "  May 21, 2025 45.0%    0.45 0.0% 45.0% 45.0% 0.45 0.45          1 openai/gpt-5          May 21, 2025 55.0%\n",
      "  May 26, 2025 40.0%    0.40 0.0% 40.0% 40.0% 0.40 0.40          1 openai/gpt-5          May 26, 2025 60.0%\n",
      "  May 31, 2025 44.0%    0.44 0.0% 44.0% 44.0% 0.44 0.44          1 openai/gpt-5          May 31, 2025 56.0%\n",
      " June 03, 2025 44.0%    0.44 0.0% 44.0% 44.0% 0.44 0.44          1 openai/gpt-5         June 03, 2025 56.0%\n"
     ]
    }
   ],
   "source": [
    "if evolution_results:\n",
    "    print(\"=\"*80)\n",
    "    print(\"FORECAST EVOLUTION SUMMARY\")\n",
    "    print(\"=\"*80)\n",
    "    print(f\"\\nQuestion: {FORECAST_QUESTION}\")\n",
    "    print(f\"Model: {evolution_results[sorted_dates[0]]['model']}\")\n",
    "    print(f\"Samples per time point: {N_SAMPLES}\")\n",
    "    print(f\"Time range: {stats_df.iloc[0]['date'].strftime('%B %d, %Y')} to {stats_df.iloc[-1]['date'].strftime('%B %d, %Y')}\")\n",
    "    print(f\"Number of time points: {len(stats_df)}\")\n",
    "    \n",
    "    print(f\"\\nInitial forecast ({stats_df.iloc[0]['date'].strftime('%B %d, %Y')}): {stats_df.iloc[0]['mean']:.1%} ± {stats_df.iloc[0]['std']:.1%}\")\n",
    "    print(f\"Final forecast ({stats_df.iloc[-1]['date'].strftime('%B %d, %Y')}): {stats_df.iloc[-1]['mean']:.1%} ± {stats_df.iloc[-1]['std']:.1%}\")\n",
    "    \n",
    "    if ACTUAL_OUTCOME is not None:\n",
    "        print(f\"Actual outcome: {ACTUAL_OUTCOME:.0%}\")\n",
    "        \n",
    "        initial_error = abs(stats_df.iloc[0]['mean'] - ACTUAL_OUTCOME)\n",
    "        final_error = abs(stats_df.iloc[-1]['mean'] - ACTUAL_OUTCOME)\n",
    "        improvement = initial_error - final_error\n",
    "        \n",
    "        print(f\"\\nForecast error improvement: {improvement:+.1%}\")\n",
    "        \n",
    "        if stats_df.iloc[-1]['mean'] > ACTUAL_OUTCOME:\n",
    "            print(f\"Final forecast overestimated by {abs(stats_df.iloc[-1]['mean'] - ACTUAL_OUTCOME):.1%}\")\n",
    "        else:\n",
    "            print(f\"Final forecast underestimated by {abs(stats_df.iloc[-1]['mean'] - ACTUAL_OUTCOME):.1%}\")\n",
    "        \n",
    "        # Find best and worst forecasts\n",
    "        best_idx = (stats_df['mean'] - ACTUAL_OUTCOME).abs().idxmin()\n",
    "        worst_idx = (stats_df['mean'] - ACTUAL_OUTCOME).abs().idxmax()\n",
    "        \n",
    "        print(f\"\\nBest forecast: {stats_df.iloc[best_idx]['date'].strftime('%B %d, %Y')} - {stats_df.iloc[best_idx]['mean']:.1%} (error: {abs(stats_df.iloc[best_idx]['mean'] - ACTUAL_OUTCOME):.1%})\")\n",
    "        print(f\"Worst forecast: {stats_df.iloc[worst_idx]['date'].strftime('%B %d, %Y')} - {stats_df.iloc[worst_idx]['mean']:.1%} (error: {abs(stats_df.iloc[worst_idx]['mean'] - ACTUAL_OUTCOME):.1%})\")\n",
    "    \n",
    "    print(\"\\n\" + \"=\"*80)\n",
    "    \n",
    "    # Display full dataframe\n",
    "    print(\"\\nDetailed Statistics by Time Point:\")\n",
    "    print(\"=\"*80)\n",
    "    display_df = stats_df.copy()\n",
    "    display_df['date'] = display_df['date'].dt.strftime('%B %d, %Y')\n",
    "    display_df['mean'] = display_df['mean'].apply(lambda x: f\"{x:.1%}\")\n",
    "    display_df['std'] = display_df['std'].apply(lambda x: f\"{x:.1%}\")\n",
    "    display_df['min'] = display_df['min'].apply(lambda x: f\"{x:.1%}\")\n",
    "    display_df['max'] = display_df['max'].apply(lambda x: f\"{x:.1%}\")\n",
    "    \n",
    "    if ACTUAL_OUTCOME is not None:\n",
    "        display_df['error'] = (stats_df['mean'] - ACTUAL_OUTCOME).abs().apply(lambda x: f\"{x:.1%}\")\n",
    "    \n",
    "    print(display_df.to_string(index=False))\n",
    "else:\n",
    "    print(\"No evolution data available. Run the data collection cell above first.\")"
   ]
  },
  {
   "cell_type": "markdown",
   "metadata": {},
   "source": [
    "## Key Insights\n",
    "\n",
    "**What This Analysis Shows:**\n",
    "\n",
    "1. **Forecast Improvement**: How much did forecasts improve as more information became available? Look at the difference between initial and final forecast errors.\n",
    "\n",
    "2. **Uncertainty Over Time**: The error bars (±1 standard deviation) show the range of estimates. Narrower bars indicate more consistent forecasts, suggesting either:\n",
    "   - Greater confidence in the prediction\n",
    "   - More deterministic responses from the model\n",
    "\n",
    "3. **Calibration Analysis**: By comparing forecasts to the actual outcome, we can measure forecast accuracy at different time horizons. This helps us understand:\n",
    "   - How far in advance can the model make accurate predictions?\n",
    "   - Does the model systematically over/underestimate certain types of events?\n",
    "\n",
    "4. **Information Shocks**: Large changes between consecutive time points may indicate major news events that shifted predictions. Look for:\n",
    "   - Sudden jumps in the mean probability\n",
    "   - Changes in the standard deviation (uncertainty)\n",
    "\n",
    "**Limitations:**\n",
    "\n",
    "- This analysis assumes the model's knowledge cutoff feature works perfectly\n",
    "- Sample size is limited (10 samples per time point by default)\n",
    "- The model may have access to information about the event even with restricted knowledge cutoffs\n",
    "- Results may vary significantly with different prompt wordings"
   ]
  },
  {
   "cell_type": "code",
   "execution_count": null,
   "metadata": {},
   "outputs": [],
   "source": []
  }
 ],
 "metadata": {
  "kernelspec": {
   "display_name": "Python 3 (ipykernel)",
   "language": "python",
   "name": "python3"
  },
  "language_info": {
   "codemirror_mode": {
    "name": "ipython",
    "version": 3
   },
   "file_extension": ".py",
   "mimetype": "text/x-python",
   "name": "python",
   "nbconvert_exporter": "python",
   "pygments_lexer": "ipython3",
   "version": "3.12.2"
  }
 },
 "nbformat": 4,
 "nbformat_minor": 4
}
