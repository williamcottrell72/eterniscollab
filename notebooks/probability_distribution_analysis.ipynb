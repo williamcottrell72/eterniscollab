{
 "cells": [
  {
   "cell_type": "markdown",
   "metadata": {},
   "source": [
    "# Probability Distribution Analysis\n",
    "\n",
    "This notebook analyzes probability distributions from LLM responses using different temperature settings.\n",
    "We compare OpenAI and Claude models with varying levels of prompt rewording and sampling randomness."
   ]
  },
  {
   "cell_type": "code",
   "execution_count": 1,
   "metadata": {},
   "outputs": [
    {
     "name": "stdout",
     "output_type": "stream",
     "text": [
      "OpenRouter API Key available: True\n"
     ]
    }
   ],
   "source": [
    "import sys\n",
    "sys.path.append('..')\n",
    "import os\n",
    "import numpy as np\n",
    "import plotly.graph_objects as go\n",
    "from plotly.subplots import make_subplots\n",
    "import plotly.express as px\n",
    "from probability_estimator import get_probability_distribution\n",
    "import asyncio\n",
    "\n",
    "# Check for OpenRouter API key\n",
    "openrouter_available = os.environ.get(\"OPENROUTER_API_KEY\") is not None\n",
    "\n",
    "print(f\"OpenRouter API Key available: {openrouter_available}\")"
   ]
  },
  {
   "cell_type": "markdown",
   "metadata": {},
   "source": [
    "## Configuration\n",
    "\n",
    "Set your prompt and parameters here:"
   ]
  },
  {
   "cell_type": "code",
   "execution_count": 2,
   "metadata": {},
   "outputs": [
    {
     "name": "stdout",
     "output_type": "stream",
     "text": [
      "Prompt: How likely is it that Nasdaq hits 7000 before Christmas 2025?\n",
      "Samples per configuration: 10\n",
      "Low temperature: 0.3\n",
      "High temperature: 0.9\n"
     ]
    }
   ],
   "source": [
    "# User-defined prompt\n",
    "USER_PROMPT = \"What is the probability that Kamala Harris runs for president again?\"\n",
    "USER_PROMPT = \"How likely is it that Nasdaq hits 7000 before Christmas 2025?\"\n",
    "\n",
    "# Number of samples to collect for each configuration\n",
    "N_SAMPLES = 10\n",
    "\n",
    "# Temperature settings to test\n",
    "LOW_TEMP = 0.3\n",
    "HIGH_TEMP = 0.9\n",
    "\n",
    "print(f\"Prompt: {USER_PROMPT}\")\n",
    "print(f\"Samples per configuration: {N_SAMPLES}\")\n",
    "print(f\"Low temperature: {LOW_TEMP}\")\n",
    "print(f\"High temperature: {HIGH_TEMP}\")"
   ]
  },
  {
   "cell_type": "markdown",
   "metadata": {},
   "source": [
    "## Collect Data from OpenAI\n",
    "\n",
    "Generate probability distributions using OpenAI with different temperature combinations:"
   ]
  },
  {
   "cell_type": "code",
   "execution_count": 3,
   "metadata": {},
   "outputs": [
    {
     "name": "stdout",
     "output_type": "stream",
     "text": [
      "Collecting OpenAI data via OpenRouter...\n",
      "\n",
      "1. Low reword temp, Low prompt temp...\n",
      "   Mean: 0.495\n",
      "2. Low reword temp, High prompt temp...\n",
      "   Mean: 0.475\n",
      "3. High reword temp, Low prompt temp...\n",
      "   Mean: 0.525\n",
      "4. High reword temp, High prompt temp...\n",
      "   Mean: 0.480\n",
      "\n",
      "OpenAI data collection complete!\n"
     ]
    }
   ],
   "source": [
    "async def collect_openai_data():\n",
    "    \"\"\"Collect OpenAI data using OpenRouter\"\"\"\n",
    "    openai_results = {}\n",
    "\n",
    "    if openrouter_available:\n",
    "        print(\"Collecting OpenAI data via OpenRouter...\\n\")\n",
    "        \n",
    "        # Configuration 1: Low reword temp, Low prompt temp\n",
    "        print(\"1. Low reword temp, Low prompt temp...\")\n",
    "        openai_results['low_low'] = await get_probability_distribution(\n",
    "            prompt=USER_PROMPT,\n",
    "            n_samples=N_SAMPLES,\n",
    "            reword_temperature=LOW_TEMP,\n",
    "            prompt_temperature=LOW_TEMP,\n",
    "            model=\"openai/gpt-4o-mini\"\n",
    "        )\n",
    "        print(f\"   Mean: {np.mean(openai_results['low_low']['probabilities']):.3f}\")\n",
    "        \n",
    "        # Configuration 2: Low reword temp, High prompt temp\n",
    "        print(\"2. Low reword temp, High prompt temp...\")\n",
    "        openai_results['low_high'] = await get_probability_distribution(\n",
    "            prompt=USER_PROMPT,\n",
    "            n_samples=N_SAMPLES,\n",
    "            reword_temperature=LOW_TEMP,\n",
    "            prompt_temperature=HIGH_TEMP,\n",
    "            model=\"openai/gpt-4o-mini\"\n",
    "        )\n",
    "        print(f\"   Mean: {np.mean(openai_results['low_high']['probabilities']):.3f}\")\n",
    "        \n",
    "        # Configuration 3: High reword temp, Low prompt temp\n",
    "        print(\"3. High reword temp, Low prompt temp...\")\n",
    "        openai_results['high_low'] = await get_probability_distribution(\n",
    "            prompt=USER_PROMPT,\n",
    "            n_samples=N_SAMPLES,\n",
    "            reword_temperature=HIGH_TEMP,\n",
    "            prompt_temperature=LOW_TEMP,\n",
    "            model=\"openai/gpt-4o-mini\"\n",
    "        )\n",
    "        print(f\"   Mean: {np.mean(openai_results['high_low']['probabilities']):.3f}\")\n",
    "        \n",
    "        # Configuration 4: High reword temp, High prompt temp\n",
    "        print(\"4. High reword temp, High prompt temp...\")\n",
    "        openai_results['high_high'] = await get_probability_distribution(\n",
    "            prompt=USER_PROMPT,\n",
    "            n_samples=N_SAMPLES,\n",
    "            reword_temperature=HIGH_TEMP,\n",
    "            prompt_temperature=HIGH_TEMP,\n",
    "            model=\"openai/gpt-4o-mini\"\n",
    "        )\n",
    "        print(f\"   Mean: {np.mean(openai_results['high_high']['probabilities']):.3f}\")\n",
    "        \n",
    "        print(\"\\nOpenAI data collection complete!\")\n",
    "    else:\n",
    "        print(\"OpenRouter API key not available. Skipping OpenAI data collection.\")\n",
    "    \n",
    "    return openai_results\n",
    "\n",
    "# Run the async function\n",
    "openai_results = await collect_openai_data()"
   ]
  },
  {
   "cell_type": "markdown",
   "metadata": {},
   "source": [
    "## Collect Data from Claude\n",
    "\n",
    "Generate probability distributions using Claude with different temperature combinations:"
   ]
  },
  {
   "cell_type": "code",
   "execution_count": 4,
   "metadata": {},
   "outputs": [
    {
     "name": "stdout",
     "output_type": "stream",
     "text": [
      "Collecting Claude data via OpenRouter...\n",
      "\n",
      "1. Low reword temp, Low prompt temp...\n",
      "   Mean: 0.633\n",
      "2. Low reword temp, High prompt temp...\n",
      "   Mean: 0.555\n",
      "3. High reword temp, Low prompt temp...\n",
      "   Mean: 0.630\n",
      "4. High reword temp, High prompt temp...\n",
      "   Mean: 0.630\n",
      "\n",
      "Claude data collection complete!\n"
     ]
    }
   ],
   "source": [
    "async def collect_claude_data():\n",
    "    \"\"\"Collect Claude data using OpenRouter\"\"\"\n",
    "    claude_results = {}\n",
    "\n",
    "    if openrouter_available:\n",
    "        print(\"Collecting Claude data via OpenRouter...\\n\")\n",
    "        \n",
    "        # Configuration 1: Low reword temp, Low prompt temp\n",
    "        print(\"1. Low reword temp, Low prompt temp...\")\n",
    "        claude_results['low_low'] = await get_probability_distribution(\n",
    "            prompt=USER_PROMPT,\n",
    "            n_samples=N_SAMPLES,\n",
    "            reword_temperature=LOW_TEMP,\n",
    "            prompt_temperature=LOW_TEMP,\n",
    "            model=\"anthropic/claude-sonnet-4\"\n",
    "        )\n",
    "        print(f\"   Mean: {np.mean(claude_results['low_low']['probabilities']):.3f}\")\n",
    "        \n",
    "        # Configuration 2: Low reword temp, High prompt temp\n",
    "        print(\"2. Low reword temp, High prompt temp...\")\n",
    "        claude_results['low_high'] = await get_probability_distribution(\n",
    "            prompt=USER_PROMPT,\n",
    "            n_samples=N_SAMPLES,\n",
    "            reword_temperature=LOW_TEMP,\n",
    "            prompt_temperature=HIGH_TEMP,\n",
    "            model=\"anthropic/claude-sonnet-4\"\n",
    "        )\n",
    "        print(f\"   Mean: {np.mean(claude_results['low_high']['probabilities']):.3f}\")\n",
    "        \n",
    "        # Configuration 3: High reword temp, Low prompt temp\n",
    "        print(\"3. High reword temp, Low prompt temp...\")\n",
    "        claude_results['high_low'] = await get_probability_distribution(\n",
    "            prompt=USER_PROMPT,\n",
    "            n_samples=N_SAMPLES,\n",
    "            reword_temperature=HIGH_TEMP,\n",
    "            prompt_temperature=LOW_TEMP,\n",
    "            model=\"anthropic/claude-sonnet-4\"\n",
    "        )\n",
    "        print(f\"   Mean: {np.mean(claude_results['high_low']['probabilities']):.3f}\")\n",
    "        \n",
    "        # Configuration 4: High reword temp, High prompt temp\n",
    "        print(\"4. High reword temp, High prompt temp...\")\n",
    "        claude_results['high_high'] = await get_probability_distribution(\n",
    "            prompt=USER_PROMPT,\n",
    "            n_samples=N_SAMPLES,\n",
    "            reword_temperature=HIGH_TEMP,\n",
    "            prompt_temperature=HIGH_TEMP,\n",
    "            model=\"anthropic/claude-sonnet-4\"\n",
    "        )\n",
    "        print(f\"   Mean: {np.mean(claude_results['high_high']['probabilities']):.3f}\")\n",
    "        \n",
    "        print(\"\\nClaude data collection complete!\")\n",
    "    else:\n",
    "        print(\"OpenRouter API key not available. Skipping Claude data collection.\")\n",
    "    \n",
    "    return claude_results\n",
    "\n",
    "# Run the async function\n",
    "claude_results = await collect_claude_data()"
   ]
  },
  {
   "cell_type": "markdown",
   "metadata": {},
   "source": [
    "## Visualize OpenAI Results\n",
    "\n",
    "Create histograms showing the distribution of probabilities for each temperature configuration:"
   ]
  },
  {
   "cell_type": "code",
   "execution_count": 5,
   "metadata": {},
   "outputs": [
    {
     "data": {
      "application/vnd.plotly.v1+json": {
       "config": {
        "plotlyServerURL": "https://plot.ly"
       },
       "data": [
        {
         "hovertemplate": "Probability: %{x:.2%}<br>Count: %{y}<extra></extra>",
         "marker": {
          "color": "steelblue"
         },
         "name": "low_low",
         "nbinsx": 15,
         "showlegend": false,
         "type": "histogram",
         "x": [
          0.6,
          0.3,
          0.6,
          0.6,
          0.45,
          0.4,
          0.4,
          0.4,
          0.6,
          0.6
         ],
         "xaxis": "x",
         "yaxis": "y"
        },
        {
         "hovertemplate": "Probability: %{x:.2%}<br>Count: %{y}<extra></extra>",
         "marker": {
          "color": "steelblue"
         },
         "name": "low_high",
         "nbinsx": 15,
         "showlegend": false,
         "type": "histogram",
         "x": [
          0.6,
          0.6,
          0.4,
          0.35,
          0.6,
          0.4,
          0.4,
          0.4,
          0.4,
          0.6
         ],
         "xaxis": "x2",
         "yaxis": "y2"
        },
        {
         "hovertemplate": "Probability: %{x:.2%}<br>Count: %{y}<extra></extra>",
         "marker": {
          "color": "steelblue"
         },
         "name": "high_low",
         "nbinsx": 15,
         "showlegend": false,
         "type": "histogram",
         "x": [
          0.6,
          0.4,
          0.4,
          0.55,
          0.65,
          0.65,
          0.6,
          0.4,
          0.6,
          0.4
         ],
         "xaxis": "x3",
         "yaxis": "y3"
        },
        {
         "hovertemplate": "Probability: %{x:.2%}<br>Count: %{y}<extra></extra>",
         "marker": {
          "color": "steelblue"
         },
         "name": "high_high",
         "nbinsx": 15,
         "showlegend": false,
         "type": "histogram",
         "x": [
          0.6,
          0.4,
          0.6,
          0.45,
          0.6,
          0.55,
          0.4,
          0.4,
          0.4,
          0.4
         ],
         "xaxis": "x4",
         "yaxis": "y4"
        }
       ],
       "layout": {
        "annotations": [
         {
          "font": {
           "size": 16
          },
          "showarrow": false,
          "text": "Low Reword (0.3), Low Prompt (0.3)",
          "x": 0.22,
          "xanchor": "center",
          "xref": "paper",
          "y": 1,
          "yanchor": "bottom",
          "yref": "paper"
         },
         {
          "font": {
           "size": 16
          },
          "showarrow": false,
          "text": "Low Reword (0.3), High Prompt (0.9)",
          "x": 0.78,
          "xanchor": "center",
          "xref": "paper",
          "y": 1,
          "yanchor": "bottom",
          "yref": "paper"
         },
         {
          "font": {
           "size": 16
          },
          "showarrow": false,
          "text": "High Reword (0.9), Low Prompt (0.3)",
          "x": 0.22,
          "xanchor": "center",
          "xref": "paper",
          "y": 0.425,
          "yanchor": "bottom",
          "yref": "paper"
         },
         {
          "font": {
           "size": 16
          },
          "showarrow": false,
          "text": "High Reword (0.9), High Prompt (0.9)",
          "x": 0.78,
          "xanchor": "center",
          "xref": "paper",
          "y": 0.425,
          "yanchor": "bottom",
          "yref": "paper"
         },
         {
          "font": {
           "size": 16
          },
          "showarrow": false,
          "text": "Mean: 49.50%",
          "x": 0.49499999999999994,
          "xanchor": "center",
          "xref": "x",
          "y": 1,
          "yanchor": "bottom",
          "yref": "y domain"
         },
         {
          "font": {
           "size": 16
          },
          "showarrow": false,
          "text": "Mean: 47.50%",
          "x": 0.475,
          "xanchor": "center",
          "xref": "x2",
          "y": 1,
          "yanchor": "bottom",
          "yref": "y2 domain"
         },
         {
          "font": {
           "size": 16
          },
          "showarrow": false,
          "text": "Mean: 52.50%",
          "x": 0.525,
          "xanchor": "center",
          "xref": "x3",
          "y": 1,
          "yanchor": "bottom",
          "yref": "y3 domain"
         },
         {
          "font": {
           "size": 16
          },
          "showarrow": false,
          "text": "Mean: 48.00%",
          "x": 0.4800000000000001,
          "xanchor": "center",
          "xref": "x4",
          "y": 1,
          "yanchor": "bottom",
          "yref": "y4 domain"
         }
        ],
        "font": {
         "size": 14
        },
        "height": 1000,
        "shapes": [
         {
          "line": {
           "color": "red",
           "dash": "dash"
          },
          "type": "line",
          "x0": 0.49499999999999994,
          "x1": 0.49499999999999994,
          "xref": "x",
          "y0": 0,
          "y1": 1,
          "yref": "y domain"
         },
         {
          "line": {
           "color": "red",
           "dash": "dash"
          },
          "type": "line",
          "x0": 0.475,
          "x1": 0.475,
          "xref": "x2",
          "y0": 0,
          "y1": 1,
          "yref": "y2 domain"
         },
         {
          "line": {
           "color": "red",
           "dash": "dash"
          },
          "type": "line",
          "x0": 0.525,
          "x1": 0.525,
          "xref": "x3",
          "y0": 0,
          "y1": 1,
          "yref": "y3 domain"
         },
         {
          "line": {
           "color": "red",
           "dash": "dash"
          },
          "type": "line",
          "x0": 0.4800000000000001,
          "x1": 0.4800000000000001,
          "xref": "x4",
          "y0": 0,
          "y1": 1,
          "yref": "y4 domain"
         }
        ],
        "showlegend": false,
        "template": {
         "data": {
          "bar": [
           {
            "error_x": {
             "color": "#2a3f5f"
            },
            "error_y": {
             "color": "#2a3f5f"
            },
            "marker": {
             "line": {
              "color": "#E5ECF6",
              "width": 0.5
             },
             "pattern": {
              "fillmode": "overlay",
              "size": 10,
              "solidity": 0.2
             }
            },
            "type": "bar"
           }
          ],
          "barpolar": [
           {
            "marker": {
             "line": {
              "color": "#E5ECF6",
              "width": 0.5
             },
             "pattern": {
              "fillmode": "overlay",
              "size": 10,
              "solidity": 0.2
             }
            },
            "type": "barpolar"
           }
          ],
          "carpet": [
           {
            "aaxis": {
             "endlinecolor": "#2a3f5f",
             "gridcolor": "white",
             "linecolor": "white",
             "minorgridcolor": "white",
             "startlinecolor": "#2a3f5f"
            },
            "baxis": {
             "endlinecolor": "#2a3f5f",
             "gridcolor": "white",
             "linecolor": "white",
             "minorgridcolor": "white",
             "startlinecolor": "#2a3f5f"
            },
            "type": "carpet"
           }
          ],
          "choropleth": [
           {
            "colorbar": {
             "outlinewidth": 0,
             "ticks": ""
            },
            "type": "choropleth"
           }
          ],
          "contour": [
           {
            "colorbar": {
             "outlinewidth": 0,
             "ticks": ""
            },
            "colorscale": [
             [
              0,
              "#0d0887"
             ],
             [
              0.1111111111111111,
              "#46039f"
             ],
             [
              0.2222222222222222,
              "#7201a8"
             ],
             [
              0.3333333333333333,
              "#9c179e"
             ],
             [
              0.4444444444444444,
              "#bd3786"
             ],
             [
              0.5555555555555556,
              "#d8576b"
             ],
             [
              0.6666666666666666,
              "#ed7953"
             ],
             [
              0.7777777777777778,
              "#fb9f3a"
             ],
             [
              0.8888888888888888,
              "#fdca26"
             ],
             [
              1,
              "#f0f921"
             ]
            ],
            "type": "contour"
           }
          ],
          "contourcarpet": [
           {
            "colorbar": {
             "outlinewidth": 0,
             "ticks": ""
            },
            "type": "contourcarpet"
           }
          ],
          "heatmap": [
           {
            "colorbar": {
             "outlinewidth": 0,
             "ticks": ""
            },
            "colorscale": [
             [
              0,
              "#0d0887"
             ],
             [
              0.1111111111111111,
              "#46039f"
             ],
             [
              0.2222222222222222,
              "#7201a8"
             ],
             [
              0.3333333333333333,
              "#9c179e"
             ],
             [
              0.4444444444444444,
              "#bd3786"
             ],
             [
              0.5555555555555556,
              "#d8576b"
             ],
             [
              0.6666666666666666,
              "#ed7953"
             ],
             [
              0.7777777777777778,
              "#fb9f3a"
             ],
             [
              0.8888888888888888,
              "#fdca26"
             ],
             [
              1,
              "#f0f921"
             ]
            ],
            "type": "heatmap"
           }
          ],
          "histogram": [
           {
            "marker": {
             "pattern": {
              "fillmode": "overlay",
              "size": 10,
              "solidity": 0.2
             }
            },
            "type": "histogram"
           }
          ],
          "histogram2d": [
           {
            "colorbar": {
             "outlinewidth": 0,
             "ticks": ""
            },
            "colorscale": [
             [
              0,
              "#0d0887"
             ],
             [
              0.1111111111111111,
              "#46039f"
             ],
             [
              0.2222222222222222,
              "#7201a8"
             ],
             [
              0.3333333333333333,
              "#9c179e"
             ],
             [
              0.4444444444444444,
              "#bd3786"
             ],
             [
              0.5555555555555556,
              "#d8576b"
             ],
             [
              0.6666666666666666,
              "#ed7953"
             ],
             [
              0.7777777777777778,
              "#fb9f3a"
             ],
             [
              0.8888888888888888,
              "#fdca26"
             ],
             [
              1,
              "#f0f921"
             ]
            ],
            "type": "histogram2d"
           }
          ],
          "histogram2dcontour": [
           {
            "colorbar": {
             "outlinewidth": 0,
             "ticks": ""
            },
            "colorscale": [
             [
              0,
              "#0d0887"
             ],
             [
              0.1111111111111111,
              "#46039f"
             ],
             [
              0.2222222222222222,
              "#7201a8"
             ],
             [
              0.3333333333333333,
              "#9c179e"
             ],
             [
              0.4444444444444444,
              "#bd3786"
             ],
             [
              0.5555555555555556,
              "#d8576b"
             ],
             [
              0.6666666666666666,
              "#ed7953"
             ],
             [
              0.7777777777777778,
              "#fb9f3a"
             ],
             [
              0.8888888888888888,
              "#fdca26"
             ],
             [
              1,
              "#f0f921"
             ]
            ],
            "type": "histogram2dcontour"
           }
          ],
          "mesh3d": [
           {
            "colorbar": {
             "outlinewidth": 0,
             "ticks": ""
            },
            "type": "mesh3d"
           }
          ],
          "parcoords": [
           {
            "line": {
             "colorbar": {
              "outlinewidth": 0,
              "ticks": ""
             }
            },
            "type": "parcoords"
           }
          ],
          "pie": [
           {
            "automargin": true,
            "type": "pie"
           }
          ],
          "scatter": [
           {
            "fillpattern": {
             "fillmode": "overlay",
             "size": 10,
             "solidity": 0.2
            },
            "type": "scatter"
           }
          ],
          "scatter3d": [
           {
            "line": {
             "colorbar": {
              "outlinewidth": 0,
              "ticks": ""
             }
            },
            "marker": {
             "colorbar": {
              "outlinewidth": 0,
              "ticks": ""
             }
            },
            "type": "scatter3d"
           }
          ],
          "scattercarpet": [
           {
            "marker": {
             "colorbar": {
              "outlinewidth": 0,
              "ticks": ""
             }
            },
            "type": "scattercarpet"
           }
          ],
          "scattergeo": [
           {
            "marker": {
             "colorbar": {
              "outlinewidth": 0,
              "ticks": ""
             }
            },
            "type": "scattergeo"
           }
          ],
          "scattergl": [
           {
            "marker": {
             "colorbar": {
              "outlinewidth": 0,
              "ticks": ""
             }
            },
            "type": "scattergl"
           }
          ],
          "scattermap": [
           {
            "marker": {
             "colorbar": {
              "outlinewidth": 0,
              "ticks": ""
             }
            },
            "type": "scattermap"
           }
          ],
          "scattermapbox": [
           {
            "marker": {
             "colorbar": {
              "outlinewidth": 0,
              "ticks": ""
             }
            },
            "type": "scattermapbox"
           }
          ],
          "scatterpolar": [
           {
            "marker": {
             "colorbar": {
              "outlinewidth": 0,
              "ticks": ""
             }
            },
            "type": "scatterpolar"
           }
          ],
          "scatterpolargl": [
           {
            "marker": {
             "colorbar": {
              "outlinewidth": 0,
              "ticks": ""
             }
            },
            "type": "scatterpolargl"
           }
          ],
          "scatterternary": [
           {
            "marker": {
             "colorbar": {
              "outlinewidth": 0,
              "ticks": ""
             }
            },
            "type": "scatterternary"
           }
          ],
          "surface": [
           {
            "colorbar": {
             "outlinewidth": 0,
             "ticks": ""
            },
            "colorscale": [
             [
              0,
              "#0d0887"
             ],
             [
              0.1111111111111111,
              "#46039f"
             ],
             [
              0.2222222222222222,
              "#7201a8"
             ],
             [
              0.3333333333333333,
              "#9c179e"
             ],
             [
              0.4444444444444444,
              "#bd3786"
             ],
             [
              0.5555555555555556,
              "#d8576b"
             ],
             [
              0.6666666666666666,
              "#ed7953"
             ],
             [
              0.7777777777777778,
              "#fb9f3a"
             ],
             [
              0.8888888888888888,
              "#fdca26"
             ],
             [
              1,
              "#f0f921"
             ]
            ],
            "type": "surface"
           }
          ],
          "table": [
           {
            "cells": {
             "fill": {
              "color": "#EBF0F8"
             },
             "line": {
              "color": "white"
             }
            },
            "header": {
             "fill": {
              "color": "#C8D4E3"
             },
             "line": {
              "color": "white"
             }
            },
            "type": "table"
           }
          ]
         },
         "layout": {
          "annotationdefaults": {
           "arrowcolor": "#2a3f5f",
           "arrowhead": 0,
           "arrowwidth": 1
          },
          "autotypenumbers": "strict",
          "coloraxis": {
           "colorbar": {
            "outlinewidth": 0,
            "ticks": ""
           }
          },
          "colorscale": {
           "diverging": [
            [
             0,
             "#8e0152"
            ],
            [
             0.1,
             "#c51b7d"
            ],
            [
             0.2,
             "#de77ae"
            ],
            [
             0.3,
             "#f1b6da"
            ],
            [
             0.4,
             "#fde0ef"
            ],
            [
             0.5,
             "#f7f7f7"
            ],
            [
             0.6,
             "#e6f5d0"
            ],
            [
             0.7,
             "#b8e186"
            ],
            [
             0.8,
             "#7fbc41"
            ],
            [
             0.9,
             "#4d9221"
            ],
            [
             1,
             "#276419"
            ]
           ],
           "sequential": [
            [
             0,
             "#0d0887"
            ],
            [
             0.1111111111111111,
             "#46039f"
            ],
            [
             0.2222222222222222,
             "#7201a8"
            ],
            [
             0.3333333333333333,
             "#9c179e"
            ],
            [
             0.4444444444444444,
             "#bd3786"
            ],
            [
             0.5555555555555556,
             "#d8576b"
            ],
            [
             0.6666666666666666,
             "#ed7953"
            ],
            [
             0.7777777777777778,
             "#fb9f3a"
            ],
            [
             0.8888888888888888,
             "#fdca26"
            ],
            [
             1,
             "#f0f921"
            ]
           ],
           "sequentialminus": [
            [
             0,
             "#0d0887"
            ],
            [
             0.1111111111111111,
             "#46039f"
            ],
            [
             0.2222222222222222,
             "#7201a8"
            ],
            [
             0.3333333333333333,
             "#9c179e"
            ],
            [
             0.4444444444444444,
             "#bd3786"
            ],
            [
             0.5555555555555556,
             "#d8576b"
            ],
            [
             0.6666666666666666,
             "#ed7953"
            ],
            [
             0.7777777777777778,
             "#fb9f3a"
            ],
            [
             0.8888888888888888,
             "#fdca26"
            ],
            [
             1,
             "#f0f921"
            ]
           ]
          },
          "colorway": [
           "#636efa",
           "#EF553B",
           "#00cc96",
           "#ab63fa",
           "#FFA15A",
           "#19d3f3",
           "#FF6692",
           "#B6E880",
           "#FF97FF",
           "#FECB52"
          ],
          "font": {
           "color": "#2a3f5f"
          },
          "geo": {
           "bgcolor": "white",
           "lakecolor": "white",
           "landcolor": "#E5ECF6",
           "showlakes": true,
           "showland": true,
           "subunitcolor": "white"
          },
          "hoverlabel": {
           "align": "left"
          },
          "hovermode": "closest",
          "mapbox": {
           "style": "light"
          },
          "paper_bgcolor": "white",
          "plot_bgcolor": "#E5ECF6",
          "polar": {
           "angularaxis": {
            "gridcolor": "white",
            "linecolor": "white",
            "ticks": ""
           },
           "bgcolor": "#E5ECF6",
           "radialaxis": {
            "gridcolor": "white",
            "linecolor": "white",
            "ticks": ""
           }
          },
          "scene": {
           "xaxis": {
            "backgroundcolor": "#E5ECF6",
            "gridcolor": "white",
            "gridwidth": 2,
            "linecolor": "white",
            "showbackground": true,
            "ticks": "",
            "zerolinecolor": "white"
           },
           "yaxis": {
            "backgroundcolor": "#E5ECF6",
            "gridcolor": "white",
            "gridwidth": 2,
            "linecolor": "white",
            "showbackground": true,
            "ticks": "",
            "zerolinecolor": "white"
           },
           "zaxis": {
            "backgroundcolor": "#E5ECF6",
            "gridcolor": "white",
            "gridwidth": 2,
            "linecolor": "white",
            "showbackground": true,
            "ticks": "",
            "zerolinecolor": "white"
           }
          },
          "shapedefaults": {
           "line": {
            "color": "#2a3f5f"
           }
          },
          "ternary": {
           "aaxis": {
            "gridcolor": "white",
            "linecolor": "white",
            "ticks": ""
           },
           "baxis": {
            "gridcolor": "white",
            "linecolor": "white",
            "ticks": ""
           },
           "bgcolor": "#E5ECF6",
           "caxis": {
            "gridcolor": "white",
            "linecolor": "white",
            "ticks": ""
           }
          },
          "title": {
           "x": 0.05
          },
          "xaxis": {
           "automargin": true,
           "gridcolor": "white",
           "linecolor": "white",
           "ticks": "",
           "title": {
            "standoff": 15
           },
           "zerolinecolor": "white",
           "zerolinewidth": 2
          },
          "yaxis": {
           "automargin": true,
           "gridcolor": "white",
           "linecolor": "white",
           "ticks": "",
           "title": {
            "standoff": 15
           },
           "zerolinecolor": "white",
           "zerolinewidth": 2
          }
         }
        },
        "title": {
         "font": {
          "size": 20
         },
         "text": "OpenAI Probability Distributions (via OpenRouter)<br><sub>How likely is it that Nasdaq hits 7000 before Christmas 2025?</sub>"
        },
        "width": 1400,
        "xaxis": {
         "anchor": "y",
         "domain": [
          0,
          0.44
         ],
         "range": [
          0,
          1
         ],
         "tickfont": {
          "size": 14
         },
         "title": {
          "font": {
           "size": 16
          },
          "text": "Probability"
         }
        },
        "xaxis2": {
         "anchor": "y2",
         "domain": [
          0.56,
          1
         ],
         "range": [
          0,
          1
         ],
         "tickfont": {
          "size": 14
         },
         "title": {
          "font": {
           "size": 16
          },
          "text": "Probability"
         }
        },
        "xaxis3": {
         "anchor": "y3",
         "domain": [
          0,
          0.44
         ],
         "range": [
          0,
          1
         ],
         "tickfont": {
          "size": 14
         },
         "title": {
          "font": {
           "size": 16
          },
          "text": "Probability"
         }
        },
        "xaxis4": {
         "anchor": "y4",
         "domain": [
          0.56,
          1
         ],
         "range": [
          0,
          1
         ],
         "tickfont": {
          "size": 14
         },
         "title": {
          "font": {
           "size": 16
          },
          "text": "Probability"
         }
        },
        "yaxis": {
         "anchor": "x",
         "domain": [
          0.575,
          1
         ],
         "tickfont": {
          "size": 14
         },
         "title": {
          "font": {
           "size": 16
          },
          "text": "Count"
         }
        },
        "yaxis2": {
         "anchor": "x2",
         "domain": [
          0.575,
          1
         ],
         "tickfont": {
          "size": 14
         },
         "title": {
          "font": {
           "size": 16
          },
          "text": "Count"
         }
        },
        "yaxis3": {
         "anchor": "x3",
         "domain": [
          0,
          0.425
         ],
         "tickfont": {
          "size": 14
         },
         "title": {
          "font": {
           "size": 16
          },
          "text": "Count"
         }
        },
        "yaxis4": {
         "anchor": "x4",
         "domain": [
          0,
          0.425
         ],
         "tickfont": {
          "size": 14
         },
         "title": {
          "font": {
           "size": 16
          },
          "text": "Count"
         }
        }
       }
      },
      "image/png": "[encoded data removed]"
     },
     "metadata": {},
     "output_type": "display_data"
    }
   ],
   "source": [
    "if openrouter_available and openai_results:\n",
    "    # Create subplots: 2x2 grid with larger size and better spacing\n",
    "    fig = make_subplots(\n",
    "        rows=2, cols=2,\n",
    "        subplot_titles=(\n",
    "            f'Low Reword ({LOW_TEMP}), Low Prompt ({LOW_TEMP})',\n",
    "            f'Low Reword ({LOW_TEMP}), High Prompt ({HIGH_TEMP})',\n",
    "            f'High Reword ({HIGH_TEMP}), Low Prompt ({LOW_TEMP})',\n",
    "            f'High Reword ({HIGH_TEMP}), High Prompt ({HIGH_TEMP})'\n",
    "        ),\n",
    "        vertical_spacing=0.15,\n",
    "        horizontal_spacing=0.12\n",
    "    )\n",
    "    \n",
    "    configs = [\n",
    "        ('low_low', 1, 1),\n",
    "        ('low_high', 1, 2),\n",
    "        ('high_low', 2, 1),\n",
    "        ('high_high', 2, 2)\n",
    "    ]\n",
    "    \n",
    "    for config_name, row, col in configs:\n",
    "        probs = openai_results[config_name]['probabilities']\n",
    "        \n",
    "        fig.add_trace(\n",
    "            go.Histogram(\n",
    "                x=probs,\n",
    "                nbinsx=15,\n",
    "                name=config_name,\n",
    "                marker_color='steelblue',\n",
    "                showlegend=False,\n",
    "                hovertemplate='Probability: %{x:.2%}<br>Count: %{y}<extra></extra>'\n",
    "            ),\n",
    "            row=row, col=col\n",
    "        )\n",
    "        \n",
    "        # Add mean line\n",
    "        mean_val = np.mean(probs)\n",
    "        fig.add_vline(\n",
    "            x=mean_val,\n",
    "            line_dash=\"dash\",\n",
    "            line_color=\"red\",\n",
    "            annotation_text=f\"Mean: {mean_val:.2%}\",\n",
    "            annotation_position=\"top\",\n",
    "            annotation_font_size=14,\n",
    "            row=row, col=col\n",
    "        )\n",
    "    \n",
    "    # Update axes with larger fonts\n",
    "    fig.update_xaxes(title_text=\"Probability\", range=[0, 1], title_font_size=16, tickfont_size=14)\n",
    "    fig.update_yaxes(title_text=\"Count\", title_font_size=16, tickfont_size=14)\n",
    "    \n",
    "    # Update layout with larger figure and fonts\n",
    "    fig.update_layout(\n",
    "        title_text=f\"OpenAI Probability Distributions (via OpenRouter)<br><sub>{USER_PROMPT}</sub>\",\n",
    "        title_font_size=20,\n",
    "        height=1000,  # Increased from 700\n",
    "        width=1400,   # Added width\n",
    "        showlegend=False,\n",
    "        font=dict(size=14)\n",
    "    )\n",
    "    \n",
    "    # Update subplot titles font size\n",
    "    for annotation in fig['layout']['annotations']:\n",
    "        annotation['font'] = dict(size=16)\n",
    "    \n",
    "    fig.show()\n",
    "else:\n",
    "    print(\"No OpenAI data to visualize.\")"
   ]
  },
  {
   "cell_type": "markdown",
   "metadata": {},
   "source": [
    "## Visualize Claude Results\n",
    "\n",
    "Create histograms showing the distribution of probabilities for each temperature configuration:"
   ]
  },
  {
   "cell_type": "code",
   "execution_count": 6,
   "metadata": {},
   "outputs": [
    {
     "data": {
      "application/vnd.plotly.v1+json": {
       "config": {
        "plotlyServerURL": "https://plot.ly"
       },
       "data": [
        {
         "hovertemplate": "Probability: %{x:.2%}<br>Count: %{y}<extra></extra>",
         "marker": {
          "color": "coral"
         },
         "name": "low_low",
         "nbinsx": 15,
         "showlegend": false,
         "type": "histogram",
         "x": [
          0.7,
          0.35,
          0.7,
          0.7,
          0.7,
          0.65,
          0.7,
          0.63,
          0.65,
          0.55
         ],
         "xaxis": "x",
         "yaxis": "y"
        },
        {
         "hovertemplate": "Probability: %{x:.2%}<br>Count: %{y}<extra></extra>",
         "marker": {
          "color": "coral"
         },
         "name": "low_high",
         "nbinsx": 15,
         "showlegend": false,
         "type": "histogram",
         "x": [
          0.55,
          0.7,
          0.05,
          0.7,
          0.7,
          0.55,
          0.65,
          0.55,
          0.55,
          0.55
         ],
         "xaxis": "x2",
         "yaxis": "y2"
        },
        {
         "hovertemplate": "Probability: %{x:.2%}<br>Count: %{y}<extra></extra>",
         "marker": {
          "color": "coral"
         },
         "name": "high_low",
         "nbinsx": 15,
         "showlegend": false,
         "type": "histogram",
         "x": [
          0.65,
          0.5,
          0.7,
          0.7,
          0.7,
          0.7,
          0.55,
          0.55,
          0.7,
          0.55
         ],
         "xaxis": "x3",
         "yaxis": "y3"
        },
        {
         "hovertemplate": "Probability: %{x:.2%}<br>Count: %{y}<extra></extra>",
         "marker": {
          "color": "coral"
         },
         "name": "high_high",
         "nbinsx": 15,
         "showlegend": false,
         "type": "histogram",
         "x": [
          0.65,
          0.7,
          0.55,
          0.55,
          0.7,
          0.7,
          0.7,
          0.5,
          0.55,
          0.7
         ],
         "xaxis": "x4",
         "yaxis": "y4"
        }
       ],
       "layout": {
        "annotations": [
         {
          "font": {
           "size": 16
          },
          "showarrow": false,
          "text": "Low Reword (0.3), Low Prompt (0.3)",
          "x": 0.22,
          "xanchor": "center",
          "xref": "paper",
          "y": 1,
          "yanchor": "bottom",
          "yref": "paper"
         },
         {
          "font": {
           "size": 16
          },
          "showarrow": false,
          "text": "Low Reword (0.3), High Prompt (0.9)",
          "x": 0.78,
          "xanchor": "center",
          "xref": "paper",
          "y": 1,
          "yanchor": "bottom",
          "yref": "paper"
         },
         {
          "font": {
           "size": 16
          },
          "showarrow": false,
          "text": "High Reword (0.9), Low Prompt (0.3)",
          "x": 0.22,
          "xanchor": "center",
          "xref": "paper",
          "y": 0.425,
          "yanchor": "bottom",
          "yref": "paper"
         },
         {
          "font": {
           "size": 16
          },
          "showarrow": false,
          "text": "High Reword (0.9), High Prompt (0.9)",
          "x": 0.78,
          "xanchor": "center",
          "xref": "paper",
          "y": 0.425,
          "yanchor": "bottom",
          "yref": "paper"
         },
         {
          "font": {
           "size": 16
          },
          "showarrow": false,
          "text": "Mean: 63.30%",
          "x": 0.633,
          "xanchor": "center",
          "xref": "x",
          "y": 1,
          "yanchor": "bottom",
          "yref": "y domain"
         },
         {
          "font": {
           "size": 16
          },
          "showarrow": false,
          "text": "Mean: 55.50%",
          "x": 0.5549999999999999,
          "xanchor": "center",
          "xref": "x2",
          "y": 1,
          "yanchor": "bottom",
          "yref": "y2 domain"
         },
         {
          "font": {
           "size": 16
          },
          "showarrow": false,
          "text": "Mean: 63.00%",
          "x": 0.63,
          "xanchor": "center",
          "xref": "x3",
          "y": 1,
          "yanchor": "bottom",
          "yref": "y3 domain"
         },
         {
          "font": {
           "size": 16
          },
          "showarrow": false,
          "text": "Mean: 63.00%",
          "x": 0.63,
          "xanchor": "center",
          "xref": "x4",
          "y": 1,
          "yanchor": "bottom",
          "yref": "y4 domain"
         }
        ],
        "font": {
         "size": 14
        },
        "height": 1000,
        "shapes": [
         {
          "line": {
           "color": "darkred",
           "dash": "dash"
          },
          "type": "line",
          "x0": 0.633,
          "x1": 0.633,
          "xref": "x",
          "y0": 0,
          "y1": 1,
          "yref": "y domain"
         },
         {
          "line": {
           "color": "darkred",
           "dash": "dash"
          },
          "type": "line",
          "x0": 0.5549999999999999,
          "x1": 0.5549999999999999,
          "xref": "x2",
          "y0": 0,
          "y1": 1,
          "yref": "y2 domain"
         },
         {
          "line": {
           "color": "darkred",
           "dash": "dash"
          },
          "type": "line",
          "x0": 0.63,
          "x1": 0.63,
          "xref": "x3",
          "y0": 0,
          "y1": 1,
          "yref": "y3 domain"
         },
         {
          "line": {
           "color": "darkred",
           "dash": "dash"
          },
          "type": "line",
          "x0": 0.63,
          "x1": 0.63,
          "xref": "x4",
          "y0": 0,
          "y1": 1,
          "yref": "y4 domain"
         }
        ],
        "showlegend": false,
        "template": {
         "data": {
          "bar": [
           {
            "error_x": {
             "color": "#2a3f5f"
            },
            "error_y": {
             "color": "#2a3f5f"
            },
            "marker": {
             "line": {
              "color": "#E5ECF6",
              "width": 0.5
             },
             "pattern": {
              "fillmode": "overlay",
              "size": 10,
              "solidity": 0.2
             }
            },
            "type": "bar"
           }
          ],
          "barpolar": [
           {
            "marker": {
             "line": {
              "color": "#E5ECF6",
              "width": 0.5
             },
             "pattern": {
              "fillmode": "overlay",
              "size": 10,
              "solidity": 0.2
             }
            },
            "type": "barpolar"
           }
          ],
          "carpet": [
           {
            "aaxis": {
             "endlinecolor": "#2a3f5f",
             "gridcolor": "white",
             "linecolor": "white",
             "minorgridcolor": "white",
             "startlinecolor": "#2a3f5f"
            },
            "baxis": {
             "endlinecolor": "#2a3f5f",
             "gridcolor": "white",
             "linecolor": "white",
             "minorgridcolor": "white",
             "startlinecolor": "#2a3f5f"
            },
            "type": "carpet"
           }
          ],
          "choropleth": [
           {
            "colorbar": {
             "outlinewidth": 0,
             "ticks": ""
            },
            "type": "choropleth"
           }
          ],
          "contour": [
           {
            "colorbar": {
             "outlinewidth": 0,
             "ticks": ""
            },
            "colorscale": [
             [
              0,
              "#0d0887"
             ],
             [
              0.1111111111111111,
              "#46039f"
             ],
             [
              0.2222222222222222,
              "#7201a8"
             ],
             [
              0.3333333333333333,
              "#9c179e"
             ],
             [
              0.4444444444444444,
              "#bd3786"
             ],
             [
              0.5555555555555556,
              "#d8576b"
             ],
             [
              0.6666666666666666,
              "#ed7953"
             ],
             [
              0.7777777777777778,
              "#fb9f3a"
             ],
             [
              0.8888888888888888,
              "#fdca26"
             ],
             [
              1,
              "#f0f921"
             ]
            ],
            "type": "contour"
           }
          ],
          "contourcarpet": [
           {
            "colorbar": {
             "outlinewidth": 0,
             "ticks": ""
            },
            "type": "contourcarpet"
           }
          ],
          "heatmap": [
           {
            "colorbar": {
             "outlinewidth": 0,
             "ticks": ""
            },
            "colorscale": [
             [
              0,
              "#0d0887"
             ],
             [
              0.1111111111111111,
              "#46039f"
             ],
             [
              0.2222222222222222,
              "#7201a8"
             ],
             [
              0.3333333333333333,
              "#9c179e"
             ],
             [
              0.4444444444444444,
              "#bd3786"
             ],
             [
              0.5555555555555556,
              "#d8576b"
             ],
             [
              0.6666666666666666,
              "#ed7953"
             ],
             [
              0.7777777777777778,
              "#fb9f3a"
             ],
             [
              0.8888888888888888,
              "#fdca26"
             ],
             [
              1,
              "#f0f921"
             ]
            ],
            "type": "heatmap"
           }
          ],
          "histogram": [
           {
            "marker": {
             "pattern": {
              "fillmode": "overlay",
              "size": 10,
              "solidity": 0.2
             }
            },
            "type": "histogram"
           }
          ],
          "histogram2d": [
           {
            "colorbar": {
             "outlinewidth": 0,
             "ticks": ""
            },
            "colorscale": [
             [
              0,
              "#0d0887"
             ],
             [
              0.1111111111111111,
              "#46039f"
             ],
             [
              0.2222222222222222,
              "#7201a8"
             ],
             [
              0.3333333333333333,
              "#9c179e"
             ],
             [
              0.4444444444444444,
              "#bd3786"
             ],
             [
              0.5555555555555556,
              "#d8576b"
             ],
             [
              0.6666666666666666,
              "#ed7953"
             ],
             [
              0.7777777777777778,
              "#fb9f3a"
             ],
             [
              0.8888888888888888,
              "#fdca26"
             ],
             [
              1,
              "#f0f921"
             ]
            ],
            "type": "histogram2d"
           }
          ],
          "histogram2dcontour": [
           {
            "colorbar": {
             "outlinewidth": 0,
             "ticks": ""
            },
            "colorscale": [
             [
              0,
              "#0d0887"
             ],
             [
              0.1111111111111111,
              "#46039f"
             ],
             [
              0.2222222222222222,
              "#7201a8"
             ],
             [
              0.3333333333333333,
              "#9c179e"
             ],
             [
              0.4444444444444444,
              "#bd3786"
             ],
             [
              0.5555555555555556,
              "#d8576b"
             ],
             [
              0.6666666666666666,
              "#ed7953"
             ],
             [
              0.7777777777777778,
              "#fb9f3a"
             ],
             [
              0.8888888888888888,
              "#fdca26"
             ],
             [
              1,
              "#f0f921"
             ]
            ],
            "type": "histogram2dcontour"
           }
          ],
          "mesh3d": [
           {
            "colorbar": {
             "outlinewidth": 0,
             "ticks": ""
            },
            "type": "mesh3d"
           }
          ],
          "parcoords": [
           {
            "line": {
             "colorbar": {
              "outlinewidth": 0,
              "ticks": ""
             }
            },
            "type": "parcoords"
           }
          ],
          "pie": [
           {
            "automargin": true,
            "type": "pie"
           }
          ],
          "scatter": [
           {
            "fillpattern": {
             "fillmode": "overlay",
             "size": 10,
             "solidity": 0.2
            },
            "type": "scatter"
           }
          ],
          "scatter3d": [
           {
            "line": {
             "colorbar": {
              "outlinewidth": 0,
              "ticks": ""
             }
            },
            "marker": {
             "colorbar": {
              "outlinewidth": 0,
              "ticks": ""
             }
            },
            "type": "scatter3d"
           }
          ],
          "scattercarpet": [
           {
            "marker": {
             "colorbar": {
              "outlinewidth": 0,
              "ticks": ""
             }
            },
            "type": "scattercarpet"
           }
          ],
          "scattergeo": [
           {
            "marker": {
             "colorbar": {
              "outlinewidth": 0,
              "ticks": ""
             }
            },
            "type": "scattergeo"
           }
          ],
          "scattergl": [
           {
            "marker": {
             "colorbar": {
              "outlinewidth": 0,
              "ticks": ""
             }
            },
            "type": "scattergl"
           }
          ],
          "scattermap": [
           {
            "marker": {
             "colorbar": {
              "outlinewidth": 0,
              "ticks": ""
             }
            },
            "type": "scattermap"
           }
          ],
          "scattermapbox": [
           {
            "marker": {
             "colorbar": {
              "outlinewidth": 0,
              "ticks": ""
             }
            },
            "type": "scattermapbox"
           }
          ],
          "scatterpolar": [
           {
            "marker": {
             "colorbar": {
              "outlinewidth": 0,
              "ticks": ""
             }
            },
            "type": "scatterpolar"
           }
          ],
          "scatterpolargl": [
           {
            "marker": {
             "colorbar": {
              "outlinewidth": 0,
              "ticks": ""
             }
            },
            "type": "scatterpolargl"
           }
          ],
          "scatterternary": [
           {
            "marker": {
             "colorbar": {
              "outlinewidth": 0,
              "ticks": ""
             }
            },
            "type": "scatterternary"
           }
          ],
          "surface": [
           {
            "colorbar": {
             "outlinewidth": 0,
             "ticks": ""
            },
            "colorscale": [
             [
              0,
              "#0d0887"
             ],
             [
              0.1111111111111111,
              "#46039f"
             ],
             [
              0.2222222222222222,
              "#7201a8"
             ],
             [
              0.3333333333333333,
              "#9c179e"
             ],
             [
              0.4444444444444444,
              "#bd3786"
             ],
             [
              0.5555555555555556,
              "#d8576b"
             ],
             [
              0.6666666666666666,
              "#ed7953"
             ],
             [
              0.7777777777777778,
              "#fb9f3a"
             ],
             [
              0.8888888888888888,
              "#fdca26"
             ],
             [
              1,
              "#f0f921"
             ]
            ],
            "type": "surface"
           }
          ],
          "table": [
           {
            "cells": {
             "fill": {
              "color": "#EBF0F8"
             },
             "line": {
              "color": "white"
             }
            },
            "header": {
             "fill": {
              "color": "#C8D4E3"
             },
             "line": {
              "color": "white"
             }
            },
            "type": "table"
           }
          ]
         },
         "layout": {
          "annotationdefaults": {
           "arrowcolor": "#2a3f5f",
           "arrowhead": 0,
           "arrowwidth": 1
          },
          "autotypenumbers": "strict",
          "coloraxis": {
           "colorbar": {
            "outlinewidth": 0,
            "ticks": ""
           }
          },
          "colorscale": {
           "diverging": [
            [
             0,
             "#8e0152"
            ],
            [
             0.1,
             "#c51b7d"
            ],
            [
             0.2,
             "#de77ae"
            ],
            [
             0.3,
             "#f1b6da"
            ],
            [
             0.4,
             "#fde0ef"
            ],
            [
             0.5,
             "#f7f7f7"
            ],
            [
             0.6,
             "#e6f5d0"
            ],
            [
             0.7,
             "#b8e186"
            ],
            [
             0.8,
             "#7fbc41"
            ],
            [
             0.9,
             "#4d9221"
            ],
            [
             1,
             "#276419"
            ]
           ],
           "sequential": [
            [
             0,
             "#0d0887"
            ],
            [
             0.1111111111111111,
             "#46039f"
            ],
            [
             0.2222222222222222,
             "#7201a8"
            ],
            [
             0.3333333333333333,
             "#9c179e"
            ],
            [
             0.4444444444444444,
             "#bd3786"
            ],
            [
             0.5555555555555556,
             "#d8576b"
            ],
            [
             0.6666666666666666,
             "#ed7953"
            ],
            [
             0.7777777777777778,
             "#fb9f3a"
            ],
            [
             0.8888888888888888,
             "#fdca26"
            ],
            [
             1,
             "#f0f921"
            ]
           ],
           "sequentialminus": [
            [
             0,
             "#0d0887"
            ],
            [
             0.1111111111111111,
             "#46039f"
            ],
            [
             0.2222222222222222,
             "#7201a8"
            ],
            [
             0.3333333333333333,
             "#9c179e"
            ],
            [
             0.4444444444444444,
             "#bd3786"
            ],
            [
             0.5555555555555556,
             "#d8576b"
            ],
            [
             0.6666666666666666,
             "#ed7953"
            ],
            [
             0.7777777777777778,
             "#fb9f3a"
            ],
            [
             0.8888888888888888,
             "#fdca26"
            ],
            [
             1,
             "#f0f921"
            ]
           ]
          },
          "colorway": [
           "#636efa",
           "#EF553B",
           "#00cc96",
           "#ab63fa",
           "#FFA15A",
           "#19d3f3",
           "#FF6692",
           "#B6E880",
           "#FF97FF",
           "#FECB52"
          ],
          "font": {
           "color": "#2a3f5f"
          },
          "geo": {
           "bgcolor": "white",
           "lakecolor": "white",
           "landcolor": "#E5ECF6",
           "showlakes": true,
           "showland": true,
           "subunitcolor": "white"
          },
          "hoverlabel": {
           "align": "left"
          },
          "hovermode": "closest",
          "mapbox": {
           "style": "light"
          },
          "paper_bgcolor": "white",
          "plot_bgcolor": "#E5ECF6",
          "polar": {
           "angularaxis": {
            "gridcolor": "white",
            "linecolor": "white",
            "ticks": ""
           },
           "bgcolor": "#E5ECF6",
           "radialaxis": {
            "gridcolor": "white",
            "linecolor": "white",
            "ticks": ""
           }
          },
          "scene": {
           "xaxis": {
            "backgroundcolor": "#E5ECF6",
            "gridcolor": "white",
            "gridwidth": 2,
            "linecolor": "white",
            "showbackground": true,
            "ticks": "",
            "zerolinecolor": "white"
           },
           "yaxis": {
            "backgroundcolor": "#E5ECF6",
            "gridcolor": "white",
            "gridwidth": 2,
            "linecolor": "white",
            "showbackground": true,
            "ticks": "",
            "zerolinecolor": "white"
           },
           "zaxis": {
            "backgroundcolor": "#E5ECF6",
            "gridcolor": "white",
            "gridwidth": 2,
            "linecolor": "white",
            "showbackground": true,
            "ticks": "",
            "zerolinecolor": "white"
           }
          },
          "shapedefaults": {
           "line": {
            "color": "#2a3f5f"
           }
          },
          "ternary": {
           "aaxis": {
            "gridcolor": "white",
            "linecolor": "white",
            "ticks": ""
           },
           "baxis": {
            "gridcolor": "white",
            "linecolor": "white",
            "ticks": ""
           },
           "bgcolor": "#E5ECF6",
           "caxis": {
            "gridcolor": "white",
            "linecolor": "white",
            "ticks": ""
           }
          },
          "title": {
           "x": 0.05
          },
          "xaxis": {
           "automargin": true,
           "gridcolor": "white",
           "linecolor": "white",
           "ticks": "",
           "title": {
            "standoff": 15
           },
           "zerolinecolor": "white",
           "zerolinewidth": 2
          },
          "yaxis": {
           "automargin": true,
           "gridcolor": "white",
           "linecolor": "white",
           "ticks": "",
           "title": {
            "standoff": 15
           },
           "zerolinecolor": "white",
           "zerolinewidth": 2
          }
         }
        },
        "title": {
         "font": {
          "size": 20
         },
         "text": "Claude Probability Distributions (via OpenRouter)<br><sub>How likely is it that Nasdaq hits 7000 before Christmas 2025?</sub>"
        },
        "width": 1400,
        "xaxis": {
         "anchor": "y",
         "domain": [
          0,
          0.44
         ],
         "range": [
          0,
          1
         ],
         "tickfont": {
          "size": 14
         },
         "title": {
          "font": {
           "size": 16
          },
          "text": "Probability"
         }
        },
        "xaxis2": {
         "anchor": "y2",
         "domain": [
          0.56,
          1
         ],
         "range": [
          0,
          1
         ],
         "tickfont": {
          "size": 14
         },
         "title": {
          "font": {
           "size": 16
          },
          "text": "Probability"
         }
        },
        "xaxis3": {
         "anchor": "y3",
         "domain": [
          0,
          0.44
         ],
         "range": [
          0,
          1
         ],
         "tickfont": {
          "size": 14
         },
         "title": {
          "font": {
           "size": 16
          },
          "text": "Probability"
         }
        },
        "xaxis4": {
         "anchor": "y4",
         "domain": [
          0.56,
          1
         ],
         "range": [
          0,
          1
         ],
         "tickfont": {
          "size": 14
         },
         "title": {
          "font": {
           "size": 16
          },
          "text": "Probability"
         }
        },
        "yaxis": {
         "anchor": "x",
         "domain": [
          0.575,
          1
         ],
         "tickfont": {
          "size": 14
         },
         "title": {
          "font": {
           "size": 16
          },
          "text": "Count"
         }
        },
        "yaxis2": {
         "anchor": "x2",
         "domain": [
          0.575,
          1
         ],
         "tickfont": {
          "size": 14
         },
         "title": {
          "font": {
           "size": 16
          },
          "text": "Count"
         }
        },
        "yaxis3": {
         "anchor": "x3",
         "domain": [
          0,
          0.425
         ],
         "tickfont": {
          "size": 14
         },
         "title": {
          "font": {
           "size": 16
          },
          "text": "Count"
         }
        },
        "yaxis4": {
         "anchor": "x4",
         "domain": [
          0,
          0.425
         ],
         "tickfont": {
          "size": 14
         },
         "title": {
          "font": {
           "size": 16
          },
          "text": "Count"
         }
        }
       }
      },
      "image/png": "[encoded data removed]"
     },
     "metadata": {},
     "output_type": "display_data"
    }
   ],
   "source": [
    "if openrouter_available and claude_results:\n",
    "    # Create subplots: 2x2 grid with larger size and better spacing\n",
    "    fig = make_subplots(\n",
    "        rows=2, cols=2,\n",
    "        subplot_titles=(\n",
    "            f'Low Reword ({LOW_TEMP}), Low Prompt ({LOW_TEMP})',\n",
    "            f'Low Reword ({LOW_TEMP}), High Prompt ({HIGH_TEMP})',\n",
    "            f'High Reword ({HIGH_TEMP}), Low Prompt ({LOW_TEMP})',\n",
    "            f'High Reword ({HIGH_TEMP}), High Prompt ({HIGH_TEMP})'\n",
    "        ),\n",
    "        vertical_spacing=0.15,\n",
    "        horizontal_spacing=0.12\n",
    "    )\n",
    "    \n",
    "    configs = [\n",
    "        ('low_low', 1, 1),\n",
    "        ('low_high', 1, 2),\n",
    "        ('high_low', 2, 1),\n",
    "        ('high_high', 2, 2)\n",
    "    ]\n",
    "    \n",
    "    for config_name, row, col in configs:\n",
    "        probs = claude_results[config_name]['probabilities']\n",
    "        \n",
    "        fig.add_trace(\n",
    "            go.Histogram(\n",
    "                x=probs,\n",
    "                nbinsx=15,\n",
    "                name=config_name,\n",
    "                marker_color='coral',\n",
    "                showlegend=False,\n",
    "                hovertemplate='Probability: %{x:.2%}<br>Count: %{y}<extra></extra>'\n",
    "            ),\n",
    "            row=row, col=col\n",
    "        )\n",
    "        \n",
    "        # Add mean line\n",
    "        mean_val = np.mean(probs)\n",
    "        fig.add_vline(\n",
    "            x=mean_val,\n",
    "            line_dash=\"dash\",\n",
    "            line_color=\"darkred\",\n",
    "            annotation_text=f\"Mean: {mean_val:.2%}\",\n",
    "            annotation_position=\"top\",\n",
    "            annotation_font_size=14,\n",
    "            row=row, col=col\n",
    "        )\n",
    "    \n",
    "    # Update axes with larger fonts\n",
    "    fig.update_xaxes(title_text=\"Probability\", range=[0, 1], title_font_size=16, tickfont_size=14)\n",
    "    fig.update_yaxes(title_text=\"Count\", title_font_size=16, tickfont_size=14)\n",
    "    \n",
    "    # Update layout with larger figure and fonts\n",
    "    fig.update_layout(\n",
    "        title_text=f\"Claude Probability Distributions (via OpenRouter)<br><sub>{USER_PROMPT}</sub>\",\n",
    "        title_font_size=20,\n",
    "        height=1000,  # Increased from 700\n",
    "        width=1400,   # Added width\n",
    "        showlegend=False,\n",
    "        font=dict(size=14)\n",
    "    )\n",
    "    \n",
    "    # Update subplot titles font size\n",
    "    for annotation in fig['layout']['annotations']:\n",
    "        annotation['font'] = dict(size=16)\n",
    "    \n",
    "    fig.show()\n",
    "else:\n",
    "    print(\"No Claude data to visualize.\")"
   ]
  },
  {
   "cell_type": "markdown",
   "metadata": {},
   "source": [
    "## Statistical Summary\n",
    "\n",
    "Compare the statistics across all configurations:"
   ]
  },
  {
   "cell_type": "code",
   "execution_count": 7,
   "metadata": {},
   "outputs": [
    {
     "name": "stdout",
     "output_type": "stream",
     "text": [
      "\n",
      "Statistical Summary for: How likely is it that Nasdaq hits 7000 before Christmas 2025?\n",
      "====================================================================================================\n",
      "               Provider                     Model Configuration  Reword Temp  Prompt Temp  Mean Std Dev   Min   Max Median\n",
      "OpenAI (via OpenRouter)        openai/gpt-4o-mini       Low Low          0.3          0.3 0.495   0.111 0.300 0.600  0.525\n",
      "OpenAI (via OpenRouter)        openai/gpt-4o-mini      Low High          0.3          0.9 0.475   0.103 0.350 0.600  0.400\n",
      "OpenAI (via OpenRouter)        openai/gpt-4o-mini      High Low          0.9          0.3 0.525   0.105 0.400 0.650  0.575\n",
      "OpenAI (via OpenRouter)        openai/gpt-4o-mini     High High          0.9          0.9 0.480   0.090 0.400 0.600  0.425\n",
      "Claude (via OpenRouter) anthropic/claude-sonnet-4       Low Low          0.3          0.3 0.633   0.105 0.350 0.700  0.675\n",
      "Claude (via OpenRouter) anthropic/claude-sonnet-4      Low High          0.3          0.9 0.555   0.181 0.050 0.700  0.550\n",
      "Claude (via OpenRouter) anthropic/claude-sonnet-4      High Low          0.9          0.3 0.630   0.078 0.500 0.700  0.675\n",
      "Claude (via OpenRouter) anthropic/claude-sonnet-4     High High          0.9          0.9 0.630   0.078 0.500 0.700  0.675\n"
     ]
    }
   ],
   "source": [
    "import pandas as pd\n",
    "\n",
    "summary_data = []\n",
    "\n",
    "# OpenAI summaries\n",
    "if openrouter_available and openai_results:\n",
    "    for config_name, result in openai_results.items():\n",
    "        probs = np.array(result['probabilities'])\n",
    "        summary_data.append({\n",
    "            'Provider': 'OpenAI (via OpenRouter)',\n",
    "            'Model': result['model'],\n",
    "            'Configuration': config_name.replace('_', ' ').title(),\n",
    "            'Reword Temp': result['reword_temperature'],\n",
    "            'Prompt Temp': result['prompt_temperature'],\n",
    "            'Mean': f\"{probs.mean():.3f}\",\n",
    "            'Std Dev': f\"{probs.std():.3f}\",\n",
    "            'Min': f\"{probs.min():.3f}\",\n",
    "            'Max': f\"{probs.max():.3f}\",\n",
    "            'Median': f\"{np.median(probs):.3f}\"\n",
    "        })\n",
    "\n",
    "# Claude summaries\n",
    "if openrouter_available and claude_results:\n",
    "    for config_name, result in claude_results.items():\n",
    "        probs = np.array(result['probabilities'])\n",
    "        summary_data.append({\n",
    "            'Provider': 'Claude (via OpenRouter)',\n",
    "            'Model': result['model'],\n",
    "            'Configuration': config_name.replace('_', ' ').title(),\n",
    "            'Reword Temp': result['reword_temperature'],\n",
    "            'Prompt Temp': result['prompt_temperature'],\n",
    "            'Mean': f\"{probs.mean():.3f}\",\n",
    "            'Std Dev': f\"{probs.std():.3f}\",\n",
    "            'Min': f\"{probs.min():.3f}\",\n",
    "            'Max': f\"{probs.max():.3f}\",\n",
    "            'Median': f\"{np.median(probs):.3f}\"\n",
    "        })\n",
    "\n",
    "if summary_data:\n",
    "    df = pd.DataFrame(summary_data)\n",
    "    print(f\"\\nStatistical Summary for: {USER_PROMPT}\")\n",
    "    print(\"=\"*100)\n",
    "    print(df.to_string(index=False))\n",
    "else:\n",
    "    print(\"No data available for summary.\")"
   ]
  },
  {
   "cell_type": "markdown",
   "metadata": {},
   "source": [
    "## View Sample Reworded Prompts\n",
    "\n",
    "Examine how the prompts were reworded at different temperatures:"
   ]
  },
  {
   "cell_type": "code",
   "execution_count": 8,
   "metadata": {},
   "outputs": [
    {
     "name": "stdout",
     "output_type": "stream",
     "text": [
      "\n",
      "================================================================================\n",
      "OpenAI - Sample Reworded Prompts\n",
      "================================================================================\n",
      "\n",
      "Configuration: Low Low\n",
      "Reword Temp: 0.3, Prompt Temp: 0.3\n",
      "--------------------------------------------------------------------------------\n",
      "1. How likely is it that Nasdaq hits 7000 before Christmas 2025?\n",
      "   → Probability: 60.00%\n",
      "2. What are the odds that the Nasdaq will reach 7000 by Christmas 2025?\n",
      "   → Probability: 30.00%\n",
      "3. What are the chances that the Nasdaq reaches 7000 before Christmas 2025?\n",
      "   → Probability: 60.00%\n",
      "\n",
      "Configuration: Low High\n",
      "Reword Temp: 0.3, Prompt Temp: 0.9\n",
      "--------------------------------------------------------------------------------\n",
      "1. How likely is it that Nasdaq hits 7000 before Christmas 2025?\n",
      "   → Probability: 60.00%\n",
      "2. What are the odds that the Nasdaq will reach 7000 by Christmas 2025?\n",
      "   → Probability: 60.00%\n",
      "3. What are the chances that the Nasdaq will reach 7000 before Christmas 2025?\n",
      "   → Probability: 40.00%\n",
      "\n",
      "Configuration: High Low\n",
      "Reword Temp: 0.9, Prompt Temp: 0.3\n",
      "--------------------------------------------------------------------------------\n",
      "1. How likely is it that Nasdaq hits 7000 before Christmas 2025?\n",
      "   → Probability: 60.00%\n",
      "2. What are the chances that the Nasdaq index will reach 7000 before the Christmas of 2025?\n",
      "   → Probability: 40.00%\n",
      "3. What are the chances that the Nasdaq will reach 7000 prior to Christmas in 2025?\n",
      "   → Probability: 40.00%\n",
      "\n",
      "Configuration: High High\n",
      "Reword Temp: 0.9, Prompt Temp: 0.9\n",
      "--------------------------------------------------------------------------------\n",
      "1. How likely is it that Nasdaq hits 7000 before Christmas 2025?\n",
      "   → Probability: 60.00%\n",
      "2. What are the chances of the Nasdaq reaching 7000 by Christmas of 2025?\n",
      "   → Probability: 40.00%\n",
      "3. What are the chances that the Nasdaq will reach 7000 prior to Christmas in 2025?\n",
      "   → Probability: 60.00%\n",
      "\n",
      "\n",
      "================================================================================\n",
      "Claude - Sample Reworded Prompts\n",
      "================================================================================\n",
      "\n",
      "Configuration: Low Low\n",
      "Reword Temp: 0.3, Prompt Temp: 0.3\n",
      "--------------------------------------------------------------------------------\n",
      "1. How likely is it that Nasdaq hits 7000 before Christmas 2025?\n",
      "   → Probability: 70.00%\n",
      "2. What are the chances of the Nasdaq reaching 7000 by Christmas 2025?\n",
      "   → Probability: 35.00%\n",
      "3. What are the chances of the Nasdaq reaching 7,000 by Christmas 2025?\n",
      "   → Probability: 70.00%\n",
      "\n",
      "Configuration: Low High\n",
      "Reword Temp: 0.3, Prompt Temp: 0.9\n",
      "--------------------------------------------------------------------------------\n",
      "1. How likely is it that Nasdaq hits 7000 before Christmas 2025?\n",
      "   → Probability: 55.00%\n",
      "2. What are the chances of the Nasdaq reaching 7,000 by Christmas 2025?\n",
      "   → Probability: 70.00%\n",
      "3. What are the chances that the Nasdaq index will reach 7000 points prior to Christmas Day 2025?\n",
      "   → Probability: 5.00%\n",
      "\n",
      "Configuration: High Low\n",
      "Reword Temp: 0.9, Prompt Temp: 0.3\n",
      "--------------------------------------------------------------------------------\n",
      "1. How likely is it that Nasdaq hits 7000 before Christmas 2025?\n",
      "   → Probability: 65.00%\n",
      "2. What are the chances the Nasdaq Composite Index will reach the 7,000 point milestone prior to December 25th, 2025?\n",
      "   → Probability: 50.00%\n",
      "3. What are the chances of the Nasdaq index reaching the 7,000 milestone prior to December 25th, 2025?\n",
      "   → Probability: 70.00%\n",
      "\n",
      "Configuration: High High\n",
      "Reword Temp: 0.9, Prompt Temp: 0.9\n",
      "--------------------------------------------------------------------------------\n",
      "1. How likely is it that Nasdaq hits 7000 before Christmas 2025?\n",
      "   → Probability: 65.00%\n",
      "2. What are the chances of the Nasdaq index reaching the 7,000 mark prior to December 25th, 2025?\n",
      "   → Probability: 70.00%\n",
      "3. What are the chances of the Nasdaq index reaching the 7,000 milestone prior to December 25th, 2025?\n",
      "   → Probability: 55.00%\n",
      "\n"
     ]
    }
   ],
   "source": [
    "def show_reworded_prompts(results_dict, provider_name):\n",
    "    print(f\"\\n{'='*80}\")\n",
    "    print(f\"{provider_name} - Sample Reworded Prompts\")\n",
    "    print(f\"{'='*80}\\n\")\n",
    "    \n",
    "    for config_name, result in results_dict.items():\n",
    "        print(f\"Configuration: {config_name.replace('_', ' ').title()}\")\n",
    "        print(f\"Reword Temp: {result['reword_temperature']}, Prompt Temp: {result['prompt_temperature']}\")\n",
    "        print(f\"{'-'*80}\")\n",
    "        \n",
    "        # Show first 3 reworded prompts\n",
    "        for i, prompt in enumerate(result['reworded_prompts'][:3], 1):\n",
    "            prob = result['probabilities'][i-1]\n",
    "            print(f\"{i}. {prompt}\")\n",
    "            print(f\"   → Probability: {prob:.2%}\")\n",
    "        print()\n",
    "\n",
    "if openai_results:\n",
    "    show_reworded_prompts(openai_results, \"OpenAI\")\n",
    "\n",
    "if claude_results:\n",
    "    show_reworded_prompts(claude_results, \"Claude\")"
   ]
  },
  {
   "cell_type": "markdown",
   "metadata": {},
   "source": [
    "## Side-by-Side Comparison\n",
    "\n",
    "Compare OpenAI and Claude directly for the same configuration:"
   ]
  },
  {
   "cell_type": "code",
   "execution_count": 9,
   "metadata": {},
   "outputs": [
    {
     "data": {
      "application/vnd.plotly.v1+json": {
       "config": {
        "plotlyServerURL": "https://plot.ly"
       },
       "data": [
        {
         "hovertemplate": "OpenAI<br>Probability: %{x:.2%}<br>Count: %{y}<extra></extra>",
         "legendgroup": "openai",
         "marker": {
          "color": "steelblue"
         },
         "name": "OpenAI",
         "nbinsx": 15,
         "opacity": 0.6,
         "showlegend": true,
         "type": "histogram",
         "x": [
          0.6,
          0.3,
          0.6,
          0.6,
          0.45,
          0.4,
          0.4,
          0.4,
          0.6,
          0.6
         ],
         "xaxis": "x",
         "yaxis": "y"
        },
        {
         "hovertemplate": "Claude<br>Probability: %{x:.2%}<br>Count: %{y}<extra></extra>",
         "legendgroup": "claude",
         "marker": {
          "color": "coral"
         },
         "name": "Claude",
         "nbinsx": 15,
         "opacity": 0.6,
         "showlegend": true,
         "type": "histogram",
         "x": [
          0.7,
          0.35,
          0.7,
          0.7,
          0.7,
          0.65,
          0.7,
          0.63,
          0.65,
          0.55
         ],
         "xaxis": "x",
         "yaxis": "y"
        },
        {
         "hovertemplate": "OpenAI<br>Probability: %{x:.2%}<br>Count: %{y}<extra></extra>",
         "legendgroup": "openai",
         "marker": {
          "color": "steelblue"
         },
         "name": "OpenAI",
         "nbinsx": 15,
         "opacity": 0.6,
         "showlegend": false,
         "type": "histogram",
         "x": [
          0.6,
          0.6,
          0.4,
          0.35,
          0.6,
          0.4,
          0.4,
          0.4,
          0.4,
          0.6
         ],
         "xaxis": "x2",
         "yaxis": "y2"
        },
        {
         "hovertemplate": "Claude<br>Probability: %{x:.2%}<br>Count: %{y}<extra></extra>",
         "legendgroup": "claude",
         "marker": {
          "color": "coral"
         },
         "name": "Claude",
         "nbinsx": 15,
         "opacity": 0.6,
         "showlegend": false,
         "type": "histogram",
         "x": [
          0.55,
          0.7,
          0.05,
          0.7,
          0.7,
          0.55,
          0.65,
          0.55,
          0.55,
          0.55
         ],
         "xaxis": "x2",
         "yaxis": "y2"
        },
        {
         "hovertemplate": "OpenAI<br>Probability: %{x:.2%}<br>Count: %{y}<extra></extra>",
         "legendgroup": "openai",
         "marker": {
          "color": "steelblue"
         },
         "name": "OpenAI",
         "nbinsx": 15,
         "opacity": 0.6,
         "showlegend": false,
         "type": "histogram",
         "x": [
          0.6,
          0.4,
          0.4,
          0.55,
          0.65,
          0.65,
          0.6,
          0.4,
          0.6,
          0.4
         ],
         "xaxis": "x3",
         "yaxis": "y3"
        },
        {
         "hovertemplate": "Claude<br>Probability: %{x:.2%}<br>Count: %{y}<extra></extra>",
         "legendgroup": "claude",
         "marker": {
          "color": "coral"
         },
         "name": "Claude",
         "nbinsx": 15,
         "opacity": 0.6,
         "showlegend": false,
         "type": "histogram",
         "x": [
          0.65,
          0.5,
          0.7,
          0.7,
          0.7,
          0.7,
          0.55,
          0.55,
          0.7,
          0.55
         ],
         "xaxis": "x3",
         "yaxis": "y3"
        },
        {
         "hovertemplate": "OpenAI<br>Probability: %{x:.2%}<br>Count: %{y}<extra></extra>",
         "legendgroup": "openai",
         "marker": {
          "color": "steelblue"
         },
         "name": "OpenAI",
         "nbinsx": 15,
         "opacity": 0.6,
         "showlegend": false,
         "type": "histogram",
         "x": [
          0.6,
          0.4,
          0.6,
          0.45,
          0.6,
          0.55,
          0.4,
          0.4,
          0.4,
          0.4
         ],
         "xaxis": "x4",
         "yaxis": "y4"
        },
        {
         "hovertemplate": "Claude<br>Probability: %{x:.2%}<br>Count: %{y}<extra></extra>",
         "legendgroup": "claude",
         "marker": {
          "color": "coral"
         },
         "name": "Claude",
         "nbinsx": 15,
         "opacity": 0.6,
         "showlegend": false,
         "type": "histogram",
         "x": [
          0.65,
          0.7,
          0.55,
          0.55,
          0.7,
          0.7,
          0.7,
          0.5,
          0.55,
          0.7
         ],
         "xaxis": "x4",
         "yaxis": "y4"
        }
       ],
       "layout": {
        "annotations": [
         {
          "font": {
           "size": 16
          },
          "showarrow": false,
          "text": "Low Reword (0.3), Low Prompt (0.3)",
          "x": 0.22,
          "xanchor": "center",
          "xref": "paper",
          "y": 1,
          "yanchor": "bottom",
          "yref": "paper"
         },
         {
          "font": {
           "size": 16
          },
          "showarrow": false,
          "text": "Low Reword (0.3), High Prompt (0.9)",
          "x": 0.78,
          "xanchor": "center",
          "xref": "paper",
          "y": 1,
          "yanchor": "bottom",
          "yref": "paper"
         },
         {
          "font": {
           "size": 16
          },
          "showarrow": false,
          "text": "High Reword (0.9), Low Prompt (0.3)",
          "x": 0.22,
          "xanchor": "center",
          "xref": "paper",
          "y": 0.425,
          "yanchor": "bottom",
          "yref": "paper"
         },
         {
          "font": {
           "size": 16
          },
          "showarrow": false,
          "text": "High Reword (0.9), High Prompt (0.9)",
          "x": 0.78,
          "xanchor": "center",
          "xref": "paper",
          "y": 0.425,
          "yanchor": "bottom",
          "yref": "paper"
         }
        ],
        "barmode": "overlay",
        "font": {
         "size": 14
        },
        "height": 1000,
        "legend": {
         "bgcolor": "rgba(255,255,255,0.8)",
         "bordercolor": "black",
         "borderwidth": 1,
         "font": {
          "size": 16
         },
         "x": 0.02,
         "y": 0.98
        },
        "template": {
         "data": {
          "bar": [
           {
            "error_x": {
             "color": "#2a3f5f"
            },
            "error_y": {
             "color": "#2a3f5f"
            },
            "marker": {
             "line": {
              "color": "#E5ECF6",
              "width": 0.5
             },
             "pattern": {
              "fillmode": "overlay",
              "size": 10,
              "solidity": 0.2
             }
            },
            "type": "bar"
           }
          ],
          "barpolar": [
           {
            "marker": {
             "line": {
              "color": "#E5ECF6",
              "width": 0.5
             },
             "pattern": {
              "fillmode": "overlay",
              "size": 10,
              "solidity": 0.2
             }
            },
            "type": "barpolar"
           }
          ],
          "carpet": [
           {
            "aaxis": {
             "endlinecolor": "#2a3f5f",
             "gridcolor": "white",
             "linecolor": "white",
             "minorgridcolor": "white",
             "startlinecolor": "#2a3f5f"
            },
            "baxis": {
             "endlinecolor": "#2a3f5f",
             "gridcolor": "white",
             "linecolor": "white",
             "minorgridcolor": "white",
             "startlinecolor": "#2a3f5f"
            },
            "type": "carpet"
           }
          ],
          "choropleth": [
           {
            "colorbar": {
             "outlinewidth": 0,
             "ticks": ""
            },
            "type": "choropleth"
           }
          ],
          "contour": [
           {
            "colorbar": {
             "outlinewidth": 0,
             "ticks": ""
            },
            "colorscale": [
             [
              0,
              "#0d0887"
             ],
             [
              0.1111111111111111,
              "#46039f"
             ],
             [
              0.2222222222222222,
              "#7201a8"
             ],
             [
              0.3333333333333333,
              "#9c179e"
             ],
             [
              0.4444444444444444,
              "#bd3786"
             ],
             [
              0.5555555555555556,
              "#d8576b"
             ],
             [
              0.6666666666666666,
              "#ed7953"
             ],
             [
              0.7777777777777778,
              "#fb9f3a"
             ],
             [
              0.8888888888888888,
              "#fdca26"
             ],
             [
              1,
              "#f0f921"
             ]
            ],
            "type": "contour"
           }
          ],
          "contourcarpet": [
           {
            "colorbar": {
             "outlinewidth": 0,
             "ticks": ""
            },
            "type": "contourcarpet"
           }
          ],
          "heatmap": [
           {
            "colorbar": {
             "outlinewidth": 0,
             "ticks": ""
            },
            "colorscale": [
             [
              0,
              "#0d0887"
             ],
             [
              0.1111111111111111,
              "#46039f"
             ],
             [
              0.2222222222222222,
              "#7201a8"
             ],
             [
              0.3333333333333333,
              "#9c179e"
             ],
             [
              0.4444444444444444,
              "#bd3786"
             ],
             [
              0.5555555555555556,
              "#d8576b"
             ],
             [
              0.6666666666666666,
              "#ed7953"
             ],
             [
              0.7777777777777778,
              "#fb9f3a"
             ],
             [
              0.8888888888888888,
              "#fdca26"
             ],
             [
              1,
              "#f0f921"
             ]
            ],
            "type": "heatmap"
           }
          ],
          "histogram": [
           {
            "marker": {
             "pattern": {
              "fillmode": "overlay",
              "size": 10,
              "solidity": 0.2
             }
            },
            "type": "histogram"
           }
          ],
          "histogram2d": [
           {
            "colorbar": {
             "outlinewidth": 0,
             "ticks": ""
            },
            "colorscale": [
             [
              0,
              "#0d0887"
             ],
             [
              0.1111111111111111,
              "#46039f"
             ],
             [
              0.2222222222222222,
              "#7201a8"
             ],
             [
              0.3333333333333333,
              "#9c179e"
             ],
             [
              0.4444444444444444,
              "#bd3786"
             ],
             [
              0.5555555555555556,
              "#d8576b"
             ],
             [
              0.6666666666666666,
              "#ed7953"
             ],
             [
              0.7777777777777778,
              "#fb9f3a"
             ],
             [
              0.8888888888888888,
              "#fdca26"
             ],
             [
              1,
              "#f0f921"
             ]
            ],
            "type": "histogram2d"
           }
          ],
          "histogram2dcontour": [
           {
            "colorbar": {
             "outlinewidth": 0,
             "ticks": ""
            },
            "colorscale": [
             [
              0,
              "#0d0887"
             ],
             [
              0.1111111111111111,
              "#46039f"
             ],
             [
              0.2222222222222222,
              "#7201a8"
             ],
             [
              0.3333333333333333,
              "#9c179e"
             ],
             [
              0.4444444444444444,
              "#bd3786"
             ],
             [
              0.5555555555555556,
              "#d8576b"
             ],
             [
              0.6666666666666666,
              "#ed7953"
             ],
             [
              0.7777777777777778,
              "#fb9f3a"
             ],
             [
              0.8888888888888888,
              "#fdca26"
             ],
             [
              1,
              "#f0f921"
             ]
            ],
            "type": "histogram2dcontour"
           }
          ],
          "mesh3d": [
           {
            "colorbar": {
             "outlinewidth": 0,
             "ticks": ""
            },
            "type": "mesh3d"
           }
          ],
          "parcoords": [
           {
            "line": {
             "colorbar": {
              "outlinewidth": 0,
              "ticks": ""
             }
            },
            "type": "parcoords"
           }
          ],
          "pie": [
           {
            "automargin": true,
            "type": "pie"
           }
          ],
          "scatter": [
           {
            "fillpattern": {
             "fillmode": "overlay",
             "size": 10,
             "solidity": 0.2
            },
            "type": "scatter"
           }
          ],
          "scatter3d": [
           {
            "line": {
             "colorbar": {
              "outlinewidth": 0,
              "ticks": ""
             }
            },
            "marker": {
             "colorbar": {
              "outlinewidth": 0,
              "ticks": ""
             }
            },
            "type": "scatter3d"
           }
          ],
          "scattercarpet": [
           {
            "marker": {
             "colorbar": {
              "outlinewidth": 0,
              "ticks": ""
             }
            },
            "type": "scattercarpet"
           }
          ],
          "scattergeo": [
           {
            "marker": {
             "colorbar": {
              "outlinewidth": 0,
              "ticks": ""
             }
            },
            "type": "scattergeo"
           }
          ],
          "scattergl": [
           {
            "marker": {
             "colorbar": {
              "outlinewidth": 0,
              "ticks": ""
             }
            },
            "type": "scattergl"
           }
          ],
          "scattermap": [
           {
            "marker": {
             "colorbar": {
              "outlinewidth": 0,
              "ticks": ""
             }
            },
            "type": "scattermap"
           }
          ],
          "scattermapbox": [
           {
            "marker": {
             "colorbar": {
              "outlinewidth": 0,
              "ticks": ""
             }
            },
            "type": "scattermapbox"
           }
          ],
          "scatterpolar": [
           {
            "marker": {
             "colorbar": {
              "outlinewidth": 0,
              "ticks": ""
             }
            },
            "type": "scatterpolar"
           }
          ],
          "scatterpolargl": [
           {
            "marker": {
             "colorbar": {
              "outlinewidth": 0,
              "ticks": ""
             }
            },
            "type": "scatterpolargl"
           }
          ],
          "scatterternary": [
           {
            "marker": {
             "colorbar": {
              "outlinewidth": 0,
              "ticks": ""
             }
            },
            "type": "scatterternary"
           }
          ],
          "surface": [
           {
            "colorbar": {
             "outlinewidth": 0,
             "ticks": ""
            },
            "colorscale": [
             [
              0,
              "#0d0887"
             ],
             [
              0.1111111111111111,
              "#46039f"
             ],
             [
              0.2222222222222222,
              "#7201a8"
             ],
             [
              0.3333333333333333,
              "#9c179e"
             ],
             [
              0.4444444444444444,
              "#bd3786"
             ],
             [
              0.5555555555555556,
              "#d8576b"
             ],
             [
              0.6666666666666666,
              "#ed7953"
             ],
             [
              0.7777777777777778,
              "#fb9f3a"
             ],
             [
              0.8888888888888888,
              "#fdca26"
             ],
             [
              1,
              "#f0f921"
             ]
            ],
            "type": "surface"
           }
          ],
          "table": [
           {
            "cells": {
             "fill": {
              "color": "#EBF0F8"
             },
             "line": {
              "color": "white"
             }
            },
            "header": {
             "fill": {
              "color": "#C8D4E3"
             },
             "line": {
              "color": "white"
             }
            },
            "type": "table"
           }
          ]
         },
         "layout": {
          "annotationdefaults": {
           "arrowcolor": "#2a3f5f",
           "arrowhead": 0,
           "arrowwidth": 1
          },
          "autotypenumbers": "strict",
          "coloraxis": {
           "colorbar": {
            "outlinewidth": 0,
            "ticks": ""
           }
          },
          "colorscale": {
           "diverging": [
            [
             0,
             "#8e0152"
            ],
            [
             0.1,
             "#c51b7d"
            ],
            [
             0.2,
             "#de77ae"
            ],
            [
             0.3,
             "#f1b6da"
            ],
            [
             0.4,
             "#fde0ef"
            ],
            [
             0.5,
             "#f7f7f7"
            ],
            [
             0.6,
             "#e6f5d0"
            ],
            [
             0.7,
             "#b8e186"
            ],
            [
             0.8,
             "#7fbc41"
            ],
            [
             0.9,
             "#4d9221"
            ],
            [
             1,
             "#276419"
            ]
           ],
           "sequential": [
            [
             0,
             "#0d0887"
            ],
            [
             0.1111111111111111,
             "#46039f"
            ],
            [
             0.2222222222222222,
             "#7201a8"
            ],
            [
             0.3333333333333333,
             "#9c179e"
            ],
            [
             0.4444444444444444,
             "#bd3786"
            ],
            [
             0.5555555555555556,
             "#d8576b"
            ],
            [
             0.6666666666666666,
             "#ed7953"
            ],
            [
             0.7777777777777778,
             "#fb9f3a"
            ],
            [
             0.8888888888888888,
             "#fdca26"
            ],
            [
             1,
             "#f0f921"
            ]
           ],
           "sequentialminus": [
            [
             0,
             "#0d0887"
            ],
            [
             0.1111111111111111,
             "#46039f"
            ],
            [
             0.2222222222222222,
             "#7201a8"
            ],
            [
             0.3333333333333333,
             "#9c179e"
            ],
            [
             0.4444444444444444,
             "#bd3786"
            ],
            [
             0.5555555555555556,
             "#d8576b"
            ],
            [
             0.6666666666666666,
             "#ed7953"
            ],
            [
             0.7777777777777778,
             "#fb9f3a"
            ],
            [
             0.8888888888888888,
             "#fdca26"
            ],
            [
             1,
             "#f0f921"
            ]
           ]
          },
          "colorway": [
           "#636efa",
           "#EF553B",
           "#00cc96",
           "#ab63fa",
           "#FFA15A",
           "#19d3f3",
           "#FF6692",
           "#B6E880",
           "#FF97FF",
           "#FECB52"
          ],
          "font": {
           "color": "#2a3f5f"
          },
          "geo": {
           "bgcolor": "white",
           "lakecolor": "white",
           "landcolor": "#E5ECF6",
           "showlakes": true,
           "showland": true,
           "subunitcolor": "white"
          },
          "hoverlabel": {
           "align": "left"
          },
          "hovermode": "closest",
          "mapbox": {
           "style": "light"
          },
          "paper_bgcolor": "white",
          "plot_bgcolor": "#E5ECF6",
          "polar": {
           "angularaxis": {
            "gridcolor": "white",
            "linecolor": "white",
            "ticks": ""
           },
           "bgcolor": "#E5ECF6",
           "radialaxis": {
            "gridcolor": "white",
            "linecolor": "white",
            "ticks": ""
           }
          },
          "scene": {
           "xaxis": {
            "backgroundcolor": "#E5ECF6",
            "gridcolor": "white",
            "gridwidth": 2,
            "linecolor": "white",
            "showbackground": true,
            "ticks": "",
            "zerolinecolor": "white"
           },
           "yaxis": {
            "backgroundcolor": "#E5ECF6",
            "gridcolor": "white",
            "gridwidth": 2,
            "linecolor": "white",
            "showbackground": true,
            "ticks": "",
            "zerolinecolor": "white"
           },
           "zaxis": {
            "backgroundcolor": "#E5ECF6",
            "gridcolor": "white",
            "gridwidth": 2,
            "linecolor": "white",
            "showbackground": true,
            "ticks": "",
            "zerolinecolor": "white"
           }
          },
          "shapedefaults": {
           "line": {
            "color": "#2a3f5f"
           }
          },
          "ternary": {
           "aaxis": {
            "gridcolor": "white",
            "linecolor": "white",
            "ticks": ""
           },
           "baxis": {
            "gridcolor": "white",
            "linecolor": "white",
            "ticks": ""
           },
           "bgcolor": "#E5ECF6",
           "caxis": {
            "gridcolor": "white",
            "linecolor": "white",
            "ticks": ""
           }
          },
          "title": {
           "x": 0.05
          },
          "xaxis": {
           "automargin": true,
           "gridcolor": "white",
           "linecolor": "white",
           "ticks": "",
           "title": {
            "standoff": 15
           },
           "zerolinecolor": "white",
           "zerolinewidth": 2
          },
          "yaxis": {
           "automargin": true,
           "gridcolor": "white",
           "linecolor": "white",
           "ticks": "",
           "title": {
            "standoff": 15
           },
           "zerolinecolor": "white",
           "zerolinewidth": 2
          }
         }
        },
        "title": {
         "font": {
          "size": 20
         },
         "text": "OpenAI vs Claude Comparison (via OpenRouter)<br><sub>How likely is it that Nasdaq hits 7000 before Christmas 2025?</sub>"
        },
        "width": 1400,
        "xaxis": {
         "anchor": "y",
         "domain": [
          0,
          0.44
         ],
         "range": [
          0,
          1
         ],
         "tickfont": {
          "size": 14
         },
         "title": {
          "font": {
           "size": 16
          },
          "text": "Probability"
         }
        },
        "xaxis2": {
         "anchor": "y2",
         "domain": [
          0.56,
          1
         ],
         "range": [
          0,
          1
         ],
         "tickfont": {
          "size": 14
         },
         "title": {
          "font": {
           "size": 16
          },
          "text": "Probability"
         }
        },
        "xaxis3": {
         "anchor": "y3",
         "domain": [
          0,
          0.44
         ],
         "range": [
          0,
          1
         ],
         "tickfont": {
          "size": 14
         },
         "title": {
          "font": {
           "size": 16
          },
          "text": "Probability"
         }
        },
        "xaxis4": {
         "anchor": "y4",
         "domain": [
          0.56,
          1
         ],
         "range": [
          0,
          1
         ],
         "tickfont": {
          "size": 14
         },
         "title": {
          "font": {
           "size": 16
          },
          "text": "Probability"
         }
        },
        "yaxis": {
         "anchor": "x",
         "domain": [
          0.575,
          1
         ],
         "tickfont": {
          "size": 14
         },
         "title": {
          "font": {
           "size": 16
          },
          "text": "Count"
         }
        },
        "yaxis2": {
         "anchor": "x2",
         "domain": [
          0.575,
          1
         ],
         "tickfont": {
          "size": 14
         },
         "title": {
          "font": {
           "size": 16
          },
          "text": "Count"
         }
        },
        "yaxis3": {
         "anchor": "x3",
         "domain": [
          0,
          0.425
         ],
         "tickfont": {
          "size": 14
         },
         "title": {
          "font": {
           "size": 16
          },
          "text": "Count"
         }
        },
        "yaxis4": {
         "anchor": "x4",
         "domain": [
          0,
          0.425
         ],
         "tickfont": {
          "size": 14
         },
         "title": {
          "font": {
           "size": 16
          },
          "text": "Count"
         }
        }
       }
      }
     },
     "metadata": {},
     "output_type": "display_data"
    }
   ],
   "source": [
    "if openrouter_available and openai_results and claude_results:\n",
    "    # Create comparison plot for all 4 configurations with larger size\n",
    "    fig = make_subplots(\n",
    "        rows=2, cols=2,\n",
    "        subplot_titles=(\n",
    "            f'Low Reword ({LOW_TEMP}), Low Prompt ({LOW_TEMP})',\n",
    "            f'Low Reword ({LOW_TEMP}), High Prompt ({HIGH_TEMP})',\n",
    "            f'High Reword ({HIGH_TEMP}), Low Prompt ({LOW_TEMP})',\n",
    "            f'High Reword ({HIGH_TEMP}), High Prompt ({HIGH_TEMP})'\n",
    "        ),\n",
    "        vertical_spacing=0.15,\n",
    "        horizontal_spacing=0.12\n",
    "    )\n",
    "    \n",
    "    configs = [\n",
    "        ('low_low', 1, 1),\n",
    "        ('low_high', 1, 2),\n",
    "        ('high_low', 2, 1),\n",
    "        ('high_high', 2, 2)\n",
    "    ]\n",
    "    \n",
    "    for config_name, row, col in configs:\n",
    "        # OpenAI\n",
    "        fig.add_trace(\n",
    "            go.Histogram(\n",
    "                x=openai_results[config_name]['probabilities'],\n",
    "                nbinsx=15,\n",
    "                name='OpenAI',\n",
    "                marker_color='steelblue',\n",
    "                opacity=0.6,\n",
    "                showlegend=(row==1 and col==1),\n",
    "                legendgroup='openai',\n",
    "                hovertemplate='OpenAI<br>Probability: %{x:.2%}<br>Count: %{y}<extra></extra>'\n",
    "            ),\n",
    "            row=row, col=col\n",
    "        )\n",
    "        \n",
    "        # Claude\n",
    "        fig.add_trace(\n",
    "            go.Histogram(\n",
    "                x=claude_results[config_name]['probabilities'],\n",
    "                nbinsx=15,\n",
    "                name='Claude',\n",
    "                marker_color='coral',\n",
    "                opacity=0.6,\n",
    "                showlegend=(row==1 and col==1),\n",
    "                legendgroup='claude',\n",
    "                hovertemplate='Claude<br>Probability: %{x:.2%}<br>Count: %{y}<extra></extra>'\n",
    "            ),\n",
    "            row=row, col=col\n",
    "        )\n",
    "    \n",
    "    # Update axes with larger fonts\n",
    "    fig.update_xaxes(title_text=\"Probability\", range=[0, 1], title_font_size=16, tickfont_size=14)\n",
    "    fig.update_yaxes(title_text=\"Count\", title_font_size=16, tickfont_size=14)\n",
    "    \n",
    "    # Update layout with larger figure and fonts\n",
    "    fig.update_layout(\n",
    "        title_text=f\"OpenAI vs Claude Comparison (via OpenRouter)<br><sub>{USER_PROMPT}</sub>\",\n",
    "        title_font_size=20,\n",
    "        height=1000,  # Increased from 700\n",
    "        width=1400,   # Added width\n",
    "        barmode='overlay',\n",
    "        font=dict(size=14),\n",
    "        legend=dict(\n",
    "            font=dict(size=16),\n",
    "            x=0.02,\n",
    "            y=0.98,\n",
    "            bgcolor='rgba(255,255,255,0.8)',\n",
    "            bordercolor='black',\n",
    "            borderwidth=1\n",
    "        )\n",
    "    )\n",
    "    \n",
    "    # Update subplot titles font size\n",
    "    for annotation in fig['layout']['annotations']:\n",
    "        annotation['font'] = dict(size=16)\n",
    "    \n",
    "    fig.show()\n",
    "else:\n",
    "    print(\"Both OpenAI and Claude data required for comparison.\")"
   ]
  },
  {
   "cell_type": "markdown",
   "metadata": {},
   "source": [
    "## Analysis Insights\n",
    "\n",
    "Key observations:\n",
    "\n",
    "1. **Reword Temperature**: Controls how much the prompt is varied\n",
    "   - Low (0.3): Minimal rewording, similar phrasing\n",
    "   - High (0.9): Significant rewording, diverse phrasing\n",
    "\n",
    "2. **Prompt Temperature**: Controls randomness in LLM responses\n",
    "   - Low (0.3): More deterministic, tighter distribution\n",
    "   - High (0.9): More random, wider distribution\n",
    "\n",
    "3. **Expected Patterns**:\n",
    "   - Low/Low: Narrow distribution (consistent prompt + deterministic responses)\n",
    "   - High/High: Wide distribution (varied prompts + random responses)\n",
    "   - Low/High or High/Low: Medium spread"
   ]
  },
  {
   "cell_type": "markdown",
   "metadata": {},
   "source": [
    "### Key Insights from Probability Evolution\n",
    "\n",
    "**What This Shows:**\n",
    "\n",
    "1. **Forecast Improvement**: The model's forecasts generally improved as more information became available (knowledge cutoff dates closer to the election).\n",
    "\n",
    "2. **Uncertainty Over Time**: The error bars (±1 standard deviation) show the range of estimates. Narrower bars indicate more consistent forecasts.\n",
    "\n",
    "3. **Calibration Analysis**: By comparing forecasts to the actual outcome (Trump won = 100%), we can measure forecast accuracy at different time horizons.\n",
    "\n",
    "4. **Information Shocks**: Large changes between consecutive months may indicate major news events that shifted predictions.\n",
    "\n",
    "**Interactive Features:**\n",
    "- Use the slider above to explore the distribution at each time point\n",
    "- Hover over the timeline plot to see exact values\n",
    "- Compare early forecasts (January) vs late forecasts (November) to see how much the model improved\n",
    "\n",
    "**Technical Notes:**\n",
    "- Model: OpenAI GPT-4o-mini via OpenRouter\n",
    "- Samples per time point: 10\n",
    "- Knowledge cutoff dates: Model was restricted to information available up to each specific date\n",
    "- This simulates how forecasts would have looked if made at different points in 2024"
   ]
  },
  {
   "cell_type": "code",
   "execution_count": 11,
   "metadata": {},
   "outputs": [
    {
     "name": "stdout",
     "output_type": "stream",
     "text": [
      "Collecting probability distributions over time...\n",
      "This will take several minutes (12 time points × 10 samples each)\n",
      "\n",
      "Querying probability distributions over time:\n",
      "  Start: 2024-01-01\n",
      "  End: 2024-11-05\n",
      "  Frequency: 30 days\n",
      "  Total queries: 12\n",
      "\n",
      "[1/12] Querying with knowledge cutoff: January 01, 2024\n",
      "  Mean probability: 0.425 (±0.025)\n",
      "\n",
      "[2/12] Querying with knowledge cutoff: January 31, 2024\n",
      "  Mean probability: 0.415 (±0.023)\n",
      "\n",
      "[3/12] Querying with knowledge cutoff: March 01, 2024\n",
      "  Mean probability: 0.430 (±0.024)\n",
      "\n",
      "[4/12] Querying with knowledge cutoff: March 31, 2024\n",
      "  Mean probability: 0.425 (±0.025)\n",
      "\n",
      "[5/12] Querying with knowledge cutoff: April 30, 2024\n",
      "  Mean probability: 0.425 (±0.025)\n",
      "\n",
      "[6/12] Querying with knowledge cutoff: May 30, 2024\n",
      "  Mean probability: 0.405 (±0.035)\n",
      "\n",
      "[7/12] Querying with knowledge cutoff: June 29, 2024\n",
      "  Mean probability: 0.425 (±0.025)\n",
      "\n",
      "[8/12] Querying with knowledge cutoff: July 29, 2024\n",
      "  Mean probability: 0.430 (±0.024)\n",
      "\n",
      "[9/12] Querying with knowledge cutoff: August 28, 2024\n",
      "  Mean probability: 0.420 (±0.024)\n",
      "\n",
      "[10/12] Querying with knowledge cutoff: September 27, 2024\n",
      "  Mean probability: 0.410 (±0.020)\n",
      "\n",
      "[11/12] Querying with knowledge cutoff: October 27, 2024\n",
      "  Mean probability: 0.415 (±0.023)\n",
      "\n",
      "[12/12] Querying with knowledge cutoff: November 05, 2024\n",
      "  Mean probability: 0.415 (±0.032)\n",
      "\n",
      "Completed 12 queries\n",
      "\n",
      "Collected data for 12 time points\n",
      "Ready for visualization!\n"
     ]
    }
   ],
   "source": [
    "from datetime import datetime\n",
    "from probability_estimator import get_probability_distribution_over_time\n",
    "\n",
    "# Collect probability distributions over time for Trump 2024 election\n",
    "print(\"Collecting probability distributions over time...\")\n",
    "print(\"This will take several minutes (12 time points × 10 samples each)\")\n",
    "print()\n",
    "\n",
    "evolution_prompt = \"Will Donald Trump win the 2024 US Presidential election?\"\n",
    "\n",
    "evolution_results = await get_probability_distribution_over_time(\n",
    "    prompt=evolution_prompt,\n",
    "    start_date=datetime(2024, 1, 1),\n",
    "    end_date=datetime(2024, 11, 5),  # Election day\n",
    "    frequency_days=30,  # Monthly\n",
    "    n_samples=10,\n",
    "    model=\"openai/gpt-4o-mini\"\n",
    ")\n",
    "\n",
    "print(f\"\\nCollected data for {len(evolution_results)} time points\")\n",
    "print(\"Ready for visualization!\")"
   ]
  },
  {
   "cell_type": "markdown",
   "metadata": {},
   "source": [
    "## Probability Evolution Over Time - Interactive Visualization\n",
    "\n",
    "This section tracks how the probability estimate for \"Will Donald Trump win the 2024 presidential election?\" evolved over time with different knowledge cutoff dates. Use the slider to see how the distribution changed from January 2024 to Election Day."
   ]
  },
  {
   "cell_type": "markdown",
   "metadata": {},
   "source": [
    "### Summary: Forecast Evolution Timeline\n",
    "\n",
    "This plot shows how the mean probability estimate evolved over time, with error bars showing the standard deviation at each time point."
   ]
  },
  {
   "cell_type": "code",
   "execution_count": 14,
   "metadata": {},
   "outputs": [
    {
     "data": {
      "application/vnd.plotly.v1+json": {
       "config": {
        "plotlyServerURL": "https://plot.ly"
       },
       "data": [
        {
         "hovertemplate": "Probability: %{x:.2%}<br>Count: %{y}<extra></extra>",
         "marker": {
          "color": "steelblue",
          "line": {
           "color": "white",
           "width": 1.5
          }
         },
         "name": "Distribution",
         "nbinsx": 20,
         "opacity": 0.85,
         "type": "histogram",
         "x": {
          "bdata": "zczMzMzM3D+amZmZmZnZP83MzMzMzNw/mpmZmZmZ2T+amZmZmZnZP83MzMzMzNw/mpmZmZmZ2T/NzMzMzMzcP5qZmZmZmdk/zczMzMzM3D8=",
          "dtype": "f8"
         }
        }
       ],
       "layout": {
        "annotations": [
         {
          "font": {
           "color": "red",
           "size": 16
          },
          "showarrow": false,
          "text": "Mean: 42.5%",
          "x": 0.425,
          "xanchor": "left",
          "xref": "x",
          "y": 1,
          "yanchor": "top",
          "yref": "y domain"
         },
         {
          "font": {
           "color": "darkgreen",
           "size": 16
          },
          "showarrow": false,
          "text": "Median: 42.5%",
          "x": 0.42500000000000004,
          "xanchor": "left",
          "xref": "x",
          "y": 0,
          "yanchor": "bottom",
          "yref": "y domain"
         },
         {
          "font": {
           "color": "gold",
           "size": 16
          },
          "showarrow": false,
          "text": "Actual: 100% (Trump Won)",
          "x": 1,
          "xanchor": "right",
          "xref": "x",
          "y": 1,
          "yanchor": "top",
          "yref": "y domain"
         },
         {
          "bgcolor": "rgba(255,255,255,0.9)",
          "bordercolor": "black",
          "borderpad": 10,
          "borderwidth": 2,
          "font": {
           "size": 14
          },
          "showarrow": false,
          "text": "<b>Statistics (n=10):</b><br>Mean: 42.5%<br>Std Dev: 2.5%<br>Min: 40.0%<br>Max: 45.0%<br>Range: 5.0%",
          "x": 0.02,
          "xanchor": "left",
          "xref": "paper",
          "y": 0.98,
          "yanchor": "top",
          "yref": "paper"
         }
        ],
        "font": {
         "size": 16
        },
        "height": 800,
        "margin": {
         "b": 80,
         "l": 80,
         "r": 80,
         "t": 120
        },
        "plot_bgcolor": "rgba(240,240,240,0.5)",
        "shapes": [
         {
          "line": {
           "color": "red",
           "dash": "dash",
           "width": 3
          },
          "type": "line",
          "x0": 0.425,
          "x1": 0.425,
          "xref": "x",
          "y0": 0,
          "y1": 1,
          "yref": "y domain"
         },
         {
          "line": {
           "color": "darkgreen",
           "dash": "dot",
           "width": 2
          },
          "type": "line",
          "x0": 0.42500000000000004,
          "x1": 0.42500000000000004,
          "xref": "x",
          "y0": 0,
          "y1": 1,
          "yref": "y domain"
         },
         {
          "line": {
           "color": "gold",
           "dash": "solid",
           "width": 3
          },
          "type": "line",
          "x0": 1,
          "x1": 1,
          "xref": "x",
          "y0": 0,
          "y1": 1,
          "yref": "y domain"
         }
        ],
        "showlegend": false,
        "template": {
         "data": {
          "bar": [
           {
            "error_x": {
             "color": "#2a3f5f"
            },
            "error_y": {
             "color": "#2a3f5f"
            },
            "marker": {
             "line": {
              "color": "#E5ECF6",
              "width": 0.5
             },
             "pattern": {
              "fillmode": "overlay",
              "size": 10,
              "solidity": 0.2
             }
            },
            "type": "bar"
           }
          ],
          "barpolar": [
           {
            "marker": {
             "line": {
              "color": "#E5ECF6",
              "width": 0.5
             },
             "pattern": {
              "fillmode": "overlay",
              "size": 10,
              "solidity": 0.2
             }
            },
            "type": "barpolar"
           }
          ],
          "carpet": [
           {
            "aaxis": {
             "endlinecolor": "#2a3f5f",
             "gridcolor": "white",
             "linecolor": "white",
             "minorgridcolor": "white",
             "startlinecolor": "#2a3f5f"
            },
            "baxis": {
             "endlinecolor": "#2a3f5f",
             "gridcolor": "white",
             "linecolor": "white",
             "minorgridcolor": "white",
             "startlinecolor": "#2a3f5f"
            },
            "type": "carpet"
           }
          ],
          "choropleth": [
           {
            "colorbar": {
             "outlinewidth": 0,
             "ticks": ""
            },
            "type": "choropleth"
           }
          ],
          "contour": [
           {
            "colorbar": {
             "outlinewidth": 0,
             "ticks": ""
            },
            "colorscale": [
             [
              0,
              "#0d0887"
             ],
             [
              0.1111111111111111,
              "#46039f"
             ],
             [
              0.2222222222222222,
              "#7201a8"
             ],
             [
              0.3333333333333333,
              "#9c179e"
             ],
             [
              0.4444444444444444,
              "#bd3786"
             ],
             [
              0.5555555555555556,
              "#d8576b"
             ],
             [
              0.6666666666666666,
              "#ed7953"
             ],
             [
              0.7777777777777778,
              "#fb9f3a"
             ],
             [
              0.8888888888888888,
              "#fdca26"
             ],
             [
              1,
              "#f0f921"
             ]
            ],
            "type": "contour"
           }
          ],
          "contourcarpet": [
           {
            "colorbar": {
             "outlinewidth": 0,
             "ticks": ""
            },
            "type": "contourcarpet"
           }
          ],
          "heatmap": [
           {
            "colorbar": {
             "outlinewidth": 0,
             "ticks": ""
            },
            "colorscale": [
             [
              0,
              "#0d0887"
             ],
             [
              0.1111111111111111,
              "#46039f"
             ],
             [
              0.2222222222222222,
              "#7201a8"
             ],
             [
              0.3333333333333333,
              "#9c179e"
             ],
             [
              0.4444444444444444,
              "#bd3786"
             ],
             [
              0.5555555555555556,
              "#d8576b"
             ],
             [
              0.6666666666666666,
              "#ed7953"
             ],
             [
              0.7777777777777778,
              "#fb9f3a"
             ],
             [
              0.8888888888888888,
              "#fdca26"
             ],
             [
              1,
              "#f0f921"
             ]
            ],
            "type": "heatmap"
           }
          ],
          "histogram": [
           {
            "marker": {
             "pattern": {
              "fillmode": "overlay",
              "size": 10,
              "solidity": 0.2
             }
            },
            "type": "histogram"
           }
          ],
          "histogram2d": [
           {
            "colorbar": {
             "outlinewidth": 0,
             "ticks": ""
            },
            "colorscale": [
             [
              0,
              "#0d0887"
             ],
             [
              0.1111111111111111,
              "#46039f"
             ],
             [
              0.2222222222222222,
              "#7201a8"
             ],
             [
              0.3333333333333333,
              "#9c179e"
             ],
             [
              0.4444444444444444,
              "#bd3786"
             ],
             [
              0.5555555555555556,
              "#d8576b"
             ],
             [
              0.6666666666666666,
              "#ed7953"
             ],
             [
              0.7777777777777778,
              "#fb9f3a"
             ],
             [
              0.8888888888888888,
              "#fdca26"
             ],
             [
              1,
              "#f0f921"
             ]
            ],
            "type": "histogram2d"
           }
          ],
          "histogram2dcontour": [
           {
            "colorbar": {
             "outlinewidth": 0,
             "ticks": ""
            },
            "colorscale": [
             [
              0,
              "#0d0887"
             ],
             [
              0.1111111111111111,
              "#46039f"
             ],
             [
              0.2222222222222222,
              "#7201a8"
             ],
             [
              0.3333333333333333,
              "#9c179e"
             ],
             [
              0.4444444444444444,
              "#bd3786"
             ],
             [
              0.5555555555555556,
              "#d8576b"
             ],
             [
              0.6666666666666666,
              "#ed7953"
             ],
             [
              0.7777777777777778,
              "#fb9f3a"
             ],
             [
              0.8888888888888888,
              "#fdca26"
             ],
             [
              1,
              "#f0f921"
             ]
            ],
            "type": "histogram2dcontour"
           }
          ],
          "mesh3d": [
           {
            "colorbar": {
             "outlinewidth": 0,
             "ticks": ""
            },
            "type": "mesh3d"
           }
          ],
          "parcoords": [
           {
            "line": {
             "colorbar": {
              "outlinewidth": 0,
              "ticks": ""
             }
            },
            "type": "parcoords"
           }
          ],
          "pie": [
           {
            "automargin": true,
            "type": "pie"
           }
          ],
          "scatter": [
           {
            "fillpattern": {
             "fillmode": "overlay",
             "size": 10,
             "solidity": 0.2
            },
            "type": "scatter"
           }
          ],
          "scatter3d": [
           {
            "line": {
             "colorbar": {
              "outlinewidth": 0,
              "ticks": ""
             }
            },
            "marker": {
             "colorbar": {
              "outlinewidth": 0,
              "ticks": ""
             }
            },
            "type": "scatter3d"
           }
          ],
          "scattercarpet": [
           {
            "marker": {
             "colorbar": {
              "outlinewidth": 0,
              "ticks": ""
             }
            },
            "type": "scattercarpet"
           }
          ],
          "scattergeo": [
           {
            "marker": {
             "colorbar": {
              "outlinewidth": 0,
              "ticks": ""
             }
            },
            "type": "scattergeo"
           }
          ],
          "scattergl": [
           {
            "marker": {
             "colorbar": {
              "outlinewidth": 0,
              "ticks": ""
             }
            },
            "type": "scattergl"
           }
          ],
          "scattermap": [
           {
            "marker": {
             "colorbar": {
              "outlinewidth": 0,
              "ticks": ""
             }
            },
            "type": "scattermap"
           }
          ],
          "scattermapbox": [
           {
            "marker": {
             "colorbar": {
              "outlinewidth": 0,
              "ticks": ""
             }
            },
            "type": "scattermapbox"
           }
          ],
          "scatterpolar": [
           {
            "marker": {
             "colorbar": {
              "outlinewidth": 0,
              "ticks": ""
             }
            },
            "type": "scatterpolar"
           }
          ],
          "scatterpolargl": [
           {
            "marker": {
             "colorbar": {
              "outlinewidth": 0,
              "ticks": ""
             }
            },
            "type": "scatterpolargl"
           }
          ],
          "scatterternary": [
           {
            "marker": {
             "colorbar": {
              "outlinewidth": 0,
              "ticks": ""
             }
            },
            "type": "scatterternary"
           }
          ],
          "surface": [
           {
            "colorbar": {
             "outlinewidth": 0,
             "ticks": ""
            },
            "colorscale": [
             [
              0,
              "#0d0887"
             ],
             [
              0.1111111111111111,
              "#46039f"
             ],
             [
              0.2222222222222222,
              "#7201a8"
             ],
             [
              0.3333333333333333,
              "#9c179e"
             ],
             [
              0.4444444444444444,
              "#bd3786"
             ],
             [
              0.5555555555555556,
              "#d8576b"
             ],
             [
              0.6666666666666666,
              "#ed7953"
             ],
             [
              0.7777777777777778,
              "#fb9f3a"
             ],
             [
              0.8888888888888888,
              "#fdca26"
             ],
             [
              1,
              "#f0f921"
             ]
            ],
            "type": "surface"
           }
          ],
          "table": [
           {
            "cells": {
             "fill": {
              "color": "#EBF0F8"
             },
             "line": {
              "color": "white"
             }
            },
            "header": {
             "fill": {
              "color": "#C8D4E3"
             },
             "line": {
              "color": "white"
             }
            },
            "type": "table"
           }
          ]
         },
         "layout": {
          "annotationdefaults": {
           "arrowcolor": "#2a3f5f",
           "arrowhead": 0,
           "arrowwidth": 1
          },
          "autotypenumbers": "strict",
          "coloraxis": {
           "colorbar": {
            "outlinewidth": 0,
            "ticks": ""
           }
          },
          "colorscale": {
           "diverging": [
            [
             0,
             "#8e0152"
            ],
            [
             0.1,
             "#c51b7d"
            ],
            [
             0.2,
             "#de77ae"
            ],
            [
             0.3,
             "#f1b6da"
            ],
            [
             0.4,
             "#fde0ef"
            ],
            [
             0.5,
             "#f7f7f7"
            ],
            [
             0.6,
             "#e6f5d0"
            ],
            [
             0.7,
             "#b8e186"
            ],
            [
             0.8,
             "#7fbc41"
            ],
            [
             0.9,
             "#4d9221"
            ],
            [
             1,
             "#276419"
            ]
           ],
           "sequential": [
            [
             0,
             "#0d0887"
            ],
            [
             0.1111111111111111,
             "#46039f"
            ],
            [
             0.2222222222222222,
             "#7201a8"
            ],
            [
             0.3333333333333333,
             "#9c179e"
            ],
            [
             0.4444444444444444,
             "#bd3786"
            ],
            [
             0.5555555555555556,
             "#d8576b"
            ],
            [
             0.6666666666666666,
             "#ed7953"
            ],
            [
             0.7777777777777778,
             "#fb9f3a"
            ],
            [
             0.8888888888888888,
             "#fdca26"
            ],
            [
             1,
             "#f0f921"
            ]
           ],
           "sequentialminus": [
            [
             0,
             "#0d0887"
            ],
            [
             0.1111111111111111,
             "#46039f"
            ],
            [
             0.2222222222222222,
             "#7201a8"
            ],
            [
             0.3333333333333333,
             "#9c179e"
            ],
            [
             0.4444444444444444,
             "#bd3786"
            ],
            [
             0.5555555555555556,
             "#d8576b"
            ],
            [
             0.6666666666666666,
             "#ed7953"
            ],
            [
             0.7777777777777778,
             "#fb9f3a"
            ],
            [
             0.8888888888888888,
             "#fdca26"
            ],
            [
             1,
             "#f0f921"
            ]
           ]
          },
          "colorway": [
           "#636efa",
           "#EF553B",
           "#00cc96",
           "#ab63fa",
           "#FFA15A",
           "#19d3f3",
           "#FF6692",
           "#B6E880",
           "#FF97FF",
           "#FECB52"
          ],
          "font": {
           "color": "#2a3f5f"
          },
          "geo": {
           "bgcolor": "white",
           "lakecolor": "white",
           "landcolor": "#E5ECF6",
           "showlakes": true,
           "showland": true,
           "subunitcolor": "white"
          },
          "hoverlabel": {
           "align": "left"
          },
          "hovermode": "closest",
          "mapbox": {
           "style": "light"
          },
          "paper_bgcolor": "white",
          "plot_bgcolor": "#E5ECF6",
          "polar": {
           "angularaxis": {
            "gridcolor": "white",
            "linecolor": "white",
            "ticks": ""
           },
           "bgcolor": "#E5ECF6",
           "radialaxis": {
            "gridcolor": "white",
            "linecolor": "white",
            "ticks": ""
           }
          },
          "scene": {
           "xaxis": {
            "backgroundcolor": "#E5ECF6",
            "gridcolor": "white",
            "gridwidth": 2,
            "linecolor": "white",
            "showbackground": true,
            "ticks": "",
            "zerolinecolor": "white"
           },
           "yaxis": {
            "backgroundcolor": "#E5ECF6",
            "gridcolor": "white",
            "gridwidth": 2,
            "linecolor": "white",
            "showbackground": true,
            "ticks": "",
            "zerolinecolor": "white"
           },
           "zaxis": {
            "backgroundcolor": "#E5ECF6",
            "gridcolor": "white",
            "gridwidth": 2,
            "linecolor": "white",
            "showbackground": true,
            "ticks": "",
            "zerolinecolor": "white"
           }
          },
          "shapedefaults": {
           "line": {
            "color": "#2a3f5f"
           }
          },
          "ternary": {
           "aaxis": {
            "gridcolor": "white",
            "linecolor": "white",
            "ticks": ""
           },
           "baxis": {
            "gridcolor": "white",
            "linecolor": "white",
            "ticks": ""
           },
           "bgcolor": "#E5ECF6",
           "caxis": {
            "gridcolor": "white",
            "linecolor": "white",
            "ticks": ""
           }
          },
          "title": {
           "x": 0.05
          },
          "xaxis": {
           "automargin": true,
           "gridcolor": "white",
           "linecolor": "white",
           "ticks": "",
           "title": {
            "standoff": 15
           },
           "zerolinecolor": "white",
           "zerolinewidth": 2
          },
          "yaxis": {
           "automargin": true,
           "gridcolor": "white",
           "linecolor": "white",
           "ticks": "",
           "title": {
            "standoff": 15
           },
           "zerolinecolor": "white",
           "zerolinewidth": 2
          }
         }
        },
        "title": {
         "font": {
          "size": 22
         },
         "text": "<b>Trump 2024 Election Probability Distribution</b><br><sub>Knowledge Cutoff: January 01, 2024</sub><br><sub>Forecast Error: 57.5% | Std Dev: 2.5%</sub>",
         "x": 0.5,
         "xanchor": "center"
        },
        "width": 1400,
        "xaxis": {
         "range": [
          0,
          1
         ],
         "tickfont": {
          "size": 16
         },
         "tickformat": ".0%",
         "title": {
          "font": {
           "size": 18
          },
          "text": "Probability Estimate"
         }
        },
        "yaxis": {
         "tickfont": {
          "size": 16
         },
         "title": {
          "font": {
           "size": 18
          },
          "text": "Count (out of 10 samples)"
         }
        }
       }
      },
      "image/png": "[encoded data removed]"
     },
     "metadata": {},
     "output_type": "display_data"
    },
    {
     "data": {
      "application/vnd.jupyter.widget-view+json": {
       "model_id": "6bfa353966bd4f08bdc607b33eff8b16",
       "version_major": 2,
       "version_minor": 0
      },
      "text/plain": [
       "interactive(children=(IntSlider(value=0, continuous_update=False, description='Date:', layout=Layout(width='80…"
      ]
     },
     "metadata": {},
     "output_type": "display_data"
    },
    {
     "name": "stdout",
     "output_type": "stream",
     "text": [
      "\n",
      "Date range: January 01, 2024 to November 05, 2024\n",
      "Total time points: 12\n"
     ]
    }
   ],
   "source": [
    "from ipywidgets import interact, IntSlider\n",
    "import plotly.graph_objects as go\n",
    "\n",
    "# Prepare data for visualization\n",
    "sorted_dates = sorted(evolution_results.keys())\n",
    "date_objects = [datetime.strptime(d, '%Y-%m-%d') for d in sorted_dates]\n",
    "\n",
    "def create_evolution_plot(date_index):\n",
    "    \"\"\"Create histogram for a specific date index with detailed statistics.\"\"\"\n",
    "    date_str = sorted_dates[date_index]\n",
    "    date_obj = date_objects[date_index]\n",
    "    dist = evolution_results[date_str]\n",
    "    \n",
    "    probs = np.array(dist['probabilities'])\n",
    "    mean_val = probs.mean()\n",
    "    std_val = probs.std()\n",
    "    median_val = np.median(probs)\n",
    "    \n",
    "    # Create histogram\n",
    "    fig = go.Figure()\n",
    "    \n",
    "    # Add histogram\n",
    "    fig.add_trace(go.Histogram(\n",
    "        x=probs,\n",
    "        nbinsx=20,\n",
    "        marker_color='steelblue',\n",
    "        marker_line_color='white',\n",
    "        marker_line_width=1.5,\n",
    "        opacity=0.85,\n",
    "        hovertemplate='Probability: %{x:.2%}<br>Count: %{y}<extra></extra>',\n",
    "        name='Distribution'\n",
    "    ))\n",
    "    \n",
    "    # Add mean line\n",
    "    fig.add_vline(\n",
    "        x=mean_val,\n",
    "        line_dash=\"dash\",\n",
    "        line_color=\"red\",\n",
    "        line_width=3,\n",
    "        annotation_text=f\"Mean: {mean_val:.1%}\",\n",
    "        annotation_position=\"top right\",\n",
    "        annotation_font_size=16,\n",
    "        annotation_font_color=\"red\"\n",
    "    )\n",
    "    \n",
    "    # Add median line\n",
    "    fig.add_vline(\n",
    "        x=median_val,\n",
    "        line_dash=\"dot\",\n",
    "        line_color=\"darkgreen\",\n",
    "        line_width=2,\n",
    "        annotation_text=f\"Median: {median_val:.1%}\",\n",
    "        annotation_position=\"bottom right\",\n",
    "        annotation_font_size=16,\n",
    "        annotation_font_color=\"darkgreen\"\n",
    "    )\n",
    "    \n",
    "    # Add actual outcome line (Trump won = 1.0)\n",
    "    fig.add_vline(\n",
    "        x=1.0,\n",
    "        line_dash=\"solid\",\n",
    "        line_color=\"gold\",\n",
    "        line_width=3,\n",
    "        annotation_text=\"Actual: 100% (Trump Won)\",\n",
    "        annotation_position=\"top left\",\n",
    "        annotation_font_size=16,\n",
    "        annotation_font_color=\"gold\"\n",
    "    )\n",
    "    \n",
    "    # Calculate forecast error\n",
    "    forecast_error = abs(mean_val - 1.0)\n",
    "    \n",
    "    # Update layout\n",
    "    fig.update_layout(\n",
    "        title=dict(\n",
    "            text=f\"<b>Trump 2024 Election Probability Distribution</b><br>\" +\n",
    "                 f\"<sub>Knowledge Cutoff: {dist['knowledge_cutoff_date']}</sub><br>\" +\n",
    "                 f\"<sub>Forecast Error: {forecast_error:.1%} | Std Dev: {std_val:.1%}</sub>\",\n",
    "            font=dict(size=22),\n",
    "            x=0.5,\n",
    "            xanchor='center'\n",
    "        ),\n",
    "        xaxis=dict(\n",
    "            title=\"Probability Estimate\",\n",
    "            title_font_size=18,\n",
    "            tickfont_size=16,\n",
    "            range=[0, 1],\n",
    "            tickformat='.0%'\n",
    "        ),\n",
    "        yaxis=dict(\n",
    "            title=\"Count (out of 10 samples)\",\n",
    "            title_font_size=18,\n",
    "            tickfont_size=16\n",
    "        ),\n",
    "        height=800,\n",
    "        width=1400,\n",
    "        showlegend=False,\n",
    "        font=dict(size=16),\n",
    "        plot_bgcolor='rgba(240,240,240,0.5)',\n",
    "        margin=dict(t=120, b=80, l=80, r=80)\n",
    "    )\n",
    "    \n",
    "    # Add statistics annotation\n",
    "    stats_text = (\n",
    "        f\"<b>Statistics (n=10):</b><br>\" +\n",
    "        f\"Mean: {mean_val:.1%}<br>\" +\n",
    "        f\"Std Dev: {std_val:.1%}<br>\" +\n",
    "        f\"Min: {probs.min():.1%}<br>\" +\n",
    "        f\"Max: {probs.max():.1%}<br>\" +\n",
    "        f\"Range: {probs.max() - probs.min():.1%}\"\n",
    "    )\n",
    "    \n",
    "    fig.add_annotation(\n",
    "        text=stats_text,\n",
    "        xref=\"paper\", yref=\"paper\",\n",
    "        x=0.02, y=0.98,\n",
    "        xanchor='left', yanchor='top',\n",
    "        showarrow=False,\n",
    "        font=dict(size=14),\n",
    "        bgcolor='rgba(255,255,255,0.9)',\n",
    "        bordercolor='black',\n",
    "        borderwidth=2,\n",
    "        borderpad=10\n",
    "    )\n",
    "    \n",
    "    fig.show()\n",
    "\n",
    "# Create interactive slider\n",
    "date_labels = [f\"{d.strftime('%B %d, %Y')}\" for d in date_objects]\n",
    "\n",
    "print(\"Use the slider below to explore how the probability distribution evolved over time:\")\n",
    "print()\n",
    "\n",
    "interact(\n",
    "    create_evolution_plot,\n",
    "    date_index=IntSlider(\n",
    "        min=0,\n",
    "        max=len(sorted_dates)-1,\n",
    "        step=1,\n",
    "        value=0,\n",
    "        description='Date:',\n",
    "        style={'description_width': '60px'},\n",
    "        layout={'width': '800px'},\n",
    "        continuous_update=False\n",
    "    )\n",
    ")\n",
    "\n",
    "print(f\"\\nDate range: {date_objects[0].strftime('%B %d, %Y')} to {date_objects[-1].strftime('%B %d, %Y')}\")\n",
    "print(f\"Total time points: {len(sorted_dates)}\")"
   ]
  },
  {
   "cell_type": "code",
   "execution_count": 15,
   "metadata": {},
   "outputs": [
    {
     "data": {
      "application/vnd.plotly.v1+json": {
       "config": {
        "plotlyServerURL": "https://plot.ly"
       },
       "data": [
        {
         "error_y": {
          "array": {
           "bdata": "mJmZmZmZmT9DWtM+eXaXP21TfL0wFZk/mJmZmZmZmT+YmZmZmZmZP+1RuB6F66E/mJmZmZmZmT9tU3y9MBWZP21TfL0wFZk/ehSuR+F6lD9DWtM+eXaXP3yE6/tZZKA/",
           "dtype": "f8"
          },
          "color": "steelblue",
          "thickness": 2,
          "type": "data",
          "visible": true,
          "width": 8
         },
         "hovertemplate": "<b>%{x|%B %d, %Y}</b><br>Mean: %{y:.1%}<extra></extra>",
         "line": {
          "color": "steelblue",
          "width": 3
         },
         "marker": {
          "color": "steelblue",
          "size": 10,
          "symbol": "circle"
         },
         "mode": "lines+markers",
         "name": "Mean Probability",
         "type": "scatter",
         "x": [
          "2024-01-01T00:00:00.000000000",
          "2024-01-31T00:00:00.000000000",
          "2024-03-01T00:00:00.000000000",
          "2024-03-31T00:00:00.000000000",
          "2024-04-30T00:00:00.000000000",
          "2024-05-30T00:00:00.000000000",
          "2024-06-29T00:00:00.000000000",
          "2024-07-29T00:00:00.000000000",
          "2024-08-28T00:00:00.000000000",
          "2024-09-27T00:00:00.000000000",
          "2024-10-27T00:00:00.000000000",
          "2024-11-05T00:00:00.000000000"
         ],
         "y": {
          "bdata": "MzMzMzMz2z+QwvUoXI/aP4brUbgehds/NTMzMzMz2z81MzMzMzPbP+tRuB6F69k/MzMzMzMz2z+F61G4HoXbP+J6FK5H4do/PgrXo3A92j+QwvUoXI/aP5DC9Shcj9o/",
          "dtype": "f8"
         }
        },
        {
         "hoverinfo": "skip",
         "line": {
          "width": 0
         },
         "mode": "lines",
         "showlegend": false,
         "type": "scatter",
         "x": [
          "2024-01-01T00:00:00.000000000",
          "2024-01-31T00:00:00.000000000",
          "2024-03-01T00:00:00.000000000",
          "2024-03-31T00:00:00.000000000",
          "2024-04-30T00:00:00.000000000",
          "2024-05-30T00:00:00.000000000",
          "2024-06-29T00:00:00.000000000",
          "2024-07-29T00:00:00.000000000",
          "2024-08-28T00:00:00.000000000",
          "2024-09-27T00:00:00.000000000",
          "2024-10-27T00:00:00.000000000",
          "2024-11-05T00:00:00.000000000"
         ],
         "y": {
          "bdata": "zMzMzMzM3D80+OK8wwbcP72wKcRxFt0/zszMzMzM3D/OzMzMzMzcPylcj8L1KNw/zMzMzMzM3D+8sCnEcRbdPxlA7Lmactw/hutRuB6F2z80+OK8wwbcPyAzc2jnm9w/",
          "dtype": "f8"
         }
        },
        {
         "fill": "tonexty",
         "fillcolor": "rgba(70, 130, 180, 0.2)",
         "hoverinfo": "skip",
         "line": {
          "width": 0
         },
         "mode": "lines",
         "name": "±1 Std Dev",
         "showlegend": false,
         "type": "scatter",
         "x": [
          "2024-01-01T00:00:00.000000000",
          "2024-01-31T00:00:00.000000000",
          "2024-03-01T00:00:00.000000000",
          "2024-03-31T00:00:00.000000000",
          "2024-04-30T00:00:00.000000000",
          "2024-05-30T00:00:00.000000000",
          "2024-06-29T00:00:00.000000000",
          "2024-07-29T00:00:00.000000000",
          "2024-08-28T00:00:00.000000000",
          "2024-09-27T00:00:00.000000000",
          "2024-10-27T00:00:00.000000000",
          "2024-11-05T00:00:00.000000000"
         ],
         "y": {
          "bdata": "mpmZmZmZ2T/sjAiV9BfZP08meqzL89k/nJmZmZmZ2T+cmZmZmZnZP61H4XoUrtc/mpmZmZmZ2T9OJnqsy/PZP6u1PKL0T9k/9ihcj8L12D/sjAiV9BfZPwBSeOnQgtg/",
          "dtype": "f8"
         }
        }
       ],
       "layout": {
        "annotations": [
         {
          "font": {
           "color": "gold",
           "size": 16
          },
          "showarrow": false,
          "text": "Actual Outcome: Trump Won (100%)",
          "x": 0,
          "xanchor": "left",
          "xref": "x domain",
          "y": 1,
          "yanchor": "bottom",
          "yref": "y"
         }
        ],
        "font": {
         "size": 16
        },
        "height": 800,
        "hovermode": "x unified",
        "legend": {
         "bgcolor": "rgba(255,255,255,0.9)",
         "bordercolor": "black",
         "borderwidth": 2,
         "font": {
          "size": 14
         },
         "x": 0.02,
         "xanchor": "left",
         "y": 0.98,
         "yanchor": "top"
        },
        "margin": {
         "b": 80,
         "l": 100,
         "r": 80,
         "t": 120
        },
        "plot_bgcolor": "rgba(240,240,240,0.5)",
        "shapes": [
         {
          "line": {
           "color": "gold",
           "dash": "dash",
           "width": 3
          },
          "type": "line",
          "x0": 0,
          "x1": 1,
          "xref": "x domain",
          "y0": 1,
          "y1": 1,
          "yref": "y"
         }
        ],
        "template": {
         "data": {
          "bar": [
           {
            "error_x": {
             "color": "#2a3f5f"
            },
            "error_y": {
             "color": "#2a3f5f"
            },
            "marker": {
             "line": {
              "color": "#E5ECF6",
              "width": 0.5
             },
             "pattern": {
              "fillmode": "overlay",
              "size": 10,
              "solidity": 0.2
             }
            },
            "type": "bar"
           }
          ],
          "barpolar": [
           {
            "marker": {
             "line": {
              "color": "#E5ECF6",
              "width": 0.5
             },
             "pattern": {
              "fillmode": "overlay",
              "size": 10,
              "solidity": 0.2
             }
            },
            "type": "barpolar"
           }
          ],
          "carpet": [
           {
            "aaxis": {
             "endlinecolor": "#2a3f5f",
             "gridcolor": "white",
             "linecolor": "white",
             "minorgridcolor": "white",
             "startlinecolor": "#2a3f5f"
            },
            "baxis": {
             "endlinecolor": "#2a3f5f",
             "gridcolor": "white",
             "linecolor": "white",
             "minorgridcolor": "white",
             "startlinecolor": "#2a3f5f"
            },
            "type": "carpet"
           }
          ],
          "choropleth": [
           {
            "colorbar": {
             "outlinewidth": 0,
             "ticks": ""
            },
            "type": "choropleth"
           }
          ],
          "contour": [
           {
            "colorbar": {
             "outlinewidth": 0,
             "ticks": ""
            },
            "colorscale": [
             [
              0,
              "#0d0887"
             ],
             [
              0.1111111111111111,
              "#46039f"
             ],
             [
              0.2222222222222222,
              "#7201a8"
             ],
             [
              0.3333333333333333,
              "#9c179e"
             ],
             [
              0.4444444444444444,
              "#bd3786"
             ],
             [
              0.5555555555555556,
              "#d8576b"
             ],
             [
              0.6666666666666666,
              "#ed7953"
             ],
             [
              0.7777777777777778,
              "#fb9f3a"
             ],
             [
              0.8888888888888888,
              "#fdca26"
             ],
             [
              1,
              "#f0f921"
             ]
            ],
            "type": "contour"
           }
          ],
          "contourcarpet": [
           {
            "colorbar": {
             "outlinewidth": 0,
             "ticks": ""
            },
            "type": "contourcarpet"
           }
          ],
          "heatmap": [
           {
            "colorbar": {
             "outlinewidth": 0,
             "ticks": ""
            },
            "colorscale": [
             [
              0,
              "#0d0887"
             ],
             [
              0.1111111111111111,
              "#46039f"
             ],
             [
              0.2222222222222222,
              "#7201a8"
             ],
             [
              0.3333333333333333,
              "#9c179e"
             ],
             [
              0.4444444444444444,
              "#bd3786"
             ],
             [
              0.5555555555555556,
              "#d8576b"
             ],
             [
              0.6666666666666666,
              "#ed7953"
             ],
             [
              0.7777777777777778,
              "#fb9f3a"
             ],
             [
              0.8888888888888888,
              "#fdca26"
             ],
             [
              1,
              "#f0f921"
             ]
            ],
            "type": "heatmap"
           }
          ],
          "histogram": [
           {
            "marker": {
             "pattern": {
              "fillmode": "overlay",
              "size": 10,
              "solidity": 0.2
             }
            },
            "type": "histogram"
           }
          ],
          "histogram2d": [
           {
            "colorbar": {
             "outlinewidth": 0,
             "ticks": ""
            },
            "colorscale": [
             [
              0,
              "#0d0887"
             ],
             [
              0.1111111111111111,
              "#46039f"
             ],
             [
              0.2222222222222222,
              "#7201a8"
             ],
             [
              0.3333333333333333,
              "#9c179e"
             ],
             [
              0.4444444444444444,
              "#bd3786"
             ],
             [
              0.5555555555555556,
              "#d8576b"
             ],
             [
              0.6666666666666666,
              "#ed7953"
             ],
             [
              0.7777777777777778,
              "#fb9f3a"
             ],
             [
              0.8888888888888888,
              "#fdca26"
             ],
             [
              1,
              "#f0f921"
             ]
            ],
            "type": "histogram2d"
           }
          ],
          "histogram2dcontour": [
           {
            "colorbar": {
             "outlinewidth": 0,
             "ticks": ""
            },
            "colorscale": [
             [
              0,
              "#0d0887"
             ],
             [
              0.1111111111111111,
              "#46039f"
             ],
             [
              0.2222222222222222,
              "#7201a8"
             ],
             [
              0.3333333333333333,
              "#9c179e"
             ],
             [
              0.4444444444444444,
              "#bd3786"
             ],
             [
              0.5555555555555556,
              "#d8576b"
             ],
             [
              0.6666666666666666,
              "#ed7953"
             ],
             [
              0.7777777777777778,
              "#fb9f3a"
             ],
             [
              0.8888888888888888,
              "#fdca26"
             ],
             [
              1,
              "#f0f921"
             ]
            ],
            "type": "histogram2dcontour"
           }
          ],
          "mesh3d": [
           {
            "colorbar": {
             "outlinewidth": 0,
             "ticks": ""
            },
            "type": "mesh3d"
           }
          ],
          "parcoords": [
           {
            "line": {
             "colorbar": {
              "outlinewidth": 0,
              "ticks": ""
             }
            },
            "type": "parcoords"
           }
          ],
          "pie": [
           {
            "automargin": true,
            "type": "pie"
           }
          ],
          "scatter": [
           {
            "fillpattern": {
             "fillmode": "overlay",
             "size": 10,
             "solidity": 0.2
            },
            "type": "scatter"
           }
          ],
          "scatter3d": [
           {
            "line": {
             "colorbar": {
              "outlinewidth": 0,
              "ticks": ""
             }
            },
            "marker": {
             "colorbar": {
              "outlinewidth": 0,
              "ticks": ""
             }
            },
            "type": "scatter3d"
           }
          ],
          "scattercarpet": [
           {
            "marker": {
             "colorbar": {
              "outlinewidth": 0,
              "ticks": ""
             }
            },
            "type": "scattercarpet"
           }
          ],
          "scattergeo": [
           {
            "marker": {
             "colorbar": {
              "outlinewidth": 0,
              "ticks": ""
             }
            },
            "type": "scattergeo"
           }
          ],
          "scattergl": [
           {
            "marker": {
             "colorbar": {
              "outlinewidth": 0,
              "ticks": ""
             }
            },
            "type": "scattergl"
           }
          ],
          "scattermap": [
           {
            "marker": {
             "colorbar": {
              "outlinewidth": 0,
              "ticks": ""
             }
            },
            "type": "scattermap"
           }
          ],
          "scattermapbox": [
           {
            "marker": {
             "colorbar": {
              "outlinewidth": 0,
              "ticks": ""
             }
            },
            "type": "scattermapbox"
           }
          ],
          "scatterpolar": [
           {
            "marker": {
             "colorbar": {
              "outlinewidth": 0,
              "ticks": ""
             }
            },
            "type": "scatterpolar"
           }
          ],
          "scatterpolargl": [
           {
            "marker": {
             "colorbar": {
              "outlinewidth": 0,
              "ticks": ""
             }
            },
            "type": "scatterpolargl"
           }
          ],
          "scatterternary": [
           {
            "marker": {
             "colorbar": {
              "outlinewidth": 0,
              "ticks": ""
             }
            },
            "type": "scatterternary"
           }
          ],
          "surface": [
           {
            "colorbar": {
             "outlinewidth": 0,
             "ticks": ""
            },
            "colorscale": [
             [
              0,
              "#0d0887"
             ],
             [
              0.1111111111111111,
              "#46039f"
             ],
             [
              0.2222222222222222,
              "#7201a8"
             ],
             [
              0.3333333333333333,
              "#9c179e"
             ],
             [
              0.4444444444444444,
              "#bd3786"
             ],
             [
              0.5555555555555556,
              "#d8576b"
             ],
             [
              0.6666666666666666,
              "#ed7953"
             ],
             [
              0.7777777777777778,
              "#fb9f3a"
             ],
             [
              0.8888888888888888,
              "#fdca26"
             ],
             [
              1,
              "#f0f921"
             ]
            ],
            "type": "surface"
           }
          ],
          "table": [
           {
            "cells": {
             "fill": {
              "color": "#EBF0F8"
             },
             "line": {
              "color": "white"
             }
            },
            "header": {
             "fill": {
              "color": "#C8D4E3"
             },
             "line": {
              "color": "white"
             }
            },
            "type": "table"
           }
          ]
         },
         "layout": {
          "annotationdefaults": {
           "arrowcolor": "#2a3f5f",
           "arrowhead": 0,
           "arrowwidth": 1
          },
          "autotypenumbers": "strict",
          "coloraxis": {
           "colorbar": {
            "outlinewidth": 0,
            "ticks": ""
           }
          },
          "colorscale": {
           "diverging": [
            [
             0,
             "#8e0152"
            ],
            [
             0.1,
             "#c51b7d"
            ],
            [
             0.2,
             "#de77ae"
            ],
            [
             0.3,
             "#f1b6da"
            ],
            [
             0.4,
             "#fde0ef"
            ],
            [
             0.5,
             "#f7f7f7"
            ],
            [
             0.6,
             "#e6f5d0"
            ],
            [
             0.7,
             "#b8e186"
            ],
            [
             0.8,
             "#7fbc41"
            ],
            [
             0.9,
             "#4d9221"
            ],
            [
             1,
             "#276419"
            ]
           ],
           "sequential": [
            [
             0,
             "#0d0887"
            ],
            [
             0.1111111111111111,
             "#46039f"
            ],
            [
             0.2222222222222222,
             "#7201a8"
            ],
            [
             0.3333333333333333,
             "#9c179e"
            ],
            [
             0.4444444444444444,
             "#bd3786"
            ],
            [
             0.5555555555555556,
             "#d8576b"
            ],
            [
             0.6666666666666666,
             "#ed7953"
            ],
            [
             0.7777777777777778,
             "#fb9f3a"
            ],
            [
             0.8888888888888888,
             "#fdca26"
            ],
            [
             1,
             "#f0f921"
            ]
           ],
           "sequentialminus": [
            [
             0,
             "#0d0887"
            ],
            [
             0.1111111111111111,
             "#46039f"
            ],
            [
             0.2222222222222222,
             "#7201a8"
            ],
            [
             0.3333333333333333,
             "#9c179e"
            ],
            [
             0.4444444444444444,
             "#bd3786"
            ],
            [
             0.5555555555555556,
             "#d8576b"
            ],
            [
             0.6666666666666666,
             "#ed7953"
            ],
            [
             0.7777777777777778,
             "#fb9f3a"
            ],
            [
             0.8888888888888888,
             "#fdca26"
            ],
            [
             1,
             "#f0f921"
            ]
           ]
          },
          "colorway": [
           "#636efa",
           "#EF553B",
           "#00cc96",
           "#ab63fa",
           "#FFA15A",
           "#19d3f3",
           "#FF6692",
           "#B6E880",
           "#FF97FF",
           "#FECB52"
          ],
          "font": {
           "color": "#2a3f5f"
          },
          "geo": {
           "bgcolor": "white",
           "lakecolor": "white",
           "landcolor": "#E5ECF6",
           "showlakes": true,
           "showland": true,
           "subunitcolor": "white"
          },
          "hoverlabel": {
           "align": "left"
          },
          "hovermode": "closest",
          "mapbox": {
           "style": "light"
          },
          "paper_bgcolor": "white",
          "plot_bgcolor": "#E5ECF6",
          "polar": {
           "angularaxis": {
            "gridcolor": "white",
            "linecolor": "white",
            "ticks": ""
           },
           "bgcolor": "#E5ECF6",
           "radialaxis": {
            "gridcolor": "white",
            "linecolor": "white",
            "ticks": ""
           }
          },
          "scene": {
           "xaxis": {
            "backgroundcolor": "#E5ECF6",
            "gridcolor": "white",
            "gridwidth": 2,
            "linecolor": "white",
            "showbackground": true,
            "ticks": "",
            "zerolinecolor": "white"
           },
           "yaxis": {
            "backgroundcolor": "#E5ECF6",
            "gridcolor": "white",
            "gridwidth": 2,
            "linecolor": "white",
            "showbackground": true,
            "ticks": "",
            "zerolinecolor": "white"
           },
           "zaxis": {
            "backgroundcolor": "#E5ECF6",
            "gridcolor": "white",
            "gridwidth": 2,
            "linecolor": "white",
            "showbackground": true,
            "ticks": "",
            "zerolinecolor": "white"
           }
          },
          "shapedefaults": {
           "line": {
            "color": "#2a3f5f"
           }
          },
          "ternary": {
           "aaxis": {
            "gridcolor": "white",
            "linecolor": "white",
            "ticks": ""
           },
           "baxis": {
            "gridcolor": "white",
            "linecolor": "white",
            "ticks": ""
           },
           "bgcolor": "#E5ECF6",
           "caxis": {
            "gridcolor": "white",
            "linecolor": "white",
            "ticks": ""
           }
          },
          "title": {
           "x": 0.05
          },
          "xaxis": {
           "automargin": true,
           "gridcolor": "white",
           "linecolor": "white",
           "ticks": "",
           "title": {
            "standoff": 15
           },
           "zerolinecolor": "white",
           "zerolinewidth": 2
          },
          "yaxis": {
           "automargin": true,
           "gridcolor": "white",
           "linecolor": "white",
           "ticks": "",
           "title": {
            "standoff": 15
           },
           "zerolinecolor": "white",
           "zerolinewidth": 2
          }
         }
        },
        "title": {
         "font": {
          "size": 22
         },
         "text": "<b>Trump 2024 Election: Forecast Evolution Over Time</b><br><sub>Will Donald Trump win the 2024 US Presidential election?</sub><br><sub>Initial Error: 57.5% → Final Error: 58.5% (Improvement: -1.0%)</sub>",
         "x": 0.5,
         "xanchor": "center"
        },
        "width": 1400,
        "xaxis": {
         "gridcolor": "rgba(200,200,200,0.3)",
         "gridwidth": 1,
         "showgrid": true,
         "tickfont": {
          "size": 16
         },
         "title": {
          "font": {
           "size": 18
          },
          "text": "Knowledge Cutoff Date"
         }
        },
        "yaxis": {
         "gridcolor": "rgba(200,200,200,0.3)",
         "gridwidth": 1,
         "range": [
          0,
          1.1
         ],
         "showgrid": true,
         "tickfont": {
          "size": 16
         },
         "tickformat": ".0%",
         "title": {
          "font": {
           "size": 18
          },
          "text": "Probability Estimate"
         }
        }
       }
      },
      "image/png": "[encoded data removed]"
     },
     "metadata": {},
     "output_type": "display_data"
    },
    {
     "name": "stdout",
     "output_type": "stream",
     "text": [
      "\n",
      "================================================================================\n",
      "FORECAST EVOLUTION SUMMARY\n",
      "================================================================================\n",
      "\n",
      "Question: Will Donald Trump win the 2024 US Presidential election?\n",
      "Model: openai/gpt-4o-mini\n",
      "Samples per time point: 10\n",
      "Time range: January 01, 2024 to November 05, 2024\n",
      "\n",
      "Initial forecast (Jan 1, 2024): 42.5% ± 2.5%\n",
      "Final forecast (Nov 5, 2024): 41.5% ± 3.2%\n",
      "Actual outcome: 100% (Trump won)\n",
      "\n",
      "Forecast error improvement: -1.0%\n",
      "Final forecast was underestimated by 58.5%\n",
      "\n",
      "Best forecast: March 01, 2024 - 43.0% (error: 57.0%)\n",
      "Worst forecast: May 30, 2024 - 40.5% (error: 59.5%)\n",
      "\n",
      "================================================================================\n"
     ]
    }
   ],
   "source": [
    "# Create summary timeline plot\n",
    "from probability_estimator import analyze_probability_evolution\n",
    "\n",
    "# Analyze the evolution\n",
    "stats_df = await analyze_probability_evolution(evolution_results)\n",
    "\n",
    "# Create figure\n",
    "fig = go.Figure()\n",
    "\n",
    "# Add mean line with error bars\n",
    "fig.add_trace(go.Scatter(\n",
    "    x=stats_df['date'],\n",
    "    y=stats_df['mean'],\n",
    "    mode='lines+markers',\n",
    "    name='Mean Probability',\n",
    "    line=dict(color='steelblue', width=3),\n",
    "    marker=dict(size=10, color='steelblue', symbol='circle'),\n",
    "    error_y=dict(\n",
    "        type='data',\n",
    "        array=stats_df['std'],\n",
    "        visible=True,\n",
    "        color='steelblue',\n",
    "        thickness=2,\n",
    "        width=8\n",
    "    ),\n",
    "    hovertemplate='<b>%{x|%B %d, %Y}</b><br>Mean: %{y:.1%}<extra></extra>'\n",
    "))\n",
    "\n",
    "# Add actual outcome line\n",
    "fig.add_hline(\n",
    "    y=1.0,\n",
    "    line_dash=\"dash\",\n",
    "    line_color=\"gold\",\n",
    "    line_width=3,\n",
    "    annotation_text=\"Actual Outcome: Trump Won (100%)\",\n",
    "    annotation_position=\"top left\",\n",
    "    annotation_font_size=16,\n",
    "    annotation_font_color=\"gold\"\n",
    ")\n",
    "\n",
    "# Add shaded confidence band (±1 std dev)\n",
    "fig.add_trace(go.Scatter(\n",
    "    x=stats_df['date'],\n",
    "    y=stats_df['mean'] + stats_df['std'],\n",
    "    mode='lines',\n",
    "    line=dict(width=0),\n",
    "    showlegend=False,\n",
    "    hoverinfo='skip'\n",
    "))\n",
    "\n",
    "fig.add_trace(go.Scatter(\n",
    "    x=stats_df['date'],\n",
    "    y=stats_df['mean'] - stats_df['std'],\n",
    "    mode='lines',\n",
    "    line=dict(width=0),\n",
    "    fillcolor='rgba(70, 130, 180, 0.2)',\n",
    "    fill='tonexty',\n",
    "    showlegend=False,\n",
    "    hoverinfo='skip',\n",
    "    name='±1 Std Dev'\n",
    "))\n",
    "\n",
    "# Calculate initial and final forecast errors\n",
    "initial_error = abs(stats_df.iloc[0]['mean'] - 1.0)\n",
    "final_error = abs(stats_df.iloc[-1]['mean'] - 1.0)\n",
    "improvement = initial_error - final_error\n",
    "\n",
    "# Update layout\n",
    "fig.update_layout(\n",
    "    title=dict(\n",
    "        text=f\"<b>Trump 2024 Election: Forecast Evolution Over Time</b><br>\" +\n",
    "             f\"<sub>{evolution_prompt}</sub><br>\" +\n",
    "             f\"<sub>Initial Error: {initial_error:.1%} → Final Error: {final_error:.1%} \" +\n",
    "             f\"(Improvement: {improvement:+.1%})</sub>\",\n",
    "        font=dict(size=22),\n",
    "        x=0.5,\n",
    "        xanchor='center'\n",
    "    ),\n",
    "    xaxis=dict(\n",
    "        title=\"Knowledge Cutoff Date\",\n",
    "        title_font_size=18,\n",
    "        tickfont_size=16,\n",
    "        showgrid=True,\n",
    "        gridwidth=1,\n",
    "        gridcolor='rgba(200,200,200,0.3)'\n",
    "    ),\n",
    "    yaxis=dict(\n",
    "        title=\"Probability Estimate\",\n",
    "        title_font_size=18,\n",
    "        tickfont_size=16,\n",
    "        range=[0, 1.1],\n",
    "        tickformat='.0%',\n",
    "        showgrid=True,\n",
    "        gridwidth=1,\n",
    "        gridcolor='rgba(200,200,200,0.3)'\n",
    "    ),\n",
    "    height=800,\n",
    "    width=1400,\n",
    "    font=dict(size=16),\n",
    "    plot_bgcolor='rgba(240,240,240,0.5)',\n",
    "    margin=dict(t=120, b=80, l=100, r=80),\n",
    "    hovermode='x unified',\n",
    "    legend=dict(\n",
    "        x=0.02,\n",
    "        y=0.98,\n",
    "        xanchor='left',\n",
    "        yanchor='top',\n",
    "        bgcolor='rgba(255,255,255,0.9)',\n",
    "        bordercolor='black',\n",
    "        borderwidth=2,\n",
    "        font=dict(size=14)\n",
    "    )\n",
    ")\n",
    "\n",
    "fig.show()\n",
    "\n",
    "# Print summary statistics\n",
    "print(\"\\n\" + \"=\"*80)\n",
    "print(\"FORECAST EVOLUTION SUMMARY\")\n",
    "print(\"=\"*80)\n",
    "print(f\"\\nQuestion: {evolution_prompt}\")\n",
    "print(f\"Model: {evolution_results[sorted_dates[0]]['model']}\")\n",
    "print(f\"Samples per time point: {evolution_results[sorted_dates[0]]['n_samples']}\")\n",
    "print(f\"Time range: {stats_df.iloc[0]['date'].strftime('%B %d, %Y')} to {stats_df.iloc[-1]['date'].strftime('%B %d, %Y')}\")\n",
    "print(f\"\\nInitial forecast (Jan 1, 2024): {stats_df.iloc[0]['mean']:.1%} ± {stats_df.iloc[0]['std']:.1%}\")\n",
    "print(f\"Final forecast (Nov 5, 2024): {stats_df.iloc[-1]['mean']:.1%} ± {stats_df.iloc[-1]['std']:.1%}\")\n",
    "print(f\"Actual outcome: 100% (Trump won)\")\n",
    "print(f\"\\nForecast error improvement: {improvement:+.1%}\")\n",
    "print(f\"Final forecast was {'over' if stats_df.iloc[-1]['mean'] > 1.0 else 'under'}estimated by {abs(stats_df.iloc[-1]['mean'] - 1.0):.1%}\")\n",
    "\n",
    "# Find best and worst forecasts\n",
    "best_idx = (stats_df['mean'] - 1.0).abs().idxmin()\n",
    "worst_idx = (stats_df['mean'] - 1.0).abs().idxmax()\n",
    "\n",
    "print(f\"\\nBest forecast: {stats_df.iloc[best_idx]['date'].strftime('%B %d, %Y')} - {stats_df.iloc[best_idx]['mean']:.1%} (error: {abs(stats_df.iloc[best_idx]['mean'] - 1.0):.1%})\")\n",
    "print(f\"Worst forecast: {stats_df.iloc[worst_idx]['date'].strftime('%B %d, %Y')} - {stats_df.iloc[worst_idx]['mean']:.1%} (error: {abs(stats_df.iloc[worst_idx]['mean'] - 1.0):.1%})\")\n",
    "\n",
    "print(\"\\n\" + \"=\"*80)"
   ]
  },
  {
   "cell_type": "code",
   "execution_count": null,
   "metadata": {},
   "outputs": [],
   "source": []
  }
 ],
 "metadata": {
  "kernelspec": {
   "display_name": "ML Env",
   "language": "python",
   "name": "ml-env"
  },
  "language_info": {
   "codemirror_mode": {
    "name": "ipython",
    "version": 3
   },
   "file_extension": ".py",
   "mimetype": "text/x-python",
   "name": "python",
   "nbconvert_exporter": "python",
   "pygments_lexer": "ipython3",
   "version": "3.12.11"
  }
 },
 "nbformat": 4,
 "nbformat_minor": 4
}
