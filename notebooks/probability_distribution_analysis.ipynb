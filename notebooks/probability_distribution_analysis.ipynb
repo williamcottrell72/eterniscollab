{
 "cells": [
  {
   "cell_type": "markdown",
   "metadata": {},
   "source": [
    "# Probability Distribution Analysis\n",
    "\n",
    "This notebook analyzes probability distributions from LLM responses using different temperature settings.\n",
    "We compare OpenAI and Claude models with varying levels of prompt rewording and sampling randomness."
   ]
  },
  {
   "cell_type": "code",
   "execution_count": 13,
   "metadata": {},
   "outputs": [
    {
     "name": "stdout",
     "output_type": "stream",
     "text": [
      "OpenRouter API Key available: True\n"
     ]
    }
   ],
   "source": [
    "import sys\n",
    "sys.path.append('..')\n",
    "import os\n",
    "import numpy as np\n",
    "import plotly.graph_objects as go\n",
    "from plotly.subplots import make_subplots\n",
    "import plotly.express as px\n",
    "from probability_estimator import get_probability_distribution\n",
    "import asyncio\n",
    "\n",
    "# Check for OpenRouter API key\n",
    "openrouter_available = os.environ.get(\"OPENROUTER_API_KEY\") is not None\n",
    "\n",
    "print(f\"OpenRouter API Key available: {openrouter_available}\")"
   ]
  },
  {
   "cell_type": "markdown",
   "metadata": {},
   "source": [
    "## Configuration\n",
    "\n",
    "Set your prompt and parameters here:"
   ]
  },
  {
   "cell_type": "code",
   "execution_count": 14,
   "metadata": {},
   "outputs": [
    {
     "name": "stdout",
     "output_type": "stream",
     "text": [
      "Prompt: How likely is it that Nasdaq hits 7000 before Christmas 2025?\n",
      "Samples per configuration: 10\n",
      "Low temperature: 0.3\n",
      "High temperature: 0.9\n"
     ]
    }
   ],
   "source": [
    "# User-defined prompt\n",
    "USER_PROMPT = \"What is the probability that Kamala Harris runs for president again?\"\n",
    "USER_PROMPT = \"How likely is it that Nasdaq hits 7000 before Christmas 2025?\"\n",
    "\n",
    "# Number of samples to collect for each configuration\n",
    "N_SAMPLES = 10\n",
    "\n",
    "# Temperature settings to test\n",
    "LOW_TEMP = 0.3\n",
    "HIGH_TEMP = 0.9\n",
    "\n",
    "print(f\"Prompt: {USER_PROMPT}\")\n",
    "print(f\"Samples per configuration: {N_SAMPLES}\")\n",
    "print(f\"Low temperature: {LOW_TEMP}\")\n",
    "print(f\"High temperature: {HIGH_TEMP}\")"
   ]
  },
  {
   "cell_type": "markdown",
   "metadata": {},
   "source": [
    "## Collect Data from OpenAI\n",
    "\n",
    "Generate probability distributions using OpenAI with different temperature combinations:"
   ]
  },
  {
   "cell_type": "code",
   "execution_count": 15,
   "metadata": {},
   "outputs": [
    {
     "name": "stdout",
     "output_type": "stream",
     "text": [
      "Collecting OpenAI data via OpenRouter...\n",
      "\n",
      "1. Low reword temp, Low prompt temp...\n",
      "   Mean: 0.515\n",
      "2. Low reword temp, High prompt temp...\n",
      "   Mean: 0.525\n",
      "3. High reword temp, Low prompt temp...\n",
      "   Mean: 0.560\n",
      "4. High reword temp, High prompt temp...\n",
      "   Mean: 0.550\n",
      "\n",
      "OpenAI data collection complete!\n"
     ]
    }
   ],
   "source": [
    "async def collect_openai_data():\n",
    "    \"\"\"Collect OpenAI data using OpenRouter\"\"\"\n",
    "    openai_results = {}\n",
    "\n",
    "    if openrouter_available:\n",
    "        print(\"Collecting OpenAI data via OpenRouter...\\n\")\n",
    "        \n",
    "        # Configuration 1: Low reword temp, Low prompt temp\n",
    "        print(\"1. Low reword temp, Low prompt temp...\")\n",
    "        openai_results['low_low'] = await get_probability_distribution(\n",
    "            prompt=USER_PROMPT,\n",
    "            n_samples=N_SAMPLES,\n",
    "            reword_temperature=LOW_TEMP,\n",
    "            prompt_temperature=LOW_TEMP,\n",
    "            model=\"openai/gpt-4o-mini\"\n",
    "        )\n",
    "        print(f\"   Mean: {np.mean(openai_results['low_low']['probabilities']):.3f}\")\n",
    "        \n",
    "        # Configuration 2: Low reword temp, High prompt temp\n",
    "        print(\"2. Low reword temp, High prompt temp...\")\n",
    "        openai_results['low_high'] = await get_probability_distribution(\n",
    "            prompt=USER_PROMPT,\n",
    "            n_samples=N_SAMPLES,\n",
    "            reword_temperature=LOW_TEMP,\n",
    "            prompt_temperature=HIGH_TEMP,\n",
    "            model=\"openai/gpt-4o-mini\"\n",
    "        )\n",
    "        print(f\"   Mean: {np.mean(openai_results['low_high']['probabilities']):.3f}\")\n",
    "        \n",
    "        # Configuration 3: High reword temp, Low prompt temp\n",
    "        print(\"3. High reword temp, Low prompt temp...\")\n",
    "        openai_results['high_low'] = await get_probability_distribution(\n",
    "            prompt=USER_PROMPT,\n",
    "            n_samples=N_SAMPLES,\n",
    "            reword_temperature=HIGH_TEMP,\n",
    "            prompt_temperature=LOW_TEMP,\n",
    "            model=\"openai/gpt-4o-mini\"\n",
    "        )\n",
    "        print(f\"   Mean: {np.mean(openai_results['high_low']['probabilities']):.3f}\")\n",
    "        \n",
    "        # Configuration 4: High reword temp, High prompt temp\n",
    "        print(\"4. High reword temp, High prompt temp...\")\n",
    "        openai_results['high_high'] = await get_probability_distribution(\n",
    "            prompt=USER_PROMPT,\n",
    "            n_samples=N_SAMPLES,\n",
    "            reword_temperature=HIGH_TEMP,\n",
    "            prompt_temperature=HIGH_TEMP,\n",
    "            model=\"openai/gpt-4o-mini\"\n",
    "        )\n",
    "        print(f\"   Mean: {np.mean(openai_results['high_high']['probabilities']):.3f}\")\n",
    "        \n",
    "        print(\"\\nOpenAI data collection complete!\")\n",
    "    else:\n",
    "        print(\"OpenRouter API key not available. Skipping OpenAI data collection.\")\n",
    "    \n",
    "    return openai_results\n",
    "\n",
    "# Run the async function\n",
    "openai_results = await collect_openai_data()"
   ]
  },
  {
   "cell_type": "markdown",
   "metadata": {},
   "source": [
    "## Collect Data from Claude\n",
    "\n",
    "Generate probability distributions using Claude with different temperature combinations:"
   ]
  },
  {
   "cell_type": "code",
   "execution_count": 16,
   "metadata": {},
   "outputs": [
    {
     "name": "stdout",
     "output_type": "stream",
     "text": [
      "Collecting Claude data via OpenRouter...\n",
      "\n",
      "1. Low reword temp, Low prompt temp...\n",
      "   Mean: 0.510\n",
      "2. Low reword temp, High prompt temp...\n",
      "   Mean: 0.525\n",
      "3. High reword temp, Low prompt temp...\n",
      "   Mean: 0.610\n",
      "4. High reword temp, High prompt temp...\n",
      "   Mean: 0.580\n",
      "\n",
      "Claude data collection complete!\n"
     ]
    }
   ],
   "source": [
    "async def collect_claude_data():\n",
    "    \"\"\"Collect Claude data using OpenRouter\"\"\"\n",
    "    claude_results = {}\n",
    "\n",
    "    if openrouter_available:\n",
    "        print(\"Collecting Claude data via OpenRouter...\\n\")\n",
    "        \n",
    "        # Configuration 1: Low reword temp, Low prompt temp\n",
    "        print(\"1. Low reword temp, Low prompt temp...\")\n",
    "        claude_results['low_low'] = await get_probability_distribution(\n",
    "            prompt=USER_PROMPT,\n",
    "            n_samples=N_SAMPLES,\n",
    "            reword_temperature=LOW_TEMP,\n",
    "            prompt_temperature=LOW_TEMP,\n",
    "            model=\"anthropic/claude-sonnet-4\"\n",
    "        )\n",
    "        print(f\"   Mean: {np.mean(claude_results['low_low']['probabilities']):.3f}\")\n",
    "        \n",
    "        # Configuration 2: Low reword temp, High prompt temp\n",
    "        print(\"2. Low reword temp, High prompt temp...\")\n",
    "        claude_results['low_high'] = await get_probability_distribution(\n",
    "            prompt=USER_PROMPT,\n",
    "            n_samples=N_SAMPLES,\n",
    "            reword_temperature=LOW_TEMP,\n",
    "            prompt_temperature=HIGH_TEMP,\n",
    "            model=\"anthropic/claude-sonnet-4\"\n",
    "        )\n",
    "        print(f\"   Mean: {np.mean(claude_results['low_high']['probabilities']):.3f}\")\n",
    "        \n",
    "        # Configuration 3: High reword temp, Low prompt temp\n",
    "        print(\"3. High reword temp, Low prompt temp...\")\n",
    "        claude_results['high_low'] = await get_probability_distribution(\n",
    "            prompt=USER_PROMPT,\n",
    "            n_samples=N_SAMPLES,\n",
    "            reword_temperature=HIGH_TEMP,\n",
    "            prompt_temperature=LOW_TEMP,\n",
    "            model=\"anthropic/claude-sonnet-4\"\n",
    "        )\n",
    "        print(f\"   Mean: {np.mean(claude_results['high_low']['probabilities']):.3f}\")\n",
    "        \n",
    "        # Configuration 4: High reword temp, High prompt temp\n",
    "        print(\"4. High reword temp, High prompt temp...\")\n",
    "        claude_results['high_high'] = await get_probability_distribution(\n",
    "            prompt=USER_PROMPT,\n",
    "            n_samples=N_SAMPLES,\n",
    "            reword_temperature=HIGH_TEMP,\n",
    "            prompt_temperature=HIGH_TEMP,\n",
    "            model=\"anthropic/claude-sonnet-4\"\n",
    "        )\n",
    "        print(f\"   Mean: {np.mean(claude_results['high_high']['probabilities']):.3f}\")\n",
    "        \n",
    "        print(\"\\nClaude data collection complete!\")\n",
    "    else:\n",
    "        print(\"OpenRouter API key not available. Skipping Claude data collection.\")\n",
    "    \n",
    "    return claude_results\n",
    "\n",
    "# Run the async function\n",
    "claude_results = await collect_claude_data()"
   ]
  },
  {
   "cell_type": "markdown",
   "metadata": {},
   "source": [
    "## Visualize OpenAI Results\n",
    "\n",
    "Create histograms showing the distribution of probabilities for each temperature configuration:"
   ]
  },
  {
   "cell_type": "code",
   "execution_count": 17,
   "metadata": {},
   "outputs": [
    {
     "data": {
      "application/vnd.plotly.v1+json": {
       "config": {
        "plotlyServerURL": "https://plot.ly"
       },
       "data": [
        {
         "hovertemplate": "Probability: %{x:.2%}<br>Count: %{y}<extra></extra>",
         "marker": {
          "color": "steelblue"
         },
         "name": "low_low",
         "nbinsx": 15,
         "showlegend": false,
         "type": "histogram",
         "x": [
          0.6,
          0.6,
          0.6,
          0.4,
          0.65,
          0.4,
          0.4,
          0.3,
          0.6,
          0.6
         ],
         "xaxis": "x",
         "yaxis": "y"
        },
        {
         "hovertemplate": "Probability: %{x:.2%}<br>Count: %{y}<extra></extra>",
         "marker": {
          "color": "steelblue"
         },
         "name": "low_high",
         "nbinsx": 15,
         "showlegend": false,
         "type": "histogram",
         "x": [
          0.6,
          0.6,
          0.6,
          0.6,
          0.4,
          0.4,
          0.4,
          0.65,
          0.6,
          0.4
         ],
         "xaxis": "x2",
         "yaxis": "y2"
        },
        {
         "hovertemplate": "Probability: %{x:.2%}<br>Count: %{y}<extra></extra>",
         "marker": {
          "color": "steelblue"
         },
         "name": "high_low",
         "nbinsx": 15,
         "showlegend": false,
         "type": "histogram",
         "x": [
          0.6,
          0.65,
          0.6,
          0.65,
          0.6,
          0.6,
          0.6,
          0.4,
          0.6,
          0.3
         ],
         "xaxis": "x3",
         "yaxis": "y3"
        },
        {
         "hovertemplate": "Probability: %{x:.2%}<br>Count: %{y}<extra></extra>",
         "marker": {
          "color": "steelblue"
         },
         "name": "high_high",
         "nbinsx": 15,
         "showlegend": false,
         "type": "histogram",
         "x": [
          0.65,
          0.6,
          0.6,
          0.4,
          0.6,
          0.4,
          0.6,
          0.6,
          0.4,
          0.65
         ],
         "xaxis": "x4",
         "yaxis": "y4"
        }
       ],
       "layout": {
        "annotations": [
         {
          "font": {
           "size": 16
          },
          "showarrow": false,
          "text": "Low Reword (0.3), Low Prompt (0.3)",
          "x": 0.22,
          "xanchor": "center",
          "xref": "paper",
          "y": 1,
          "yanchor": "bottom",
          "yref": "paper"
         },
         {
          "font": {
           "size": 16
          },
          "showarrow": false,
          "text": "Low Reword (0.3), High Prompt (0.9)",
          "x": 0.78,
          "xanchor": "center",
          "xref": "paper",
          "y": 1,
          "yanchor": "bottom",
          "yref": "paper"
         },
         {
          "font": {
           "size": 16
          },
          "showarrow": false,
          "text": "High Reword (0.9), Low Prompt (0.3)",
          "x": 0.22,
          "xanchor": "center",
          "xref": "paper",
          "y": 0.425,
          "yanchor": "bottom",
          "yref": "paper"
         },
         {
          "font": {
           "size": 16
          },
          "showarrow": false,
          "text": "High Reword (0.9), High Prompt (0.9)",
          "x": 0.78,
          "xanchor": "center",
          "xref": "paper",
          "y": 0.425,
          "yanchor": "bottom",
          "yref": "paper"
         },
         {
          "font": {
           "size": 16
          },
          "showarrow": false,
          "text": "Mean: 51.50%",
          "x": 0.5149999999999999,
          "xanchor": "center",
          "xref": "x",
          "y": 1,
          "yanchor": "bottom",
          "yref": "y domain"
         },
         {
          "font": {
           "size": 16
          },
          "showarrow": false,
          "text": "Mean: 52.50%",
          "x": 0.525,
          "xanchor": "center",
          "xref": "x2",
          "y": 1,
          "yanchor": "bottom",
          "yref": "y2 domain"
         },
         {
          "font": {
           "size": 16
          },
          "showarrow": false,
          "text": "Mean: 56.00%",
          "x": 0.5599999999999999,
          "xanchor": "center",
          "xref": "x3",
          "y": 1,
          "yanchor": "bottom",
          "yref": "y3 domain"
         },
         {
          "font": {
           "size": 16
          },
          "showarrow": false,
          "text": "Mean: 55.00%",
          "x": 0.55,
          "xanchor": "center",
          "xref": "x4",
          "y": 1,
          "yanchor": "bottom",
          "yref": "y4 domain"
         }
        ],
        "font": {
         "size": 14
        },
        "height": 1000,
        "shapes": [
         {
          "line": {
           "color": "red",
           "dash": "dash"
          },
          "type": "line",
          "x0": 0.5149999999999999,
          "x1": 0.5149999999999999,
          "xref": "x",
          "y0": 0,
          "y1": 1,
          "yref": "y domain"
         },
         {
          "line": {
           "color": "red",
           "dash": "dash"
          },
          "type": "line",
          "x0": 0.525,
          "x1": 0.525,
          "xref": "x2",
          "y0": 0,
          "y1": 1,
          "yref": "y2 domain"
         },
         {
          "line": {
           "color": "red",
           "dash": "dash"
          },
          "type": "line",
          "x0": 0.5599999999999999,
          "x1": 0.5599999999999999,
          "xref": "x3",
          "y0": 0,
          "y1": 1,
          "yref": "y3 domain"
         },
         {
          "line": {
           "color": "red",
           "dash": "dash"
          },
          "type": "line",
          "x0": 0.55,
          "x1": 0.55,
          "xref": "x4",
          "y0": 0,
          "y1": 1,
          "yref": "y4 domain"
         }
        ],
        "showlegend": false,
        "template": {
         "data": {
          "bar": [
           {
            "error_x": {
             "color": "#2a3f5f"
            },
            "error_y": {
             "color": "#2a3f5f"
            },
            "marker": {
             "line": {
              "color": "#E5ECF6",
              "width": 0.5
             },
             "pattern": {
              "fillmode": "overlay",
              "size": 10,
              "solidity": 0.2
             }
            },
            "type": "bar"
           }
          ],
          "barpolar": [
           {
            "marker": {
             "line": {
              "color": "#E5ECF6",
              "width": 0.5
             },
             "pattern": {
              "fillmode": "overlay",
              "size": 10,
              "solidity": 0.2
             }
            },
            "type": "barpolar"
           }
          ],
          "carpet": [
           {
            "aaxis": {
             "endlinecolor": "#2a3f5f",
             "gridcolor": "white",
             "linecolor": "white",
             "minorgridcolor": "white",
             "startlinecolor": "#2a3f5f"
            },
            "baxis": {
             "endlinecolor": "#2a3f5f",
             "gridcolor": "white",
             "linecolor": "white",
             "minorgridcolor": "white",
             "startlinecolor": "#2a3f5f"
            },
            "type": "carpet"
           }
          ],
          "choropleth": [
           {
            "colorbar": {
             "outlinewidth": 0,
             "ticks": ""
            },
            "type": "choropleth"
           }
          ],
          "contour": [
           {
            "colorbar": {
             "outlinewidth": 0,
             "ticks": ""
            },
            "colorscale": [
             [
              0,
              "#0d0887"
             ],
             [
              0.1111111111111111,
              "#46039f"
             ],
             [
              0.2222222222222222,
              "#7201a8"
             ],
             [
              0.3333333333333333,
              "#9c179e"
             ],
             [
              0.4444444444444444,
              "#bd3786"
             ],
             [
              0.5555555555555556,
              "#d8576b"
             ],
             [
              0.6666666666666666,
              "#ed7953"
             ],
             [
              0.7777777777777778,
              "#fb9f3a"
             ],
             [
              0.8888888888888888,
              "#fdca26"
             ],
             [
              1,
              "#f0f921"
             ]
            ],
            "type": "contour"
           }
          ],
          "contourcarpet": [
           {
            "colorbar": {
             "outlinewidth": 0,
             "ticks": ""
            },
            "type": "contourcarpet"
           }
          ],
          "heatmap": [
           {
            "colorbar": {
             "outlinewidth": 0,
             "ticks": ""
            },
            "colorscale": [
             [
              0,
              "#0d0887"
             ],
             [
              0.1111111111111111,
              "#46039f"
             ],
             [
              0.2222222222222222,
              "#7201a8"
             ],
             [
              0.3333333333333333,
              "#9c179e"
             ],
             [
              0.4444444444444444,
              "#bd3786"
             ],
             [
              0.5555555555555556,
              "#d8576b"
             ],
             [
              0.6666666666666666,
              "#ed7953"
             ],
             [
              0.7777777777777778,
              "#fb9f3a"
             ],
             [
              0.8888888888888888,
              "#fdca26"
             ],
             [
              1,
              "#f0f921"
             ]
            ],
            "type": "heatmap"
           }
          ],
          "histogram": [
           {
            "marker": {
             "pattern": {
              "fillmode": "overlay",
              "size": 10,
              "solidity": 0.2
             }
            },
            "type": "histogram"
           }
          ],
          "histogram2d": [
           {
            "colorbar": {
             "outlinewidth": 0,
             "ticks": ""
            },
            "colorscale": [
             [
              0,
              "#0d0887"
             ],
             [
              0.1111111111111111,
              "#46039f"
             ],
             [
              0.2222222222222222,
              "#7201a8"
             ],
             [
              0.3333333333333333,
              "#9c179e"
             ],
             [
              0.4444444444444444,
              "#bd3786"
             ],
             [
              0.5555555555555556,
              "#d8576b"
             ],
             [
              0.6666666666666666,
              "#ed7953"
             ],
             [
              0.7777777777777778,
              "#fb9f3a"
             ],
             [
              0.8888888888888888,
              "#fdca26"
             ],
             [
              1,
              "#f0f921"
             ]
            ],
            "type": "histogram2d"
           }
          ],
          "histogram2dcontour": [
           {
            "colorbar": {
             "outlinewidth": 0,
             "ticks": ""
            },
            "colorscale": [
             [
              0,
              "#0d0887"
             ],
             [
              0.1111111111111111,
              "#46039f"
             ],
             [
              0.2222222222222222,
              "#7201a8"
             ],
             [
              0.3333333333333333,
              "#9c179e"
             ],
             [
              0.4444444444444444,
              "#bd3786"
             ],
             [
              0.5555555555555556,
              "#d8576b"
             ],
             [
              0.6666666666666666,
              "#ed7953"
             ],
             [
              0.7777777777777778,
              "#fb9f3a"
             ],
             [
              0.8888888888888888,
              "#fdca26"
             ],
             [
              1,
              "#f0f921"
             ]
            ],
            "type": "histogram2dcontour"
           }
          ],
          "mesh3d": [
           {
            "colorbar": {
             "outlinewidth": 0,
             "ticks": ""
            },
            "type": "mesh3d"
           }
          ],
          "parcoords": [
           {
            "line": {
             "colorbar": {
              "outlinewidth": 0,
              "ticks": ""
             }
            },
            "type": "parcoords"
           }
          ],
          "pie": [
           {
            "automargin": true,
            "type": "pie"
           }
          ],
          "scatter": [
           {
            "fillpattern": {
             "fillmode": "overlay",
             "size": 10,
             "solidity": 0.2
            },
            "type": "scatter"
           }
          ],
          "scatter3d": [
           {
            "line": {
             "colorbar": {
              "outlinewidth": 0,
              "ticks": ""
             }
            },
            "marker": {
             "colorbar": {
              "outlinewidth": 0,
              "ticks": ""
             }
            },
            "type": "scatter3d"
           }
          ],
          "scattercarpet": [
           {
            "marker": {
             "colorbar": {
              "outlinewidth": 0,
              "ticks": ""
             }
            },
            "type": "scattercarpet"
           }
          ],
          "scattergeo": [
           {
            "marker": {
             "colorbar": {
              "outlinewidth": 0,
              "ticks": ""
             }
            },
            "type": "scattergeo"
           }
          ],
          "scattergl": [
           {
            "marker": {
             "colorbar": {
              "outlinewidth": 0,
              "ticks": ""
             }
            },
            "type": "scattergl"
           }
          ],
          "scattermap": [
           {
            "marker": {
             "colorbar": {
              "outlinewidth": 0,
              "ticks": ""
             }
            },
            "type": "scattermap"
           }
          ],
          "scattermapbox": [
           {
            "marker": {
             "colorbar": {
              "outlinewidth": 0,
              "ticks": ""
             }
            },
            "type": "scattermapbox"
           }
          ],
          "scatterpolar": [
           {
            "marker": {
             "colorbar": {
              "outlinewidth": 0,
              "ticks": ""
             }
            },
            "type": "scatterpolar"
           }
          ],
          "scatterpolargl": [
           {
            "marker": {
             "colorbar": {
              "outlinewidth": 0,
              "ticks": ""
             }
            },
            "type": "scatterpolargl"
           }
          ],
          "scatterternary": [
           {
            "marker": {
             "colorbar": {
              "outlinewidth": 0,
              "ticks": ""
             }
            },
            "type": "scatterternary"
           }
          ],
          "surface": [
           {
            "colorbar": {
             "outlinewidth": 0,
             "ticks": ""
            },
            "colorscale": [
             [
              0,
              "#0d0887"
             ],
             [
              0.1111111111111111,
              "#46039f"
             ],
             [
              0.2222222222222222,
              "#7201a8"
             ],
             [
              0.3333333333333333,
              "#9c179e"
             ],
             [
              0.4444444444444444,
              "#bd3786"
             ],
             [
              0.5555555555555556,
              "#d8576b"
             ],
             [
              0.6666666666666666,
              "#ed7953"
             ],
             [
              0.7777777777777778,
              "#fb9f3a"
             ],
             [
              0.8888888888888888,
              "#fdca26"
             ],
             [
              1,
              "#f0f921"
             ]
            ],
            "type": "surface"
           }
          ],
          "table": [
           {
            "cells": {
             "fill": {
              "color": "#EBF0F8"
             },
             "line": {
              "color": "white"
             }
            },
            "header": {
             "fill": {
              "color": "#C8D4E3"
             },
             "line": {
              "color": "white"
             }
            },
            "type": "table"
           }
          ]
         },
         "layout": {
          "annotationdefaults": {
           "arrowcolor": "#2a3f5f",
           "arrowhead": 0,
           "arrowwidth": 1
          },
          "autotypenumbers": "strict",
          "coloraxis": {
           "colorbar": {
            "outlinewidth": 0,
            "ticks": ""
           }
          },
          "colorscale": {
           "diverging": [
            [
             0,
             "#8e0152"
            ],
            [
             0.1,
             "#c51b7d"
            ],
            [
             0.2,
             "#de77ae"
            ],
            [
             0.3,
             "#f1b6da"
            ],
            [
             0.4,
             "#fde0ef"
            ],
            [
             0.5,
             "#f7f7f7"
            ],
            [
             0.6,
             "#e6f5d0"
            ],
            [
             0.7,
             "#b8e186"
            ],
            [
             0.8,
             "#7fbc41"
            ],
            [
             0.9,
             "#4d9221"
            ],
            [
             1,
             "#276419"
            ]
           ],
           "sequential": [
            [
             0,
             "#0d0887"
            ],
            [
             0.1111111111111111,
             "#46039f"
            ],
            [
             0.2222222222222222,
             "#7201a8"
            ],
            [
             0.3333333333333333,
             "#9c179e"
            ],
            [
             0.4444444444444444,
             "#bd3786"
            ],
            [
             0.5555555555555556,
             "#d8576b"
            ],
            [
             0.6666666666666666,
             "#ed7953"
            ],
            [
             0.7777777777777778,
             "#fb9f3a"
            ],
            [
             0.8888888888888888,
             "#fdca26"
            ],
            [
             1,
             "#f0f921"
            ]
           ],
           "sequentialminus": [
            [
             0,
             "#0d0887"
            ],
            [
             0.1111111111111111,
             "#46039f"
            ],
            [
             0.2222222222222222,
             "#7201a8"
            ],
            [
             0.3333333333333333,
             "#9c179e"
            ],
            [
             0.4444444444444444,
             "#bd3786"
            ],
            [
             0.5555555555555556,
             "#d8576b"
            ],
            [
             0.6666666666666666,
             "#ed7953"
            ],
            [
             0.7777777777777778,
             "#fb9f3a"
            ],
            [
             0.8888888888888888,
             "#fdca26"
            ],
            [
             1,
             "#f0f921"
            ]
           ]
          },
          "colorway": [
           "#636efa",
           "#EF553B",
           "#00cc96",
           "#ab63fa",
           "#FFA15A",
           "#19d3f3",
           "#FF6692",
           "#B6E880",
           "#FF97FF",
           "#FECB52"
          ],
          "font": {
           "color": "#2a3f5f"
          },
          "geo": {
           "bgcolor": "white",
           "lakecolor": "white",
           "landcolor": "#E5ECF6",
           "showlakes": true,
           "showland": true,
           "subunitcolor": "white"
          },
          "hoverlabel": {
           "align": "left"
          },
          "hovermode": "closest",
          "mapbox": {
           "style": "light"
          },
          "paper_bgcolor": "white",
          "plot_bgcolor": "#E5ECF6",
          "polar": {
           "angularaxis": {
            "gridcolor": "white",
            "linecolor": "white",
            "ticks": ""
           },
           "bgcolor": "#E5ECF6",
           "radialaxis": {
            "gridcolor": "white",
            "linecolor": "white",
            "ticks": ""
           }
          },
          "scene": {
           "xaxis": {
            "backgroundcolor": "#E5ECF6",
            "gridcolor": "white",
            "gridwidth": 2,
            "linecolor": "white",
            "showbackground": true,
            "ticks": "",
            "zerolinecolor": "white"
           },
           "yaxis": {
            "backgroundcolor": "#E5ECF6",
            "gridcolor": "white",
            "gridwidth": 2,
            "linecolor": "white",
            "showbackground": true,
            "ticks": "",
            "zerolinecolor": "white"
           },
           "zaxis": {
            "backgroundcolor": "#E5ECF6",
            "gridcolor": "white",
            "gridwidth": 2,
            "linecolor": "white",
            "showbackground": true,
            "ticks": "",
            "zerolinecolor": "white"
           }
          },
          "shapedefaults": {
           "line": {
            "color": "#2a3f5f"
           }
          },
          "ternary": {
           "aaxis": {
            "gridcolor": "white",
            "linecolor": "white",
            "ticks": ""
           },
           "baxis": {
            "gridcolor": "white",
            "linecolor": "white",
            "ticks": ""
           },
           "bgcolor": "#E5ECF6",
           "caxis": {
            "gridcolor": "white",
            "linecolor": "white",
            "ticks": ""
           }
          },
          "title": {
           "x": 0.05
          },
          "xaxis": {
           "automargin": true,
           "gridcolor": "white",
           "linecolor": "white",
           "ticks": "",
           "title": {
            "standoff": 15
           },
           "zerolinecolor": "white",
           "zerolinewidth": 2
          },
          "yaxis": {
           "automargin": true,
           "gridcolor": "white",
           "linecolor": "white",
           "ticks": "",
           "title": {
            "standoff": 15
           },
           "zerolinecolor": "white",
           "zerolinewidth": 2
          }
         }
        },
        "title": {
         "font": {
          "size": 20
         },
         "text": "OpenAI Probability Distributions (via OpenRouter)<br><sub>How likely is it that Nasdaq hits 7000 before Christmas 2025?</sub>"
        },
        "width": 1400,
        "xaxis": {
         "anchor": "y",
         "domain": [
          0,
          0.44
         ],
         "range": [
          0,
          1
         ],
         "tickfont": {
          "size": 14
         },
         "title": {
          "font": {
           "size": 16
          },
          "text": "Probability"
         }
        },
        "xaxis2": {
         "anchor": "y2",
         "domain": [
          0.56,
          1
         ],
         "range": [
          0,
          1
         ],
         "tickfont": {
          "size": 14
         },
         "title": {
          "font": {
           "size": 16
          },
          "text": "Probability"
         }
        },
        "xaxis3": {
         "anchor": "y3",
         "domain": [
          0,
          0.44
         ],
         "range": [
          0,
          1
         ],
         "tickfont": {
          "size": 14
         },
         "title": {
          "font": {
           "size": 16
          },
          "text": "Probability"
         }
        },
        "xaxis4": {
         "anchor": "y4",
         "domain": [
          0.56,
          1
         ],
         "range": [
          0,
          1
         ],
         "tickfont": {
          "size": 14
         },
         "title": {
          "font": {
           "size": 16
          },
          "text": "Probability"
         }
        },
        "yaxis": {
         "anchor": "x",
         "domain": [
          0.575,
          1
         ],
         "tickfont": {
          "size": 14
         },
         "title": {
          "font": {
           "size": 16
          },
          "text": "Count"
         }
        },
        "yaxis2": {
         "anchor": "x2",
         "domain": [
          0.575,
          1
         ],
         "tickfont": {
          "size": 14
         },
         "title": {
          "font": {
           "size": 16
          },
          "text": "Count"
         }
        },
        "yaxis3": {
         "anchor": "x3",
         "domain": [
          0,
          0.425
         ],
         "tickfont": {
          "size": 14
         },
         "title": {
          "font": {
           "size": 16
          },
          "text": "Count"
         }
        },
        "yaxis4": {
         "anchor": "x4",
         "domain": [
          0,
          0.425
         ],
         "tickfont": {
          "size": 14
         },
         "title": {
          "font": {
           "size": 16
          },
          "text": "Count"
         }
        }
       }
      }
     },
     "metadata": {},
     "output_type": "display_data"
    }
   ],
   "source": [
    "if openrouter_available and openai_results:\n",
    "    # Create subplots: 2x2 grid with larger size and better spacing\n",
    "    fig = make_subplots(\n",
    "        rows=2, cols=2,\n",
    "        subplot_titles=(\n",
    "            f'Low Reword ({LOW_TEMP}), Low Prompt ({LOW_TEMP})',\n",
    "            f'Low Reword ({LOW_TEMP}), High Prompt ({HIGH_TEMP})',\n",
    "            f'High Reword ({HIGH_TEMP}), Low Prompt ({LOW_TEMP})',\n",
    "            f'High Reword ({HIGH_TEMP}), High Prompt ({HIGH_TEMP})'\n",
    "        ),\n",
    "        vertical_spacing=0.15,\n",
    "        horizontal_spacing=0.12\n",
    "    )\n",
    "    \n",
    "    configs = [\n",
    "        ('low_low', 1, 1),\n",
    "        ('low_high', 1, 2),\n",
    "        ('high_low', 2, 1),\n",
    "        ('high_high', 2, 2)\n",
    "    ]\n",
    "    \n",
    "    for config_name, row, col in configs:\n",
    "        probs = openai_results[config_name]['probabilities']\n",
    "        \n",
    "        fig.add_trace(\n",
    "            go.Histogram(\n",
    "                x=probs,\n",
    "                nbinsx=15,\n",
    "                name=config_name,\n",
    "                marker_color='steelblue',\n",
    "                showlegend=False,\n",
    "                hovertemplate='Probability: %{x:.2%}<br>Count: %{y}<extra></extra>'\n",
    "            ),\n",
    "            row=row, col=col\n",
    "        )\n",
    "        \n",
    "        # Add mean line\n",
    "        mean_val = np.mean(probs)\n",
    "        fig.add_vline(\n",
    "            x=mean_val,\n",
    "            line_dash=\"dash\",\n",
    "            line_color=\"red\",\n",
    "            annotation_text=f\"Mean: {mean_val:.2%}\",\n",
    "            annotation_position=\"top\",\n",
    "            annotation_font_size=14,\n",
    "            row=row, col=col\n",
    "        )\n",
    "    \n",
    "    # Update axes with larger fonts\n",
    "    fig.update_xaxes(title_text=\"Probability\", range=[0, 1], title_font_size=16, tickfont_size=14)\n",
    "    fig.update_yaxes(title_text=\"Count\", title_font_size=16, tickfont_size=14)\n",
    "    \n",
    "    # Update layout with larger figure and fonts\n",
    "    fig.update_layout(\n",
    "        title_text=f\"OpenAI Probability Distributions (via OpenRouter)<br><sub>{USER_PROMPT}</sub>\",\n",
    "        title_font_size=20,\n",
    "        height=1000,  # Increased from 700\n",
    "        width=1400,   # Added width\n",
    "        showlegend=False,\n",
    "        font=dict(size=14)\n",
    "    )\n",
    "    \n",
    "    # Update subplot titles font size\n",
    "    for annotation in fig['layout']['annotations']:\n",
    "        annotation['font'] = dict(size=16)\n",
    "    \n",
    "    fig.show()\n",
    "else:\n",
    "    print(\"No OpenAI data to visualize.\")"
   ]
  },
  {
   "cell_type": "markdown",
   "metadata": {},
   "source": [
    "## Visualize Claude Results\n",
    "\n",
    "Create histograms showing the distribution of probabilities for each temperature configuration:"
   ]
  },
  {
   "cell_type": "code",
   "execution_count": 18,
   "metadata": {},
   "outputs": [
    {
     "data": {
      "application/vnd.plotly.v1+json": {
       "config": {
        "plotlyServerURL": "https://plot.ly"
       },
       "data": [
        {
         "hovertemplate": "Probability: %{x:.2%}<br>Count: %{y}<extra></extra>",
         "marker": {
          "color": "coral"
         },
         "name": "low_low",
         "nbinsx": 15,
         "showlegend": false,
         "type": "histogram",
         "x": [
          0.65,
          0.3,
          0.5,
          0.7,
          0.15,
          0.55,
          0.65,
          0.5,
          0.55,
          0.55
         ],
         "xaxis": "x",
         "yaxis": "y"
        },
        {
         "hovertemplate": "Probability: %{x:.2%}<br>Count: %{y}<extra></extra>",
         "marker": {
          "color": "coral"
         },
         "name": "low_high",
         "nbinsx": 15,
         "showlegend": false,
         "type": "histogram",
         "x": [
          0.15,
          0.5,
          0.35,
          0.5,
          0.7,
          0.7,
          0.55,
          0.7,
          0.55,
          0.55
         ],
         "xaxis": "x2",
         "yaxis": "y2"
        },
        {
         "hovertemplate": "Probability: %{x:.2%}<br>Count: %{y}<extra></extra>",
         "marker": {
          "color": "coral"
         },
         "name": "high_low",
         "nbinsx": 15,
         "showlegend": false,
         "type": "histogram",
         "x": [
          0.55,
          0.55,
          0.55,
          0.7,
          0.5,
          0.6,
          0.7,
          0.7,
          0.7,
          0.55
         ],
         "xaxis": "x3",
         "yaxis": "y3"
        },
        {
         "hovertemplate": "Probability: %{x:.2%}<br>Count: %{y}<extra></extra>",
         "marker": {
          "color": "coral"
         },
         "name": "high_high",
         "nbinsx": 15,
         "showlegend": false,
         "type": "histogram",
         "x": [
          0.65,
          0.5,
          0.7,
          0.5,
          0.6,
          0.55,
          0.55,
          0.7,
          0.55,
          0.5
         ],
         "xaxis": "x4",
         "yaxis": "y4"
        }
       ],
       "layout": {
        "annotations": [
         {
          "font": {
           "size": 16
          },
          "showarrow": false,
          "text": "Low Reword (0.3), Low Prompt (0.3)",
          "x": 0.22,
          "xanchor": "center",
          "xref": "paper",
          "y": 1,
          "yanchor": "bottom",
          "yref": "paper"
         },
         {
          "font": {
           "size": 16
          },
          "showarrow": false,
          "text": "Low Reword (0.3), High Prompt (0.9)",
          "x": 0.78,
          "xanchor": "center",
          "xref": "paper",
          "y": 1,
          "yanchor": "bottom",
          "yref": "paper"
         },
         {
          "font": {
           "size": 16
          },
          "showarrow": false,
          "text": "High Reword (0.9), Low Prompt (0.3)",
          "x": 0.22,
          "xanchor": "center",
          "xref": "paper",
          "y": 0.425,
          "yanchor": "bottom",
          "yref": "paper"
         },
         {
          "font": {
           "size": 16
          },
          "showarrow": false,
          "text": "High Reword (0.9), High Prompt (0.9)",
          "x": 0.78,
          "xanchor": "center",
          "xref": "paper",
          "y": 0.425,
          "yanchor": "bottom",
          "yref": "paper"
         },
         {
          "font": {
           "size": 16
          },
          "showarrow": false,
          "text": "Mean: 51.00%",
          "x": 0.51,
          "xanchor": "center",
          "xref": "x",
          "y": 1,
          "yanchor": "bottom",
          "yref": "y domain"
         },
         {
          "font": {
           "size": 16
          },
          "showarrow": false,
          "text": "Mean: 52.50%",
          "x": 0.525,
          "xanchor": "center",
          "xref": "x2",
          "y": 1,
          "yanchor": "bottom",
          "yref": "y2 domain"
         },
         {
          "font": {
           "size": 16
          },
          "showarrow": false,
          "text": "Mean: 61.00%",
          "x": 0.61,
          "xanchor": "center",
          "xref": "x3",
          "y": 1,
          "yanchor": "bottom",
          "yref": "y3 domain"
         },
         {
          "font": {
           "size": 16
          },
          "showarrow": false,
          "text": "Mean: 58.00%",
          "x": 0.58,
          "xanchor": "center",
          "xref": "x4",
          "y": 1,
          "yanchor": "bottom",
          "yref": "y4 domain"
         }
        ],
        "font": {
         "size": 14
        },
        "height": 1000,
        "shapes": [
         {
          "line": {
           "color": "darkred",
           "dash": "dash"
          },
          "type": "line",
          "x0": 0.51,
          "x1": 0.51,
          "xref": "x",
          "y0": 0,
          "y1": 1,
          "yref": "y domain"
         },
         {
          "line": {
           "color": "darkred",
           "dash": "dash"
          },
          "type": "line",
          "x0": 0.525,
          "x1": 0.525,
          "xref": "x2",
          "y0": 0,
          "y1": 1,
          "yref": "y2 domain"
         },
         {
          "line": {
           "color": "darkred",
           "dash": "dash"
          },
          "type": "line",
          "x0": 0.61,
          "x1": 0.61,
          "xref": "x3",
          "y0": 0,
          "y1": 1,
          "yref": "y3 domain"
         },
         {
          "line": {
           "color": "darkred",
           "dash": "dash"
          },
          "type": "line",
          "x0": 0.58,
          "x1": 0.58,
          "xref": "x4",
          "y0": 0,
          "y1": 1,
          "yref": "y4 domain"
         }
        ],
        "showlegend": false,
        "template": {
         "data": {
          "bar": [
           {
            "error_x": {
             "color": "#2a3f5f"
            },
            "error_y": {
             "color": "#2a3f5f"
            },
            "marker": {
             "line": {
              "color": "#E5ECF6",
              "width": 0.5
             },
             "pattern": {
              "fillmode": "overlay",
              "size": 10,
              "solidity": 0.2
             }
            },
            "type": "bar"
           }
          ],
          "barpolar": [
           {
            "marker": {
             "line": {
              "color": "#E5ECF6",
              "width": 0.5
             },
             "pattern": {
              "fillmode": "overlay",
              "size": 10,
              "solidity": 0.2
             }
            },
            "type": "barpolar"
           }
          ],
          "carpet": [
           {
            "aaxis": {
             "endlinecolor": "#2a3f5f",
             "gridcolor": "white",
             "linecolor": "white",
             "minorgridcolor": "white",
             "startlinecolor": "#2a3f5f"
            },
            "baxis": {
             "endlinecolor": "#2a3f5f",
             "gridcolor": "white",
             "linecolor": "white",
             "minorgridcolor": "white",
             "startlinecolor": "#2a3f5f"
            },
            "type": "carpet"
           }
          ],
          "choropleth": [
           {
            "colorbar": {
             "outlinewidth": 0,
             "ticks": ""
            },
            "type": "choropleth"
           }
          ],
          "contour": [
           {
            "colorbar": {
             "outlinewidth": 0,
             "ticks": ""
            },
            "colorscale": [
             [
              0,
              "#0d0887"
             ],
             [
              0.1111111111111111,
              "#46039f"
             ],
             [
              0.2222222222222222,
              "#7201a8"
             ],
             [
              0.3333333333333333,
              "#9c179e"
             ],
             [
              0.4444444444444444,
              "#bd3786"
             ],
             [
              0.5555555555555556,
              "#d8576b"
             ],
             [
              0.6666666666666666,
              "#ed7953"
             ],
             [
              0.7777777777777778,
              "#fb9f3a"
             ],
             [
              0.8888888888888888,
              "#fdca26"
             ],
             [
              1,
              "#f0f921"
             ]
            ],
            "type": "contour"
           }
          ],
          "contourcarpet": [
           {
            "colorbar": {
             "outlinewidth": 0,
             "ticks": ""
            },
            "type": "contourcarpet"
           }
          ],
          "heatmap": [
           {
            "colorbar": {
             "outlinewidth": 0,
             "ticks": ""
            },
            "colorscale": [
             [
              0,
              "#0d0887"
             ],
             [
              0.1111111111111111,
              "#46039f"
             ],
             [
              0.2222222222222222,
              "#7201a8"
             ],
             [
              0.3333333333333333,
              "#9c179e"
             ],
             [
              0.4444444444444444,
              "#bd3786"
             ],
             [
              0.5555555555555556,
              "#d8576b"
             ],
             [
              0.6666666666666666,
              "#ed7953"
             ],
             [
              0.7777777777777778,
              "#fb9f3a"
             ],
             [
              0.8888888888888888,
              "#fdca26"
             ],
             [
              1,
              "#f0f921"
             ]
            ],
            "type": "heatmap"
           }
          ],
          "histogram": [
           {
            "marker": {
             "pattern": {
              "fillmode": "overlay",
              "size": 10,
              "solidity": 0.2
             }
            },
            "type": "histogram"
           }
          ],
          "histogram2d": [
           {
            "colorbar": {
             "outlinewidth": 0,
             "ticks": ""
            },
            "colorscale": [
             [
              0,
              "#0d0887"
             ],
             [
              0.1111111111111111,
              "#46039f"
             ],
             [
              0.2222222222222222,
              "#7201a8"
             ],
             [
              0.3333333333333333,
              "#9c179e"
             ],
             [
              0.4444444444444444,
              "#bd3786"
             ],
             [
              0.5555555555555556,
              "#d8576b"
             ],
             [
              0.6666666666666666,
              "#ed7953"
             ],
             [
              0.7777777777777778,
              "#fb9f3a"
             ],
             [
              0.8888888888888888,
              "#fdca26"
             ],
             [
              1,
              "#f0f921"
             ]
            ],
            "type": "histogram2d"
           }
          ],
          "histogram2dcontour": [
           {
            "colorbar": {
             "outlinewidth": 0,
             "ticks": ""
            },
            "colorscale": [
             [
              0,
              "#0d0887"
             ],
             [
              0.1111111111111111,
              "#46039f"
             ],
             [
              0.2222222222222222,
              "#7201a8"
             ],
             [
              0.3333333333333333,
              "#9c179e"
             ],
             [
              0.4444444444444444,
              "#bd3786"
             ],
             [
              0.5555555555555556,
              "#d8576b"
             ],
             [
              0.6666666666666666,
              "#ed7953"
             ],
             [
              0.7777777777777778,
              "#fb9f3a"
             ],
             [
              0.8888888888888888,
              "#fdca26"
             ],
             [
              1,
              "#f0f921"
             ]
            ],
            "type": "histogram2dcontour"
           }
          ],
          "mesh3d": [
           {
            "colorbar": {
             "outlinewidth": 0,
             "ticks": ""
            },
            "type": "mesh3d"
           }
          ],
          "parcoords": [
           {
            "line": {
             "colorbar": {
              "outlinewidth": 0,
              "ticks": ""
             }
            },
            "type": "parcoords"
           }
          ],
          "pie": [
           {
            "automargin": true,
            "type": "pie"
           }
          ],
          "scatter": [
           {
            "fillpattern": {
             "fillmode": "overlay",
             "size": 10,
             "solidity": 0.2
            },
            "type": "scatter"
           }
          ],
          "scatter3d": [
           {
            "line": {
             "colorbar": {
              "outlinewidth": 0,
              "ticks": ""
             }
            },
            "marker": {
             "colorbar": {
              "outlinewidth": 0,
              "ticks": ""
             }
            },
            "type": "scatter3d"
           }
          ],
          "scattercarpet": [
           {
            "marker": {
             "colorbar": {
              "outlinewidth": 0,
              "ticks": ""
             }
            },
            "type": "scattercarpet"
           }
          ],
          "scattergeo": [
           {
            "marker": {
             "colorbar": {
              "outlinewidth": 0,
              "ticks": ""
             }
            },
            "type": "scattergeo"
           }
          ],
          "scattergl": [
           {
            "marker": {
             "colorbar": {
              "outlinewidth": 0,
              "ticks": ""
             }
            },
            "type": "scattergl"
           }
          ],
          "scattermap": [
           {
            "marker": {
             "colorbar": {
              "outlinewidth": 0,
              "ticks": ""
             }
            },
            "type": "scattermap"
           }
          ],
          "scattermapbox": [
           {
            "marker": {
             "colorbar": {
              "outlinewidth": 0,
              "ticks": ""
             }
            },
            "type": "scattermapbox"
           }
          ],
          "scatterpolar": [
           {
            "marker": {
             "colorbar": {
              "outlinewidth": 0,
              "ticks": ""
             }
            },
            "type": "scatterpolar"
           }
          ],
          "scatterpolargl": [
           {
            "marker": {
             "colorbar": {
              "outlinewidth": 0,
              "ticks": ""
             }
            },
            "type": "scatterpolargl"
           }
          ],
          "scatterternary": [
           {
            "marker": {
             "colorbar": {
              "outlinewidth": 0,
              "ticks": ""
             }
            },
            "type": "scatterternary"
           }
          ],
          "surface": [
           {
            "colorbar": {
             "outlinewidth": 0,
             "ticks": ""
            },
            "colorscale": [
             [
              0,
              "#0d0887"
             ],
             [
              0.1111111111111111,
              "#46039f"
             ],
             [
              0.2222222222222222,
              "#7201a8"
             ],
             [
              0.3333333333333333,
              "#9c179e"
             ],
             [
              0.4444444444444444,
              "#bd3786"
             ],
             [
              0.5555555555555556,
              "#d8576b"
             ],
             [
              0.6666666666666666,
              "#ed7953"
             ],
             [
              0.7777777777777778,
              "#fb9f3a"
             ],
             [
              0.8888888888888888,
              "#fdca26"
             ],
             [
              1,
              "#f0f921"
             ]
            ],
            "type": "surface"
           }
          ],
          "table": [
           {
            "cells": {
             "fill": {
              "color": "#EBF0F8"
             },
             "line": {
              "color": "white"
             }
            },
            "header": {
             "fill": {
              "color": "#C8D4E3"
             },
             "line": {
              "color": "white"
             }
            },
            "type": "table"
           }
          ]
         },
         "layout": {
          "annotationdefaults": {
           "arrowcolor": "#2a3f5f",
           "arrowhead": 0,
           "arrowwidth": 1
          },
          "autotypenumbers": "strict",
          "coloraxis": {
           "colorbar": {
            "outlinewidth": 0,
            "ticks": ""
           }
          },
          "colorscale": {
           "diverging": [
            [
             0,
             "#8e0152"
            ],
            [
             0.1,
             "#c51b7d"
            ],
            [
             0.2,
             "#de77ae"
            ],
            [
             0.3,
             "#f1b6da"
            ],
            [
             0.4,
             "#fde0ef"
            ],
            [
             0.5,
             "#f7f7f7"
            ],
            [
             0.6,
             "#e6f5d0"
            ],
            [
             0.7,
             "#b8e186"
            ],
            [
             0.8,
             "#7fbc41"
            ],
            [
             0.9,
             "#4d9221"
            ],
            [
             1,
             "#276419"
            ]
           ],
           "sequential": [
            [
             0,
             "#0d0887"
            ],
            [
             0.1111111111111111,
             "#46039f"
            ],
            [
             0.2222222222222222,
             "#7201a8"
            ],
            [
             0.3333333333333333,
             "#9c179e"
            ],
            [
             0.4444444444444444,
             "#bd3786"
            ],
            [
             0.5555555555555556,
             "#d8576b"
            ],
            [
             0.6666666666666666,
             "#ed7953"
            ],
            [
             0.7777777777777778,
             "#fb9f3a"
            ],
            [
             0.8888888888888888,
             "#fdca26"
            ],
            [
             1,
             "#f0f921"
            ]
           ],
           "sequentialminus": [
            [
             0,
             "#0d0887"
            ],
            [
             0.1111111111111111,
             "#46039f"
            ],
            [
             0.2222222222222222,
             "#7201a8"
            ],
            [
             0.3333333333333333,
             "#9c179e"
            ],
            [
             0.4444444444444444,
             "#bd3786"
            ],
            [
             0.5555555555555556,
             "#d8576b"
            ],
            [
             0.6666666666666666,
             "#ed7953"
            ],
            [
             0.7777777777777778,
             "#fb9f3a"
            ],
            [
             0.8888888888888888,
             "#fdca26"
            ],
            [
             1,
             "#f0f921"
            ]
           ]
          },
          "colorway": [
           "#636efa",
           "#EF553B",
           "#00cc96",
           "#ab63fa",
           "#FFA15A",
           "#19d3f3",
           "#FF6692",
           "#B6E880",
           "#FF97FF",
           "#FECB52"
          ],
          "font": {
           "color": "#2a3f5f"
          },
          "geo": {
           "bgcolor": "white",
           "lakecolor": "white",
           "landcolor": "#E5ECF6",
           "showlakes": true,
           "showland": true,
           "subunitcolor": "white"
          },
          "hoverlabel": {
           "align": "left"
          },
          "hovermode": "closest",
          "mapbox": {
           "style": "light"
          },
          "paper_bgcolor": "white",
          "plot_bgcolor": "#E5ECF6",
          "polar": {
           "angularaxis": {
            "gridcolor": "white",
            "linecolor": "white",
            "ticks": ""
           },
           "bgcolor": "#E5ECF6",
           "radialaxis": {
            "gridcolor": "white",
            "linecolor": "white",
            "ticks": ""
           }
          },
          "scene": {
           "xaxis": {
            "backgroundcolor": "#E5ECF6",
            "gridcolor": "white",
            "gridwidth": 2,
            "linecolor": "white",
            "showbackground": true,
            "ticks": "",
            "zerolinecolor": "white"
           },
           "yaxis": {
            "backgroundcolor": "#E5ECF6",
            "gridcolor": "white",
            "gridwidth": 2,
            "linecolor": "white",
            "showbackground": true,
            "ticks": "",
            "zerolinecolor": "white"
           },
           "zaxis": {
            "backgroundcolor": "#E5ECF6",
            "gridcolor": "white",
            "gridwidth": 2,
            "linecolor": "white",
            "showbackground": true,
            "ticks": "",
            "zerolinecolor": "white"
           }
          },
          "shapedefaults": {
           "line": {
            "color": "#2a3f5f"
           }
          },
          "ternary": {
           "aaxis": {
            "gridcolor": "white",
            "linecolor": "white",
            "ticks": ""
           },
           "baxis": {
            "gridcolor": "white",
            "linecolor": "white",
            "ticks": ""
           },
           "bgcolor": "#E5ECF6",
           "caxis": {
            "gridcolor": "white",
            "linecolor": "white",
            "ticks": ""
           }
          },
          "title": {
           "x": 0.05
          },
          "xaxis": {
           "automargin": true,
           "gridcolor": "white",
           "linecolor": "white",
           "ticks": "",
           "title": {
            "standoff": 15
           },
           "zerolinecolor": "white",
           "zerolinewidth": 2
          },
          "yaxis": {
           "automargin": true,
           "gridcolor": "white",
           "linecolor": "white",
           "ticks": "",
           "title": {
            "standoff": 15
           },
           "zerolinecolor": "white",
           "zerolinewidth": 2
          }
         }
        },
        "title": {
         "font": {
          "size": 20
         },
         "text": "Claude Probability Distributions (via OpenRouter)<br><sub>How likely is it that Nasdaq hits 7000 before Christmas 2025?</sub>"
        },
        "width": 1400,
        "xaxis": {
         "anchor": "y",
         "domain": [
          0,
          0.44
         ],
         "range": [
          0,
          1
         ],
         "tickfont": {
          "size": 14
         },
         "title": {
          "font": {
           "size": 16
          },
          "text": "Probability"
         }
        },
        "xaxis2": {
         "anchor": "y2",
         "domain": [
          0.56,
          1
         ],
         "range": [
          0,
          1
         ],
         "tickfont": {
          "size": 14
         },
         "title": {
          "font": {
           "size": 16
          },
          "text": "Probability"
         }
        },
        "xaxis3": {
         "anchor": "y3",
         "domain": [
          0,
          0.44
         ],
         "range": [
          0,
          1
         ],
         "tickfont": {
          "size": 14
         },
         "title": {
          "font": {
           "size": 16
          },
          "text": "Probability"
         }
        },
        "xaxis4": {
         "anchor": "y4",
         "domain": [
          0.56,
          1
         ],
         "range": [
          0,
          1
         ],
         "tickfont": {
          "size": 14
         },
         "title": {
          "font": {
           "size": 16
          },
          "text": "Probability"
         }
        },
        "yaxis": {
         "anchor": "x",
         "domain": [
          0.575,
          1
         ],
         "tickfont": {
          "size": 14
         },
         "title": {
          "font": {
           "size": 16
          },
          "text": "Count"
         }
        },
        "yaxis2": {
         "anchor": "x2",
         "domain": [
          0.575,
          1
         ],
         "tickfont": {
          "size": 14
         },
         "title": {
          "font": {
           "size": 16
          },
          "text": "Count"
         }
        },
        "yaxis3": {
         "anchor": "x3",
         "domain": [
          0,
          0.425
         ],
         "tickfont": {
          "size": 14
         },
         "title": {
          "font": {
           "size": 16
          },
          "text": "Count"
         }
        },
        "yaxis4": {
         "anchor": "x4",
         "domain": [
          0,
          0.425
         ],
         "tickfont": {
          "size": 14
         },
         "title": {
          "font": {
           "size": 16
          },
          "text": "Count"
         }
        }
       }
      }
     },
     "metadata": {},
     "output_type": "display_data"
    }
   ],
   "source": [
    "if openrouter_available and claude_results:\n",
    "    # Create subplots: 2x2 grid with larger size and better spacing\n",
    "    fig = make_subplots(\n",
    "        rows=2, cols=2,\n",
    "        subplot_titles=(\n",
    "            f'Low Reword ({LOW_TEMP}), Low Prompt ({LOW_TEMP})',\n",
    "            f'Low Reword ({LOW_TEMP}), High Prompt ({HIGH_TEMP})',\n",
    "            f'High Reword ({HIGH_TEMP}), Low Prompt ({LOW_TEMP})',\n",
    "            f'High Reword ({HIGH_TEMP}), High Prompt ({HIGH_TEMP})'\n",
    "        ),\n",
    "        vertical_spacing=0.15,\n",
    "        horizontal_spacing=0.12\n",
    "    )\n",
    "    \n",
    "    configs = [\n",
    "        ('low_low', 1, 1),\n",
    "        ('low_high', 1, 2),\n",
    "        ('high_low', 2, 1),\n",
    "        ('high_high', 2, 2)\n",
    "    ]\n",
    "    \n",
    "    for config_name, row, col in configs:\n",
    "        probs = claude_results[config_name]['probabilities']\n",
    "        \n",
    "        fig.add_trace(\n",
    "            go.Histogram(\n",
    "                x=probs,\n",
    "                nbinsx=15,\n",
    "                name=config_name,\n",
    "                marker_color='coral',\n",
    "                showlegend=False,\n",
    "                hovertemplate='Probability: %{x:.2%}<br>Count: %{y}<extra></extra>'\n",
    "            ),\n",
    "            row=row, col=col\n",
    "        )\n",
    "        \n",
    "        # Add mean line\n",
    "        mean_val = np.mean(probs)\n",
    "        fig.add_vline(\n",
    "            x=mean_val,\n",
    "            line_dash=\"dash\",\n",
    "            line_color=\"darkred\",\n",
    "            annotation_text=f\"Mean: {mean_val:.2%}\",\n",
    "            annotation_position=\"top\",\n",
    "            annotation_font_size=14,\n",
    "            row=row, col=col\n",
    "        )\n",
    "    \n",
    "    # Update axes with larger fonts\n",
    "    fig.update_xaxes(title_text=\"Probability\", range=[0, 1], title_font_size=16, tickfont_size=14)\n",
    "    fig.update_yaxes(title_text=\"Count\", title_font_size=16, tickfont_size=14)\n",
    "    \n",
    "    # Update layout with larger figure and fonts\n",
    "    fig.update_layout(\n",
    "        title_text=f\"Claude Probability Distributions (via OpenRouter)<br><sub>{USER_PROMPT}</sub>\",\n",
    "        title_font_size=20,\n",
    "        height=1000,  # Increased from 700\n",
    "        width=1400,   # Added width\n",
    "        showlegend=False,\n",
    "        font=dict(size=14)\n",
    "    )\n",
    "    \n",
    "    # Update subplot titles font size\n",
    "    for annotation in fig['layout']['annotations']:\n",
    "        annotation['font'] = dict(size=16)\n",
    "    \n",
    "    fig.show()\n",
    "else:\n",
    "    print(\"No Claude data to visualize.\")"
   ]
  },
  {
   "cell_type": "markdown",
   "metadata": {},
   "source": [
    "## Statistical Summary\n",
    "\n",
    "Compare the statistics across all configurations:"
   ]
  },
  {
   "cell_type": "code",
   "execution_count": 19,
   "metadata": {},
   "outputs": [
    {
     "name": "stdout",
     "output_type": "stream",
     "text": [
      "\n",
      "Statistical Summary for: How likely is it that Nasdaq hits 7000 before Christmas 2025?\n",
      "====================================================================================================\n",
      "               Provider                     Model Configuration  Reword Temp  Prompt Temp  Mean Std Dev   Min   Max Median\n",
      "OpenAI (via OpenRouter)        openai/gpt-4o-mini       Low Low          0.3          0.3 0.515   0.118 0.300 0.650  0.600\n",
      "OpenAI (via OpenRouter)        openai/gpt-4o-mini      Low High          0.3          0.9 0.525   0.103 0.400 0.650  0.600\n",
      "OpenAI (via OpenRouter)        openai/gpt-4o-mini      High Low          0.9          0.3 0.560   0.109 0.300 0.650  0.600\n",
      "OpenAI (via OpenRouter)        openai/gpt-4o-mini     High High          0.9          0.9 0.550   0.100 0.400 0.650  0.600\n",
      "Claude (via OpenRouter) anthropic/claude-sonnet-4       Low Low          0.3          0.3 0.510   0.159 0.150 0.700  0.550\n",
      "Claude (via OpenRouter) anthropic/claude-sonnet-4      Low High          0.3          0.9 0.525   0.163 0.150 0.700  0.550\n",
      "Claude (via OpenRouter) anthropic/claude-sonnet-4      High Low          0.9          0.3 0.610   0.077 0.500 0.700  0.575\n",
      "Claude (via OpenRouter) anthropic/claude-sonnet-4     High High          0.9          0.9 0.580   0.075 0.500 0.700  0.550\n"
     ]
    }
   ],
   "source": [
    "import pandas as pd\n",
    "\n",
    "summary_data = []\n",
    "\n",
    "# OpenAI summaries\n",
    "if openrouter_available and openai_results:\n",
    "    for config_name, result in openai_results.items():\n",
    "        probs = np.array(result['probabilities'])\n",
    "        summary_data.append({\n",
    "            'Provider': 'OpenAI (via OpenRouter)',\n",
    "            'Model': result['model'],\n",
    "            'Configuration': config_name.replace('_', ' ').title(),\n",
    "            'Reword Temp': result['reword_temperature'],\n",
    "            'Prompt Temp': result['prompt_temperature'],\n",
    "            'Mean': f\"{probs.mean():.3f}\",\n",
    "            'Std Dev': f\"{probs.std():.3f}\",\n",
    "            'Min': f\"{probs.min():.3f}\",\n",
    "            'Max': f\"{probs.max():.3f}\",\n",
    "            'Median': f\"{np.median(probs):.3f}\"\n",
    "        })\n",
    "\n",
    "# Claude summaries\n",
    "if openrouter_available and claude_results:\n",
    "    for config_name, result in claude_results.items():\n",
    "        probs = np.array(result['probabilities'])\n",
    "        summary_data.append({\n",
    "            'Provider': 'Claude (via OpenRouter)',\n",
    "            'Model': result['model'],\n",
    "            'Configuration': config_name.replace('_', ' ').title(),\n",
    "            'Reword Temp': result['reword_temperature'],\n",
    "            'Prompt Temp': result['prompt_temperature'],\n",
    "            'Mean': f\"{probs.mean():.3f}\",\n",
    "            'Std Dev': f\"{probs.std():.3f}\",\n",
    "            'Min': f\"{probs.min():.3f}\",\n",
    "            'Max': f\"{probs.max():.3f}\",\n",
    "            'Median': f\"{np.median(probs):.3f}\"\n",
    "        })\n",
    "\n",
    "if summary_data:\n",
    "    df = pd.DataFrame(summary_data)\n",
    "    print(f\"\\nStatistical Summary for: {USER_PROMPT}\")\n",
    "    print(\"=\"*100)\n",
    "    print(df.to_string(index=False))\n",
    "else:\n",
    "    print(\"No data available for summary.\")"
   ]
  },
  {
   "cell_type": "markdown",
   "metadata": {},
   "source": [
    "## View Sample Reworded Prompts\n",
    "\n",
    "Examine how the prompts were reworded at different temperatures:"
   ]
  },
  {
   "cell_type": "code",
   "execution_count": 20,
   "metadata": {},
   "outputs": [
    {
     "name": "stdout",
     "output_type": "stream",
     "text": [
      "\n",
      "================================================================================\n",
      "OpenAI - Sample Reworded Prompts\n",
      "================================================================================\n",
      "\n",
      "Configuration: Low Low\n",
      "Reword Temp: 0.3, Prompt Temp: 0.3\n",
      "--------------------------------------------------------------------------------\n",
      "1. How likely is it that Nasdaq hits 7000 before Christmas 2025?\n",
      "   → Probability: 60.00%\n",
      "2. What are the chances of the Nasdaq reaching 7000 before Christmas 2025?\n",
      "   → Probability: 60.00%\n",
      "3. What are the chances that the Nasdaq will reach 7000 prior to Christmas in 2025?\n",
      "   → Probability: 60.00%\n",
      "\n",
      "Configuration: Low High\n",
      "Reword Temp: 0.3, Prompt Temp: 0.9\n",
      "--------------------------------------------------------------------------------\n",
      "1. How likely is it that Nasdaq hits 7000 before Christmas 2025?\n",
      "   → Probability: 60.00%\n",
      "2. What are the chances that the Nasdaq will reach 7000 prior to Christmas 2025?\n",
      "   → Probability: 60.00%\n",
      "3. What are the chances that the Nasdaq will reach 7000 before Christmas 2025?\n",
      "   → Probability: 60.00%\n",
      "\n",
      "Configuration: High Low\n",
      "Reword Temp: 0.9, Prompt Temp: 0.3\n",
      "--------------------------------------------------------------------------------\n",
      "1. How likely is it that Nasdaq hits 7000 before Christmas 2025?\n",
      "   → Probability: 60.00%\n",
      "2. What are the chances that the Nasdaq will reach 7000 prior to Christmas in 2025?\n",
      "   → Probability: 65.00%\n",
      "3. What are the chances that the Nasdaq will reach 7000 prior to Christmas in 2025?\n",
      "   → Probability: 60.00%\n",
      "\n",
      "Configuration: High High\n",
      "Reword Temp: 0.9, Prompt Temp: 0.9\n",
      "--------------------------------------------------------------------------------\n",
      "1. How likely is it that Nasdaq hits 7000 before Christmas 2025?\n",
      "   → Probability: 65.00%\n",
      "2. What are the chances that the Nasdaq will reach 7000 prior to Christmas 2025?\n",
      "   → Probability: 60.00%\n",
      "3. What are the odds of the Nasdaq reaching 7000 before the Christmas of 2025?\n",
      "   → Probability: 60.00%\n",
      "\n",
      "\n",
      "================================================================================\n",
      "Claude - Sample Reworded Prompts\n",
      "================================================================================\n",
      "\n",
      "Configuration: Low Low\n",
      "Reword Temp: 0.3, Prompt Temp: 0.3\n",
      "--------------------------------------------------------------------------------\n",
      "1. How likely is it that Nasdaq hits 7000 before Christmas 2025?\n",
      "   → Probability: 65.00%\n",
      "2. What are the chances of the Nasdaq reaching 7000 by Christmas 2025?\n",
      "   → Probability: 30.00%\n",
      "3. What are the chances that the Nasdaq index will reach 7,000 points prior to Christmas Day 2025?\n",
      "   → Probability: 50.00%\n",
      "\n",
      "Configuration: Low High\n",
      "Reword Temp: 0.3, Prompt Temp: 0.9\n",
      "--------------------------------------------------------------------------------\n",
      "1. How likely is it that Nasdaq hits 7000 before Christmas 2025?\n",
      "   → Probability: 15.00%\n",
      "2. What are the chances of the Nasdaq reaching 7,000 prior to Christmas 2025?\n",
      "   → Probability: 50.00%\n",
      "3. What are the chances of the Nasdaq reaching 7,000 by Christmas 2025?\n",
      "   → Probability: 35.00%\n",
      "\n",
      "Configuration: High Low\n",
      "Reword Temp: 0.9, Prompt Temp: 0.3\n",
      "--------------------------------------------------------------------------------\n",
      "1. How likely is it that Nasdaq hits 7000 before Christmas 2025?\n",
      "   → Probability: 55.00%\n",
      "2. What are the odds that the Nasdaq index will reach the 7,000 mark prior to December 25th, 2025?\n",
      "   → Probability: 55.00%\n",
      "3. What are the odds of the Nasdaq index reaching the 7,000 mark prior to December 25th, 2025?\n",
      "   → Probability: 55.00%\n",
      "\n",
      "Configuration: High High\n",
      "Reword Temp: 0.9, Prompt Temp: 0.9\n",
      "--------------------------------------------------------------------------------\n",
      "1. How likely is it that Nasdaq hits 7000 before Christmas 2025?\n",
      "   → Probability: 65.00%\n",
      "2. What are the chances that the Nasdaq index will reach the 7,000 point milestone prior to December 25th, 2025?\n",
      "   → Probability: 50.00%\n",
      "3. What are the odds of the Nasdaq index reaching the 7,000 mark prior to December 25th, 2025?\n",
      "   → Probability: 70.00%\n",
      "\n"
     ]
    }
   ],
   "source": [
    "def show_reworded_prompts(results_dict, provider_name):\n",
    "    print(f\"\\n{'='*80}\")\n",
    "    print(f\"{provider_name} - Sample Reworded Prompts\")\n",
    "    print(f\"{'='*80}\\n\")\n",
    "    \n",
    "    for config_name, result in results_dict.items():\n",
    "        print(f\"Configuration: {config_name.replace('_', ' ').title()}\")\n",
    "        print(f\"Reword Temp: {result['reword_temperature']}, Prompt Temp: {result['prompt_temperature']}\")\n",
    "        print(f\"{'-'*80}\")\n",
    "        \n",
    "        # Show first 3 reworded prompts\n",
    "        for i, prompt in enumerate(result['reworded_prompts'][:3], 1):\n",
    "            prob = result['probabilities'][i-1]\n",
    "            print(f\"{i}. {prompt}\")\n",
    "            print(f\"   → Probability: {prob:.2%}\")\n",
    "        print()\n",
    "\n",
    "if openai_results:\n",
    "    show_reworded_prompts(openai_results, \"OpenAI\")\n",
    "\n",
    "if claude_results:\n",
    "    show_reworded_prompts(claude_results, \"Claude\")"
   ]
  },
  {
   "cell_type": "markdown",
   "metadata": {},
   "source": [
    "## Side-by-Side Comparison\n",
    "\n",
    "Compare OpenAI and Claude directly for the same configuration:"
   ]
  },
  {
   "cell_type": "code",
   "execution_count": 22,
   "metadata": {},
   "outputs": [
    {
     "data": {
      "application/vnd.plotly.v1+json": {
       "config": {
        "plotlyServerURL": "https://plot.ly"
       },
       "data": [
        {
         "hovertemplate": "OpenAI<br>Probability: %{x:.2%}<br>Count: %{y}<extra></extra>",
         "legendgroup": "openai",
         "marker": {
          "color": "steelblue"
         },
         "name": "OpenAI",
         "nbinsx": 15,
         "opacity": 0.6,
         "showlegend": true,
         "type": "histogram",
         "x": [
          0.6,
          0.6,
          0.6,
          0.4,
          0.65,
          0.4,
          0.4,
          0.3,
          0.6,
          0.6
         ],
         "xaxis": "x",
         "yaxis": "y"
        },
        {
         "hovertemplate": "Claude<br>Probability: %{x:.2%}<br>Count: %{y}<extra></extra>",
         "legendgroup": "claude",
         "marker": {
          "color": "coral"
         },
         "name": "Claude",
         "nbinsx": 15,
         "opacity": 0.6,
         "showlegend": true,
         "type": "histogram",
         "x": [
          0.65,
          0.3,
          0.5,
          0.7,
          0.15,
          0.55,
          0.65,
          0.5,
          0.55,
          0.55
         ],
         "xaxis": "x",
         "yaxis": "y"
        },
        {
         "hovertemplate": "OpenAI<br>Probability: %{x:.2%}<br>Count: %{y}<extra></extra>",
         "legendgroup": "openai",
         "marker": {
          "color": "steelblue"
         },
         "name": "OpenAI",
         "nbinsx": 15,
         "opacity": 0.6,
         "showlegend": false,
         "type": "histogram",
         "x": [
          0.6,
          0.6,
          0.6,
          0.6,
          0.4,
          0.4,
          0.4,
          0.65,
          0.6,
          0.4
         ],
         "xaxis": "x2",
         "yaxis": "y2"
        },
        {
         "hovertemplate": "Claude<br>Probability: %{x:.2%}<br>Count: %{y}<extra></extra>",
         "legendgroup": "claude",
         "marker": {
          "color": "coral"
         },
         "name": "Claude",
         "nbinsx": 15,
         "opacity": 0.6,
         "showlegend": false,
         "type": "histogram",
         "x": [
          0.15,
          0.5,
          0.35,
          0.5,
          0.7,
          0.7,
          0.55,
          0.7,
          0.55,
          0.55
         ],
         "xaxis": "x2",
         "yaxis": "y2"
        },
        {
         "hovertemplate": "OpenAI<br>Probability: %{x:.2%}<br>Count: %{y}<extra></extra>",
         "legendgroup": "openai",
         "marker": {
          "color": "steelblue"
         },
         "name": "OpenAI",
         "nbinsx": 15,
         "opacity": 0.6,
         "showlegend": false,
         "type": "histogram",
         "x": [
          0.6,
          0.65,
          0.6,
          0.65,
          0.6,
          0.6,
          0.6,
          0.4,
          0.6,
          0.3
         ],
         "xaxis": "x3",
         "yaxis": "y3"
        },
        {
         "hovertemplate": "Claude<br>Probability: %{x:.2%}<br>Count: %{y}<extra></extra>",
         "legendgroup": "claude",
         "marker": {
          "color": "coral"
         },
         "name": "Claude",
         "nbinsx": 15,
         "opacity": 0.6,
         "showlegend": false,
         "type": "histogram",
         "x": [
          0.55,
          0.55,
          0.55,
          0.7,
          0.5,
          0.6,
          0.7,
          0.7,
          0.7,
          0.55
         ],
         "xaxis": "x3",
         "yaxis": "y3"
        },
        {
         "hovertemplate": "OpenAI<br>Probability: %{x:.2%}<br>Count: %{y}<extra></extra>",
         "legendgroup": "openai",
         "marker": {
          "color": "steelblue"
         },
         "name": "OpenAI",
         "nbinsx": 15,
         "opacity": 0.6,
         "showlegend": false,
         "type": "histogram",
         "x": [
          0.65,
          0.6,
          0.6,
          0.4,
          0.6,
          0.4,
          0.6,
          0.6,
          0.4,
          0.65
         ],
         "xaxis": "x4",
         "yaxis": "y4"
        },
        {
         "hovertemplate": "Claude<br>Probability: %{x:.2%}<br>Count: %{y}<extra></extra>",
         "legendgroup": "claude",
         "marker": {
          "color": "coral"
         },
         "name": "Claude",
         "nbinsx": 15,
         "opacity": 0.6,
         "showlegend": false,
         "type": "histogram",
         "x": [
          0.65,
          0.5,
          0.7,
          0.5,
          0.6,
          0.55,
          0.55,
          0.7,
          0.55,
          0.5
         ],
         "xaxis": "x4",
         "yaxis": "y4"
        }
       ],
       "layout": {
        "annotations": [
         {
          "font": {
           "size": 16
          },
          "showarrow": false,
          "text": "Low Reword (0.3), Low Prompt (0.3)",
          "x": 0.22,
          "xanchor": "center",
          "xref": "paper",
          "y": 1,
          "yanchor": "bottom",
          "yref": "paper"
         },
         {
          "font": {
           "size": 16
          },
          "showarrow": false,
          "text": "Low Reword (0.3), High Prompt (0.9)",
          "x": 0.78,
          "xanchor": "center",
          "xref": "paper",
          "y": 1,
          "yanchor": "bottom",
          "yref": "paper"
         },
         {
          "font": {
           "size": 16
          },
          "showarrow": false,
          "text": "High Reword (0.9), Low Prompt (0.3)",
          "x": 0.22,
          "xanchor": "center",
          "xref": "paper",
          "y": 0.425,
          "yanchor": "bottom",
          "yref": "paper"
         },
         {
          "font": {
           "size": 16
          },
          "showarrow": false,
          "text": "High Reword (0.9), High Prompt (0.9)",
          "x": 0.78,
          "xanchor": "center",
          "xref": "paper",
          "y": 0.425,
          "yanchor": "bottom",
          "yref": "paper"
         }
        ],
        "barmode": "overlay",
        "font": {
         "size": 14
        },
        "height": 1000,
        "legend": {
         "bgcolor": "rgba(255,255,255,0.8)",
         "bordercolor": "black",
         "borderwidth": 1,
         "font": {
          "size": 16
         },
         "x": 0.02,
         "y": 0.98
        },
        "template": {
         "data": {
          "bar": [
           {
            "error_x": {
             "color": "#2a3f5f"
            },
            "error_y": {
             "color": "#2a3f5f"
            },
            "marker": {
             "line": {
              "color": "#E5ECF6",
              "width": 0.5
             },
             "pattern": {
              "fillmode": "overlay",
              "size": 10,
              "solidity": 0.2
             }
            },
            "type": "bar"
           }
          ],
          "barpolar": [
           {
            "marker": {
             "line": {
              "color": "#E5ECF6",
              "width": 0.5
             },
             "pattern": {
              "fillmode": "overlay",
              "size": 10,
              "solidity": 0.2
             }
            },
            "type": "barpolar"
           }
          ],
          "carpet": [
           {
            "aaxis": {
             "endlinecolor": "#2a3f5f",
             "gridcolor": "white",
             "linecolor": "white",
             "minorgridcolor": "white",
             "startlinecolor": "#2a3f5f"
            },
            "baxis": {
             "endlinecolor": "#2a3f5f",
             "gridcolor": "white",
             "linecolor": "white",
             "minorgridcolor": "white",
             "startlinecolor": "#2a3f5f"
            },
            "type": "carpet"
           }
          ],
          "choropleth": [
           {
            "colorbar": {
             "outlinewidth": 0,
             "ticks": ""
            },
            "type": "choropleth"
           }
          ],
          "contour": [
           {
            "colorbar": {
             "outlinewidth": 0,
             "ticks": ""
            },
            "colorscale": [
             [
              0,
              "#0d0887"
             ],
             [
              0.1111111111111111,
              "#46039f"
             ],
             [
              0.2222222222222222,
              "#7201a8"
             ],
             [
              0.3333333333333333,
              "#9c179e"
             ],
             [
              0.4444444444444444,
              "#bd3786"
             ],
             [
              0.5555555555555556,
              "#d8576b"
             ],
             [
              0.6666666666666666,
              "#ed7953"
             ],
             [
              0.7777777777777778,
              "#fb9f3a"
             ],
             [
              0.8888888888888888,
              "#fdca26"
             ],
             [
              1,
              "#f0f921"
             ]
            ],
            "type": "contour"
           }
          ],
          "contourcarpet": [
           {
            "colorbar": {
             "outlinewidth": 0,
             "ticks": ""
            },
            "type": "contourcarpet"
           }
          ],
          "heatmap": [
           {
            "colorbar": {
             "outlinewidth": 0,
             "ticks": ""
            },
            "colorscale": [
             [
              0,
              "#0d0887"
             ],
             [
              0.1111111111111111,
              "#46039f"
             ],
             [
              0.2222222222222222,
              "#7201a8"
             ],
             [
              0.3333333333333333,
              "#9c179e"
             ],
             [
              0.4444444444444444,
              "#bd3786"
             ],
             [
              0.5555555555555556,
              "#d8576b"
             ],
             [
              0.6666666666666666,
              "#ed7953"
             ],
             [
              0.7777777777777778,
              "#fb9f3a"
             ],
             [
              0.8888888888888888,
              "#fdca26"
             ],
             [
              1,
              "#f0f921"
             ]
            ],
            "type": "heatmap"
           }
          ],
          "histogram": [
           {
            "marker": {
             "pattern": {
              "fillmode": "overlay",
              "size": 10,
              "solidity": 0.2
             }
            },
            "type": "histogram"
           }
          ],
          "histogram2d": [
           {
            "colorbar": {
             "outlinewidth": 0,
             "ticks": ""
            },
            "colorscale": [
             [
              0,
              "#0d0887"
             ],
             [
              0.1111111111111111,
              "#46039f"
             ],
             [
              0.2222222222222222,
              "#7201a8"
             ],
             [
              0.3333333333333333,
              "#9c179e"
             ],
             [
              0.4444444444444444,
              "#bd3786"
             ],
             [
              0.5555555555555556,
              "#d8576b"
             ],
             [
              0.6666666666666666,
              "#ed7953"
             ],
             [
              0.7777777777777778,
              "#fb9f3a"
             ],
             [
              0.8888888888888888,
              "#fdca26"
             ],
             [
              1,
              "#f0f921"
             ]
            ],
            "type": "histogram2d"
           }
          ],
          "histogram2dcontour": [
           {
            "colorbar": {
             "outlinewidth": 0,
             "ticks": ""
            },
            "colorscale": [
             [
              0,
              "#0d0887"
             ],
             [
              0.1111111111111111,
              "#46039f"
             ],
             [
              0.2222222222222222,
              "#7201a8"
             ],
             [
              0.3333333333333333,
              "#9c179e"
             ],
             [
              0.4444444444444444,
              "#bd3786"
             ],
             [
              0.5555555555555556,
              "#d8576b"
             ],
             [
              0.6666666666666666,
              "#ed7953"
             ],
             [
              0.7777777777777778,
              "#fb9f3a"
             ],
             [
              0.8888888888888888,
              "#fdca26"
             ],
             [
              1,
              "#f0f921"
             ]
            ],
            "type": "histogram2dcontour"
           }
          ],
          "mesh3d": [
           {
            "colorbar": {
             "outlinewidth": 0,
             "ticks": ""
            },
            "type": "mesh3d"
           }
          ],
          "parcoords": [
           {
            "line": {
             "colorbar": {
              "outlinewidth": 0,
              "ticks": ""
             }
            },
            "type": "parcoords"
           }
          ],
          "pie": [
           {
            "automargin": true,
            "type": "pie"
           }
          ],
          "scatter": [
           {
            "fillpattern": {
             "fillmode": "overlay",
             "size": 10,
             "solidity": 0.2
            },
            "type": "scatter"
           }
          ],
          "scatter3d": [
           {
            "line": {
             "colorbar": {
              "outlinewidth": 0,
              "ticks": ""
             }
            },
            "marker": {
             "colorbar": {
              "outlinewidth": 0,
              "ticks": ""
             }
            },
            "type": "scatter3d"
           }
          ],
          "scattercarpet": [
           {
            "marker": {
             "colorbar": {
              "outlinewidth": 0,
              "ticks": ""
             }
            },
            "type": "scattercarpet"
           }
          ],
          "scattergeo": [
           {
            "marker": {
             "colorbar": {
              "outlinewidth": 0,
              "ticks": ""
             }
            },
            "type": "scattergeo"
           }
          ],
          "scattergl": [
           {
            "marker": {
             "colorbar": {
              "outlinewidth": 0,
              "ticks": ""
             }
            },
            "type": "scattergl"
           }
          ],
          "scattermap": [
           {
            "marker": {
             "colorbar": {
              "outlinewidth": 0,
              "ticks": ""
             }
            },
            "type": "scattermap"
           }
          ],
          "scattermapbox": [
           {
            "marker": {
             "colorbar": {
              "outlinewidth": 0,
              "ticks": ""
             }
            },
            "type": "scattermapbox"
           }
          ],
          "scatterpolar": [
           {
            "marker": {
             "colorbar": {
              "outlinewidth": 0,
              "ticks": ""
             }
            },
            "type": "scatterpolar"
           }
          ],
          "scatterpolargl": [
           {
            "marker": {
             "colorbar": {
              "outlinewidth": 0,
              "ticks": ""
             }
            },
            "type": "scatterpolargl"
           }
          ],
          "scatterternary": [
           {
            "marker": {
             "colorbar": {
              "outlinewidth": 0,
              "ticks": ""
             }
            },
            "type": "scatterternary"
           }
          ],
          "surface": [
           {
            "colorbar": {
             "outlinewidth": 0,
             "ticks": ""
            },
            "colorscale": [
             [
              0,
              "#0d0887"
             ],
             [
              0.1111111111111111,
              "#46039f"
             ],
             [
              0.2222222222222222,
              "#7201a8"
             ],
             [
              0.3333333333333333,
              "#9c179e"
             ],
             [
              0.4444444444444444,
              "#bd3786"
             ],
             [
              0.5555555555555556,
              "#d8576b"
             ],
             [
              0.6666666666666666,
              "#ed7953"
             ],
             [
              0.7777777777777778,
              "#fb9f3a"
             ],
             [
              0.8888888888888888,
              "#fdca26"
             ],
             [
              1,
              "#f0f921"
             ]
            ],
            "type": "surface"
           }
          ],
          "table": [
           {
            "cells": {
             "fill": {
              "color": "#EBF0F8"
             },
             "line": {
              "color": "white"
             }
            },
            "header": {
             "fill": {
              "color": "#C8D4E3"
             },
             "line": {
              "color": "white"
             }
            },
            "type": "table"
           }
          ]
         },
         "layout": {
          "annotationdefaults": {
           "arrowcolor": "#2a3f5f",
           "arrowhead": 0,
           "arrowwidth": 1
          },
          "autotypenumbers": "strict",
          "coloraxis": {
           "colorbar": {
            "outlinewidth": 0,
            "ticks": ""
           }
          },
          "colorscale": {
           "diverging": [
            [
             0,
             "#8e0152"
            ],
            [
             0.1,
             "#c51b7d"
            ],
            [
             0.2,
             "#de77ae"
            ],
            [
             0.3,
             "#f1b6da"
            ],
            [
             0.4,
             "#fde0ef"
            ],
            [
             0.5,
             "#f7f7f7"
            ],
            [
             0.6,
             "#e6f5d0"
            ],
            [
             0.7,
             "#b8e186"
            ],
            [
             0.8,
             "#7fbc41"
            ],
            [
             0.9,
             "#4d9221"
            ],
            [
             1,
             "#276419"
            ]
           ],
           "sequential": [
            [
             0,
             "#0d0887"
            ],
            [
             0.1111111111111111,
             "#46039f"
            ],
            [
             0.2222222222222222,
             "#7201a8"
            ],
            [
             0.3333333333333333,
             "#9c179e"
            ],
            [
             0.4444444444444444,
             "#bd3786"
            ],
            [
             0.5555555555555556,
             "#d8576b"
            ],
            [
             0.6666666666666666,
             "#ed7953"
            ],
            [
             0.7777777777777778,
             "#fb9f3a"
            ],
            [
             0.8888888888888888,
             "#fdca26"
            ],
            [
             1,
             "#f0f921"
            ]
           ],
           "sequentialminus": [
            [
             0,
             "#0d0887"
            ],
            [
             0.1111111111111111,
             "#46039f"
            ],
            [
             0.2222222222222222,
             "#7201a8"
            ],
            [
             0.3333333333333333,
             "#9c179e"
            ],
            [
             0.4444444444444444,
             "#bd3786"
            ],
            [
             0.5555555555555556,
             "#d8576b"
            ],
            [
             0.6666666666666666,
             "#ed7953"
            ],
            [
             0.7777777777777778,
             "#fb9f3a"
            ],
            [
             0.8888888888888888,
             "#fdca26"
            ],
            [
             1,
             "#f0f921"
            ]
           ]
          },
          "colorway": [
           "#636efa",
           "#EF553B",
           "#00cc96",
           "#ab63fa",
           "#FFA15A",
           "#19d3f3",
           "#FF6692",
           "#B6E880",
           "#FF97FF",
           "#FECB52"
          ],
          "font": {
           "color": "#2a3f5f"
          },
          "geo": {
           "bgcolor": "white",
           "lakecolor": "white",
           "landcolor": "#E5ECF6",
           "showlakes": true,
           "showland": true,
           "subunitcolor": "white"
          },
          "hoverlabel": {
           "align": "left"
          },
          "hovermode": "closest",
          "mapbox": {
           "style": "light"
          },
          "paper_bgcolor": "white",
          "plot_bgcolor": "#E5ECF6",
          "polar": {
           "angularaxis": {
            "gridcolor": "white",
            "linecolor": "white",
            "ticks": ""
           },
           "bgcolor": "#E5ECF6",
           "radialaxis": {
            "gridcolor": "white",
            "linecolor": "white",
            "ticks": ""
           }
          },
          "scene": {
           "xaxis": {
            "backgroundcolor": "#E5ECF6",
            "gridcolor": "white",
            "gridwidth": 2,
            "linecolor": "white",
            "showbackground": true,
            "ticks": "",
            "zerolinecolor": "white"
           },
           "yaxis": {
            "backgroundcolor": "#E5ECF6",
            "gridcolor": "white",
            "gridwidth": 2,
            "linecolor": "white",
            "showbackground": true,
            "ticks": "",
            "zerolinecolor": "white"
           },
           "zaxis": {
            "backgroundcolor": "#E5ECF6",
            "gridcolor": "white",
            "gridwidth": 2,
            "linecolor": "white",
            "showbackground": true,
            "ticks": "",
            "zerolinecolor": "white"
           }
          },
          "shapedefaults": {
           "line": {
            "color": "#2a3f5f"
           }
          },
          "ternary": {
           "aaxis": {
            "gridcolor": "white",
            "linecolor": "white",
            "ticks": ""
           },
           "baxis": {
            "gridcolor": "white",
            "linecolor": "white",
            "ticks": ""
           },
           "bgcolor": "#E5ECF6",
           "caxis": {
            "gridcolor": "white",
            "linecolor": "white",
            "ticks": ""
           }
          },
          "title": {
           "x": 0.05
          },
          "xaxis": {
           "automargin": true,
           "gridcolor": "white",
           "linecolor": "white",
           "ticks": "",
           "title": {
            "standoff": 15
           },
           "zerolinecolor": "white",
           "zerolinewidth": 2
          },
          "yaxis": {
           "automargin": true,
           "gridcolor": "white",
           "linecolor": "white",
           "ticks": "",
           "title": {
            "standoff": 15
           },
           "zerolinecolor": "white",
           "zerolinewidth": 2
          }
         }
        },
        "title": {
         "font": {
          "size": 20
         },
         "text": "OpenAI vs Claude Comparison (via OpenRouter)<br><sub>How likely is it that Nasdaq hits 7000 before Christmas 2025?</sub>"
        },
        "width": 1400,
        "xaxis": {
         "anchor": "y",
         "domain": [
          0,
          0.44
         ],
         "range": [
          0,
          1
         ],
         "tickfont": {
          "size": 14
         },
         "title": {
          "font": {
           "size": 16
          },
          "text": "Probability"
         }
        },
        "xaxis2": {
         "anchor": "y2",
         "domain": [
          0.56,
          1
         ],
         "range": [
          0,
          1
         ],
         "tickfont": {
          "size": 14
         },
         "title": {
          "font": {
           "size": 16
          },
          "text": "Probability"
         }
        },
        "xaxis3": {
         "anchor": "y3",
         "domain": [
          0,
          0.44
         ],
         "range": [
          0,
          1
         ],
         "tickfont": {
          "size": 14
         },
         "title": {
          "font": {
           "size": 16
          },
          "text": "Probability"
         }
        },
        "xaxis4": {
         "anchor": "y4",
         "domain": [
          0.56,
          1
         ],
         "range": [
          0,
          1
         ],
         "tickfont": {
          "size": 14
         },
         "title": {
          "font": {
           "size": 16
          },
          "text": "Probability"
         }
        },
        "yaxis": {
         "anchor": "x",
         "domain": [
          0.575,
          1
         ],
         "tickfont": {
          "size": 14
         },
         "title": {
          "font": {
           "size": 16
          },
          "text": "Count"
         }
        },
        "yaxis2": {
         "anchor": "x2",
         "domain": [
          0.575,
          1
         ],
         "tickfont": {
          "size": 14
         },
         "title": {
          "font": {
           "size": 16
          },
          "text": "Count"
         }
        },
        "yaxis3": {
         "anchor": "x3",
         "domain": [
          0,
          0.425
         ],
         "tickfont": {
          "size": 14
         },
         "title": {
          "font": {
           "size": 16
          },
          "text": "Count"
         }
        },
        "yaxis4": {
         "anchor": "x4",
         "domain": [
          0,
          0.425
         ],
         "tickfont": {
          "size": 14
         },
         "title": {
          "font": {
           "size": 16
          },
          "text": "Count"
         }
        }
       }
      },
      "image/png": "[encoded data removed]"
     },
     "metadata": {},
     "output_type": "display_data"
    }
   ],
   "source": [
    "if openrouter_available and openai_results and claude_results:\n",
    "    # Create comparison plot for all 4 configurations with larger size\n",
    "    fig = make_subplots(\n",
    "        rows=2, cols=2,\n",
    "        subplot_titles=(\n",
    "            f'Low Reword ({LOW_TEMP}), Low Prompt ({LOW_TEMP})',\n",
    "            f'Low Reword ({LOW_TEMP}), High Prompt ({HIGH_TEMP})',\n",
    "            f'High Reword ({HIGH_TEMP}), Low Prompt ({LOW_TEMP})',\n",
    "            f'High Reword ({HIGH_TEMP}), High Prompt ({HIGH_TEMP})'\n",
    "        ),\n",
    "        vertical_spacing=0.15,\n",
    "        horizontal_spacing=0.12\n",
    "    )\n",
    "    \n",
    "    configs = [\n",
    "        ('low_low', 1, 1),\n",
    "        ('low_high', 1, 2),\n",
    "        ('high_low', 2, 1),\n",
    "        ('high_high', 2, 2)\n",
    "    ]\n",
    "    \n",
    "    for config_name, row, col in configs:\n",
    "        # OpenAI\n",
    "        fig.add_trace(\n",
    "            go.Histogram(\n",
    "                x=openai_results[config_name]['probabilities'],\n",
    "                nbinsx=15,\n",
    "                name='OpenAI',\n",
    "                marker_color='steelblue',\n",
    "                opacity=0.6,\n",
    "                showlegend=(row==1 and col==1),\n",
    "                legendgroup='openai',\n",
    "                hovertemplate='OpenAI<br>Probability: %{x:.2%}<br>Count: %{y}<extra></extra>'\n",
    "            ),\n",
    "            row=row, col=col\n",
    "        )\n",
    "        \n",
    "        # Claude\n",
    "        fig.add_trace(\n",
    "            go.Histogram(\n",
    "                x=claude_results[config_name]['probabilities'],\n",
    "                nbinsx=15,\n",
    "                name='Claude',\n",
    "                marker_color='coral',\n",
    "                opacity=0.6,\n",
    "                showlegend=(row==1 and col==1),\n",
    "                legendgroup='claude',\n",
    "                hovertemplate='Claude<br>Probability: %{x:.2%}<br>Count: %{y}<extra></extra>'\n",
    "            ),\n",
    "            row=row, col=col\n",
    "        )\n",
    "    \n",
    "    # Update axes with larger fonts\n",
    "    fig.update_xaxes(title_text=\"Probability\", range=[0, 1], title_font_size=16, tickfont_size=14)\n",
    "    fig.update_yaxes(title_text=\"Count\", title_font_size=16, tickfont_size=14)\n",
    "    \n",
    "    # Update layout with larger figure and fonts\n",
    "    fig.update_layout(\n",
    "        title_text=f\"OpenAI vs Claude Comparison (via OpenRouter)<br><sub>{USER_PROMPT}</sub>\",\n",
    "        title_font_size=20,\n",
    "        height=1000,  # Increased from 700\n",
    "        width=1400,   # Added width\n",
    "        barmode='overlay',\n",
    "        font=dict(size=14),\n",
    "        legend=dict(\n",
    "            font=dict(size=16),\n",
    "            x=0.02,\n",
    "            y=0.98,\n",
    "            bgcolor='rgba(255,255,255,0.8)',\n",
    "            bordercolor='black',\n",
    "            borderwidth=1\n",
    "        )\n",
    "    )\n",
    "    \n",
    "    # Update subplot titles font size\n",
    "    for annotation in fig['layout']['annotations']:\n",
    "        annotation['font'] = dict(size=16)\n",
    "    \n",
    "    fig.show()\n",
    "else:\n",
    "    print(\"Both OpenAI and Claude data required for comparison.\")"
   ]
  },
  {
   "cell_type": "markdown",
   "metadata": {},
   "source": [
    "## Analysis Insights\n",
    "\n",
    "Key observations:\n",
    "\n",
    "1. **Reword Temperature**: Controls how much the prompt is varied\n",
    "   - Low (0.3): Minimal rewording, similar phrasing\n",
    "   - High (0.9): Significant rewording, diverse phrasing\n",
    "\n",
    "2. **Prompt Temperature**: Controls randomness in LLM responses\n",
    "   - Low (0.3): More deterministic, tighter distribution\n",
    "   - High (0.9): More random, wider distribution\n",
    "\n",
    "3. **Expected Patterns**:\n",
    "   - Low/Low: Narrow distribution (consistent prompt + deterministic responses)\n",
    "   - High/High: Wide distribution (varied prompts + random responses)\n",
    "   - Low/High or High/Low: Medium spread"
   ]
  }
 ],
 "metadata": {
  "kernelspec": {
   "display_name": "ML Env",
   "language": "python",
   "name": "ml-env"
  },
  "language_info": {
   "codemirror_mode": {
    "name": "ipython",
    "version": 3
   },
   "file_extension": ".py",
   "mimetype": "text/x-python",
   "name": "python",
   "nbconvert_exporter": "python",
   "pygments_lexer": "ipython3",
   "version": "3.12.11"
  }
 },
 "nbformat": 4,
 "nbformat_minor": 4
}
