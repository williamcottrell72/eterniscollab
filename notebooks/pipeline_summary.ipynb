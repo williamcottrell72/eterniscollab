{
 "cells": [
  {
   "cell_type": "markdown",
   "id": "cell-0",
   "metadata": {},
   "source": [
    "# Pipeline Results Explorer\n",
    "\n",
    "This notebook allows you to explore results from market pipeline runs.\n",
    "\n",
    "Each pipeline run creates a timestamped directory in `data/pipelines/` with:\n",
    "- `results.csv` - Main results table\n",
    "- `results.json` - Full results with nested data\n",
    "- `pipeline_config.json` - Configuration used\n",
    "- `summary.json` - Summary statistics"
   ]
  },
  {
   "cell_type": "code",
   "execution_count": 26,
   "id": "cell-1",
   "metadata": {},
   "outputs": [],
   "source": [
    "# Standard library\n",
    "import sys\n",
    "sys.path.append('..')\n",
    "import json\n",
    "from pathlib import Path\n",
    "from datetime import datetime\n",
    "\n",
    "# Third-party\n",
    "import pandas as pd\n",
    "import numpy as np\n",
    "import plotly.express as px\n",
    "import plotly.graph_objects as go\n",
    "from plotly.subplots import make_subplots\n",
    "import make_market\n",
    "\n",
    "\n",
    "import matplotlib.pyplot as plt\n",
    "%matplotlib inline"
   ]
  },
  {
   "cell_type": "markdown",
   "id": "cell-2",
   "metadata": {},
   "source": [
    "## List Available Pipeline Runs"
   ]
  },
  {
   "cell_type": "code",
   "execution_count": 2,
   "id": "cell-3",
   "metadata": {},
   "outputs": [
    {
     "name": "stdout",
     "output_type": "stream",
     "text": [
      "Found 3 pipeline runs:\n",
      "\n"
     ]
    },
    {
     "data": {
      "text/html": [
       "<div>\n",
       "<style scoped>\n",
       "    .dataframe tbody tr th:only-of-type {\n",
       "        vertical-align: middle;\n",
       "    }\n",
       "\n",
       "    .dataframe tbody tr th {\n",
       "        vertical-align: top;\n",
       "    }\n",
       "\n",
       "    .dataframe thead th {\n",
       "        text-align: right;\n",
       "    }\n",
       "</style>\n",
       "<table border=\"1\" class=\"dataframe\">\n",
       "  <thead>\n",
       "    <tr style=\"text-align: right;\">\n",
       "      <th></th>\n",
       "      <th>run_id</th>\n",
       "      <th>date</th>\n",
       "      <th>time</th>\n",
       "      <th>n_questions</th>\n",
       "      <th>total_capital</th>\n",
       "      <th>total_allocated</th>\n",
       "    </tr>\n",
       "  </thead>\n",
       "  <tbody>\n",
       "    <tr>\n",
       "      <th>0</th>\n",
       "      <td>20251016_1138</td>\n",
       "      <td>2025-10-16</td>\n",
       "      <td>11:38</td>\n",
       "      <td>4</td>\n",
       "      <td>10000.0</td>\n",
       "      <td>10000.0</td>\n",
       "    </tr>\n",
       "    <tr>\n",
       "      <th>1</th>\n",
       "      <td>20251016_1134</td>\n",
       "      <td>2025-10-16</td>\n",
       "      <td>11:34</td>\n",
       "      <td>3</td>\n",
       "      <td>10000.0</td>\n",
       "      <td>10000.0</td>\n",
       "    </tr>\n",
       "    <tr>\n",
       "      <th>2</th>\n",
       "      <td>20251016_1126</td>\n",
       "      <td>2025-10-16</td>\n",
       "      <td>11:26</td>\n",
       "      <td>3</td>\n",
       "      <td>10000.0</td>\n",
       "      <td>10000.0</td>\n",
       "    </tr>\n",
       "  </tbody>\n",
       "</table>\n",
       "</div>"
      ],
      "text/plain": [
       "          run_id        date   time  n_questions  total_capital  \\\n",
       "0  20251016_1138  2025-10-16  11:38            4        10000.0   \n",
       "1  20251016_1134  2025-10-16  11:34            3        10000.0   \n",
       "2  20251016_1126  2025-10-16  11:26            3        10000.0   \n",
       "\n",
       "   total_allocated  \n",
       "0          10000.0  \n",
       "1          10000.0  \n",
       "2          10000.0  "
      ]
     },
     "metadata": {},
     "output_type": "display_data"
    }
   ],
   "source": [
    "def list_pipeline_runs(base_dir=\"../data/pipelines\"):\n",
    "    \"\"\"\n",
    "    List all available pipeline runs.\n",
    "    \n",
    "    Returns:\n",
    "        DataFrame with run information\n",
    "    \"\"\"\n",
    "    base_path = Path(base_dir)\n",
    "    \n",
    "    if not base_path.exists():\n",
    "        print(f\"Pipeline directory not found: {base_path}\")\n",
    "        return pd.DataFrame()\n",
    "    \n",
    "    runs = []\n",
    "    for run_dir in sorted(base_path.iterdir()):\n",
    "        if not run_dir.is_dir():\n",
    "            continue\n",
    "        \n",
    "        # Check if it has the expected files\n",
    "        results_csv = run_dir / \"results.csv\"\n",
    "        summary_json = run_dir / \"summary.json\"\n",
    "        config_json = run_dir / \"pipeline_config.json\"\n",
    "        \n",
    "        if not results_csv.exists():\n",
    "            continue\n",
    "        \n",
    "        run_info = {\n",
    "            \"run_id\": run_dir.name,\n",
    "            \"path\": str(run_dir),\n",
    "            \"has_results\": results_csv.exists(),\n",
    "            \"has_summary\": summary_json.exists(),\n",
    "            \"has_config\": config_json.exists(),\n",
    "        }\n",
    "        \n",
    "        # Load summary if available\n",
    "        if summary_json.exists():\n",
    "            with open(summary_json) as f:\n",
    "                summary = json.load(f)\n",
    "                run_info[\"n_questions\"] = summary.get(\"n_questions\")\n",
    "                run_info[\"total_capital\"] = summary.get(\"total_capital\")\n",
    "                run_info[\"total_allocated\"] = summary.get(\"total_allocated\")\n",
    "        \n",
    "        # Parse timestamp\n",
    "        try:\n",
    "            timestamp = datetime.strptime(run_dir.name, \"%Y%m%d_%H%M\")\n",
    "            run_info[\"timestamp\"] = timestamp\n",
    "            run_info[\"date\"] = timestamp.strftime(\"%Y-%m-%d\")\n",
    "            run_info[\"time\"] = timestamp.strftime(\"%H:%M\")\n",
    "        except ValueError:\n",
    "            run_info[\"timestamp\"] = None\n",
    "            run_info[\"date\"] = None\n",
    "            run_info[\"time\"] = None\n",
    "        \n",
    "        runs.append(run_info)\n",
    "    \n",
    "    if not runs:\n",
    "        print(\"No pipeline runs found\")\n",
    "        return pd.DataFrame()\n",
    "    \n",
    "    df = pd.DataFrame(runs)\n",
    "    df = df.sort_values(\"run_id\", ascending=False).reset_index(drop=True)\n",
    "    return df\n",
    "\n",
    "\n",
    "# List all available runs\n",
    "runs_df = list_pipeline_runs()\n",
    "\n",
    "if len(runs_df) > 0:\n",
    "    print(f\"Found {len(runs_df)} pipeline runs:\\n\")\n",
    "    display(runs_df[['run_id', 'date', 'time', 'n_questions', 'total_capital', 'total_allocated']])\n",
    "else:\n",
    "    print(\"No pipeline runs found. Run the pipeline first:\")\n",
    "    print(\"  python market_pipeline.py\")"
   ]
  },
  {
   "cell_type": "markdown",
   "id": "cell-4",
   "metadata": {},
   "source": [
    "## Load Pipeline Results\n",
    "\n",
    "Select a run ID from the list above and load its results."
   ]
  },
  {
   "cell_type": "code",
   "execution_count": 3,
   "id": "cell-5",
   "metadata": {},
   "outputs": [
    {
     "name": "stdout",
     "output_type": "stream",
     "text": [
      "Using most recent run: 20251016_1138\n"
     ]
    }
   ],
   "source": [
    "# Select a run to explore\n",
    "# Change this to any run_id from the list above\n",
    "RUN_ID = \"20251016_1126\"  # Example - replace with actual run ID\n",
    "RUN_ID = \"20251016_1138\"\n",
    "# If you want to use the most recent run automatically:\n",
    "if len(runs_df) > 0:\n",
    "    RUN_ID = runs_df.iloc[0]['run_id']\n",
    "    print(f\"Using most recent run: {RUN_ID}\")\n",
    "else:\n",
    "    print(\"No runs available\")"
   ]
  },
  {
   "cell_type": "code",
   "execution_count": 4,
   "id": "cell-6",
   "metadata": {},
   "outputs": [
    {
     "name": "stdout",
     "output_type": "stream",
     "text": [
      "Loading pipeline run: 20251016_1138\n",
      "\n",
      "✓ Loaded results: 4 questions\n",
      "✓ Loaded full results JSON\n",
      "✓ Loaded configuration\n",
      "✓ Loaded summary\n"
     ]
    }
   ],
   "source": [
    "def load_pipeline_run(run_id, base_dir=\"../data/pipelines\"):\n",
    "    \"\"\"\n",
    "    Load all data from a pipeline run.\n",
    "    \n",
    "    Args:\n",
    "        run_id: Run identifier (e.g., \"20251016_1126\")\n",
    "        base_dir: Base directory for pipeline outputs\n",
    "    \n",
    "    Returns:\n",
    "        dict with keys: 'results', 'config', 'summary', 'results_json'\n",
    "    \"\"\"\n",
    "    run_dir = Path(base_dir) / run_id\n",
    "    \n",
    "    if not run_dir.exists():\n",
    "        raise ValueError(f\"Run directory not found: {run_dir}\")\n",
    "    \n",
    "    data = {}\n",
    "    \n",
    "    # Load results CSV\n",
    "    results_csv = run_dir / \"results.csv\"\n",
    "    if results_csv.exists():\n",
    "        data['results'] = pd.read_csv(results_csv)\n",
    "        print(f\"✓ Loaded results: {len(data['results'])} questions\")\n",
    "    else:\n",
    "        print(\"✗ results.csv not found\")\n",
    "        data['results'] = None\n",
    "    \n",
    "    # Load results JSON (has full data including probability samples)\n",
    "    results_json = run_dir / \"results.json\"\n",
    "    if results_json.exists():\n",
    "        with open(results_json) as f:\n",
    "            data['results_json'] = json.load(f)\n",
    "        print(f\"✓ Loaded full results JSON\")\n",
    "    else:\n",
    "        print(\"✗ results.json not found\")\n",
    "        data['results_json'] = None\n",
    "    \n",
    "    # Load config\n",
    "    config_json = run_dir / \"pipeline_config.json\"\n",
    "    if config_json.exists():\n",
    "        with open(config_json) as f:\n",
    "            data['config'] = json.load(f)\n",
    "        print(f\"✓ Loaded configuration\")\n",
    "    else:\n",
    "        print(\"✗ pipeline_config.json not found\")\n",
    "        data['config'] = None\n",
    "    \n",
    "    # Load summary\n",
    "    summary_json = run_dir / \"summary.json\"\n",
    "    if summary_json.exists():\n",
    "        with open(summary_json) as f:\n",
    "            data['summary'] = json.load(f)\n",
    "        print(f\"✓ Loaded summary\")\n",
    "    else:\n",
    "        print(\"✗ summary.json not found\")\n",
    "        data['summary'] = None\n",
    "    \n",
    "    return data\n",
    "\n",
    "\n",
    "# Load the selected run\n",
    "print(f\"Loading pipeline run: {RUN_ID}\\n\")\n",
    "run_data = load_pipeline_run(RUN_ID)"
   ]
  },
  {
   "cell_type": "markdown",
   "id": "cell-7",
   "metadata": {},
   "source": [
    "## View Results DataFrame"
   ]
  },
  {
   "cell_type": "code",
   "execution_count": 5,
   "id": "cell-8",
   "metadata": {},
   "outputs": [
    {
     "name": "stdout",
     "output_type": "stream",
     "text": [
      "Pipeline Results for 20251016_1138\n",
      "================================================================================\n",
      "\n",
      "Total questions: 4\n",
      "Columns: ['topic', 'question', 'resolution_date', 'resolution_criteria', 'estimated_daily_volume', 'volume_n_examples', 'probability_mean', 'probability_median', 'probability_std', 'probability_n_samples', 'allocated_capital', 'allocation_method', 'volume_fraction']\n",
      "\n",
      "DataFrame shape: (4, 13)\n",
      "\n",
      "First few rows:\n",
      "\n"
     ]
    },
    {
     "data": {
      "text/html": [
       "<div>\n",
       "<style scoped>\n",
       "    .dataframe tbody tr th:only-of-type {\n",
       "        vertical-align: middle;\n",
       "    }\n",
       "\n",
       "    .dataframe tbody tr th {\n",
       "        vertical-align: top;\n",
       "    }\n",
       "\n",
       "    .dataframe thead th {\n",
       "        text-align: right;\n",
       "    }\n",
       "</style>\n",
       "<table border=\"1\" class=\"dataframe\">\n",
       "  <thead>\n",
       "    <tr style=\"text-align: right;\">\n",
       "      <th></th>\n",
       "      <th>topic</th>\n",
       "      <th>question</th>\n",
       "      <th>resolution_date</th>\n",
       "      <th>resolution_criteria</th>\n",
       "      <th>estimated_daily_volume</th>\n",
       "      <th>volume_n_examples</th>\n",
       "      <th>probability_mean</th>\n",
       "      <th>probability_median</th>\n",
       "      <th>probability_std</th>\n",
       "      <th>probability_n_samples</th>\n",
       "      <th>allocated_capital</th>\n",
       "      <th>allocation_method</th>\n",
       "      <th>volume_fraction</th>\n",
       "    </tr>\n",
       "  </thead>\n",
       "  <tbody>\n",
       "    <tr>\n",
       "      <th>0</th>\n",
       "      <td>EU AI Act Implementation</td>\n",
       "      <td>Will the EU AI Act be fully implemented by Aug...</td>\n",
       "      <td>NaN</td>\n",
       "      <td>NaN</td>\n",
       "      <td>3785.25</td>\n",
       "      <td>15</td>\n",
       "      <td>0.635</td>\n",
       "      <td>0.60</td>\n",
       "      <td>0.045000</td>\n",
       "      <td>10</td>\n",
       "      <td>927.129722</td>\n",
       "      <td>proportional to volume</td>\n",
       "      <td>0.092713</td>\n",
       "    </tr>\n",
       "    <tr>\n",
       "      <th>1</th>\n",
       "      <td>EU AI Act Implementation</td>\n",
       "      <td>Will the first set of prohibitions under the E...</td>\n",
       "      <td>NaN</td>\n",
       "      <td>NaN</td>\n",
       "      <td>1500.00</td>\n",
       "      <td>15</td>\n",
       "      <td>0.675</td>\n",
       "      <td>0.70</td>\n",
       "      <td>0.040311</td>\n",
       "      <td>10</td>\n",
       "      <td>367.398345</td>\n",
       "      <td>proportional to volume</td>\n",
       "      <td>0.036740</td>\n",
       "    </tr>\n",
       "    <tr>\n",
       "      <th>2</th>\n",
       "      <td>US Presidential Election Campaigns</td>\n",
       "      <td>Will Donald Trump win the Republican nominatio...</td>\n",
       "      <td>NaN</td>\n",
       "      <td>NaN</td>\n",
       "      <td>25000.00</td>\n",
       "      <td>15</td>\n",
       "      <td>0.650</td>\n",
       "      <td>0.65</td>\n",
       "      <td>0.031623</td>\n",
       "      <td>10</td>\n",
       "      <td>6123.305743</td>\n",
       "      <td>proportional to volume</td>\n",
       "      <td>0.612331</td>\n",
       "    </tr>\n",
       "    <tr>\n",
       "      <th>3</th>\n",
       "      <td>Global Climate Change Initiatives</td>\n",
       "      <td>Will the world achieve a 50% reduction in carb...</td>\n",
       "      <td>NaN</td>\n",
       "      <td>NaN</td>\n",
       "      <td>10542.37</td>\n",
       "      <td>15</td>\n",
       "      <td>0.260</td>\n",
       "      <td>0.30</td>\n",
       "      <td>0.062450</td>\n",
       "      <td>10</td>\n",
       "      <td>2582.166190</td>\n",
       "      <td>proportional to volume</td>\n",
       "      <td>0.258217</td>\n",
       "    </tr>\n",
       "  </tbody>\n",
       "</table>\n",
       "</div>"
      ],
      "text/plain": [
       "                                topic  \\\n",
       "0            EU AI Act Implementation   \n",
       "1            EU AI Act Implementation   \n",
       "2  US Presidential Election Campaigns   \n",
       "3   Global Climate Change Initiatives   \n",
       "\n",
       "                                            question  resolution_date  \\\n",
       "0  Will the EU AI Act be fully implemented by Aug...              NaN   \n",
       "1  Will the first set of prohibitions under the E...              NaN   \n",
       "2  Will Donald Trump win the Republican nominatio...              NaN   \n",
       "3  Will the world achieve a 50% reduction in carb...              NaN   \n",
       "\n",
       "   resolution_criteria  estimated_daily_volume  volume_n_examples  \\\n",
       "0                  NaN                 3785.25                 15   \n",
       "1                  NaN                 1500.00                 15   \n",
       "2                  NaN                25000.00                 15   \n",
       "3                  NaN                10542.37                 15   \n",
       "\n",
       "   probability_mean  probability_median  probability_std  \\\n",
       "0             0.635                0.60         0.045000   \n",
       "1             0.675                0.70         0.040311   \n",
       "2             0.650                0.65         0.031623   \n",
       "3             0.260                0.30         0.062450   \n",
       "\n",
       "   probability_n_samples  allocated_capital       allocation_method  \\\n",
       "0                     10         927.129722  proportional to volume   \n",
       "1                     10         367.398345  proportional to volume   \n",
       "2                     10        6123.305743  proportional to volume   \n",
       "3                     10        2582.166190  proportional to volume   \n",
       "\n",
       "   volume_fraction  \n",
       "0         0.092713  \n",
       "1         0.036740  \n",
       "2         0.612331  \n",
       "3         0.258217  "
      ]
     },
     "metadata": {},
     "output_type": "display_data"
    }
   ],
   "source": [
    "# Display the results dataframe\n",
    "df = run_data['results']\n",
    "\n",
    "if df is not None:\n",
    "    print(f\"Pipeline Results for {RUN_ID}\")\n",
    "    print(f\"{'='*80}\\n\")\n",
    "    print(f\"Total questions: {len(df)}\")\n",
    "    print(f\"Columns: {list(df.columns)}\")\n",
    "    print(f\"\\nDataFrame shape: {df.shape}\")\n",
    "    print(f\"\\nFirst few rows:\\n\")\n",
    "    display(df.head())\n",
    "else:\n",
    "    print(\"No results available\")"
   ]
  },
  {
   "cell_type": "code",
   "execution_count": 7,
   "id": "94d3efa1-d8e1-4b8c-b6e0-41d86e389820",
   "metadata": {},
   "outputs": [
    {
     "data": {
      "text/plain": [
       "'Will Donald Trump win the Republican nomination before July 1, 2026?'"
      ]
     },
     "execution_count": 7,
     "metadata": {},
     "output_type": "execute_result"
    }
   ],
   "source": [
    "df['question'].values[2]"
   ]
  },
  {
   "cell_type": "markdown",
   "id": "cell-9",
   "metadata": {},
   "source": [
    "## View Configuration"
   ]
  },
  {
   "cell_type": "code",
   "execution_count": 8,
   "id": "cell-10",
   "metadata": {},
   "outputs": [
    {
     "name": "stdout",
     "output_type": "stream",
     "text": [
      "Pipeline Configuration\n",
      "================================================================================\n",
      "timestamp                     : 2025-10-16T11:35:53.040450\n",
      "n_topics                      : 3\n",
      "k_questions_per_topic         : 2\n",
      "total_capital                 : 10000.0\n",
      "n_volume_examples             : 15\n",
      "n_probability_samples         : 10\n",
      "question_model                : openai/gpt-4o-mini:online\n",
      "volume_model                  : openai/gpt-4o-mini\n",
      "probability_model             : openai/gpt-4o-mini\n",
      "reword_temperature            : 0.7\n",
      "output_dir                    : data/pipelines\n"
     ]
    }
   ],
   "source": [
    "# Display pipeline configuration\n",
    "config = run_data['config']\n",
    "\n",
    "if config is not None:\n",
    "    print(\"Pipeline Configuration\")\n",
    "    print(\"=\" * 80)\n",
    "    for key, value in config.items():\n",
    "        print(f\"{key:30s}: {value}\")\n",
    "else:\n",
    "    print(\"No configuration available\")"
   ]
  },
  {
   "cell_type": "markdown",
   "id": "cell-11",
   "metadata": {},
   "source": [
    "## View Summary Statistics"
   ]
  },
  {
   "cell_type": "code",
   "execution_count": 9,
   "id": "cell-12",
   "metadata": {},
   "outputs": [
    {
     "name": "stdout",
     "output_type": "stream",
     "text": [
      "Summary Statistics\n",
      "================================================================================\n",
      "timestamp                               : 20251016_1138\n",
      "n_questions                             : 4\n",
      "n_questions_with_volume                 : 4\n",
      "n_questions_with_probability            : 4\n",
      "total_capital                           : 10,000.00\n",
      "total_allocated                         : 10,000.00\n",
      "avg_probability                         : 0.56\n",
      "avg_volume                              : 10,206.91\n"
     ]
    }
   ],
   "source": [
    "# Display summary statistics\n",
    "summary = run_data['summary']\n",
    "\n",
    "if summary is not None:\n",
    "    print(\"Summary Statistics\")\n",
    "    print(\"=\" * 80)\n",
    "    for key, value in summary.items():\n",
    "        if isinstance(value, float):\n",
    "            print(f\"{key:40s}: {value:,.2f}\")\n",
    "        else:\n",
    "            print(f\"{key:40s}: {value}\")\n",
    "else:\n",
    "    print(\"No summary available\")"
   ]
  },
  {
   "cell_type": "markdown",
   "id": "cell-13",
   "metadata": {},
   "source": [
    "## Analyze Results\n",
    "\n",
    "### Capital Allocation"
   ]
  },
  {
   "cell_type": "code",
   "execution_count": 10,
   "id": "cell-14",
   "metadata": {},
   "outputs": [
    {
     "name": "stdout",
     "output_type": "stream",
     "text": [
      "Top 10 Capital Allocations\n",
      "================================================================================\n",
      "$  6,123.31 - Will Donald Trump win the Republican nomination before July 1, 20...\n",
      "$  2,582.17 - Will the world achieve a 50% reduction in carbon emissions by 203...\n",
      "$    927.13 - Will the EU AI Act be fully implemented by August 2, 2027?...\n",
      "$    367.40 - Will the first set of prohibitions under the EU AI Act take effec...\n"
     ]
    },
    {
     "data": {
      "application/vnd.plotly.v1+json": {
       "config": {
        "plotlyServerURL": "https://plot.ly"
       },
       "data": [
        {
         "domain": {
          "x": [
           0,
           1
          ],
          "y": [
           0,
           1
          ]
         },
         "hovertemplate": "question=%{label}<br>allocated_capital=%{value}<extra></extra>",
         "labels": [
          "Will Donald Trump win the Republican nomination before July 1, 2026?",
          "Will the world achieve a 50% reduction in carbon emissions by 2030 according to the latest climate agreements?",
          "Will the EU AI Act be fully implemented by August 2, 2027?",
          "Will the first set of prohibitions under the EU AI Act take effect by February 2, 2025?"
         ],
         "legendgroup": "",
         "name": "",
         "showlegend": true,
         "textinfo": "percent+label",
         "textposition": "inside",
         "type": "pie",
         "values": {
          "bdata": "8ogkRU7rt0CotekWVSykQC4l8KsJ+YxAO3mJnl/2dkA=",
          "dtype": "f8"
         }
        }
       ],
       "layout": {
        "height": 600,
        "legend": {
         "tracegroupgap": 0
        },
        "template": {
         "data": {
          "bar": [
           {
            "error_x": {
             "color": "#2a3f5f"
            },
            "error_y": {
             "color": "#2a3f5f"
            },
            "marker": {
             "line": {
              "color": "#E5ECF6",
              "width": 0.5
             },
             "pattern": {
              "fillmode": "overlay",
              "size": 10,
              "solidity": 0.2
             }
            },
            "type": "bar"
           }
          ],
          "barpolar": [
           {
            "marker": {
             "line": {
              "color": "#E5ECF6",
              "width": 0.5
             },
             "pattern": {
              "fillmode": "overlay",
              "size": 10,
              "solidity": 0.2
             }
            },
            "type": "barpolar"
           }
          ],
          "carpet": [
           {
            "aaxis": {
             "endlinecolor": "#2a3f5f",
             "gridcolor": "white",
             "linecolor": "white",
             "minorgridcolor": "white",
             "startlinecolor": "#2a3f5f"
            },
            "baxis": {
             "endlinecolor": "#2a3f5f",
             "gridcolor": "white",
             "linecolor": "white",
             "minorgridcolor": "white",
             "startlinecolor": "#2a3f5f"
            },
            "type": "carpet"
           }
          ],
          "choropleth": [
           {
            "colorbar": {
             "outlinewidth": 0,
             "ticks": ""
            },
            "type": "choropleth"
           }
          ],
          "contour": [
           {
            "colorbar": {
             "outlinewidth": 0,
             "ticks": ""
            },
            "colorscale": [
             [
              0,
              "#0d0887"
             ],
             [
              0.1111111111111111,
              "#46039f"
             ],
             [
              0.2222222222222222,
              "#7201a8"
             ],
             [
              0.3333333333333333,
              "#9c179e"
             ],
             [
              0.4444444444444444,
              "#bd3786"
             ],
             [
              0.5555555555555556,
              "#d8576b"
             ],
             [
              0.6666666666666666,
              "#ed7953"
             ],
             [
              0.7777777777777778,
              "#fb9f3a"
             ],
             [
              0.8888888888888888,
              "#fdca26"
             ],
             [
              1,
              "#f0f921"
             ]
            ],
            "type": "contour"
           }
          ],
          "contourcarpet": [
           {
            "colorbar": {
             "outlinewidth": 0,
             "ticks": ""
            },
            "type": "contourcarpet"
           }
          ],
          "heatmap": [
           {
            "colorbar": {
             "outlinewidth": 0,
             "ticks": ""
            },
            "colorscale": [
             [
              0,
              "#0d0887"
             ],
             [
              0.1111111111111111,
              "#46039f"
             ],
             [
              0.2222222222222222,
              "#7201a8"
             ],
             [
              0.3333333333333333,
              "#9c179e"
             ],
             [
              0.4444444444444444,
              "#bd3786"
             ],
             [
              0.5555555555555556,
              "#d8576b"
             ],
             [
              0.6666666666666666,
              "#ed7953"
             ],
             [
              0.7777777777777778,
              "#fb9f3a"
             ],
             [
              0.8888888888888888,
              "#fdca26"
             ],
             [
              1,
              "#f0f921"
             ]
            ],
            "type": "heatmap"
           }
          ],
          "histogram": [
           {
            "marker": {
             "pattern": {
              "fillmode": "overlay",
              "size": 10,
              "solidity": 0.2
             }
            },
            "type": "histogram"
           }
          ],
          "histogram2d": [
           {
            "colorbar": {
             "outlinewidth": 0,
             "ticks": ""
            },
            "colorscale": [
             [
              0,
              "#0d0887"
             ],
             [
              0.1111111111111111,
              "#46039f"
             ],
             [
              0.2222222222222222,
              "#7201a8"
             ],
             [
              0.3333333333333333,
              "#9c179e"
             ],
             [
              0.4444444444444444,
              "#bd3786"
             ],
             [
              0.5555555555555556,
              "#d8576b"
             ],
             [
              0.6666666666666666,
              "#ed7953"
             ],
             [
              0.7777777777777778,
              "#fb9f3a"
             ],
             [
              0.8888888888888888,
              "#fdca26"
             ],
             [
              1,
              "#f0f921"
             ]
            ],
            "type": "histogram2d"
           }
          ],
          "histogram2dcontour": [
           {
            "colorbar": {
             "outlinewidth": 0,
             "ticks": ""
            },
            "colorscale": [
             [
              0,
              "#0d0887"
             ],
             [
              0.1111111111111111,
              "#46039f"
             ],
             [
              0.2222222222222222,
              "#7201a8"
             ],
             [
              0.3333333333333333,
              "#9c179e"
             ],
             [
              0.4444444444444444,
              "#bd3786"
             ],
             [
              0.5555555555555556,
              "#d8576b"
             ],
             [
              0.6666666666666666,
              "#ed7953"
             ],
             [
              0.7777777777777778,
              "#fb9f3a"
             ],
             [
              0.8888888888888888,
              "#fdca26"
             ],
             [
              1,
              "#f0f921"
             ]
            ],
            "type": "histogram2dcontour"
           }
          ],
          "mesh3d": [
           {
            "colorbar": {
             "outlinewidth": 0,
             "ticks": ""
            },
            "type": "mesh3d"
           }
          ],
          "parcoords": [
           {
            "line": {
             "colorbar": {
              "outlinewidth": 0,
              "ticks": ""
             }
            },
            "type": "parcoords"
           }
          ],
          "pie": [
           {
            "automargin": true,
            "type": "pie"
           }
          ],
          "scatter": [
           {
            "fillpattern": {
             "fillmode": "overlay",
             "size": 10,
             "solidity": 0.2
            },
            "type": "scatter"
           }
          ],
          "scatter3d": [
           {
            "line": {
             "colorbar": {
              "outlinewidth": 0,
              "ticks": ""
             }
            },
            "marker": {
             "colorbar": {
              "outlinewidth": 0,
              "ticks": ""
             }
            },
            "type": "scatter3d"
           }
          ],
          "scattercarpet": [
           {
            "marker": {
             "colorbar": {
              "outlinewidth": 0,
              "ticks": ""
             }
            },
            "type": "scattercarpet"
           }
          ],
          "scattergeo": [
           {
            "marker": {
             "colorbar": {
              "outlinewidth": 0,
              "ticks": ""
             }
            },
            "type": "scattergeo"
           }
          ],
          "scattergl": [
           {
            "marker": {
             "colorbar": {
              "outlinewidth": 0,
              "ticks": ""
             }
            },
            "type": "scattergl"
           }
          ],
          "scattermap": [
           {
            "marker": {
             "colorbar": {
              "outlinewidth": 0,
              "ticks": ""
             }
            },
            "type": "scattermap"
           }
          ],
          "scattermapbox": [
           {
            "marker": {
             "colorbar": {
              "outlinewidth": 0,
              "ticks": ""
             }
            },
            "type": "scattermapbox"
           }
          ],
          "scatterpolar": [
           {
            "marker": {
             "colorbar": {
              "outlinewidth": 0,
              "ticks": ""
             }
            },
            "type": "scatterpolar"
           }
          ],
          "scatterpolargl": [
           {
            "marker": {
             "colorbar": {
              "outlinewidth": 0,
              "ticks": ""
             }
            },
            "type": "scatterpolargl"
           }
          ],
          "scatterternary": [
           {
            "marker": {
             "colorbar": {
              "outlinewidth": 0,
              "ticks": ""
             }
            },
            "type": "scatterternary"
           }
          ],
          "surface": [
           {
            "colorbar": {
             "outlinewidth": 0,
             "ticks": ""
            },
            "colorscale": [
             [
              0,
              "#0d0887"
             ],
             [
              0.1111111111111111,
              "#46039f"
             ],
             [
              0.2222222222222222,
              "#7201a8"
             ],
             [
              0.3333333333333333,
              "#9c179e"
             ],
             [
              0.4444444444444444,
              "#bd3786"
             ],
             [
              0.5555555555555556,
              "#d8576b"
             ],
             [
              0.6666666666666666,
              "#ed7953"
             ],
             [
              0.7777777777777778,
              "#fb9f3a"
             ],
             [
              0.8888888888888888,
              "#fdca26"
             ],
             [
              1,
              "#f0f921"
             ]
            ],
            "type": "surface"
           }
          ],
          "table": [
           {
            "cells": {
             "fill": {
              "color": "#EBF0F8"
             },
             "line": {
              "color": "white"
             }
            },
            "header": {
             "fill": {
              "color": "#C8D4E3"
             },
             "line": {
              "color": "white"
             }
            },
            "type": "table"
           }
          ]
         },
         "layout": {
          "annotationdefaults": {
           "arrowcolor": "#2a3f5f",
           "arrowhead": 0,
           "arrowwidth": 1
          },
          "autotypenumbers": "strict",
          "coloraxis": {
           "colorbar": {
            "outlinewidth": 0,
            "ticks": ""
           }
          },
          "colorscale": {
           "diverging": [
            [
             0,
             "#8e0152"
            ],
            [
             0.1,
             "#c51b7d"
            ],
            [
             0.2,
             "#de77ae"
            ],
            [
             0.3,
             "#f1b6da"
            ],
            [
             0.4,
             "#fde0ef"
            ],
            [
             0.5,
             "#f7f7f7"
            ],
            [
             0.6,
             "#e6f5d0"
            ],
            [
             0.7,
             "#b8e186"
            ],
            [
             0.8,
             "#7fbc41"
            ],
            [
             0.9,
             "#4d9221"
            ],
            [
             1,
             "#276419"
            ]
           ],
           "sequential": [
            [
             0,
             "#0d0887"
            ],
            [
             0.1111111111111111,
             "#46039f"
            ],
            [
             0.2222222222222222,
             "#7201a8"
            ],
            [
             0.3333333333333333,
             "#9c179e"
            ],
            [
             0.4444444444444444,
             "#bd3786"
            ],
            [
             0.5555555555555556,
             "#d8576b"
            ],
            [
             0.6666666666666666,
             "#ed7953"
            ],
            [
             0.7777777777777778,
             "#fb9f3a"
            ],
            [
             0.8888888888888888,
             "#fdca26"
            ],
            [
             1,
             "#f0f921"
            ]
           ],
           "sequentialminus": [
            [
             0,
             "#0d0887"
            ],
            [
             0.1111111111111111,
             "#46039f"
            ],
            [
             0.2222222222222222,
             "#7201a8"
            ],
            [
             0.3333333333333333,
             "#9c179e"
            ],
            [
             0.4444444444444444,
             "#bd3786"
            ],
            [
             0.5555555555555556,
             "#d8576b"
            ],
            [
             0.6666666666666666,
             "#ed7953"
            ],
            [
             0.7777777777777778,
             "#fb9f3a"
            ],
            [
             0.8888888888888888,
             "#fdca26"
            ],
            [
             1,
             "#f0f921"
            ]
           ]
          },
          "colorway": [
           "#636efa",
           "#EF553B",
           "#00cc96",
           "#ab63fa",
           "#FFA15A",
           "#19d3f3",
           "#FF6692",
           "#B6E880",
           "#FF97FF",
           "#FECB52"
          ],
          "font": {
           "color": "#2a3f5f"
          },
          "geo": {
           "bgcolor": "white",
           "lakecolor": "white",
           "landcolor": "#E5ECF6",
           "showlakes": true,
           "showland": true,
           "subunitcolor": "white"
          },
          "hoverlabel": {
           "align": "left"
          },
          "hovermode": "closest",
          "mapbox": {
           "style": "light"
          },
          "paper_bgcolor": "white",
          "plot_bgcolor": "#E5ECF6",
          "polar": {
           "angularaxis": {
            "gridcolor": "white",
            "linecolor": "white",
            "ticks": ""
           },
           "bgcolor": "#E5ECF6",
           "radialaxis": {
            "gridcolor": "white",
            "linecolor": "white",
            "ticks": ""
           }
          },
          "scene": {
           "xaxis": {
            "backgroundcolor": "#E5ECF6",
            "gridcolor": "white",
            "gridwidth": 2,
            "linecolor": "white",
            "showbackground": true,
            "ticks": "",
            "zerolinecolor": "white"
           },
           "yaxis": {
            "backgroundcolor": "#E5ECF6",
            "gridcolor": "white",
            "gridwidth": 2,
            "linecolor": "white",
            "showbackground": true,
            "ticks": "",
            "zerolinecolor": "white"
           },
           "zaxis": {
            "backgroundcolor": "#E5ECF6",
            "gridcolor": "white",
            "gridwidth": 2,
            "linecolor": "white",
            "showbackground": true,
            "ticks": "",
            "zerolinecolor": "white"
           }
          },
          "shapedefaults": {
           "line": {
            "color": "#2a3f5f"
           }
          },
          "ternary": {
           "aaxis": {
            "gridcolor": "white",
            "linecolor": "white",
            "ticks": ""
           },
           "baxis": {
            "gridcolor": "white",
            "linecolor": "white",
            "ticks": ""
           },
           "bgcolor": "#E5ECF6",
           "caxis": {
            "gridcolor": "white",
            "linecolor": "white",
            "ticks": ""
           }
          },
          "title": {
           "x": 0.05
          },
          "xaxis": {
           "automargin": true,
           "gridcolor": "white",
           "linecolor": "white",
           "ticks": "",
           "title": {
            "standoff": 15
           },
           "zerolinecolor": "white",
           "zerolinewidth": 2
          },
          "yaxis": {
           "automargin": true,
           "gridcolor": "white",
           "linecolor": "white",
           "ticks": "",
           "title": {
            "standoff": 15
           },
           "zerolinecolor": "white",
           "zerolinewidth": 2
          }
         }
        },
        "title": {
         "text": "Top 10 Capital Allocations"
        }
       }
      },
      "image/png": "[encoded data removed]"
     },
     "metadata": {},
     "output_type": "display_data"
    }
   ],
   "source": [
    "if df is not None and 'allocated_capital' in df.columns:\n",
    "    # Sort by allocated capital\n",
    "    df_sorted = df.sort_values('allocated_capital', ascending=False)\n",
    "    \n",
    "    print(\"Top 10 Capital Allocations\")\n",
    "    print(\"=\" * 80)\n",
    "    for i, row in df_sorted.head(10).iterrows():\n",
    "        print(f\"${row['allocated_capital']:>10,.2f} - {row['question'][:65]}...\")\n",
    "    \n",
    "    # Create pie chart\n",
    "    fig = px.pie(\n",
    "        df_sorted.head(10),\n",
    "        values='allocated_capital',\n",
    "        names='question',\n",
    "        title='Top 10 Capital Allocations',\n",
    "        height=600\n",
    "    )\n",
    "    fig.update_traces(textposition='inside', textinfo='percent+label')\n",
    "    fig.show()"
   ]
  },
  {
   "cell_type": "markdown",
   "id": "cell-15",
   "metadata": {},
   "source": [
    "### Volume vs Probability"
   ]
  },
  {
   "cell_type": "code",
   "execution_count": 11,
   "id": "cell-16",
   "metadata": {},
   "outputs": [
    {
     "data": {
      "application/vnd.plotly.v1+json": {
       "config": {
        "plotlyServerURL": "https://plot.ly"
       },
       "data": [
        {
         "customdata": [
          [
           "Will the EU AI Act be fully implemented by August 2, 2027?",
           "EU AI Act Implementation"
          ],
          [
           "Will the first set of prohibitions under the EU AI Act take effect by February 2, 2025?",
           "EU AI Act Implementation"
          ],
          [
           "Will Donald Trump win the Republican nomination before July 1, 2026?",
           "US Presidential Election Campaigns"
          ],
          [
           "Will the world achieve a 50% reduction in carbon emissions by 2030 according to the latest climate agreements?",
           "Global Climate Change Initiatives"
          ]
         ],
         "hovertemplate": "Probability of YES=%{x}<br>Estimated Daily Volume ($)=%{y}<br>allocated_capital=%{marker.size}<br>question=%{customdata[0]}<br>topic=%{customdata[1]}<extra></extra>",
         "legendgroup": "",
         "marker": {
          "color": "#636efa",
          "size": {
           "bdata": "LiXwqwn5jEA7eYmeX/Z2QPKIJEVO67dAqLXpFlUspEA=",
           "dtype": "f8"
          },
          "sizemode": "area",
          "sizeref": 15.308264356335243,
          "symbol": "circle"
         },
         "mode": "markers",
         "name": "",
         "orientation": "v",
         "showlegend": false,
         "type": "scatter",
         "x": {
          "bdata": "UrgehetR5D+amZmZmZnlP87MzMzMzOQ/onA9Ctej0D8=",
          "dtype": "f8"
         },
         "xaxis": "x",
         "y": {
          "bdata": "AAAAAICSrUAAAAAAAHCXQAAAAAAAathAw/UoXC+XxEA=",
          "dtype": "f8"
         },
         "yaxis": "y"
        }
       ],
       "layout": {
        "font": {
         "size": 14
        },
        "height": 600,
        "legend": {
         "itemsizing": "constant",
         "tracegroupgap": 0
        },
        "template": {
         "data": {
          "bar": [
           {
            "error_x": {
             "color": "#2a3f5f"
            },
            "error_y": {
             "color": "#2a3f5f"
            },
            "marker": {
             "line": {
              "color": "#E5ECF6",
              "width": 0.5
             },
             "pattern": {
              "fillmode": "overlay",
              "size": 10,
              "solidity": 0.2
             }
            },
            "type": "bar"
           }
          ],
          "barpolar": [
           {
            "marker": {
             "line": {
              "color": "#E5ECF6",
              "width": 0.5
             },
             "pattern": {
              "fillmode": "overlay",
              "size": 10,
              "solidity": 0.2
             }
            },
            "type": "barpolar"
           }
          ],
          "carpet": [
           {
            "aaxis": {
             "endlinecolor": "#2a3f5f",
             "gridcolor": "white",
             "linecolor": "white",
             "minorgridcolor": "white",
             "startlinecolor": "#2a3f5f"
            },
            "baxis": {
             "endlinecolor": "#2a3f5f",
             "gridcolor": "white",
             "linecolor": "white",
             "minorgridcolor": "white",
             "startlinecolor": "#2a3f5f"
            },
            "type": "carpet"
           }
          ],
          "choropleth": [
           {
            "colorbar": {
             "outlinewidth": 0,
             "ticks": ""
            },
            "type": "choropleth"
           }
          ],
          "contour": [
           {
            "colorbar": {
             "outlinewidth": 0,
             "ticks": ""
            },
            "colorscale": [
             [
              0,
              "#0d0887"
             ],
             [
              0.1111111111111111,
              "#46039f"
             ],
             [
              0.2222222222222222,
              "#7201a8"
             ],
             [
              0.3333333333333333,
              "#9c179e"
             ],
             [
              0.4444444444444444,
              "#bd3786"
             ],
             [
              0.5555555555555556,
              "#d8576b"
             ],
             [
              0.6666666666666666,
              "#ed7953"
             ],
             [
              0.7777777777777778,
              "#fb9f3a"
             ],
             [
              0.8888888888888888,
              "#fdca26"
             ],
             [
              1,
              "#f0f921"
             ]
            ],
            "type": "contour"
           }
          ],
          "contourcarpet": [
           {
            "colorbar": {
             "outlinewidth": 0,
             "ticks": ""
            },
            "type": "contourcarpet"
           }
          ],
          "heatmap": [
           {
            "colorbar": {
             "outlinewidth": 0,
             "ticks": ""
            },
            "colorscale": [
             [
              0,
              "#0d0887"
             ],
             [
              0.1111111111111111,
              "#46039f"
             ],
             [
              0.2222222222222222,
              "#7201a8"
             ],
             [
              0.3333333333333333,
              "#9c179e"
             ],
             [
              0.4444444444444444,
              "#bd3786"
             ],
             [
              0.5555555555555556,
              "#d8576b"
             ],
             [
              0.6666666666666666,
              "#ed7953"
             ],
             [
              0.7777777777777778,
              "#fb9f3a"
             ],
             [
              0.8888888888888888,
              "#fdca26"
             ],
             [
              1,
              "#f0f921"
             ]
            ],
            "type": "heatmap"
           }
          ],
          "histogram": [
           {
            "marker": {
             "pattern": {
              "fillmode": "overlay",
              "size": 10,
              "solidity": 0.2
             }
            },
            "type": "histogram"
           }
          ],
          "histogram2d": [
           {
            "colorbar": {
             "outlinewidth": 0,
             "ticks": ""
            },
            "colorscale": [
             [
              0,
              "#0d0887"
             ],
             [
              0.1111111111111111,
              "#46039f"
             ],
             [
              0.2222222222222222,
              "#7201a8"
             ],
             [
              0.3333333333333333,
              "#9c179e"
             ],
             [
              0.4444444444444444,
              "#bd3786"
             ],
             [
              0.5555555555555556,
              "#d8576b"
             ],
             [
              0.6666666666666666,
              "#ed7953"
             ],
             [
              0.7777777777777778,
              "#fb9f3a"
             ],
             [
              0.8888888888888888,
              "#fdca26"
             ],
             [
              1,
              "#f0f921"
             ]
            ],
            "type": "histogram2d"
           }
          ],
          "histogram2dcontour": [
           {
            "colorbar": {
             "outlinewidth": 0,
             "ticks": ""
            },
            "colorscale": [
             [
              0,
              "#0d0887"
             ],
             [
              0.1111111111111111,
              "#46039f"
             ],
             [
              0.2222222222222222,
              "#7201a8"
             ],
             [
              0.3333333333333333,
              "#9c179e"
             ],
             [
              0.4444444444444444,
              "#bd3786"
             ],
             [
              0.5555555555555556,
              "#d8576b"
             ],
             [
              0.6666666666666666,
              "#ed7953"
             ],
             [
              0.7777777777777778,
              "#fb9f3a"
             ],
             [
              0.8888888888888888,
              "#fdca26"
             ],
             [
              1,
              "#f0f921"
             ]
            ],
            "type": "histogram2dcontour"
           }
          ],
          "mesh3d": [
           {
            "colorbar": {
             "outlinewidth": 0,
             "ticks": ""
            },
            "type": "mesh3d"
           }
          ],
          "parcoords": [
           {
            "line": {
             "colorbar": {
              "outlinewidth": 0,
              "ticks": ""
             }
            },
            "type": "parcoords"
           }
          ],
          "pie": [
           {
            "automargin": true,
            "type": "pie"
           }
          ],
          "scatter": [
           {
            "fillpattern": {
             "fillmode": "overlay",
             "size": 10,
             "solidity": 0.2
            },
            "type": "scatter"
           }
          ],
          "scatter3d": [
           {
            "line": {
             "colorbar": {
              "outlinewidth": 0,
              "ticks": ""
             }
            },
            "marker": {
             "colorbar": {
              "outlinewidth": 0,
              "ticks": ""
             }
            },
            "type": "scatter3d"
           }
          ],
          "scattercarpet": [
           {
            "marker": {
             "colorbar": {
              "outlinewidth": 0,
              "ticks": ""
             }
            },
            "type": "scattercarpet"
           }
          ],
          "scattergeo": [
           {
            "marker": {
             "colorbar": {
              "outlinewidth": 0,
              "ticks": ""
             }
            },
            "type": "scattergeo"
           }
          ],
          "scattergl": [
           {
            "marker": {
             "colorbar": {
              "outlinewidth": 0,
              "ticks": ""
             }
            },
            "type": "scattergl"
           }
          ],
          "scattermap": [
           {
            "marker": {
             "colorbar": {
              "outlinewidth": 0,
              "ticks": ""
             }
            },
            "type": "scattermap"
           }
          ],
          "scattermapbox": [
           {
            "marker": {
             "colorbar": {
              "outlinewidth": 0,
              "ticks": ""
             }
            },
            "type": "scattermapbox"
           }
          ],
          "scatterpolar": [
           {
            "marker": {
             "colorbar": {
              "outlinewidth": 0,
              "ticks": ""
             }
            },
            "type": "scatterpolar"
           }
          ],
          "scatterpolargl": [
           {
            "marker": {
             "colorbar": {
              "outlinewidth": 0,
              "ticks": ""
             }
            },
            "type": "scatterpolargl"
           }
          ],
          "scatterternary": [
           {
            "marker": {
             "colorbar": {
              "outlinewidth": 0,
              "ticks": ""
             }
            },
            "type": "scatterternary"
           }
          ],
          "surface": [
           {
            "colorbar": {
             "outlinewidth": 0,
             "ticks": ""
            },
            "colorscale": [
             [
              0,
              "#0d0887"
             ],
             [
              0.1111111111111111,
              "#46039f"
             ],
             [
              0.2222222222222222,
              "#7201a8"
             ],
             [
              0.3333333333333333,
              "#9c179e"
             ],
             [
              0.4444444444444444,
              "#bd3786"
             ],
             [
              0.5555555555555556,
              "#d8576b"
             ],
             [
              0.6666666666666666,
              "#ed7953"
             ],
             [
              0.7777777777777778,
              "#fb9f3a"
             ],
             [
              0.8888888888888888,
              "#fdca26"
             ],
             [
              1,
              "#f0f921"
             ]
            ],
            "type": "surface"
           }
          ],
          "table": [
           {
            "cells": {
             "fill": {
              "color": "#EBF0F8"
             },
             "line": {
              "color": "white"
             }
            },
            "header": {
             "fill": {
              "color": "#C8D4E3"
             },
             "line": {
              "color": "white"
             }
            },
            "type": "table"
           }
          ]
         },
         "layout": {
          "annotationdefaults": {
           "arrowcolor": "#2a3f5f",
           "arrowhead": 0,
           "arrowwidth": 1
          },
          "autotypenumbers": "strict",
          "coloraxis": {
           "colorbar": {
            "outlinewidth": 0,
            "ticks": ""
           }
          },
          "colorscale": {
           "diverging": [
            [
             0,
             "#8e0152"
            ],
            [
             0.1,
             "#c51b7d"
            ],
            [
             0.2,
             "#de77ae"
            ],
            [
             0.3,
             "#f1b6da"
            ],
            [
             0.4,
             "#fde0ef"
            ],
            [
             0.5,
             "#f7f7f7"
            ],
            [
             0.6,
             "#e6f5d0"
            ],
            [
             0.7,
             "#b8e186"
            ],
            [
             0.8,
             "#7fbc41"
            ],
            [
             0.9,
             "#4d9221"
            ],
            [
             1,
             "#276419"
            ]
           ],
           "sequential": [
            [
             0,
             "#0d0887"
            ],
            [
             0.1111111111111111,
             "#46039f"
            ],
            [
             0.2222222222222222,
             "#7201a8"
            ],
            [
             0.3333333333333333,
             "#9c179e"
            ],
            [
             0.4444444444444444,
             "#bd3786"
            ],
            [
             0.5555555555555556,
             "#d8576b"
            ],
            [
             0.6666666666666666,
             "#ed7953"
            ],
            [
             0.7777777777777778,
             "#fb9f3a"
            ],
            [
             0.8888888888888888,
             "#fdca26"
            ],
            [
             1,
             "#f0f921"
            ]
           ],
           "sequentialminus": [
            [
             0,
             "#0d0887"
            ],
            [
             0.1111111111111111,
             "#46039f"
            ],
            [
             0.2222222222222222,
             "#7201a8"
            ],
            [
             0.3333333333333333,
             "#9c179e"
            ],
            [
             0.4444444444444444,
             "#bd3786"
            ],
            [
             0.5555555555555556,
             "#d8576b"
            ],
            [
             0.6666666666666666,
             "#ed7953"
            ],
            [
             0.7777777777777778,
             "#fb9f3a"
            ],
            [
             0.8888888888888888,
             "#fdca26"
            ],
            [
             1,
             "#f0f921"
            ]
           ]
          },
          "colorway": [
           "#636efa",
           "#EF553B",
           "#00cc96",
           "#ab63fa",
           "#FFA15A",
           "#19d3f3",
           "#FF6692",
           "#B6E880",
           "#FF97FF",
           "#FECB52"
          ],
          "font": {
           "color": "#2a3f5f"
          },
          "geo": {
           "bgcolor": "white",
           "lakecolor": "white",
           "landcolor": "#E5ECF6",
           "showlakes": true,
           "showland": true,
           "subunitcolor": "white"
          },
          "hoverlabel": {
           "align": "left"
          },
          "hovermode": "closest",
          "mapbox": {
           "style": "light"
          },
          "paper_bgcolor": "white",
          "plot_bgcolor": "#E5ECF6",
          "polar": {
           "angularaxis": {
            "gridcolor": "white",
            "linecolor": "white",
            "ticks": ""
           },
           "bgcolor": "#E5ECF6",
           "radialaxis": {
            "gridcolor": "white",
            "linecolor": "white",
            "ticks": ""
           }
          },
          "scene": {
           "xaxis": {
            "backgroundcolor": "#E5ECF6",
            "gridcolor": "white",
            "gridwidth": 2,
            "linecolor": "white",
            "showbackground": true,
            "ticks": "",
            "zerolinecolor": "white"
           },
           "yaxis": {
            "backgroundcolor": "#E5ECF6",
            "gridcolor": "white",
            "gridwidth": 2,
            "linecolor": "white",
            "showbackground": true,
            "ticks": "",
            "zerolinecolor": "white"
           },
           "zaxis": {
            "backgroundcolor": "#E5ECF6",
            "gridcolor": "white",
            "gridwidth": 2,
            "linecolor": "white",
            "showbackground": true,
            "ticks": "",
            "zerolinecolor": "white"
           }
          },
          "shapedefaults": {
           "line": {
            "color": "#2a3f5f"
           }
          },
          "ternary": {
           "aaxis": {
            "gridcolor": "white",
            "linecolor": "white",
            "ticks": ""
           },
           "baxis": {
            "gridcolor": "white",
            "linecolor": "white",
            "ticks": ""
           },
           "bgcolor": "#E5ECF6",
           "caxis": {
            "gridcolor": "white",
            "linecolor": "white",
            "ticks": ""
           }
          },
          "title": {
           "x": 0.05
          },
          "xaxis": {
           "automargin": true,
           "gridcolor": "white",
           "linecolor": "white",
           "ticks": "",
           "title": {
            "standoff": 15
           },
           "zerolinecolor": "white",
           "zerolinewidth": 2
          },
          "yaxis": {
           "automargin": true,
           "gridcolor": "white",
           "linecolor": "white",
           "ticks": "",
           "title": {
            "standoff": 15
           },
           "zerolinecolor": "white",
           "zerolinewidth": 2
          }
         }
        },
        "title": {
         "text": "Volume vs Probability (size = allocated capital)"
        },
        "width": 1000,
        "xaxis": {
         "anchor": "y",
         "domain": [
          0,
          1
         ],
         "title": {
          "text": "Probability of YES"
         }
        },
        "yaxis": {
         "anchor": "x",
         "domain": [
          0,
          1
         ],
         "title": {
          "text": "Estimated Daily Volume ($)"
         }
        }
       }
      },
      "image/png": "[encoded data removed]"
     },
     "metadata": {},
     "output_type": "display_data"
    }
   ],
   "source": [
    "if df is not None and 'estimated_daily_volume' in df.columns and 'probability_mean' in df.columns:\n",
    "    # Filter out missing values\n",
    "    df_valid = df.dropna(subset=['estimated_daily_volume', 'probability_mean'])\n",
    "    \n",
    "    if len(df_valid) > 0:\n",
    "        fig = px.scatter(\n",
    "            df_valid,\n",
    "            x='probability_mean',\n",
    "            y='estimated_daily_volume',\n",
    "            size='allocated_capital',\n",
    "            hover_data=['question', 'topic'],\n",
    "            title='Volume vs Probability (size = allocated capital)',\n",
    "            labels={\n",
    "                'probability_mean': 'Probability of YES',\n",
    "                'estimated_daily_volume': 'Estimated Daily Volume ($)'\n",
    "            },\n",
    "            height=600,\n",
    "            width=1000\n",
    "        )\n",
    "        fig.update_layout(font=dict(size=14))\n",
    "        fig.show()\n",
    "    else:\n",
    "        print(\"No valid data for volume vs probability plot\")"
   ]
  },
  {
   "cell_type": "markdown",
   "id": "cell-23",
   "metadata": {},
   "source": [
    "## Detailed Question View\n",
    "\n",
    "Display all questions with their complete information."
   ]
  },
  {
   "cell_type": "code",
   "execution_count": 15,
   "id": "cell-24",
   "metadata": {},
   "outputs": [
    {
     "name": "stdout",
     "output_type": "stream",
     "text": [
      "All Questions\n",
      "================================================================================\n"
     ]
    },
    {
     "data": {
      "text/html": [
       "<div>\n",
       "<style scoped>\n",
       "    .dataframe tbody tr th:only-of-type {\n",
       "        vertical-align: middle;\n",
       "    }\n",
       "\n",
       "    .dataframe tbody tr th {\n",
       "        vertical-align: top;\n",
       "    }\n",
       "\n",
       "    .dataframe thead th {\n",
       "        text-align: right;\n",
       "    }\n",
       "</style>\n",
       "<table border=\"1\" class=\"dataframe\">\n",
       "  <thead>\n",
       "    <tr style=\"text-align: right;\">\n",
       "      <th></th>\n",
       "      <th>topic</th>\n",
       "      <th>question</th>\n",
       "      <th>estimated_daily_volume</th>\n",
       "      <th>probability_mean</th>\n",
       "      <th>probability_std</th>\n",
       "      <th>allocated_capital</th>\n",
       "    </tr>\n",
       "  </thead>\n",
       "  <tbody>\n",
       "    <tr>\n",
       "      <th>0</th>\n",
       "      <td>EU AI Act Implementation</td>\n",
       "      <td>Will the EU AI Act be fully implemented by Aug...</td>\n",
       "      <td>$3,785.25</td>\n",
       "      <td>0.635</td>\n",
       "      <td>0.045</td>\n",
       "      <td>$927.13</td>\n",
       "    </tr>\n",
       "    <tr>\n",
       "      <th>1</th>\n",
       "      <td>EU AI Act Implementation</td>\n",
       "      <td>Will the first set of prohibitions under the E...</td>\n",
       "      <td>$1,500.00</td>\n",
       "      <td>0.675</td>\n",
       "      <td>0.040</td>\n",
       "      <td>$367.40</td>\n",
       "    </tr>\n",
       "    <tr>\n",
       "      <th>2</th>\n",
       "      <td>US Presidential Election Campaigns</td>\n",
       "      <td>Will Donald Trump win the Republican nominatio...</td>\n",
       "      <td>$25,000.00</td>\n",
       "      <td>0.650</td>\n",
       "      <td>0.032</td>\n",
       "      <td>$6,123.31</td>\n",
       "    </tr>\n",
       "    <tr>\n",
       "      <th>3</th>\n",
       "      <td>Global Climate Change Initiatives</td>\n",
       "      <td>Will the world achieve a 50% reduction in carb...</td>\n",
       "      <td>$10,542.37</td>\n",
       "      <td>0.260</td>\n",
       "      <td>0.062</td>\n",
       "      <td>$2,582.17</td>\n",
       "    </tr>\n",
       "  </tbody>\n",
       "</table>\n",
       "</div>"
      ],
      "text/plain": [
       "                                topic  \\\n",
       "0            EU AI Act Implementation   \n",
       "1            EU AI Act Implementation   \n",
       "2  US Presidential Election Campaigns   \n",
       "3   Global Climate Change Initiatives   \n",
       "\n",
       "                                            question estimated_daily_volume  \\\n",
       "0  Will the EU AI Act be fully implemented by Aug...              $3,785.25   \n",
       "1  Will the first set of prohibitions under the E...              $1,500.00   \n",
       "2  Will Donald Trump win the Republican nominatio...             $25,000.00   \n",
       "3  Will the world achieve a 50% reduction in carb...             $10,542.37   \n",
       "\n",
       "  probability_mean probability_std allocated_capital  \n",
       "0            0.635           0.045           $927.13  \n",
       "1            0.675           0.040           $367.40  \n",
       "2            0.650           0.032         $6,123.31  \n",
       "3            0.260           0.062         $2,582.17  "
      ]
     },
     "metadata": {},
     "output_type": "display_data"
    }
   ],
   "source": [
    "if df is not None:\n",
    "    # Select columns to display\n",
    "    display_cols = ['topic', 'question', 'estimated_daily_volume', 'probability_mean', \n",
    "                    'probability_std', 'allocated_capital']\n",
    "    \n",
    "    # Filter to available columns\n",
    "    display_cols = [col for col in display_cols if col in df.columns]\n",
    "    \n",
    "    df_display = df[display_cols].copy()\n",
    "    \n",
    "    # Format numeric columns\n",
    "    if 'estimated_daily_volume' in df_display.columns:\n",
    "        df_display['estimated_daily_volume'] = df_display['estimated_daily_volume'].apply(\n",
    "            lambda x: f\"${x:,.2f}\" if pd.notna(x) else \"N/A\"\n",
    "        )\n",
    "    \n",
    "    if 'allocated_capital' in df_display.columns:\n",
    "        df_display['allocated_capital'] = df_display['allocated_capital'].apply(\n",
    "            lambda x: f\"${x:,.2f}\" if pd.notna(x) else \"N/A\"\n",
    "        )\n",
    "    \n",
    "    if 'probability_mean' in df_display.columns:\n",
    "        df_display['probability_mean'] = df_display['probability_mean'].apply(\n",
    "            lambda x: f\"{x:.3f}\" if pd.notna(x) else \"N/A\"\n",
    "        )\n",
    "    \n",
    "    if 'probability_std' in df_display.columns:\n",
    "        df_display['probability_std'] = df_display['probability_std'].apply(\n",
    "            lambda x: f\"{x:.3f}\" if pd.notna(x) else \"N/A\"\n",
    "        )\n",
    "    \n",
    "    print(\"All Questions\")\n",
    "    print(\"=\" * 80)\n",
    "    display(df_display)"
   ]
  },
  {
   "cell_type": "code",
   "execution_count": 31,
   "id": "ac133c06-9156-4bfa-b629-0429a7149192",
   "metadata": {},
   "outputs": [
    {
     "data": {
      "image/png": "[encoded data removed]",
      "text/plain": [
       "<Figure size 640x480 with 1 Axes>"
      ]
     },
     "metadata": {},
     "output_type": "display_data"
    }
   ],
   "source": [
    "row = df.iloc[0,:]\n",
    "p = row['probability_mean']\n",
    "capital = row['allocated_capital']\n",
    "\n",
    "Q = 1000\n",
    "B = 10000\n",
    "\n",
    "yes_schedule, no_schedule = make_market.create_order_price_schedule(p=p, half_spread_bps=5, max_order_bps =500, num_orders=5)\n",
    "\n",
    "cum_yes_order_cost = make_market.yes_order_schedule(p, Q, yes_schedule,b=B)['cost_cumulative'].values\n",
    "cum_no_order_cost = make_market.no_order_schedule(p, Q, no_schedule,b=B)['cost_cumulative'].values\n",
    "\n",
    "lo_prices = np.concatenate([no_schedule[::-1], yes_schedule])\n",
    "lo_cumsum = np.concatenate([cum_no_order_cost[::-1], cum_yes_order_cost])\n",
    "\n",
    "plt.plot(lo_prices, lo_cumsum)\n",
    "plt.show()"
   ]
  },
  {
   "cell_type": "code",
   "execution_count": 29,
   "id": "b68321bd-9313-4fc1-ae41-c084190fa01a",
   "metadata": {},
   "outputs": [
    {
     "data": {
      "text/plain": [
       "0.635"
      ]
     },
     "execution_count": 29,
     "metadata": {},
     "output_type": "execute_result"
    }
   ],
   "source": [
    "p"
   ]
  },
  {
   "cell_type": "markdown",
   "id": "cell-27",
   "metadata": {},
   "source": [
    "## Compare Multiple Runs\n",
    "\n",
    "Compare results across different pipeline runs."
   ]
  },
  {
   "cell_type": "code",
   "execution_count": 17,
   "id": "cell-28",
   "metadata": {},
   "outputs": [
    {
     "name": "stdout",
     "output_type": "stream",
     "text": [
      "Comparing multiple runs...\n",
      "\n",
      "✓ Loaded results: 4 questions\n",
      "✓ Loaded full results JSON\n",
      "✓ Loaded configuration\n",
      "✓ Loaded summary\n",
      "✓ Loaded results: 3 questions\n",
      "✓ Loaded full results JSON\n",
      "✓ Loaded configuration\n",
      "✓ Loaded summary\n",
      "✓ Loaded results: 3 questions\n",
      "✓ Loaded full results JSON\n",
      "✓ Loaded configuration\n",
      "✓ Loaded summary\n",
      "\n",
      "Comparison of Recent Runs:\n"
     ]
    },
    {
     "data": {
      "text/html": [
       "<div>\n",
       "<style scoped>\n",
       "    .dataframe tbody tr th:only-of-type {\n",
       "        vertical-align: middle;\n",
       "    }\n",
       "\n",
       "    .dataframe tbody tr th {\n",
       "        vertical-align: top;\n",
       "    }\n",
       "\n",
       "    .dataframe thead th {\n",
       "        text-align: right;\n",
       "    }\n",
       "</style>\n",
       "<table border=\"1\" class=\"dataframe\">\n",
       "  <thead>\n",
       "    <tr style=\"text-align: right;\">\n",
       "      <th></th>\n",
       "      <th>run_id</th>\n",
       "      <th>n_questions</th>\n",
       "      <th>avg_probability</th>\n",
       "      <th>avg_volume</th>\n",
       "      <th>total_capital</th>\n",
       "    </tr>\n",
       "  </thead>\n",
       "  <tbody>\n",
       "    <tr>\n",
       "      <th>0</th>\n",
       "      <td>20251016_1138</td>\n",
       "      <td>4</td>\n",
       "      <td>0.555</td>\n",
       "      <td>10206.905000</td>\n",
       "      <td>10000.0</td>\n",
       "    </tr>\n",
       "    <tr>\n",
       "      <th>1</th>\n",
       "      <td>20251016_1134</td>\n",
       "      <td>3</td>\n",
       "      <td>NaN</td>\n",
       "      <td>17333.333333</td>\n",
       "      <td>10000.0</td>\n",
       "    </tr>\n",
       "    <tr>\n",
       "      <th>2</th>\n",
       "      <td>20251016_1126</td>\n",
       "      <td>3</td>\n",
       "      <td>NaN</td>\n",
       "      <td>14833.333333</td>\n",
       "      <td>10000.0</td>\n",
       "    </tr>\n",
       "  </tbody>\n",
       "</table>\n",
       "</div>"
      ],
      "text/plain": [
       "          run_id  n_questions  avg_probability    avg_volume  total_capital\n",
       "0  20251016_1138            4            0.555  10206.905000        10000.0\n",
       "1  20251016_1134            3              NaN  17333.333333        10000.0\n",
       "2  20251016_1126            3              NaN  14833.333333        10000.0"
      ]
     },
     "metadata": {},
     "output_type": "display_data"
    }
   ],
   "source": [
    "# Load multiple runs for comparison\n",
    "if len(runs_df) > 1:\n",
    "    print(\"Comparing multiple runs...\\n\")\n",
    "    \n",
    "    comparison_data = []\n",
    "    for _, run_info in runs_df.head(5).iterrows():  # Compare up to 5 most recent runs\n",
    "        run_id = run_info['run_id']\n",
    "        try:\n",
    "            data = load_pipeline_run(run_id)\n",
    "            if data['results'] is not None:\n",
    "                df_run = data['results']\n",
    "                comparison_data.append({\n",
    "                    'run_id': run_id,\n",
    "                    'n_questions': len(df_run),\n",
    "                    'avg_probability': df_run['probability_mean'].mean() if 'probability_mean' in df_run.columns else None,\n",
    "                    'avg_volume': df_run['estimated_daily_volume'].mean() if 'estimated_daily_volume' in df_run.columns else None,\n",
    "                    'total_capital': df_run['allocated_capital'].sum() if 'allocated_capital' in df_run.columns else None,\n",
    "                })\n",
    "        except Exception as e:\n",
    "            print(f\"Could not load {run_id}: {e}\")\n",
    "    \n",
    "    if comparison_data:\n",
    "        comparison_df = pd.DataFrame(comparison_data)\n",
    "        print(\"\\nComparison of Recent Runs:\")\n",
    "        display(comparison_df)\n",
    "else:\n",
    "    print(\"Only one run available - cannot compare\")"
   ]
  }
 ],
 "metadata": {
  "kernelspec": {
   "display_name": "Python 3 (ipykernel)",
   "language": "python",
   "name": "python3"
  },
  "language_info": {
   "codemirror_mode": {
    "name": "ipython",
    "version": 3
   },
   "file_extension": ".py",
   "mimetype": "text/x-python",
   "name": "python",
   "nbconvert_exporter": "python",
   "pygments_lexer": "ipython3",
   "version": "3.12.2"
  }
 },
 "nbformat": 4,
 "nbformat_minor": 5
}
